{
 "cells": [
  {
   "cell_type": "markdown",
   "metadata": {},
   "source": [
    "# Выделение групп пользователей на основе поведения\n",
    "**Цель работы:** выделить целевую группу для увеличения монетизации приложения.\n",
    "\n",
    "[Ссылка на презентацию](https://drive.google.com/file/d/1wLgaLFEuH8V3NnNax4OdiZu6-zT3Q2TO/view?usp=sharing) \\\n",
    "[Ссылка на дашборд](https://public.tableau.com/app/profile/veronika4962/viz/fp_16805622420110/Dashboard1)\n",
    "\n",
    "**Содержание:**\n",
    "- 1. [Выгрузка данных](#start)\n",
    "- 2. [Предобработка данных](#preprocessing)\n",
    "    - [2.1 Обрабокта дубликатов](#duplicates)\n",
    "    - [2.2 Обработка пропусков](#null)\n",
    "    - [2.3 Обработка типов данных](#type)\n",
    "    - [2.4 Добавление столбцов](#columns)\n",
    "    - [2.5 Объединение первичных датасетов](#merge)\n",
    "    - [2.6 Вывод](#2.6)\n",
    "- 3. [Исследовательский анализ данных](#analysis)\n",
    "    - [3.1 Техническая часть](#tex_part)\n",
    "    - [3.2 Retantion rate](#3.1)\n",
    "    - [3.3 Время, проведенное в приложении](#3.2)\n",
    "    - [3.4 Частота действий](#3.3)\n",
    "    - [3.5 Конверсия в целевое действие](#3.4)\n",
    "    - [3.6 Вывод](#3.5)\n",
    "- 4. [Сегментация](#segments)\n",
    "    - [4.1 Retantion rate](#4.1)\n",
    "    - [4.2 Конверсия в целевое действие](#4.2)\n",
    "    - [4.3 Вывод](#4.3)\n",
    "- 5. [Проверка гипотез](#hypotheses)\n",
    "    - [5.1 Гипотеза 1](#5.1)\n",
    "    - [5.2 Гипотеза 2](#5.2)\n",
    "    - [5.3 Вывод](#5.3)\n",
    "- 6. [Вывод](#conclusion)\n"
   ]
  },
  {
   "cell_type": "markdown",
   "metadata": {},
   "source": [
    "## Выгрузка данных"
   ]
  },
  {
   "cell_type": "code",
   "execution_count": 34,
   "metadata": {},
   "outputs": [],
   "source": [
    "# импорт библиотек\n",
    "import pandas as pd\n",
    "import numpy as np\n",
    "from datetime import datetime, timedelta\n",
    "import datetime\n",
    "from matplotlib import pyplot as plt\n",
    "import seaborn as sns\n",
    "import warnings\n",
    "import matplotlib.dates as mdates\n",
    "from scipy import stats as st\n",
    "import math as mth\n",
    "\n",
    "warnings.filterwarnings(\"ignore\")\n"
   ]
  },
  {
   "cell_type": "code",
   "execution_count": 35,
   "metadata": {},
   "outputs": [],
   "source": [
    "mobile_sourсes = pd.read_csv('mobile_soures.csv')\n",
    "mobile_dataset = pd.read_csv('mobile_dataset.csv')"
   ]
  },
  {
   "cell_type": "code",
   "execution_count": 36,
   "metadata": {
    "scrolled": false
   },
   "outputs": [
    {
     "data": {
      "text/html": [
       "<div>\n",
       "<style scoped>\n",
       "    .dataframe tbody tr th:only-of-type {\n",
       "        vertical-align: middle;\n",
       "    }\n",
       "\n",
       "    .dataframe tbody tr th {\n",
       "        vertical-align: top;\n",
       "    }\n",
       "\n",
       "    .dataframe thead th {\n",
       "        text-align: right;\n",
       "    }\n",
       "</style>\n",
       "<table border=\"1\" class=\"dataframe\">\n",
       "  <thead>\n",
       "    <tr style=\"text-align: right;\">\n",
       "      <th></th>\n",
       "      <th>userId</th>\n",
       "      <th>source</th>\n",
       "    </tr>\n",
       "  </thead>\n",
       "  <tbody>\n",
       "    <tr>\n",
       "      <th>0</th>\n",
       "      <td>020292ab-89bc-4156-9acf-68bc2783f894</td>\n",
       "      <td>other</td>\n",
       "    </tr>\n",
       "    <tr>\n",
       "      <th>1</th>\n",
       "      <td>cf7eda61-9349-469f-ac27-e5b6f5ec475c</td>\n",
       "      <td>yandex</td>\n",
       "    </tr>\n",
       "    <tr>\n",
       "      <th>2</th>\n",
       "      <td>8c356c42-3ba9-4cb6-80b8-3f868d0192c3</td>\n",
       "      <td>yandex</td>\n",
       "    </tr>\n",
       "    <tr>\n",
       "      <th>3</th>\n",
       "      <td>d9b06b47-0f36-419b-bbb0-3533e582a6cb</td>\n",
       "      <td>other</td>\n",
       "    </tr>\n",
       "    <tr>\n",
       "      <th>4</th>\n",
       "      <td>f32e1e2a-3027-4693-b793-b7b3ff274439</td>\n",
       "      <td>google</td>\n",
       "    </tr>\n",
       "  </tbody>\n",
       "</table>\n",
       "</div>"
      ],
      "text/plain": [
       "                                 userId  source\n",
       "0  020292ab-89bc-4156-9acf-68bc2783f894   other\n",
       "1  cf7eda61-9349-469f-ac27-e5b6f5ec475c  yandex\n",
       "2  8c356c42-3ba9-4cb6-80b8-3f868d0192c3  yandex\n",
       "3  d9b06b47-0f36-419b-bbb0-3533e582a6cb   other\n",
       "4  f32e1e2a-3027-4693-b793-b7b3ff274439  google"
      ]
     },
     "execution_count": 36,
     "metadata": {},
     "output_type": "execute_result"
    }
   ],
   "source": [
    "mobile_sourсes.head()"
   ]
  },
  {
   "cell_type": "code",
   "execution_count": 37,
   "metadata": {},
   "outputs": [
    {
     "data": {
      "text/html": [
       "<div>\n",
       "<style scoped>\n",
       "    .dataframe tbody tr th:only-of-type {\n",
       "        vertical-align: middle;\n",
       "    }\n",
       "\n",
       "    .dataframe tbody tr th {\n",
       "        vertical-align: top;\n",
       "    }\n",
       "\n",
       "    .dataframe thead th {\n",
       "        text-align: right;\n",
       "    }\n",
       "</style>\n",
       "<table border=\"1\" class=\"dataframe\">\n",
       "  <thead>\n",
       "    <tr style=\"text-align: right;\">\n",
       "      <th></th>\n",
       "      <th>event.time</th>\n",
       "      <th>event.name</th>\n",
       "      <th>user.id</th>\n",
       "    </tr>\n",
       "  </thead>\n",
       "  <tbody>\n",
       "    <tr>\n",
       "      <th>0</th>\n",
       "      <td>2019-10-07 00:00:00.431357</td>\n",
       "      <td>advert_open</td>\n",
       "      <td>020292ab-89bc-4156-9acf-68bc2783f894</td>\n",
       "    </tr>\n",
       "    <tr>\n",
       "      <th>1</th>\n",
       "      <td>2019-10-07 00:00:01.236320</td>\n",
       "      <td>tips_show</td>\n",
       "      <td>020292ab-89bc-4156-9acf-68bc2783f894</td>\n",
       "    </tr>\n",
       "    <tr>\n",
       "      <th>2</th>\n",
       "      <td>2019-10-07 00:00:02.245341</td>\n",
       "      <td>tips_show</td>\n",
       "      <td>cf7eda61-9349-469f-ac27-e5b6f5ec475c</td>\n",
       "    </tr>\n",
       "    <tr>\n",
       "      <th>3</th>\n",
       "      <td>2019-10-07 00:00:07.039334</td>\n",
       "      <td>tips_show</td>\n",
       "      <td>020292ab-89bc-4156-9acf-68bc2783f894</td>\n",
       "    </tr>\n",
       "    <tr>\n",
       "      <th>4</th>\n",
       "      <td>2019-10-07 00:00:56.319813</td>\n",
       "      <td>advert_open</td>\n",
       "      <td>cf7eda61-9349-469f-ac27-e5b6f5ec475c</td>\n",
       "    </tr>\n",
       "  </tbody>\n",
       "</table>\n",
       "</div>"
      ],
      "text/plain": [
       "                   event.time   event.name  \\\n",
       "0  2019-10-07 00:00:00.431357  advert_open   \n",
       "1  2019-10-07 00:00:01.236320    tips_show   \n",
       "2  2019-10-07 00:00:02.245341    tips_show   \n",
       "3  2019-10-07 00:00:07.039334    tips_show   \n",
       "4  2019-10-07 00:00:56.319813  advert_open   \n",
       "\n",
       "                                user.id  \n",
       "0  020292ab-89bc-4156-9acf-68bc2783f894  \n",
       "1  020292ab-89bc-4156-9acf-68bc2783f894  \n",
       "2  cf7eda61-9349-469f-ac27-e5b6f5ec475c  \n",
       "3  020292ab-89bc-4156-9acf-68bc2783f894  \n",
       "4  cf7eda61-9349-469f-ac27-e5b6f5ec475c  "
      ]
     },
     "execution_count": 37,
     "metadata": {},
     "output_type": "execute_result"
    }
   ],
   "source": [
    "mobile_dataset.head()"
   ]
  },
  {
   "cell_type": "markdown",
   "metadata": {},
   "source": [
    "<a id=\"preprocessing\"></a> \n",
    "## Предобработка"
   ]
  },
  {
   "cell_type": "markdown",
   "metadata": {},
   "source": [
    "<a id=\"null\"></a> \n",
    "### Обработка пропущенных значений"
   ]
  },
  {
   "cell_type": "code",
   "execution_count": 38,
   "metadata": {},
   "outputs": [
    {
     "data": {
      "text/html": [
       "<style  type=\"text/css\" >\n",
       "#T_6a310_row0_col0,#T_6a310_row1_col0{\n",
       "            background-color:  #3b4cc0;\n",
       "            color:  #f1f1f1;\n",
       "        }</style><table id=\"T_6a310_\" ><thead>    <tr>        <th class=\"blank level0\" ></th>        <th class=\"col_heading level0 col0\" >0</th>    </tr></thead><tbody>\n",
       "                <tr>\n",
       "                        <th id=\"T_6a310_level0_row0\" class=\"row_heading level0 row0\" >userId</th>\n",
       "                        <td id=\"T_6a310_row0_col0\" class=\"data row0 col0\" >0.000000</td>\n",
       "            </tr>\n",
       "            <tr>\n",
       "                        <th id=\"T_6a310_level0_row1\" class=\"row_heading level0 row1\" >source</th>\n",
       "                        <td id=\"T_6a310_row1_col0\" class=\"data row1 col0\" >0.000000</td>\n",
       "            </tr>\n",
       "    </tbody></table>"
      ],
      "text/plain": [
       "<pandas.io.formats.style.Styler at 0x7f2613525fa0>"
      ]
     },
     "execution_count": 38,
     "metadata": {},
     "output_type": "execute_result"
    }
   ],
   "source": [
    "pd.DataFrame(round(mobile_sourсes.isna().mean()*100,1)).style.background_gradient('coolwarm')"
   ]
  },
  {
   "cell_type": "code",
   "execution_count": 39,
   "metadata": {},
   "outputs": [
    {
     "data": {
      "text/html": [
       "<style  type=\"text/css\" >\n",
       "#T_2611f_row0_col0,#T_2611f_row1_col0,#T_2611f_row2_col0{\n",
       "            background-color:  #3b4cc0;\n",
       "            color:  #f1f1f1;\n",
       "        }</style><table id=\"T_2611f_\" ><thead>    <tr>        <th class=\"blank level0\" ></th>        <th class=\"col_heading level0 col0\" >0</th>    </tr></thead><tbody>\n",
       "                <tr>\n",
       "                        <th id=\"T_2611f_level0_row0\" class=\"row_heading level0 row0\" >event.time</th>\n",
       "                        <td id=\"T_2611f_row0_col0\" class=\"data row0 col0\" >0.000000</td>\n",
       "            </tr>\n",
       "            <tr>\n",
       "                        <th id=\"T_2611f_level0_row1\" class=\"row_heading level0 row1\" >event.name</th>\n",
       "                        <td id=\"T_2611f_row1_col0\" class=\"data row1 col0\" >0.000000</td>\n",
       "            </tr>\n",
       "            <tr>\n",
       "                        <th id=\"T_2611f_level0_row2\" class=\"row_heading level0 row2\" >user.id</th>\n",
       "                        <td id=\"T_2611f_row2_col0\" class=\"data row2 col0\" >0.000000</td>\n",
       "            </tr>\n",
       "    </tbody></table>"
      ],
      "text/plain": [
       "<pandas.io.formats.style.Styler at 0x7f261374dc70>"
      ]
     },
     "execution_count": 39,
     "metadata": {},
     "output_type": "execute_result"
    }
   ],
   "source": [
    "pd.DataFrame(round(mobile_dataset.isna().mean()*100,1)).style.background_gradient('coolwarm')"
   ]
  },
  {
   "cell_type": "markdown",
   "metadata": {},
   "source": [
    "Пропущенных значений в данных не обнаружено."
   ]
  },
  {
   "cell_type": "markdown",
   "metadata": {},
   "source": [
    "<a id=\"type\"></a> \n",
    "### Обработка типов данных\n",
    "Посмотрим в каких типах представлены данные:"
   ]
  },
  {
   "cell_type": "code",
   "execution_count": 40,
   "metadata": {},
   "outputs": [
    {
     "name": "stdout",
     "output_type": "stream",
     "text": [
      "<class 'pandas.core.frame.DataFrame'>\n",
      "RangeIndex: 4293 entries, 0 to 4292\n",
      "Data columns (total 2 columns):\n",
      " #   Column  Non-Null Count  Dtype \n",
      "---  ------  --------------  ----- \n",
      " 0   userId  4293 non-null   object\n",
      " 1   source  4293 non-null   object\n",
      "dtypes: object(2)\n",
      "memory usage: 67.2+ KB\n"
     ]
    }
   ],
   "source": [
    "mobile_sourсes.info()"
   ]
  },
  {
   "cell_type": "code",
   "execution_count": 41,
   "metadata": {},
   "outputs": [
    {
     "name": "stdout",
     "output_type": "stream",
     "text": [
      "<class 'pandas.core.frame.DataFrame'>\n",
      "RangeIndex: 74197 entries, 0 to 74196\n",
      "Data columns (total 3 columns):\n",
      " #   Column      Non-Null Count  Dtype \n",
      "---  ------      --------------  ----- \n",
      " 0   event.time  74197 non-null  object\n",
      " 1   event.name  74197 non-null  object\n",
      " 2   user.id     74197 non-null  object\n",
      "dtypes: object(3)\n",
      "memory usage: 1.7+ MB\n"
     ]
    }
   ],
   "source": [
    "mobile_dataset.info()"
   ]
  },
  {
   "cell_type": "markdown",
   "metadata": {},
   "source": [
    "Все представленные типы данных корректны за исключением столбца `event.time`. Его следует привести к типу datetime."
   ]
  },
  {
   "cell_type": "code",
   "execution_count": 42,
   "metadata": {},
   "outputs": [
    {
     "data": {
      "text/plain": [
       "event.time    datetime64[ns]\n",
       "event.name            object\n",
       "user.id               object\n",
       "dtype: object"
      ]
     },
     "execution_count": 42,
     "metadata": {},
     "output_type": "execute_result"
    }
   ],
   "source": [
    "mobile_dataset['event.time'] = pd.to_datetime(mobile_dataset['event.time']).astype('datetime64[ns]')\n",
    "\n",
    "# check \n",
    "mobile_dataset.dtypes"
   ]
  },
  {
   "cell_type": "markdown",
   "metadata": {},
   "source": [
    "<a id=\"duplicates\"></a> \n",
    "### Обработка дубликатов"
   ]
  },
  {
   "cell_type": "code",
   "execution_count": 43,
   "metadata": {},
   "outputs": [
    {
     "data": {
      "text/plain": [
       "0"
      ]
     },
     "execution_count": 43,
     "metadata": {},
     "output_type": "execute_result"
    }
   ],
   "source": [
    "mobile_sourсes.duplicated().sum() "
   ]
  },
  {
   "cell_type": "code",
   "execution_count": 44,
   "metadata": {},
   "outputs": [
    {
     "data": {
      "text/plain": [
       "0"
      ]
     },
     "execution_count": 44,
     "metadata": {},
     "output_type": "execute_result"
    }
   ],
   "source": [
    "mobile_dataset.duplicated().sum() "
   ]
  },
  {
   "cell_type": "markdown",
   "metadata": {},
   "source": [
    "Явных дубликатов в данных не обнаружено."
   ]
  },
  {
   "cell_type": "code",
   "execution_count": 45,
   "metadata": {},
   "outputs": [
    {
     "name": "stdout",
     "output_type": "stream",
     "text": [
      "Количество строк в датасете:\n"
     ]
    },
    {
     "data": {
      "text/plain": [
       "4293"
      ]
     },
     "metadata": {},
     "output_type": "display_data"
    },
    {
     "name": "stdout",
     "output_type": "stream",
     "text": [
      "Число уникальных наименований:\n"
     ]
    },
    {
     "data": {
      "text/plain": [
       "4293"
      ]
     },
     "metadata": {},
     "output_type": "display_data"
    }
   ],
   "source": [
    "print('Количество строк в датасете:')\n",
    "display(mobile_sourсes['userId'].count())\n",
    "\n",
    "print('Число уникальных наименований:')\n",
    "display(mobile_sourсes['userId'].nunique()) # число уникальных наименований"
   ]
  },
  {
   "cell_type": "code",
   "execution_count": 46,
   "metadata": {},
   "outputs": [
    {
     "data": {
      "text/plain": [
       "array(['advert_open', 'tips_show', 'map', 'contacts_show', 'search_4',\n",
       "       'search_5', 'tips_click', 'photos_show', 'search_1', 'search_2',\n",
       "       'search_3', 'favorites_add', 'contacts_call', 'search_6',\n",
       "       'search_7', 'show_contacts'], dtype=object)"
      ]
     },
     "execution_count": 46,
     "metadata": {},
     "output_type": "execute_result"
    }
   ],
   "source": [
    "mobile_dataset['event.name'].unique()"
   ]
  },
  {
   "cell_type": "markdown",
   "metadata": {},
   "source": [
    "В датасете mobile_dataset в столбце `event.name` обнаружено два значения одинаковых по смыслу: 'contacts_show' и 'show_contacts'. Обединим два этих значения в одно:"
   ]
  },
  {
   "cell_type": "code",
   "execution_count": 47,
   "metadata": {},
   "outputs": [],
   "source": [
    "mobile_dataset['event.name'] = mobile_dataset['event.name'].replace('show_contacts', 'contacts_show')"
   ]
  },
  {
   "cell_type": "markdown",
   "metadata": {},
   "source": [
    "В столбце `event.name` есть значения search_1 — search_7 — разные события, связанные с поиском по сайту. В данной работе разница между ними не учитывается, поэтому объединим эти события."
   ]
  },
  {
   "cell_type": "code",
   "execution_count": 48,
   "metadata": {},
   "outputs": [],
   "source": [
    "for i in ['search_1', 'search_2', 'search_3', 'search_4', 'search_5', 'search_6', 'search_7' ]:\n",
    "    mobile_dataset['event.name'] = mobile_dataset['event.name'].replace(i, 'search')"
   ]
  },
  {
   "cell_type": "markdown",
   "metadata": {},
   "source": [
    "<a id=\"columns\"></a> \n",
    "### Проверка корректности наименований колонок\n",
    "Приведем названия колонок к общепринятому виду:"
   ]
  },
  {
   "cell_type": "code",
   "execution_count": 49,
   "metadata": {},
   "outputs": [],
   "source": [
    "mobile_sourсes = mobile_sourсes.rename(columns={'userId':'user_id'})\n",
    "mobile_dataset = mobile_dataset.rename(columns={'event.time':'event_time','event.name':'event_name','user.id':'user_id'})"
   ]
  },
  {
   "cell_type": "markdown",
   "metadata": {},
   "source": [
    "<a id=\"merge\"></a> \n",
    "### Объединение двух датасетов в один\n",
    "Объединим две исходные таблицы mobile_sourсes и mobile_dataset в одну:"
   ]
  },
  {
   "cell_type": "code",
   "execution_count": 50,
   "metadata": {},
   "outputs": [
    {
     "data": {
      "text/html": [
       "<div>\n",
       "<style scoped>\n",
       "    .dataframe tbody tr th:only-of-type {\n",
       "        vertical-align: middle;\n",
       "    }\n",
       "\n",
       "    .dataframe tbody tr th {\n",
       "        vertical-align: top;\n",
       "    }\n",
       "\n",
       "    .dataframe thead th {\n",
       "        text-align: right;\n",
       "    }\n",
       "</style>\n",
       "<table border=\"1\" class=\"dataframe\">\n",
       "  <thead>\n",
       "    <tr style=\"text-align: right;\">\n",
       "      <th></th>\n",
       "      <th>user_id</th>\n",
       "      <th>source</th>\n",
       "      <th>event_time</th>\n",
       "      <th>event_name</th>\n",
       "    </tr>\n",
       "  </thead>\n",
       "  <tbody>\n",
       "    <tr>\n",
       "      <th>0</th>\n",
       "      <td>020292ab-89bc-4156-9acf-68bc2783f894</td>\n",
       "      <td>other</td>\n",
       "      <td>2019-10-07 00:00:00.431357</td>\n",
       "      <td>advert_open</td>\n",
       "    </tr>\n",
       "    <tr>\n",
       "      <th>1</th>\n",
       "      <td>020292ab-89bc-4156-9acf-68bc2783f894</td>\n",
       "      <td>other</td>\n",
       "      <td>2019-10-07 00:00:01.236320</td>\n",
       "      <td>tips_show</td>\n",
       "    </tr>\n",
       "    <tr>\n",
       "      <th>2</th>\n",
       "      <td>020292ab-89bc-4156-9acf-68bc2783f894</td>\n",
       "      <td>other</td>\n",
       "      <td>2019-10-07 00:00:07.039334</td>\n",
       "      <td>tips_show</td>\n",
       "    </tr>\n",
       "    <tr>\n",
       "      <th>3</th>\n",
       "      <td>020292ab-89bc-4156-9acf-68bc2783f894</td>\n",
       "      <td>other</td>\n",
       "      <td>2019-10-07 00:01:27.770232</td>\n",
       "      <td>advert_open</td>\n",
       "    </tr>\n",
       "    <tr>\n",
       "      <th>4</th>\n",
       "      <td>020292ab-89bc-4156-9acf-68bc2783f894</td>\n",
       "      <td>other</td>\n",
       "      <td>2019-10-07 00:01:34.804591</td>\n",
       "      <td>tips_show</td>\n",
       "    </tr>\n",
       "  </tbody>\n",
       "</table>\n",
       "</div>"
      ],
      "text/plain": [
       "                                user_id source                 event_time  \\\n",
       "0  020292ab-89bc-4156-9acf-68bc2783f894  other 2019-10-07 00:00:00.431357   \n",
       "1  020292ab-89bc-4156-9acf-68bc2783f894  other 2019-10-07 00:00:01.236320   \n",
       "2  020292ab-89bc-4156-9acf-68bc2783f894  other 2019-10-07 00:00:07.039334   \n",
       "3  020292ab-89bc-4156-9acf-68bc2783f894  other 2019-10-07 00:01:27.770232   \n",
       "4  020292ab-89bc-4156-9acf-68bc2783f894  other 2019-10-07 00:01:34.804591   \n",
       "\n",
       "    event_name  \n",
       "0  advert_open  \n",
       "1    tips_show  \n",
       "2    tips_show  \n",
       "3  advert_open  \n",
       "4    tips_show  "
      ]
     },
     "execution_count": 50,
     "metadata": {},
     "output_type": "execute_result"
    }
   ],
   "source": [
    "df = mobile_sourсes.merge(mobile_dataset, on='user_id')\n",
    "df.head()"
   ]
  },
  {
   "cell_type": "markdown",
   "metadata": {},
   "source": [
    "<a id=\"2.6\"></a> \n",
    "### Вывод\n",
    "На данном этапе были проделаны следующие шаги: \n",
    "- Приведение к нужным типам данных (столбец с датой и временем);\n",
    "- Анализ пропусков в данных (пропусков не обнаружено);\n",
    "- Обработка дубликатов (объединение значений 'contacts_show' и 'show_contacts' в столбце `event_name`, а также 'search_1' — 'search_7'  в 'search');\n",
    "- Приведение имен столбцов к общепринятому виду."
   ]
  },
  {
   "cell_type": "markdown",
   "metadata": {},
   "source": [
    "<a id=\"analysis\"></a> \n",
    "## Исследовательский анализ\n",
    "Данный этап нацелен на исследование общего поведения пользователей по 4-ем метрикам: retention rate; время, проведённое в приложении; частота действий; конверсия в целевое действие — просмотр контактов."
   ]
  },
  {
   "cell_type": "markdown",
   "metadata": {},
   "source": [
    "<a id=\"tex_part\"></a> \n",
    "### Техническая часть\n",
    "В данной части написаны собственные функции, которые используются в [настоящем разделе](#analysis) и в разделе [\"Сегментация\"](#segments):\n",
    "- функция plt_design – для оформления графиков, \n",
    "- функция RR – для рассчета retention rate,\n",
    "- функция conversion – для рассчета конверсии."
   ]
  },
  {
   "cell_type": "code",
   "execution_count": 51,
   "metadata": {},
   "outputs": [],
   "source": [
    "# функция для оформления графиков\n",
    "def plt_design(title='title',\n",
    "               title_size=20, \n",
    "               xlabel='xlabel', \n",
    "               ylabel='ylabel',\n",
    "               fontsize=16, # размер шрифта подписей к осям\n",
    "               ticks_size=14, # размер шрифта делений на осях\n",
    "               xrot=0, # наклон подписей делений\n",
    "               yrot=0,\n",
    "               ):\n",
    "    \n",
    "    plt.title(title, fontsize = title_size)\n",
    "    plt.xlabel(xlabel, fontsize=fontsize) \n",
    "    plt.ylabel(ylabel, fontsize=fontsize)\n",
    "    plt.xticks(fontsize = ticks_size, rotation=xrot)\n",
    "    plt.yticks(fontsize = ticks_size, rotation=yrot)\n",
    "    \n",
    "    \n",
    "    return\n",
    "plt.show();"
   ]
  },
  {
   "cell_type": "code",
   "execution_count": 76,
   "metadata": {},
   "outputs": [],
   "source": [
    "# функция для рассчета RR:\n",
    "def RR(data):\n",
    "    # запишем только дату:\n",
    "    data['active_date'] = data['event_time'].astype('datetime64[W]')\n",
    "\n",
    "    # группируем и нахдим первый заход каждого пользователя:\n",
    "    first_ts = data.groupby('user_id').agg({'event_time':'min'}).reset_index()\n",
    "    first_ts = first_ts.rename(columns={'event_time':'first_ts'})\n",
    "    first_ts['first_ts'] = first_ts['first_ts'].astype('datetime64[W]')\n",
    "    \n",
    "    # объединяем датасеты:\n",
    "    data = first_ts.merge(data, on='user_id')\n",
    "\n",
    "    # находим лайфтайм:\n",
    "    data['lifetime'] = data['active_date'] - data['first_ts']\n",
    "    \n",
    "    # расчитываем retention rate\n",
    "    retention = data.pivot_table(\n",
    "        index=['first_ts'], columns='lifetime', values='user_id', aggfunc='nunique'\n",
    "    )\n",
    "    \n",
    "\n",
    "    # вычисляем размеры когорт\n",
    "    cohort_sizes = (\n",
    "        data.groupby('first_ts')\n",
    "        .agg({'user_id': 'nunique'})\n",
    "        .rename(columns={'user_id': 'cohort_size'})\n",
    "    )\n",
    "\n",
    "    # объединяем размеры когорт и таблицу удержания\n",
    "    retention = cohort_sizes.merge(\n",
    "        retention, on='first_ts', how='left'\n",
    "    ).fillna(0)\n",
    "\n",
    "    # делим данные таблицы удержания на размеры когорт\n",
    "    retention = retention.div(retention['cohort_size'], axis=0).drop(columns=['cohort_size'])\n",
    "\n",
    "    \n",
    "    # строим хитмэп:\n",
    "    \n",
    "    plt.figure(figsize=(10, 4))  # задаём размер графика\n",
    "    heat_map = sns.heatmap(\n",
    "        retention,  \n",
    "        annot=True,  # включаем подписи\n",
    "        fmt='.2%',  # переводим значения в проценты\n",
    "    )\n",
    "    \n",
    "\n",
    "    # оформление:\n",
    "    plt_design(title='Тепловая карта удержания',\n",
    "                  title_size=20, \n",
    "                  xlabel='Лайфтайм', \n",
    "                  ylabel='Когорта',\n",
    "                  fontsize=16, # размер шрифта подписей к осям\n",
    "                  ticks_size=14, # размер шрифта делений на осях\n",
    "                  xrot=30, # наклон подписей делений\n",
    "                  yrot=0,\n",
    "                  );\n",
    "    \n",
    "    return retention\n"
   ]
  },
  {
   "cell_type": "code",
   "execution_count": 53,
   "metadata": {},
   "outputs": [],
   "source": [
    "# функция для подсчета конверсии:\n",
    "def conversion(data, segment_name=''):\n",
    "    conversion = round((data.loc[data['event_name'] == 'contacts_show', 'user_id'].nunique() / data['user_id'].nunique()*100), 2)\n",
    "    print(f'Конверсия всех пользователей {segment_name} в пользователей, дошедших до действия \"contact_show\": {conversion}%')"
   ]
  },
  {
   "cell_type": "markdown",
   "metadata": {},
   "source": [
    "<a id=\"3.1\"></a> \n",
    "### Retention rate\n",
    "Retention Rate, или коэффициент удержания, показывает, как долго клиенты остаются с компанией. Будем рассматривать недельные когорты. "
   ]
  },
  {
   "cell_type": "code",
   "execution_count": 77,
   "metadata": {},
   "outputs": [
    {
     "data": {
      "text/html": [
       "<div>\n",
       "<style scoped>\n",
       "    .dataframe tbody tr th:only-of-type {\n",
       "        vertical-align: middle;\n",
       "    }\n",
       "\n",
       "    .dataframe tbody tr th {\n",
       "        vertical-align: top;\n",
       "    }\n",
       "\n",
       "    .dataframe thead th {\n",
       "        text-align: right;\n",
       "    }\n",
       "</style>\n",
       "<table border=\"1\" class=\"dataframe\">\n",
       "  <thead>\n",
       "    <tr style=\"text-align: right;\">\n",
       "      <th></th>\n",
       "      <th>0 days 00:00:00</th>\n",
       "      <th>7 days 00:00:00</th>\n",
       "      <th>14 days 00:00:00</th>\n",
       "      <th>21 days 00:00:00</th>\n",
       "      <th>28 days 00:00:00</th>\n",
       "    </tr>\n",
       "    <tr>\n",
       "      <th>first_ts</th>\n",
       "      <th></th>\n",
       "      <th></th>\n",
       "      <th></th>\n",
       "      <th></th>\n",
       "      <th></th>\n",
       "    </tr>\n",
       "  </thead>\n",
       "  <tbody>\n",
       "    <tr>\n",
       "      <th>2019-10-03</th>\n",
       "      <td>1.0</td>\n",
       "      <td>0.270567</td>\n",
       "      <td>0.168190</td>\n",
       "      <td>0.109689</td>\n",
       "      <td>0.071298</td>\n",
       "    </tr>\n",
       "    <tr>\n",
       "      <th>2019-10-10</th>\n",
       "      <td>1.0</td>\n",
       "      <td>0.233929</td>\n",
       "      <td>0.154464</td>\n",
       "      <td>0.070536</td>\n",
       "      <td>0.000000</td>\n",
       "    </tr>\n",
       "    <tr>\n",
       "      <th>2019-10-17</th>\n",
       "      <td>1.0</td>\n",
       "      <td>0.240317</td>\n",
       "      <td>0.088908</td>\n",
       "      <td>0.000000</td>\n",
       "      <td>0.000000</td>\n",
       "    </tr>\n",
       "    <tr>\n",
       "      <th>2019-10-24</th>\n",
       "      <td>1.0</td>\n",
       "      <td>0.173570</td>\n",
       "      <td>0.000000</td>\n",
       "      <td>0.000000</td>\n",
       "      <td>0.000000</td>\n",
       "    </tr>\n",
       "    <tr>\n",
       "      <th>2019-10-31</th>\n",
       "      <td>1.0</td>\n",
       "      <td>0.000000</td>\n",
       "      <td>0.000000</td>\n",
       "      <td>0.000000</td>\n",
       "      <td>0.000000</td>\n",
       "    </tr>\n",
       "  </tbody>\n",
       "</table>\n",
       "</div>"
      ],
      "text/plain": [
       "            0 days 00:00:00  7 days 00:00:00  14 days 00:00:00  \\\n",
       "first_ts                                                         \n",
       "2019-10-03              1.0         0.270567          0.168190   \n",
       "2019-10-10              1.0         0.233929          0.154464   \n",
       "2019-10-17              1.0         0.240317          0.088908   \n",
       "2019-10-24              1.0         0.173570          0.000000   \n",
       "2019-10-31              1.0         0.000000          0.000000   \n",
       "\n",
       "            21 days 00:00:00  28 days 00:00:00  \n",
       "first_ts                                        \n",
       "2019-10-03          0.109689          0.071298  \n",
       "2019-10-10          0.070536          0.000000  \n",
       "2019-10-17          0.000000          0.000000  \n",
       "2019-10-24          0.000000          0.000000  \n",
       "2019-10-31          0.000000          0.000000  "
      ]
     },
     "execution_count": 77,
     "metadata": {},
     "output_type": "execute_result"
    },
    {
     "data": {
      "image/png": "[encoded data removed]",
      "text/plain": [
       "<Figure size 720x288 with 2 Axes>"
      ]
     },
     "metadata": {
      "needs_background": "light"
     },
     "output_type": "display_data"
    }
   ],
   "source": [
    "RR(df)"
   ]
  },
  {
   "cell_type": "markdown",
   "metadata": {},
   "source": [
    "- Сравнивая 7 день всех когорт, видим: максимальный показатель удержания у первой когорты (27%), минимальный у 4-ой когорты (17,4%). То есть спустя неделю наибольшее число вернувшихся в приложение пользователей – пользователи из первой когорты. Также видно, что показатели удержания на 7 день между первыми тремя когортами отличается не сильно (примерно на 3%). \n",
    "- Сравним retention rate на 7 день с показателями на 14 день. В первой когорте RR снизиля на 10%, во второй – на 8%, у третьей когорты – наибольшее снижение, разница составляет ≈15%. \n",
    "- Разница между RR 21-ого дня у двух первых когорт около 4%. Удержание первой когорты лучше. В первый когорте RR уменьшился на 6%, во второй – примерно на 8%. \n",
    "- Только первая когорта \"дожила\" до 28-ого дня. Всего осталось около 7% всех пользователей. RR 28-ого дня уменьшился на 4% относительно 21-ого дня."
   ]
  },
  {
   "cell_type": "markdown",
   "metadata": {},
   "source": [
    "<a id=\"3.2\"></a> \n",
    "### Время, проведённое в приложении"
   ]
  },
  {
   "cell_type": "markdown",
   "metadata": {},
   "source": [
    "В этом пункте нам нужно самим выделить сессии для каждого пользователя. И в этих сессиях посчитать время, проведенное в приложении. "
   ]
  },
  {
   "cell_type": "code",
   "execution_count": 55,
   "metadata": {},
   "outputs": [
    {
     "data": {
      "text/html": [
       "<div>\n",
       "<style scoped>\n",
       "    .dataframe tbody tr th:only-of-type {\n",
       "        vertical-align: middle;\n",
       "    }\n",
       "\n",
       "    .dataframe tbody tr th {\n",
       "        vertical-align: top;\n",
       "    }\n",
       "\n",
       "    .dataframe thead th {\n",
       "        text-align: right;\n",
       "    }\n",
       "</style>\n",
       "<table border=\"1\" class=\"dataframe\">\n",
       "  <thead>\n",
       "    <tr style=\"text-align: right;\">\n",
       "      <th></th>\n",
       "      <th>user_id</th>\n",
       "      <th>source</th>\n",
       "      <th>event_time</th>\n",
       "      <th>event_name</th>\n",
       "      <th>active_date</th>\n",
       "    </tr>\n",
       "  </thead>\n",
       "  <tbody>\n",
       "    <tr>\n",
       "      <th>2171</th>\n",
       "      <td>0001b1d5-b74a-4cbf-aeb0-7df5947bf349</td>\n",
       "      <td>other</td>\n",
       "      <td>2019-10-07 13:39:45.989359</td>\n",
       "      <td>tips_show</td>\n",
       "      <td>2019-10-03</td>\n",
       "    </tr>\n",
       "    <tr>\n",
       "      <th>2172</th>\n",
       "      <td>0001b1d5-b74a-4cbf-aeb0-7df5947bf349</td>\n",
       "      <td>other</td>\n",
       "      <td>2019-10-07 13:40:31.052909</td>\n",
       "      <td>tips_show</td>\n",
       "      <td>2019-10-03</td>\n",
       "    </tr>\n",
       "    <tr>\n",
       "      <th>2173</th>\n",
       "      <td>0001b1d5-b74a-4cbf-aeb0-7df5947bf349</td>\n",
       "      <td>other</td>\n",
       "      <td>2019-10-07 13:41:05.722489</td>\n",
       "      <td>tips_show</td>\n",
       "      <td>2019-10-03</td>\n",
       "    </tr>\n",
       "    <tr>\n",
       "      <th>2174</th>\n",
       "      <td>0001b1d5-b74a-4cbf-aeb0-7df5947bf349</td>\n",
       "      <td>other</td>\n",
       "      <td>2019-10-07 13:43:20.735461</td>\n",
       "      <td>tips_show</td>\n",
       "      <td>2019-10-03</td>\n",
       "    </tr>\n",
       "    <tr>\n",
       "      <th>2175</th>\n",
       "      <td>0001b1d5-b74a-4cbf-aeb0-7df5947bf349</td>\n",
       "      <td>other</td>\n",
       "      <td>2019-10-07 13:45:30.917502</td>\n",
       "      <td>tips_show</td>\n",
       "      <td>2019-10-03</td>\n",
       "    </tr>\n",
       "  </tbody>\n",
       "</table>\n",
       "</div>"
      ],
      "text/plain": [
       "                                   user_id source                 event_time  \\\n",
       "2171  0001b1d5-b74a-4cbf-aeb0-7df5947bf349  other 2019-10-07 13:39:45.989359   \n",
       "2172  0001b1d5-b74a-4cbf-aeb0-7df5947bf349  other 2019-10-07 13:40:31.052909   \n",
       "2173  0001b1d5-b74a-4cbf-aeb0-7df5947bf349  other 2019-10-07 13:41:05.722489   \n",
       "2174  0001b1d5-b74a-4cbf-aeb0-7df5947bf349  other 2019-10-07 13:43:20.735461   \n",
       "2175  0001b1d5-b74a-4cbf-aeb0-7df5947bf349  other 2019-10-07 13:45:30.917502   \n",
       "\n",
       "     event_name active_date  \n",
       "2171  tips_show  2019-10-03  \n",
       "2172  tips_show  2019-10-03  \n",
       "2173  tips_show  2019-10-03  \n",
       "2174  tips_show  2019-10-03  \n",
       "2175  tips_show  2019-10-03  "
      ]
     },
     "execution_count": 55,
     "metadata": {},
     "output_type": "execute_result"
    }
   ],
   "source": [
    "df.sort_values(['user_id', 'event_time']).head()"
   ]
  },
  {
   "cell_type": "markdown",
   "metadata": {},
   "source": [
    "Выделим сессии для каждого пользователя. Примем, что сессия – это группа событий для пользователя, между которыми нет интервала в X секунд (или минут). Если между событиями проходит X секунд и более, то следующее событие относится к другой сессии. Здесь задано значение X = 15 минут."
   ]
  },
  {
   "cell_type": "code",
   "execution_count": 56,
   "metadata": {},
   "outputs": [
    {
     "data": {
      "text/html": [
       "<div>\n",
       "<style scoped>\n",
       "    .dataframe tbody tr th:only-of-type {\n",
       "        vertical-align: middle;\n",
       "    }\n",
       "\n",
       "    .dataframe tbody tr th {\n",
       "        vertical-align: top;\n",
       "    }\n",
       "\n",
       "    .dataframe thead th {\n",
       "        text-align: right;\n",
       "    }\n",
       "</style>\n",
       "<table border=\"1\" class=\"dataframe\">\n",
       "  <thead>\n",
       "    <tr style=\"text-align: right;\">\n",
       "      <th></th>\n",
       "      <th>user_id</th>\n",
       "      <th>source</th>\n",
       "      <th>event_time</th>\n",
       "      <th>event_name</th>\n",
       "      <th>active_date</th>\n",
       "      <th>session_id</th>\n",
       "    </tr>\n",
       "  </thead>\n",
       "  <tbody>\n",
       "    <tr>\n",
       "      <th>0</th>\n",
       "      <td>020292ab-89bc-4156-9acf-68bc2783f894</td>\n",
       "      <td>other</td>\n",
       "      <td>2019-10-07 00:00:00.431357</td>\n",
       "      <td>advert_open</td>\n",
       "      <td>2019-10-03</td>\n",
       "      <td>1</td>\n",
       "    </tr>\n",
       "    <tr>\n",
       "      <th>1</th>\n",
       "      <td>020292ab-89bc-4156-9acf-68bc2783f894</td>\n",
       "      <td>other</td>\n",
       "      <td>2019-10-07 00:00:01.236320</td>\n",
       "      <td>tips_show</td>\n",
       "      <td>2019-10-03</td>\n",
       "      <td>1</td>\n",
       "    </tr>\n",
       "    <tr>\n",
       "      <th>2</th>\n",
       "      <td>020292ab-89bc-4156-9acf-68bc2783f894</td>\n",
       "      <td>other</td>\n",
       "      <td>2019-10-07 00:00:07.039334</td>\n",
       "      <td>tips_show</td>\n",
       "      <td>2019-10-03</td>\n",
       "      <td>1</td>\n",
       "    </tr>\n",
       "    <tr>\n",
       "      <th>3</th>\n",
       "      <td>020292ab-89bc-4156-9acf-68bc2783f894</td>\n",
       "      <td>other</td>\n",
       "      <td>2019-10-07 00:01:27.770232</td>\n",
       "      <td>advert_open</td>\n",
       "      <td>2019-10-03</td>\n",
       "      <td>1</td>\n",
       "    </tr>\n",
       "    <tr>\n",
       "      <th>4</th>\n",
       "      <td>020292ab-89bc-4156-9acf-68bc2783f894</td>\n",
       "      <td>other</td>\n",
       "      <td>2019-10-07 00:01:34.804591</td>\n",
       "      <td>tips_show</td>\n",
       "      <td>2019-10-03</td>\n",
       "      <td>1</td>\n",
       "    </tr>\n",
       "    <tr>\n",
       "      <th>...</th>\n",
       "      <td>...</td>\n",
       "      <td>...</td>\n",
       "      <td>...</td>\n",
       "      <td>...</td>\n",
       "      <td>...</td>\n",
       "      <td>...</td>\n",
       "    </tr>\n",
       "    <tr>\n",
       "      <th>74192</th>\n",
       "      <td>d157bffc-264d-4464-8220-1cc0c42f43a9</td>\n",
       "      <td>google</td>\n",
       "      <td>2019-11-03 23:46:47.068179</td>\n",
       "      <td>map</td>\n",
       "      <td>2019-10-31</td>\n",
       "      <td>11537</td>\n",
       "    </tr>\n",
       "    <tr>\n",
       "      <th>74193</th>\n",
       "      <td>d157bffc-264d-4464-8220-1cc0c42f43a9</td>\n",
       "      <td>google</td>\n",
       "      <td>2019-11-03 23:46:58.914787</td>\n",
       "      <td>advert_open</td>\n",
       "      <td>2019-10-31</td>\n",
       "      <td>11537</td>\n",
       "    </tr>\n",
       "    <tr>\n",
       "      <th>74194</th>\n",
       "      <td>d157bffc-264d-4464-8220-1cc0c42f43a9</td>\n",
       "      <td>google</td>\n",
       "      <td>2019-11-03 23:47:01.232230</td>\n",
       "      <td>tips_show</td>\n",
       "      <td>2019-10-31</td>\n",
       "      <td>11537</td>\n",
       "    </tr>\n",
       "    <tr>\n",
       "      <th>74195</th>\n",
       "      <td>d157bffc-264d-4464-8220-1cc0c42f43a9</td>\n",
       "      <td>google</td>\n",
       "      <td>2019-11-03 23:47:47.475102</td>\n",
       "      <td>advert_open</td>\n",
       "      <td>2019-10-31</td>\n",
       "      <td>11537</td>\n",
       "    </tr>\n",
       "    <tr>\n",
       "      <th>74196</th>\n",
       "      <td>d157bffc-264d-4464-8220-1cc0c42f43a9</td>\n",
       "      <td>google</td>\n",
       "      <td>2019-11-03 23:47:50.087645</td>\n",
       "      <td>tips_show</td>\n",
       "      <td>2019-10-31</td>\n",
       "      <td>11537</td>\n",
       "    </tr>\n",
       "  </tbody>\n",
       "</table>\n",
       "<p>74197 rows × 6 columns</p>\n",
       "</div>"
      ],
      "text/plain": [
       "                                    user_id  source  \\\n",
       "0      020292ab-89bc-4156-9acf-68bc2783f894   other   \n",
       "1      020292ab-89bc-4156-9acf-68bc2783f894   other   \n",
       "2      020292ab-89bc-4156-9acf-68bc2783f894   other   \n",
       "3      020292ab-89bc-4156-9acf-68bc2783f894   other   \n",
       "4      020292ab-89bc-4156-9acf-68bc2783f894   other   \n",
       "...                                     ...     ...   \n",
       "74192  d157bffc-264d-4464-8220-1cc0c42f43a9  google   \n",
       "74193  d157bffc-264d-4464-8220-1cc0c42f43a9  google   \n",
       "74194  d157bffc-264d-4464-8220-1cc0c42f43a9  google   \n",
       "74195  d157bffc-264d-4464-8220-1cc0c42f43a9  google   \n",
       "74196  d157bffc-264d-4464-8220-1cc0c42f43a9  google   \n",
       "\n",
       "                      event_time   event_name active_date  session_id  \n",
       "0     2019-10-07 00:00:00.431357  advert_open  2019-10-03           1  \n",
       "1     2019-10-07 00:00:01.236320    tips_show  2019-10-03           1  \n",
       "2     2019-10-07 00:00:07.039334    tips_show  2019-10-03           1  \n",
       "3     2019-10-07 00:01:27.770232  advert_open  2019-10-03           1  \n",
       "4     2019-10-07 00:01:34.804591    tips_show  2019-10-03           1  \n",
       "...                          ...          ...         ...         ...  \n",
       "74192 2019-11-03 23:46:47.068179          map  2019-10-31       11537  \n",
       "74193 2019-11-03 23:46:58.914787  advert_open  2019-10-31       11537  \n",
       "74194 2019-11-03 23:47:01.232230    tips_show  2019-10-31       11537  \n",
       "74195 2019-11-03 23:47:47.475102  advert_open  2019-10-31       11537  \n",
       "74196 2019-11-03 23:47:50.087645    tips_show  2019-10-31       11537  \n",
       "\n",
       "[74197 rows x 6 columns]"
      ]
     },
     "execution_count": 56,
     "metadata": {},
     "output_type": "execute_result"
    }
   ],
   "source": [
    "# определим разницу в 15 минут между сессиями:\n",
    "g = (df.groupby('user_id')['event_time'].diff() > pd.Timedelta('15Min')).cumsum()\n",
    "\n",
    "# создадим счетчик групп-сессий:\n",
    "df['session_id'] = df.groupby(['user_id', g], sort=False).ngroup() + 1\n",
    "df"
   ]
  },
  {
   "cell_type": "markdown",
   "metadata": {},
   "source": [
    "Теперь найдем среднюю продолжительность сессии для каждого пользователя."
   ]
  },
  {
   "cell_type": "code",
   "execution_count": 57,
   "metadata": {},
   "outputs": [
    {
     "data": {
      "text/html": [
       "<div>\n",
       "<style scoped>\n",
       "    .dataframe tbody tr th:only-of-type {\n",
       "        vertical-align: middle;\n",
       "    }\n",
       "\n",
       "    .dataframe tbody tr th {\n",
       "        vertical-align: top;\n",
       "    }\n",
       "\n",
       "    .dataframe thead th {\n",
       "        text-align: right;\n",
       "    }\n",
       "</style>\n",
       "<table border=\"1\" class=\"dataframe\">\n",
       "  <thead>\n",
       "    <tr style=\"text-align: right;\">\n",
       "      <th></th>\n",
       "      <th>user_id</th>\n",
       "      <th>session_id</th>\n",
       "      <th>start_dt</th>\n",
       "      <th>end_dt</th>\n",
       "      <th>duration</th>\n",
       "    </tr>\n",
       "  </thead>\n",
       "  <tbody>\n",
       "    <tr>\n",
       "      <th>0</th>\n",
       "      <td>0001b1d5-b74a-4cbf-aeb0-7df5947bf349</td>\n",
       "      <td>304</td>\n",
       "      <td>2019-10-07 13:39:45.989359</td>\n",
       "      <td>2019-10-07 13:49:41.716617</td>\n",
       "      <td>0 days 00:09:55.727258</td>\n",
       "    </tr>\n",
       "    <tr>\n",
       "      <th>1</th>\n",
       "      <td>0001b1d5-b74a-4cbf-aeb0-7df5947bf349</td>\n",
       "      <td>305</td>\n",
       "      <td>2019-10-09 18:33:55.577963</td>\n",
       "      <td>2019-10-09 18:42:22.963948</td>\n",
       "      <td>0 days 00:08:27.385985</td>\n",
       "    </tr>\n",
       "    <tr>\n",
       "      <th>2</th>\n",
       "      <td>0001b1d5-b74a-4cbf-aeb0-7df5947bf349</td>\n",
       "      <td>306</td>\n",
       "      <td>2019-10-21 19:52:30.778932</td>\n",
       "      <td>2019-10-21 20:07:30.051028</td>\n",
       "      <td>0 days 00:14:59.272096</td>\n",
       "    </tr>\n",
       "    <tr>\n",
       "      <th>3</th>\n",
       "      <td>0001b1d5-b74a-4cbf-aeb0-7df5947bf349</td>\n",
       "      <td>307</td>\n",
       "      <td>2019-10-22 11:18:14.635436</td>\n",
       "      <td>2019-10-22 11:30:52.807203</td>\n",
       "      <td>0 days 00:12:38.171767</td>\n",
       "    </tr>\n",
       "    <tr>\n",
       "      <th>4</th>\n",
       "      <td>00157779-810c-4498-9e05-a1e9e3cedf93</td>\n",
       "      <td>6686</td>\n",
       "      <td>2019-10-19 21:34:33.849769</td>\n",
       "      <td>2019-10-19 21:59:54.637098</td>\n",
       "      <td>0 days 00:25:20.787329</td>\n",
       "    </tr>\n",
       "    <tr>\n",
       "      <th>...</th>\n",
       "      <td>...</td>\n",
       "      <td>...</td>\n",
       "      <td>...</td>\n",
       "      <td>...</td>\n",
       "      <td>...</td>\n",
       "    </tr>\n",
       "    <tr>\n",
       "      <th>11532</th>\n",
       "      <td>fffb9e79-b927-4dbb-9b48-7fd09b23a62b</td>\n",
       "      <td>3011</td>\n",
       "      <td>2019-11-02 18:17:41.386651</td>\n",
       "      <td>2019-11-02 18:17:41.386651</td>\n",
       "      <td>0 days 00:00:00</td>\n",
       "    </tr>\n",
       "    <tr>\n",
       "      <th>11533</th>\n",
       "      <td>fffb9e79-b927-4dbb-9b48-7fd09b23a62b</td>\n",
       "      <td>3012</td>\n",
       "      <td>2019-11-02 19:25:53.794029</td>\n",
       "      <td>2019-11-02 19:30:50.471310</td>\n",
       "      <td>0 days 00:04:56.677281</td>\n",
       "    </tr>\n",
       "    <tr>\n",
       "      <th>11534</th>\n",
       "      <td>fffb9e79-b927-4dbb-9b48-7fd09b23a62b</td>\n",
       "      <td>3013</td>\n",
       "      <td>2019-11-03 14:32:55.956301</td>\n",
       "      <td>2019-11-03 14:48:44.263356</td>\n",
       "      <td>0 days 00:15:48.307055</td>\n",
       "    </tr>\n",
       "    <tr>\n",
       "      <th>11535</th>\n",
       "      <td>fffb9e79-b927-4dbb-9b48-7fd09b23a62b</td>\n",
       "      <td>3014</td>\n",
       "      <td>2019-11-03 15:36:01.007440</td>\n",
       "      <td>2019-11-03 15:51:57.899997</td>\n",
       "      <td>0 days 00:15:56.892557</td>\n",
       "    </tr>\n",
       "    <tr>\n",
       "      <th>11536</th>\n",
       "      <td>fffb9e79-b927-4dbb-9b48-7fd09b23a62b</td>\n",
       "      <td>3015</td>\n",
       "      <td>2019-11-03 16:07:40.932077</td>\n",
       "      <td>2019-11-03 16:08:25.388712</td>\n",
       "      <td>0 days 00:00:44.456635</td>\n",
       "    </tr>\n",
       "  </tbody>\n",
       "</table>\n",
       "<p>11537 rows × 5 columns</p>\n",
       "</div>"
      ],
      "text/plain": [
       "                                    user_id  session_id  \\\n",
       "0      0001b1d5-b74a-4cbf-aeb0-7df5947bf349         304   \n",
       "1      0001b1d5-b74a-4cbf-aeb0-7df5947bf349         305   \n",
       "2      0001b1d5-b74a-4cbf-aeb0-7df5947bf349         306   \n",
       "3      0001b1d5-b74a-4cbf-aeb0-7df5947bf349         307   \n",
       "4      00157779-810c-4498-9e05-a1e9e3cedf93        6686   \n",
       "...                                     ...         ...   \n",
       "11532  fffb9e79-b927-4dbb-9b48-7fd09b23a62b        3011   \n",
       "11533  fffb9e79-b927-4dbb-9b48-7fd09b23a62b        3012   \n",
       "11534  fffb9e79-b927-4dbb-9b48-7fd09b23a62b        3013   \n",
       "11535  fffb9e79-b927-4dbb-9b48-7fd09b23a62b        3014   \n",
       "11536  fffb9e79-b927-4dbb-9b48-7fd09b23a62b        3015   \n",
       "\n",
       "                        start_dt                     end_dt  \\\n",
       "0     2019-10-07 13:39:45.989359 2019-10-07 13:49:41.716617   \n",
       "1     2019-10-09 18:33:55.577963 2019-10-09 18:42:22.963948   \n",
       "2     2019-10-21 19:52:30.778932 2019-10-21 20:07:30.051028   \n",
       "3     2019-10-22 11:18:14.635436 2019-10-22 11:30:52.807203   \n",
       "4     2019-10-19 21:34:33.849769 2019-10-19 21:59:54.637098   \n",
       "...                          ...                        ...   \n",
       "11532 2019-11-02 18:17:41.386651 2019-11-02 18:17:41.386651   \n",
       "11533 2019-11-02 19:25:53.794029 2019-11-02 19:30:50.471310   \n",
       "11534 2019-11-03 14:32:55.956301 2019-11-03 14:48:44.263356   \n",
       "11535 2019-11-03 15:36:01.007440 2019-11-03 15:51:57.899997   \n",
       "11536 2019-11-03 16:07:40.932077 2019-11-03 16:08:25.388712   \n",
       "\n",
       "                    duration  \n",
       "0     0 days 00:09:55.727258  \n",
       "1     0 days 00:08:27.385985  \n",
       "2     0 days 00:14:59.272096  \n",
       "3     0 days 00:12:38.171767  \n",
       "4     0 days 00:25:20.787329  \n",
       "...                      ...  \n",
       "11532        0 days 00:00:00  \n",
       "11533 0 days 00:04:56.677281  \n",
       "11534 0 days 00:15:48.307055  \n",
       "11535 0 days 00:15:56.892557  \n",
       "11536 0 days 00:00:44.456635  \n",
       "\n",
       "[11537 rows x 5 columns]"
      ]
     },
     "metadata": {},
     "output_type": "display_data"
    }
   ],
   "source": [
    "# получим таблицу с началом и концом каждой сессии для каждого пользователя:\n",
    "session_start = df.groupby(['user_id', 'session_id'], as_index=False).agg({'event_time':'min'})\n",
    "session_end = df.groupby(['user_id', 'session_id'], as_index=False).agg({'event_time':'max'})\n",
    "sessions = session_start.merge(session_end, on=['user_id', 'session_id'])\n",
    "sessions.columns = ['user_id', 'session_id', 'start_dt', 'end_dt']\n",
    "\n",
    "# найдем продолжительность каждой сессии: \n",
    "sessions['duration'] =  sessions['end_dt'] - sessions['start_dt']\n",
    "\n",
    "display(sessions)"
   ]
  },
  {
   "cell_type": "code",
   "execution_count": 58,
   "metadata": {},
   "outputs": [
    {
     "data": {
      "text/html": [
       "<div>\n",
       "<style scoped>\n",
       "    .dataframe tbody tr th:only-of-type {\n",
       "        vertical-align: middle;\n",
       "    }\n",
       "\n",
       "    .dataframe tbody tr th {\n",
       "        vertical-align: top;\n",
       "    }\n",
       "\n",
       "    .dataframe thead th {\n",
       "        text-align: right;\n",
       "    }\n",
       "</style>\n",
       "<table border=\"1\" class=\"dataframe\">\n",
       "  <thead>\n",
       "    <tr style=\"text-align: right;\">\n",
       "      <th></th>\n",
       "      <th>user_id</th>\n",
       "      <th>duration_sum</th>\n",
       "      <th>session_cnt</th>\n",
       "      <th>duration_avg</th>\n",
       "    </tr>\n",
       "  </thead>\n",
       "  <tbody>\n",
       "    <tr>\n",
       "      <th>0</th>\n",
       "      <td>0001b1d5-b74a-4cbf-aeb0-7df5947bf349</td>\n",
       "      <td>0 days 00:46:00.557106</td>\n",
       "      <td>4</td>\n",
       "      <td>12.0</td>\n",
       "    </tr>\n",
       "    <tr>\n",
       "      <th>1</th>\n",
       "      <td>00157779-810c-4498-9e05-a1e9e3cedf93</td>\n",
       "      <td>0 days 02:07:50.864520</td>\n",
       "      <td>9</td>\n",
       "      <td>14.0</td>\n",
       "    </tr>\n",
       "    <tr>\n",
       "      <th>2</th>\n",
       "      <td>00463033-5717-4bf1-91b4-09183923b9df</td>\n",
       "      <td>0 days 00:24:42.475025</td>\n",
       "      <td>1</td>\n",
       "      <td>25.0</td>\n",
       "    </tr>\n",
       "    <tr>\n",
       "      <th>3</th>\n",
       "      <td>004690c3-5a84-4bb7-a8af-e0c8f8fca64e</td>\n",
       "      <td>0 days 00:48:04.069298</td>\n",
       "      <td>9</td>\n",
       "      <td>5.0</td>\n",
       "    </tr>\n",
       "    <tr>\n",
       "      <th>4</th>\n",
       "      <td>00551e79-152e-4441-9cf7-565d7eb04090</td>\n",
       "      <td>0 days 00:09:19.664543</td>\n",
       "      <td>3</td>\n",
       "      <td>3.0</td>\n",
       "    </tr>\n",
       "    <tr>\n",
       "      <th>...</th>\n",
       "      <td>...</td>\n",
       "      <td>...</td>\n",
       "      <td>...</td>\n",
       "      <td>...</td>\n",
       "    </tr>\n",
       "    <tr>\n",
       "      <th>4288</th>\n",
       "      <td>ffab8d8a-30bb-424a-a3ab-0b63ebbf7b07</td>\n",
       "      <td>0 days 00:49:25.224889</td>\n",
       "      <td>2</td>\n",
       "      <td>25.0</td>\n",
       "    </tr>\n",
       "    <tr>\n",
       "      <th>4289</th>\n",
       "      <td>ffc01466-fdb1-4460-ae94-e800f52eb136</td>\n",
       "      <td>0 days 00:00:52.138456</td>\n",
       "      <td>1</td>\n",
       "      <td>1.0</td>\n",
       "    </tr>\n",
       "    <tr>\n",
       "      <th>4290</th>\n",
       "      <td>ffcf50d9-293c-4254-8243-4890b030b238</td>\n",
       "      <td>0 days 00:01:20.378132</td>\n",
       "      <td>1</td>\n",
       "      <td>1.0</td>\n",
       "    </tr>\n",
       "    <tr>\n",
       "      <th>4291</th>\n",
       "      <td>ffe68f10-e48e-470e-be9b-eeb93128ff1a</td>\n",
       "      <td>0 days 00:38:52.591039</td>\n",
       "      <td>3</td>\n",
       "      <td>13.0</td>\n",
       "    </tr>\n",
       "    <tr>\n",
       "      <th>4292</th>\n",
       "      <td>fffb9e79-b927-4dbb-9b48-7fd09b23a62b</td>\n",
       "      <td>0 days 06:49:17.494663</td>\n",
       "      <td>37</td>\n",
       "      <td>11.0</td>\n",
       "    </tr>\n",
       "  </tbody>\n",
       "</table>\n",
       "<p>4293 rows × 4 columns</p>\n",
       "</div>"
      ],
      "text/plain": [
       "                                   user_id           duration_sum  \\\n",
       "0     0001b1d5-b74a-4cbf-aeb0-7df5947bf349 0 days 00:46:00.557106   \n",
       "1     00157779-810c-4498-9e05-a1e9e3cedf93 0 days 02:07:50.864520   \n",
       "2     00463033-5717-4bf1-91b4-09183923b9df 0 days 00:24:42.475025   \n",
       "3     004690c3-5a84-4bb7-a8af-e0c8f8fca64e 0 days 00:48:04.069298   \n",
       "4     00551e79-152e-4441-9cf7-565d7eb04090 0 days 00:09:19.664543   \n",
       "...                                    ...                    ...   \n",
       "4288  ffab8d8a-30bb-424a-a3ab-0b63ebbf7b07 0 days 00:49:25.224889   \n",
       "4289  ffc01466-fdb1-4460-ae94-e800f52eb136 0 days 00:00:52.138456   \n",
       "4290  ffcf50d9-293c-4254-8243-4890b030b238 0 days 00:01:20.378132   \n",
       "4291  ffe68f10-e48e-470e-be9b-eeb93128ff1a 0 days 00:38:52.591039   \n",
       "4292  fffb9e79-b927-4dbb-9b48-7fd09b23a62b 0 days 06:49:17.494663   \n",
       "\n",
       "      session_cnt  duration_avg  \n",
       "0               4          12.0  \n",
       "1               9          14.0  \n",
       "2               1          25.0  \n",
       "3               9           5.0  \n",
       "4               3           3.0  \n",
       "...           ...           ...  \n",
       "4288            2          25.0  \n",
       "4289            1           1.0  \n",
       "4290            1           1.0  \n",
       "4291            3          13.0  \n",
       "4292           37          11.0  \n",
       "\n",
       "[4293 rows x 4 columns]"
      ]
     },
     "execution_count": 58,
     "metadata": {},
     "output_type": "execute_result"
    }
   ],
   "source": [
    "# общая продолжительность всех сессий в сумме для каждого пользователя\n",
    "ses_dur_sum = sessions.groupby('user_id', as_index=False)['duration'].sum()\n",
    "\n",
    "# число сессий для каждого пользователя \n",
    "ses_cnt = sessions.groupby('user_id', as_index=False)['session_id'].nunique()\n",
    "\n",
    "# объединяем \n",
    "ses_dur_avg = ses_dur_sum.merge(ses_cnt, on='user_id')\n",
    "ses_dur_avg.columns=['user_id', 'duration_sum', 'session_cnt']\n",
    "\n",
    "# делим общую продолжительность всех сессий на их количество (для каждого пользователя), \n",
    "# получаем среднюю продолжительность одной сессии для каждого пользователя\n",
    "ses_dur_avg['duration_avg'] = (ses_dur_avg['duration_sum']/ses_dur_avg['session_cnt']).round('min').astype('timedelta64[m]')\n",
    "ses_dur_avg\n"
   ]
  },
  {
   "cell_type": "markdown",
   "metadata": {},
   "source": [
    "Посмотрим распределение пользователей по продолжительности сеанса. Для этого построим гистограмму."
   ]
  },
  {
   "cell_type": "code",
   "execution_count": 59,
   "metadata": {},
   "outputs": [
    {
     "name": "stdout",
     "output_type": "stream",
     "text": [
      "Средняя продолжительность сессии уникального пользователя: 11.03\n"
     ]
    },
    {
     "data": {
      "image/png": "[encoded data removed]",
      "text/plain": [
       "<Figure size 864x432 with 1 Axes>"
      ]
     },
     "metadata": {
      "needs_background": "light"
     },
     "output_type": "display_data"
    }
   ],
   "source": [
    "plt.figure(figsize=(12,6))\n",
    "\n",
    "plt.hist(ses_dur_avg['duration_avg'], bins=70)\n",
    "\n",
    "plt_design(title='Распределние числа пользователей по средней продолжительности сессии',\n",
    "               title_size=20, \n",
    "               xlabel='Средняя продолжительность сессии, мин.', \n",
    "               ylabel='Частота'\n",
    "               )\n",
    "\n",
    "total_avg_dur_mean = ses_dur_avg['duration_avg'].mean().round(2)\n",
    "print(f\"Средняя продолжительность сессии уникального пользователя: {total_avg_dur_mean}\")\n"
   ]
  },
  {
   "cell_type": "markdown",
   "metadata": {},
   "source": [
    "Из графика следует, что средняя продолжительность сессии одного пользователя в основном составляет меньше 40 минут. Большое число людей не проводят больше 10 минут в приложении. "
   ]
  },
  {
   "cell_type": "markdown",
   "metadata": {},
   "source": [
    "<a id=\"3.3\"></a> \n",
    "### Частота действий"
   ]
  },
  {
   "cell_type": "markdown",
   "metadata": {},
   "source": [
    "Выясним, как часто пользователи совершают события в приложении. Для этого сгруппируем данные по датам и посчитаем количество событий в день. \n"
   ]
  },
  {
   "cell_type": "code",
   "execution_count": 60,
   "metadata": {},
   "outputs": [
    {
     "data": {
      "text/html": [
       "<div>\n",
       "<style scoped>\n",
       "    .dataframe tbody tr th:only-of-type {\n",
       "        vertical-align: middle;\n",
       "    }\n",
       "\n",
       "    .dataframe tbody tr th {\n",
       "        vertical-align: top;\n",
       "    }\n",
       "\n",
       "    .dataframe thead th {\n",
       "        text-align: right;\n",
       "    }\n",
       "</style>\n",
       "<table border=\"1\" class=\"dataframe\">\n",
       "  <thead>\n",
       "    <tr style=\"text-align: right;\">\n",
       "      <th></th>\n",
       "      <th>dt</th>\n",
       "      <th>event_cnt</th>\n",
       "    </tr>\n",
       "  </thead>\n",
       "  <tbody>\n",
       "    <tr>\n",
       "      <th>0</th>\n",
       "      <td>2019-10-07</td>\n",
       "      <td>2545</td>\n",
       "    </tr>\n",
       "    <tr>\n",
       "      <th>1</th>\n",
       "      <td>2019-10-08</td>\n",
       "      <td>2499</td>\n",
       "    </tr>\n",
       "    <tr>\n",
       "      <th>2</th>\n",
       "      <td>2019-10-09</td>\n",
       "      <td>2027</td>\n",
       "    </tr>\n",
       "    <tr>\n",
       "      <th>3</th>\n",
       "      <td>2019-10-10</td>\n",
       "      <td>2243</td>\n",
       "    </tr>\n",
       "    <tr>\n",
       "      <th>4</th>\n",
       "      <td>2019-10-11</td>\n",
       "      <td>2030</td>\n",
       "    </tr>\n",
       "  </tbody>\n",
       "</table>\n",
       "</div>"
      ],
      "text/plain": [
       "           dt  event_cnt\n",
       "0  2019-10-07       2545\n",
       "1  2019-10-08       2499\n",
       "2  2019-10-09       2027\n",
       "3  2019-10-10       2243\n",
       "4  2019-10-11       2030"
      ]
     },
     "execution_count": 60,
     "metadata": {},
     "output_type": "execute_result"
    }
   ],
   "source": [
    "# создадим дополнительный столбец с датой:\n",
    "df['dt'] = pd.to_datetime(df['event_time']).dt.date\n",
    "\n",
    "# сгруппируем данные по дате и посчитаем количество событий в тот или иной день:\n",
    "event_frequency = df.groupby('dt', as_index=False)['event_name'].count()\n",
    "event_frequency.columns=['dt', 'event_cnt']\n",
    "event_frequency.head()"
   ]
  },
  {
   "cell_type": "markdown",
   "metadata": {},
   "source": [
    "Чтобы показать динамику за весь наблюдаемый период, построим линейный график:"
   ]
  },
  {
   "cell_type": "code",
   "execution_count": 61,
   "metadata": {},
   "outputs": [
    {
     "data": {
      "image/png": "[encoded data removed]",
      "text/plain": [
       "<Figure size 864x432 with 1 Axes>"
      ]
     },
     "metadata": {
      "needs_background": "light"
     },
     "output_type": "display_data"
    }
   ],
   "source": [
    "plt.figure(figsize=(12,6))\n",
    "\n",
    "x = event_frequency['dt']\n",
    "y = event_frequency['event_cnt']\n",
    "plt.plot(x,y,'o-')\n",
    "\n",
    "plt_design(title='Динамика числа событий во времени',\n",
    "               title_size=20, \n",
    "               xlabel='Дата', \n",
    "               ylabel='Число событий',\n",
    "               xrot=30\n",
    "               )\n",
    "plt.show()"
   ]
  },
  {
   "cell_type": "markdown",
   "metadata": {},
   "source": [
    "Из графика видно:\n",
    "- Число событий на сайте в течение всего времени непостоянно;\n",
    "- Можно выделить 14 октября, 23 октября и 3 ноября – в эти даты наблюдается резкий рост количества событий в день;\n",
    "- Также можно выделить резкие спады числа событий: 12 октября, 20 октября, 2 ноября. "
   ]
  },
  {
   "cell_type": "markdown",
   "metadata": {},
   "source": [
    "<a id=\"3.4\"></a> \n",
    "### Конверсия в целевое действие — просмотр контактов"
   ]
  },
  {
   "cell_type": "markdown",
   "metadata": {},
   "source": [
    "Выясним конверсию всех пользователей в пользователей, дошедших до шага `contact_show`. Для этого разделим число  пользователей, дошедших до шага `contact_show` на число всех уникальных пользователей: \n"
   ]
  },
  {
   "cell_type": "code",
   "execution_count": 62,
   "metadata": {},
   "outputs": [
    {
     "name": "stdout",
     "output_type": "stream",
     "text": [
      "Конверсия всех пользователей  в пользователей, дошедших до действия \"contact_show\": 22.85%\n"
     ]
    }
   ],
   "source": [
    "conversion(df)"
   ]
  },
  {
   "cell_type": "markdown",
   "metadata": {},
   "source": [
    "<a id=\"3.5\"></a> \n",
    "### Вывод\n",
    "\n",
    "На данном этапе были установлены следующие наблюдения относительно пользовательского поведения в приложении:\n",
    "- Пользователи, пришедшие на первой неделе показывают лучшее удержание на протяжении всего наблюдения относитьльно других когорт. На начало второй недели - 27%. На начало третьей недели - 16.82%. Вторая когорта не сильно отстаёт - rr=15.45%. Показатели третьей когорты сильно снизились относительно показателей на предыдущий лайфтайм (с 24% до 8.89%). На начало третьей недели первая когорта так же имеет более высокий показатель удержания относительно показателя второй когорты: 10.97% против 7.05%. Только первая когорта \"дожила\" до 28-ого дня. В первой когорте на 28 день осталось около 7% всех пользователей.\n",
    "- В среднем пользователь проводит около 11 минут в приложении;\n",
    "- Число событий на сайте в течение всего времени наблюдения непостоянно;\n",
    "- Около 23% всех пользователей доходят до целевого действия \"показать контакты\". "
   ]
  },
  {
   "cell_type": "markdown",
   "metadata": {},
   "source": [
    "<a id=\"segments\"></a> \n",
    "## Сегментация\n",
    "Разделим всех пользователей на 3 сегмента по количеству совершенных сессий в приложении. И для этих сегментов получим метрики: удержание и конверсию в целевое действие. \n",
    "\n",
    "Для этого проделаем следующие шаги:\n",
    "- Сгруппировать всех пользователей по количеству сессий в приложении;\n",
    "- Посчитать число сессий у каждого пользователя: сгруппировать все данные по `user_id` , посчитать уникальные `session_id`;\n",
    "- Чтобы выделить 3 группы, нужно посмотреть распредееление пользователей по количеству сессий. Для этого можно построить гистограму;\n",
    "- Отнести их к одной из 3 групп: 1 группа, 2 группа, 3 группа; (пороговые значения выяснятся, когда получим весь диапазон значений)\n",
    "- Рассчитать для этих групп удержание;\n",
    "- Рассчитать для каждой группы конверсию."
   ]
  },
  {
   "cell_type": "markdown",
   "metadata": {},
   "source": [
    "Такое сегментирование будет полезно для исследования влияния количества сессий, например, на конверсию в целевое действие. Число сессий  связано с возвращением в приложение. Если пользователь возвращается в приложение, увеличивается вероятность того, что он увидит нужное предложение. Отсюда можно предположить, что пользователи с бОльшим числом сессий вероятнее будут доходить до целевого действия. Далее мы сравним показатели удержания и конверсии в трех сегментах, различающихся по числу проведенных сессий. Удержание в группе с бОльшим числом сессий будет больше: пользователь по определению проделывает больше сессий, то есть \"удерживается\" в приложении – проверим это далее.  Если предположения подтвердятся, следует поработать над увеличением числа сессий пользователя (рассылки, программа лояльности и т.д.), над удержанием уже имеющихся пользователей. "
   ]
  },
  {
   "cell_type": "code",
   "execution_count": 63,
   "metadata": {},
   "outputs": [
    {
     "name": "stdout",
     "output_type": "stream",
     "text": [
      "min число сессий у пользователей: 1\n",
      "max число сессий у пользователей: 116\n"
     ]
    },
    {
     "data": {
      "text/plain": [
       "array([  1,   2,   3,   4,   5,   6,   7,   8,   9,  10,  11,  12,  13,\n",
       "        14,  15,  16,  17,  18,  19,  20,  21,  22,  23,  24,  25,  26,\n",
       "        27,  28,  29,  30,  31,  32,  33,  37,  38,  40,  45,  46,  55,\n",
       "        58,  79, 116])"
      ]
     },
     "execution_count": 63,
     "metadata": {},
     "output_type": "execute_result"
    }
   ],
   "source": [
    "# Группируем пользователей по user_id, считаем уникальные сессии для каждого\n",
    "ungrouped_data = df.groupby('user_id', as_index=False)['session_id'].nunique()\n",
    "ungrouped_data.columns=['user_id', 'session_cnt']\n",
    "\n",
    "# Посмотрим, какие min и max значения session_cnt и на основе этих значений выделим 3 группы\n",
    "print('min число сессий у пользователей:', ungrouped_data['session_cnt'].min())\n",
    "print('max число сессий у пользователей:', ungrouped_data['session_cnt'].max())\n",
    "\n",
    "ungrouped_data['session_cnt'].sort_values().unique()"
   ]
  },
  {
   "cell_type": "code",
   "execution_count": 65,
   "metadata": {},
   "outputs": [
    {
     "data": {
      "image/png": "[encoded data removed]",
      "text/plain": [
       "<Figure size 864x432 with 1 Axes>"
      ]
     },
     "metadata": {
      "needs_background": "light"
     },
     "output_type": "display_data"
    }
   ],
   "source": [
    "plt.figure(figsize=(12,6))\n",
    "\n",
    "plt.hist(ungrouped_data['session_cnt'], bins=70)\n",
    "\n",
    "plt_design(title='Распределние числа пользователей по количеству сессий',\n",
    "               title_size=20, \n",
    "               xlabel='Количество сессий', \n",
    "               ylabel='Число пользователей'\n",
    "               );"
   ]
  },
  {
   "cell_type": "markdown",
   "metadata": {},
   "source": [
    "Из гистограмы видно, что большинство людей проводят всего один сеанс в приложении. Уже на отметке 5 сессий количесво людей уменьшается на порядок. Важно выделить группы так, чтобы число уникальных пользователей самой малой группы составляло не менее 10% от самой большой. Учитывая это, выделим три группы: \n",
    "- 1 группа – совершено всего от 1 сессии до 3;\n",
    "- 2 группа – совершено от 4 до 5 сессий;\n",
    "- 3 группа – совершено более 5 сессий"
   ]
  },
  {
   "cell_type": "code",
   "execution_count": 32,
   "metadata": {},
   "outputs": [],
   "source": [
    "# соединим с первой даблицей df, чтобы не потерять данные о событиях:\n",
    "ungrouped_data = ungrouped_data.merge(df, on='user_id', how='left')\n",
    "\n",
    "# получаем три сегмента: \n",
    "segment_1 = ungrouped_data[(ungrouped_data['session_cnt'] >= 1) & (ungrouped_data['session_cnt'] <= 3)]  \n",
    "segment_2 = ungrouped_data[(ungrouped_data['session_cnt'] > 3) & (ungrouped_data['session_cnt'] <= 5)] \n",
    "segment_3 = ungrouped_data[ungrouped_data['session_cnt'] > 5] "
   ]
  },
  {
   "cell_type": "code",
   "execution_count": 33,
   "metadata": {},
   "outputs": [
    {
     "data": {
      "text/plain": [
       "(3513, 405, 375)"
      ]
     },
     "execution_count": 33,
     "metadata": {},
     "output_type": "execute_result"
    }
   ],
   "source": [
    "# число пользователей в каждой из групп:\n",
    "segment_1['user_id'].nunique() , segment_2['user_id'].nunique(), segment_3['user_id'].nunique()"
   ]
  },
  {
   "cell_type": "markdown",
   "metadata": {},
   "source": [
    "<a id=\"4.1\"></a> \n",
    "### Рассмотрение сегментов по retention rate\n",
    "Теперь для каждого сегмента найдем Retention rate."
   ]
  },
  {
   "cell_type": "markdown",
   "metadata": {},
   "source": [
    "#### Рассчет retention rate для сегмента 1"
   ]
  },
  {
   "cell_type": "code",
   "execution_count": 34,
   "metadata": {},
   "outputs": [
    {
     "data": {
      "text/html": [
       "<div>\n",
       "<style scoped>\n",
       "    .dataframe tbody tr th:only-of-type {\n",
       "        vertical-align: middle;\n",
       "    }\n",
       "\n",
       "    .dataframe tbody tr th {\n",
       "        vertical-align: top;\n",
       "    }\n",
       "\n",
       "    .dataframe thead th {\n",
       "        text-align: right;\n",
       "    }\n",
       "</style>\n",
       "<table border=\"1\" class=\"dataframe\">\n",
       "  <thead>\n",
       "    <tr style=\"text-align: right;\">\n",
       "      <th></th>\n",
       "      <th>0 days 00:00:00</th>\n",
       "      <th>7 days 00:00:00</th>\n",
       "      <th>14 days 00:00:00</th>\n",
       "      <th>21 days 00:00:00</th>\n",
       "      <th>28 days 00:00:00</th>\n",
       "    </tr>\n",
       "    <tr>\n",
       "      <th>first_ts</th>\n",
       "      <th></th>\n",
       "      <th></th>\n",
       "      <th></th>\n",
       "      <th></th>\n",
       "      <th></th>\n",
       "    </tr>\n",
       "  </thead>\n",
       "  <tbody>\n",
       "    <tr>\n",
       "      <th>2019-10-03</th>\n",
       "      <td>1.0</td>\n",
       "      <td>0.147700</td>\n",
       "      <td>0.053269</td>\n",
       "      <td>0.031477</td>\n",
       "      <td>0.029056</td>\n",
       "    </tr>\n",
       "    <tr>\n",
       "      <th>2019-10-10</th>\n",
       "      <td>1.0</td>\n",
       "      <td>0.122286</td>\n",
       "      <td>0.058286</td>\n",
       "      <td>0.025143</td>\n",
       "      <td>0.000000</td>\n",
       "    </tr>\n",
       "    <tr>\n",
       "      <th>2019-10-17</th>\n",
       "      <td>1.0</td>\n",
       "      <td>0.135076</td>\n",
       "      <td>0.027233</td>\n",
       "      <td>0.000000</td>\n",
       "      <td>0.000000</td>\n",
       "    </tr>\n",
       "    <tr>\n",
       "      <th>2019-10-24</th>\n",
       "      <td>1.0</td>\n",
       "      <td>0.098494</td>\n",
       "      <td>0.000000</td>\n",
       "      <td>0.000000</td>\n",
       "      <td>0.000000</td>\n",
       "    </tr>\n",
       "    <tr>\n",
       "      <th>2019-10-31</th>\n",
       "      <td>1.0</td>\n",
       "      <td>0.000000</td>\n",
       "      <td>0.000000</td>\n",
       "      <td>0.000000</td>\n",
       "      <td>0.000000</td>\n",
       "    </tr>\n",
       "  </tbody>\n",
       "</table>\n",
       "</div>"
      ],
      "text/plain": [
       "            0 days 00:00:00  7 days 00:00:00  14 days 00:00:00  \\\n",
       "first_ts                                                         \n",
       "2019-10-03              1.0         0.147700          0.053269   \n",
       "2019-10-10              1.0         0.122286          0.058286   \n",
       "2019-10-17              1.0         0.135076          0.027233   \n",
       "2019-10-24              1.0         0.098494          0.000000   \n",
       "2019-10-31              1.0         0.000000          0.000000   \n",
       "\n",
       "            21 days 00:00:00  28 days 00:00:00  \n",
       "first_ts                                        \n",
       "2019-10-03          0.031477          0.029056  \n",
       "2019-10-10          0.025143          0.000000  \n",
       "2019-10-17          0.000000          0.000000  \n",
       "2019-10-24          0.000000          0.000000  \n",
       "2019-10-31          0.000000          0.000000  "
      ]
     },
     "execution_count": 34,
     "metadata": {},
     "output_type": "execute_result"
    },
    {
     "data": {
      "image/png": "[encoded data removed]",
      "text/plain": [
       "<Figure size 720x288 with 2 Axes>"
      ]
     },
     "metadata": {
      "needs_background": "light"
     },
     "output_type": "display_data"
    }
   ],
   "source": [
    "RR(segment_1).head()"
   ]
  },
  {
   "cell_type": "markdown",
   "metadata": {},
   "source": [
    "- По графику видно, что лучшее удержание на седьмой день показали пользователи, пришедшие на первой неделе, а на 14 — пришедшие на второй. Также на а 21-ый день результаты первых двух когорт почти сравнялись: 5.33% против 5.83%.\n",
    "- Во всех когортах показатели RR на 14-ый день относительно 7-ого дня упали на примерно 10%.\n",
    "- В четвертой когорте удержание седьмого дня составляет менее 10%.\n",
    "- У первой когорты в последний лайфтайм (28 день) удержание составляет около 3%."
   ]
  },
  {
   "cell_type": "markdown",
   "metadata": {},
   "source": [
    "#### Рассчет retention rate для сегмента 2"
   ]
  },
  {
   "cell_type": "code",
   "execution_count": 35,
   "metadata": {
    "scrolled": false
   },
   "outputs": [
    {
     "data": {
      "text/html": [
       "<div>\n",
       "<style scoped>\n",
       "    .dataframe tbody tr th:only-of-type {\n",
       "        vertical-align: middle;\n",
       "    }\n",
       "\n",
       "    .dataframe tbody tr th {\n",
       "        vertical-align: top;\n",
       "    }\n",
       "\n",
       "    .dataframe thead th {\n",
       "        text-align: right;\n",
       "    }\n",
       "</style>\n",
       "<table border=\"1\" class=\"dataframe\">\n",
       "  <thead>\n",
       "    <tr style=\"text-align: right;\">\n",
       "      <th></th>\n",
       "      <th>0 days 00:00:00</th>\n",
       "      <th>7 days 00:00:00</th>\n",
       "      <th>14 days 00:00:00</th>\n",
       "      <th>21 days 00:00:00</th>\n",
       "      <th>28 days 00:00:00</th>\n",
       "    </tr>\n",
       "    <tr>\n",
       "      <th>first_ts</th>\n",
       "      <th></th>\n",
       "      <th></th>\n",
       "      <th></th>\n",
       "      <th></th>\n",
       "      <th></th>\n",
       "    </tr>\n",
       "  </thead>\n",
       "  <tbody>\n",
       "    <tr>\n",
       "      <th>2019-10-03</th>\n",
       "      <td>1.0</td>\n",
       "      <td>0.529412</td>\n",
       "      <td>0.397059</td>\n",
       "      <td>0.250000</td>\n",
       "      <td>0.132353</td>\n",
       "    </tr>\n",
       "    <tr>\n",
       "      <th>2019-10-10</th>\n",
       "      <td>1.0</td>\n",
       "      <td>0.500000</td>\n",
       "      <td>0.377049</td>\n",
       "      <td>0.131148</td>\n",
       "      <td>0.000000</td>\n",
       "    </tr>\n",
       "    <tr>\n",
       "      <th>2019-10-17</th>\n",
       "      <td>1.0</td>\n",
       "      <td>0.535088</td>\n",
       "      <td>0.236842</td>\n",
       "      <td>0.000000</td>\n",
       "      <td>0.000000</td>\n",
       "    </tr>\n",
       "    <tr>\n",
       "      <th>2019-10-24</th>\n",
       "      <td>1.0</td>\n",
       "      <td>0.443038</td>\n",
       "      <td>0.000000</td>\n",
       "      <td>0.000000</td>\n",
       "      <td>0.000000</td>\n",
       "    </tr>\n",
       "    <tr>\n",
       "      <th>2019-10-31</th>\n",
       "      <td>1.0</td>\n",
       "      <td>0.000000</td>\n",
       "      <td>0.000000</td>\n",
       "      <td>0.000000</td>\n",
       "      <td>0.000000</td>\n",
       "    </tr>\n",
       "  </tbody>\n",
       "</table>\n",
       "</div>"
      ],
      "text/plain": [
       "            0 days 00:00:00  7 days 00:00:00  14 days 00:00:00  \\\n",
       "first_ts                                                         \n",
       "2019-10-03              1.0         0.529412          0.397059   \n",
       "2019-10-10              1.0         0.500000          0.377049   \n",
       "2019-10-17              1.0         0.535088          0.236842   \n",
       "2019-10-24              1.0         0.443038          0.000000   \n",
       "2019-10-31              1.0         0.000000          0.000000   \n",
       "\n",
       "            21 days 00:00:00  28 days 00:00:00  \n",
       "first_ts                                        \n",
       "2019-10-03          0.250000          0.132353  \n",
       "2019-10-10          0.131148          0.000000  \n",
       "2019-10-17          0.000000          0.000000  \n",
       "2019-10-24          0.000000          0.000000  \n",
       "2019-10-31          0.000000          0.000000  "
      ]
     },
     "execution_count": 35,
     "metadata": {},
     "output_type": "execute_result"
    },
    {
     "data": {
      "image/png": "[encoded data removed]",
      "text/plain": [
       "<Figure size 720x288 with 2 Axes>"
      ]
     },
     "metadata": {
      "needs_background": "light"
     },
     "output_type": "display_data"
    }
   ],
   "source": [
    "RR(segment_2).head()"
   ]
  },
  {
   "cell_type": "markdown",
   "metadata": {},
   "source": [
    "- У второго сегмента по тепловой карте видно, что удержание на начало второй недели лучше относительно показателей первого сегмента и составляет около 50% во всех когортах. \n",
    "- Наилучшее удержание на 7 день демонстрируют пользователи третьей когорты: 53.5%; наихудшее – пользователи от четвертой когорты (44.3%).\n",
    "- На начало 3-ей недели у первых двух когорт RR не сильно различается (39.7% и 37.7% соотв.) и снизился относительно предыдущего лайфтайма (7 день) примерно на 13%. Удержание третьей когорты на третий лайфтайм снизился на 30% относительно показателей на 7 день. \n",
    "- Удержание на последний лайфтайм у первой когорты составляет 13.24%. Относительно показателя первой когорты в послейдний лайфтайм первого сегмента (≈3%) в этом сегменте удержание выше."
   ]
  },
  {
   "cell_type": "markdown",
   "metadata": {},
   "source": [
    "#### Рассчет retention rate для сегмента 3"
   ]
  },
  {
   "cell_type": "code",
   "execution_count": 36,
   "metadata": {
    "scrolled": false
   },
   "outputs": [
    {
     "data": {
      "text/html": [
       "<div>\n",
       "<style scoped>\n",
       "    .dataframe tbody tr th:only-of-type {\n",
       "        vertical-align: middle;\n",
       "    }\n",
       "\n",
       "    .dataframe tbody tr th {\n",
       "        vertical-align: top;\n",
       "    }\n",
       "\n",
       "    .dataframe thead th {\n",
       "        text-align: right;\n",
       "    }\n",
       "</style>\n",
       "<table border=\"1\" class=\"dataframe\">\n",
       "  <thead>\n",
       "    <tr style=\"text-align: right;\">\n",
       "      <th></th>\n",
       "      <th>0 days 00:00:00</th>\n",
       "      <th>7 days 00:00:00</th>\n",
       "      <th>14 days 00:00:00</th>\n",
       "      <th>21 days 00:00:00</th>\n",
       "      <th>28 days 00:00:00</th>\n",
       "    </tr>\n",
       "    <tr>\n",
       "      <th>first_ts</th>\n",
       "      <th></th>\n",
       "      <th></th>\n",
       "      <th></th>\n",
       "      <th></th>\n",
       "      <th></th>\n",
       "    </tr>\n",
       "  </thead>\n",
       "  <tbody>\n",
       "    <tr>\n",
       "      <th>2019-10-03</th>\n",
       "      <td>1.0</td>\n",
       "      <td>0.772727</td>\n",
       "      <td>0.651515</td>\n",
       "      <td>0.454545</td>\n",
       "      <td>0.272727</td>\n",
       "    </tr>\n",
       "    <tr>\n",
       "      <th>2019-10-10</th>\n",
       "      <td>1.0</td>\n",
       "      <td>0.764228</td>\n",
       "      <td>0.617886</td>\n",
       "      <td>0.333333</td>\n",
       "      <td>0.000000</td>\n",
       "    </tr>\n",
       "    <tr>\n",
       "      <th>2019-10-17</th>\n",
       "      <td>1.0</td>\n",
       "      <td>0.846154</td>\n",
       "      <td>0.471154</td>\n",
       "      <td>0.000000</td>\n",
       "      <td>0.000000</td>\n",
       "    </tr>\n",
       "    <tr>\n",
       "      <th>2019-10-24</th>\n",
       "      <td>1.0</td>\n",
       "      <td>0.777778</td>\n",
       "      <td>0.000000</td>\n",
       "      <td>0.000000</td>\n",
       "      <td>0.000000</td>\n",
       "    </tr>\n",
       "    <tr>\n",
       "      <th>2019-10-31</th>\n",
       "      <td>1.0</td>\n",
       "      <td>0.000000</td>\n",
       "      <td>0.000000</td>\n",
       "      <td>0.000000</td>\n",
       "      <td>0.000000</td>\n",
       "    </tr>\n",
       "  </tbody>\n",
       "</table>\n",
       "</div>"
      ],
      "text/plain": [
       "            0 days 00:00:00  7 days 00:00:00  14 days 00:00:00  \\\n",
       "first_ts                                                         \n",
       "2019-10-03              1.0         0.772727          0.651515   \n",
       "2019-10-10              1.0         0.764228          0.617886   \n",
       "2019-10-17              1.0         0.846154          0.471154   \n",
       "2019-10-24              1.0         0.777778          0.000000   \n",
       "2019-10-31              1.0         0.000000          0.000000   \n",
       "\n",
       "            21 days 00:00:00  28 days 00:00:00  \n",
       "first_ts                                        \n",
       "2019-10-03          0.454545          0.272727  \n",
       "2019-10-10          0.333333          0.000000  \n",
       "2019-10-17          0.000000          0.000000  \n",
       "2019-10-24          0.000000          0.000000  \n",
       "2019-10-31          0.000000          0.000000  "
      ]
     },
     "execution_count": 36,
     "metadata": {},
     "output_type": "execute_result"
    },
    {
     "data": {
      "image/png": "[encoded data removed]",
      "text/plain": [
       "<Figure size 720x288 with 2 Axes>"
      ]
     },
     "metadata": {
      "needs_background": "light"
     },
     "output_type": "display_data"
    }
   ],
   "source": [
    "RR(segment_3).head()"
   ]
  },
  {
   "cell_type": "markdown",
   "metadata": {},
   "source": [
    "- По тепловой карте видно, что удержание у третьего сегмента относительно показателей первых двух сегментов наилучшее. На начало второй недели у всех когорт удержание составляет около 80%. \n",
    "- Наилучшее удержание на начало второй недели демонстрируют пользователи, пришедшие третьей когорты 84%. Пользователи других когорт – почти одинаковые показатели (около 77%).\n",
    "- На 14 день удержание лучше у пользовательй, пришедших в первую неделю, и составляет 65.15%. Наихудший показатель удержания у тртьей когорты – 47.12%. Показатель RR снизилсяна 37% относительно второго лайфтайма.\n",
    "- На 21 день удержание первой когорты – 45.45%, второй 33.33%. \n",
    "- На последний лайфтайм первая когорта имеет показатель удержания 27.27%. Наивысшее значение относительно других сегментов. "
   ]
  },
  {
   "cell_type": "markdown",
   "metadata": {},
   "source": [
    "<a id=\"4.2\"></a> \n",
    "### Рассмотрение сегментов по конерсии в целевое действие"
   ]
  },
  {
   "cell_type": "code",
   "execution_count": 37,
   "metadata": {},
   "outputs": [
    {
     "name": "stdout",
     "output_type": "stream",
     "text": [
      "Конверсия всех пользователей сегмента 1 в пользователей, дошедших до действия \"contact_show\": 18.33%\n",
      "Конверсия всех пользователей сегмента 2 в пользователей, дошедших до действия \"contact_show\": 34.07%\n",
      "Конверсия всех пользователей сегмента 3 в пользователей, дошедших до действия \"contact_show\": 53.07%\n"
     ]
    }
   ],
   "source": [
    "conversion(segment_1, 'сегмента 1')\n",
    "conversion(segment_2, 'сегмента 2')\n",
    "conversion(segment_3, 'сегмента 3')"
   ]
  },
  {
   "cell_type": "markdown",
   "metadata": {},
   "source": [
    "Группа пользователей первого сегмента (1-3 сессии) имеют самую низкую конверсию: 18.3%. Группа пользователей второго сегмента (4-5 сессий) имеют среднюю конверсию: 34.07%. Группа пользователей, посетивших приложение более 5 сессий (3 группа) имеют самую высокую конверсию: 53.07%. Размеры второго и третьего сегмента различаются незначительно (405 и 375 уникальных пользователей соотв.), а разница в показателях конверсии около 20% в пользу третьей группы."
   ]
  },
  {
   "cell_type": "markdown",
   "metadata": {},
   "source": [
    "<a id=\"4.3\"></a> \n",
    "### Вывод"
   ]
  },
  {
   "cell_type": "markdown",
   "metadata": {},
   "source": [
    "На данном этапе мы разделили всех пользователей на 3 сегмента в зависимости от числа проведенных в приложении сессий: **сегмент 1** – совершено от 1 сессии до 3; **сегмент 2** – совершено от 4 до 5 сессий; **сегмент 3** – совершено более 5 сессий. Далее мы рассчитали две метрики для кажого из сегментов: удержание и конверсию. В результате установлено:\n",
    "- Показатели удержания в соответствующие лайфтаймы лучше у третьего сегмента относительно первых двух. Для сравнения можно посмотреть на второй лайфтайм во всех когортах: сегмент 1 – RR не достигает 15%; сегмент 2 – около 50%; сегмент 3 – около 80%. Также можно посмотреть на показатели последнего лайфтайма пользователей первой когорты: сегмент 1 – 2.91%; сегмент 2 – 13.24%; сегмент 3 – 27.27%;\n",
    "- Конверсия самого маленького по количеству сессий сегмента (сегмент 1) ниже всех прочих (18.3%.), при бОльшем числе пользователей. Конверсия наибольшего по количеству сессий сегмента (сегмент 3) – самая высокая (53.07%). Размеры второго и третьего сегмента различаются незначительно (405 и 375 уникальных пользователей соотв.), а разница в показателях конверсии около 20% в пользу третьего сегмента."
   ]
  },
  {
   "cell_type": "markdown",
   "metadata": {},
   "source": [
    "<a id=\"hypotheses\"></a> \n",
    "## Проверка гипотез"
   ]
  },
  {
   "cell_type": "markdown",
   "metadata": {},
   "source": [
    "<a id=\"5.1\"></a> \n",
    "###  Гипотеза 1\n",
    "Некоторые пользователи установили приложение по ссылке из yandex, другие — из google. Проверим гипотезу: две эти группы демонстрируют разную конверсию в просмотры контактов.\n",
    "\n",
    "Сформулируем нулевую и альтернативную гипотезы: **$H_0$ - конверсия в просмотры котактов пользователей из разных источников (yandex и  gooogle) одинакова; $H_1$ - две эти группы демонстрируют разную конверсию в просмотры контактов.**"
   ]
  },
  {
   "cell_type": "code",
   "execution_count": 38,
   "metadata": {},
   "outputs": [],
   "source": [
    "# функция для подсчета всех пользователей из того или иного источника\n",
    "def user_from_source(source):\n",
    "    total = df.loc[df['source'] == source,'user_id'].nunique()\n",
    "    print(f'Число пользователей, пришедших из {source}: {total}')\n",
    "    return total"
   ]
  },
  {
   "cell_type": "code",
   "execution_count": 39,
   "metadata": {},
   "outputs": [],
   "source": [
    "# функция для подсчета всех пользователей, сделавших целевое действие, из того или иного источника:\n",
    "def conversed_users(source):\n",
    "    conversed_users = df.loc[(df['source'] == source) & (df['event_name'] == 'contacts_show'), 'user_id'].nunique()\n",
    "    print(f'Число пользователей, пришедших из {source}  и дошедших до просмотра контактов: {conversed_users}')\n",
    "    return conversed_users"
   ]
  },
  {
   "cell_type": "code",
   "execution_count": 40,
   "metadata": {
    "scrolled": true
   },
   "outputs": [
    {
     "name": "stdout",
     "output_type": "stream",
     "text": [
      "Число пользователей, пришедших из yandex: 1934\n",
      "Число пользователей, пришедших из yandex  и дошедших до просмотра контактов: 478\n",
      "Число пользователей, пришедших из google: 1129\n",
      "Число пользователей, пришедших из google  и дошедших до просмотра контактов: 275\n"
     ]
    }
   ],
   "source": [
    "# yandex\n",
    "# все пользователи от yandex:\n",
    "y_user_cnt = user_from_source('yandex')\n",
    "\n",
    "# пользователи от yandex, дошедшие до просмотра контактов:\n",
    "y_conversed_users = conversed_users('yandex')\n",
    "\n",
    "\n",
    "# google\n",
    "# все пользователи от google:\n",
    "g_user_cnt = user_from_source('google')\n",
    "\n",
    "# пользователи от google, дошедшие до просмотра контактов:\n",
    "g_conversed_users = conversed_users('google')"
   ]
  },
  {
   "cell_type": "markdown",
   "metadata": {},
   "source": [
    "Теперь проверим выдвинутые гипотезы: $H_0$ - конверсия в просмотры котактов пользователей из разных источников (yandex и  gooogle) одинакова; $H_1$ - две эти группы демонстрируют разную конверсию в просмотры контактов."
   ]
  },
  {
   "cell_type": "code",
   "execution_count": 41,
   "metadata": {},
   "outputs": [
    {
     "name": "stdout",
     "output_type": "stream",
     "text": [
      "p-значение:  0.8244316027993777\n",
      "Не получилось отвергнуть нулевую гипотезу, нет оснований считать доли разными\n"
     ]
    }
   ],
   "source": [
    "# задаем критический уровень статистической значимости\n",
    "alpha = 0.05\n",
    "\n",
    "successes = np.array([y_conversed_users, g_conversed_users])\n",
    "users = np.array([y_user_cnt, g_user_cnt])\n",
    "\n",
    "# пропорция успехов в первой группе:\n",
    "p1 = successes[0]/users[0]\n",
    "\n",
    "# пропорция успехов во второй группе:\n",
    "p2 = successes[1]/users[1]\n",
    "\n",
    "# пропорция успехов в комбинированном датасете:\n",
    "p_combined = (successes[0] + successes[1]) / (users[0] + users[1])\n",
    "\n",
    "# разница пропорций в датасетах\n",
    "difference = p1 - p2\n",
    "\n",
    "# считаем статистику в ст.отклонениях стандартного нормального распределения\n",
    "z_value = difference / mth.sqrt(p_combined * (1 - p_combined) * (1/users[0] + 1/users[1]))\n",
    "\n",
    "# задаем стандартное нормальное распределение (среднее 0, ст.отклонение 1)\n",
    "distr = st.norm(0, 1)\n",
    "\n",
    "p_value = (1 - distr.cdf(abs(z_value))) * 2\n",
    "\n",
    "print('p-значение: ', p_value)\n",
    "if p_value < alpha:\n",
    "    print('Отвергаем нулевую гипотезу: между долями есть значимая разница')\n",
    "else:\n",
    "    print(\n",
    "        'Не получилось отвергнуть нулевую гипотезу, нет оснований считать доли разными'\n",
    "    )"
   ]
  },
  {
   "cell_type": "markdown",
   "metadata": {},
   "source": [
    "H₀ подтвердилась: конверсия в просмотры котактов пользователей из разных источников (yandex и gooogle) одинакова. Получили довольно высокие показатели p-значения. "
   ]
  },
  {
   "cell_type": "markdown",
   "metadata": {},
   "source": [
    "<a id=\"5.2\"></a> \n",
    "### Гипотеза 2\n",
    "Можно разделить пользователей по количеству сессий (например, малое, среднее и большое число посещений). Пользователи с бОльшим числом посещений доходят до целевого действия (просмотр контактов) чаще, чем пользователи с меньшим чилом сессий. Проверим гипотезу: выделенные группы демонстрируют разную конверсию в просмотры контактов. \n",
    "\n",
    "Сформулируем нулевую и альтернативную гипотезы: **$H_0$ - конверсия в просмотры котактов пользователей с разным числом сессий  одинакова; $H_1$ - группы, различающиеся числом ссесий, демонстрируют разную конверсию в просмотры контактов.**\n",
    "\n",
    " В разделе [\"Сегментация\"](#segments) мы уже получили датасет с информацией о количестве сессий у каждого пользователя - ungrouped_data, а также разделили пользователей на три сегмента по количеству проведенных сессий:\n",
    "- 1 группа – совершено всего от 1 сессии до 3 (датасет segment_1);\n",
    "- 2 группа – совершено от 4 до 5 сессий (датасет segment_2);\n",
    "- 3 группа – совершено более 5 сессий (датасет segment_3).\n"
   ]
  },
  {
   "cell_type": "code",
   "execution_count": 42,
   "metadata": {},
   "outputs": [],
   "source": [
    "# функция для подсчета всех пользователей из того или иного сегмента\n",
    "def segment_user_cnt(data, name='имя сегмента'):\n",
    "    total = data['user_id'].nunique()\n",
    "    print(f'Число пользователей из {name}: {total}')\n",
    "    return total"
   ]
  },
  {
   "cell_type": "code",
   "execution_count": 43,
   "metadata": {},
   "outputs": [],
   "source": [
    "# функция для подсчета всех пользователей, сделавших целевое действие, из того или иного cегмента:\n",
    "def conversed_users(data, name='имя сегмента'):\n",
    "    conversed_users = data.loc[data['event_name'] == 'contacts_show', 'user_id'].nunique()\n",
    "    print(f'Число пользователей из {name}, дошедших до просмотра контактов: {conversed_users}')\n",
    "    print('')\n",
    "    print('')\n",
    "    return conversed_users"
   ]
  },
  {
   "cell_type": "code",
   "execution_count": 44,
   "metadata": {},
   "outputs": [
    {
     "name": "stdout",
     "output_type": "stream",
     "text": [
      "Число пользователей из сегмента 1: 3513\n",
      "Число пользователей из сегмента 1, дошедших до просмотра контактов: 644\n",
      "\n",
      "\n",
      "Число пользователей из сегмента 2: 405\n",
      "Число пользователей из сегмента 2, дошедших до просмотра контактов: 138\n",
      "\n",
      "\n",
      "Число пользователей из сегмента 3: 375\n",
      "Число пользователей из сегмента 3, дошедших до просмотра контактов: 199\n",
      "\n",
      "\n"
     ]
    }
   ],
   "source": [
    "user_cnt_1 = segment_user_cnt(segment_1, 'сегмента 1')\n",
    "conversed_users_1 = conversed_users(segment_1, 'сегмента 1')\n",
    "\n",
    "user_cnt_2 = segment_user_cnt(segment_2, 'сегмента 2')\n",
    "conversed_users_2 = conversed_users(segment_2, 'сегмента 2')\n",
    "\n",
    "user_cnt_3 = segment_user_cnt(segment_3, 'сегмента 3')\n",
    "conversed_users_3 = conversed_users(segment_3, 'сегмента 3')"
   ]
  },
  {
   "cell_type": "markdown",
   "metadata": {},
   "source": [
    "В данной работе идет **множественная проверка гипотез**, а значит увеличивается риск ложноположительного результата. Чтобы снизить групповую вероятность ошибки первого рода и скорректировать требуемые уровни значимости, применим **поправку Бонферрони**. \n",
    "\n",
    "    alpha = 0.05 / 3"
   ]
  },
  {
   "cell_type": "code",
   "execution_count": 45,
   "metadata": {},
   "outputs": [],
   "source": [
    "# функция для проверки гипотезы:\n",
    "def hypothesis(successesx,          # дошедшие до просмотра контактов из группы а\n",
    "               successesy,          # дошедшие до просмотра контактов из группы b\n",
    "               trialsx,             # все из группы а\n",
    "               trialsy              # все из группы b\n",
    "              ):\n",
    "\n",
    "    alpha = 0.05 / 3  # критический уровень статистической значимости \n",
    "\n",
    "    successes = np.array([successesx, successesy])\n",
    "    trials = np.array([trialsx, trialsy])\n",
    "\n",
    "    p1 = successes[0]/trials[0]\n",
    "    p2 = successes[1]/trials[1]\n",
    "    p_combined = (successes[0] + successes[1]) / (trials[0] + trials[1])\n",
    "    difference = p1 - p2 \n",
    "\n",
    "    z_value = difference / mth.sqrt(p_combined * (1 - p_combined) * (1/trials[0] + 1/trials[1]))\n",
    "    distr = st.norm(0, 1)  \n",
    "\n",
    "    p_value = (1 - distr.cdf(abs(z_value))) * 2\n",
    "    \n",
    "    print('p-значение: ', p_value)\n",
    "    #print(f'p-value: {\"{0:.3f}\".format(p_value)}')\n",
    "\n",
    "    if p_value < alpha:\n",
    "        print('Отвергаем нулевую гипотезу: между долями есть значимая разница')\n",
    "    else:\n",
    "        print('Не получилось отвергнуть нулевую гипотезу, нет оснований считать доли разными') \n",
    "        print()\n",
    "        print()\n"
   ]
  },
  {
   "cell_type": "markdown",
   "metadata": {},
   "source": [
    "Проверим $H_0$: пользователи с разным числом проведенных сессий демонстрируют одинаковую конверсию - **для сегментов 1 и 2.**"
   ]
  },
  {
   "cell_type": "code",
   "execution_count": 46,
   "metadata": {},
   "outputs": [
    {
     "name": "stdout",
     "output_type": "stream",
     "text": [
      "p-значение:  6.128431095930864e-14\n",
      "Отвергаем нулевую гипотезу: между долями есть значимая разница\n"
     ]
    }
   ],
   "source": [
    "hypothesis(conversed_users_1,\n",
    "           conversed_users_2,\n",
    "           user_cnt_1,\n",
    "           user_cnt_2\n",
    "          )"
   ]
  },
  {
   "cell_type": "markdown",
   "metadata": {},
   "source": [
    "Гипотеза о равенстве конверсий первого сегмента и второго сегмента не подтвердилась. "
   ]
  },
  {
   "cell_type": "markdown",
   "metadata": {},
   "source": [
    "Проверим $H_0$: пользователи с разным числом проведенных сессий демонстрируют одинаковую конверсию - **для сегментов 2 и 3.**"
   ]
  },
  {
   "cell_type": "code",
   "execution_count": 47,
   "metadata": {},
   "outputs": [
    {
     "name": "stdout",
     "output_type": "stream",
     "text": [
      "p-значение:  8.792966665893687e-08\n",
      "Отвергаем нулевую гипотезу: между долями есть значимая разница\n"
     ]
    }
   ],
   "source": [
    "hypothesis(conversed_users_2,\n",
    "           conversed_users_3,\n",
    "           user_cnt_2,\n",
    "           user_cnt_3\n",
    "          )"
   ]
  },
  {
   "cell_type": "markdown",
   "metadata": {},
   "source": [
    "Гипотеза о равенстве конверсий второго и третьего сегментов так же не подтвердилась. "
   ]
  },
  {
   "cell_type": "markdown",
   "metadata": {},
   "source": [
    "Проверим $H_0$: пользователи с разным числом проведенных сессий демонстрируют одинаковую конверсию - **для сегментов 1 и 3.**"
   ]
  },
  {
   "cell_type": "code",
   "execution_count": 48,
   "metadata": {},
   "outputs": [
    {
     "name": "stdout",
     "output_type": "stream",
     "text": [
      "p-значение:  0.0\n",
      "Отвергаем нулевую гипотезу: между долями есть значимая разница\n"
     ]
    }
   ],
   "source": [
    "hypothesis(conversed_users_1,\n",
    "           conversed_users_3,\n",
    "           user_cnt_1,\n",
    "           user_cnt_3\n",
    "          )"
   ]
  },
  {
   "cell_type": "markdown",
   "metadata": {},
   "source": [
    "Гипотеза о равенстве конверсий первого сегмента и третьего сегмента не подтвердилась. "
   ]
  },
  {
   "cell_type": "markdown",
   "metadata": {},
   "source": [
    "<a id=\"5.3\"></a> \n",
    "### Вывод"
   ]
  },
  {
   "cell_type": "markdown",
   "metadata": {},
   "source": [
    "- Конверсия в просмотры котактов пользователей из разных источников (yandex и gooogle) одинакова. \n",
    "- Все три проверки между сегментами,отличающимися по числу ссесий у польззователя, показали, что разница между показателями конверсии пользователей с разным числом сессий значительна."
   ]
  },
  {
   "cell_type": "markdown",
   "metadata": {},
   "source": [
    "<a id=\"conclusion\"></a> \n",
    "## Вывод"
   ]
  },
  {
   "cell_type": "markdown",
   "metadata": {},
   "source": [
    "С помощью данной работы удалось описать поведение пользователей в мобильном приложении \"Ненужные вещи\". В датасете содержатся данные пользователей, впервые совершивших действия в приложении после 7 октября 2019 года.\n",
    "  \n",
    "* Исследование общего поведения пользователей по 4-ем метрикам: retention rate; время, проведённое в приложении; частота действий; конверсия в целевое действие — просмотр контактов - показало:\n",
    "    - Пользователи, пришедшие на первой неделе показывают лучшее удержание на протяжении всего наблюдения относительно других когорт. На начало второй недели удержание во всех когортах приняло значение от 17% до 27%; \n",
    "    - В среднем пользователь проводит около 11 минут в приложении. Гистограмма показала, что большинство сессий не достигает и 30 минут;\n",
    "    - Число событий на сайте в течение всего времени наблюдения непостоянно. Есть даты с большим количеством событий в день:14 октября, 23 октября и 3 ноября; есть даты с малым числом событий в день: 12 октября, 20 октября, 2 ноября. ;\n",
    "    - Около 23% всех пользователей доходят до целевого действия \"показать контакты\". \n",
    "    \n",
    "    \n",
    "* На основе этого были выделены три сегмента по количеству совершенных сессий в приложении. Сегмент 1 – совершено всего от 1 сессии до 3; сегмент 2 – совершено от 4 до 5 сессий; сегмент 3 – совершено более 5 сессий. Для этих сегментов получены метрики: удержание и конверсия в целевое действие.\n",
    "    - Показатели удержания в соответствующие лайфтаймы лучше у третьего сегмента относительно первых двух. Для сравнения можно посмотреть на второй лайфтайм во всех когортах: сегмент 1 – RR не достигает 15%; сегмент 2 – около 50%; сегмент 3 – около 80%. Показатели последнего лайфтайма пользователей первой когорты: сегмент 1 – 2.91%; сегмент 2 – 13.24%; сегмент 3 – 27.27%;\n",
    "    - Конверсия самого маленького по количеству сессий сегмента (сегмент 1) ниже всех прочих (18.3%.), при бОльшем числе пользователей. Конверсия наибольшего по количеству сессий сегмента (сегмент 3) – самая высокая (53.07%). Размеры второго и третьего сегмента различаются незначительно (405 и 375 уникальных пользователей соотв.), а разница в показателях конверсии около 20% в пользу третьего сегмента. \n",
    "    \n",
    "    \n",
    "* Проверены гипотезы о равенстве конверсий в разных группах по определенным признакам:\n",
    "    - Гипотеза 1 - о равенстве конверсий между группами пользователей,пришедших из разных источников (yandex  и google) - подтвердилась. Обе группы (из yandex  и google) демонстрируют одинаковую конверсию в просмотры контактов. Источник привлечения пользователей не имеет влияния на показатель конверсии;\n",
    "    - Гипотеза 2 - о равенстве конверсий между группами, отличающихся числом сессий на одного пользователя - не подтвердилась. Все три проверки между сегментами - сегмент 1 – совершено всего от 1 сессии до 3; сегмент 2 – совершено от 4 до 5 сессий; сегмент 3 – совершено более 5 сессий - показали, что разница между показателями конверсии этих групп значительна. Опираясь на это можно сделать вывод, что количество проведенных в приложении сессий влияет на конверсию.\n",
    "    \n",
    "[Ссылка на презентацию](https://drive.google.com/file/d/1wLgaLFEuH8V3NnNax4OdiZu6-zT3Q2TO/view?usp=sharing) \\\n",
    "[Ссылка на дашборд](https://public.tableau.com/app/profile/veronika4962/viz/fp_16805622420110/Dashboard1)"
   ]
  },
  {
   "cell_type": "markdown",
   "metadata": {},
   "source": [
    "**Рекомендация по развитию приложения в разрезе исследования групп пользователей** \n",
    "\n",
    "[Проверка Гипотезы 2](#5.3) показала, что конверсия в целевое действие пользователей с разным числом проведенных в приложении сессий не одинакова. Ранее мы выдвигали предположение, что она тем больше, чем больше число проведенных сессий. Расчет конверсии и удержания в пункте [\"Сегментация\"](#4.3) так же это подкрепляет. **Из чего следует рекомендация:** следует поработать над удержанием уже пришедших пользователей, увеличить число сессий пользователя (рассылки, уведомления, программа лояльности и т.д.).\n"
   ]
  }
 ],
 "metadata": {
  "ExecuteTimeLog": [
   {
    "duration": 4,
    "start_time": "2023-03-31T19:00:24.395Z"
   },
   {
    "duration": 72,
    "start_time": "2023-03-31T19:03:05.136Z"
   },
   {
    "duration": 840,
    "start_time": "2023-03-31T19:03:08.205Z"
   },
   {
    "duration": 467,
    "start_time": "2023-03-31T19:03:09.236Z"
   },
   {
    "duration": 20,
    "start_time": "2023-03-31T19:03:18.759Z"
   },
   {
    "duration": 11,
    "start_time": "2023-03-31T19:03:31.521Z"
   },
   {
    "duration": 3,
    "start_time": "2023-03-31T20:01:00.956Z"
   },
   {
    "duration": 357,
    "start_time": "2023-03-31T20:01:00.962Z"
   },
   {
    "duration": 8,
    "start_time": "2023-03-31T20:01:01.321Z"
   },
   {
    "duration": 23,
    "start_time": "2023-03-31T20:01:01.332Z"
   },
   {
    "duration": 35,
    "start_time": "2023-03-31T20:02:32.607Z"
   },
   {
    "duration": 2,
    "start_time": "2023-03-31T20:02:41.505Z"
   },
   {
    "duration": 9,
    "start_time": "2023-03-31T20:07:03.754Z"
   },
   {
    "duration": 36,
    "start_time": "2023-03-31T20:07:57.265Z"
   },
   {
    "duration": 44,
    "start_time": "2023-03-31T20:20:28.305Z"
   },
   {
    "duration": 16,
    "start_time": "2023-03-31T20:21:01.703Z"
   },
   {
    "duration": 8,
    "start_time": "2023-03-31T20:22:24.902Z"
   },
   {
    "duration": 4,
    "start_time": "2023-03-31T20:22:28.103Z"
   },
   {
    "duration": 117,
    "start_time": "2023-03-31T20:22:28.535Z"
   },
   {
    "duration": 11,
    "start_time": "2023-03-31T20:46:14.394Z"
   },
   {
    "duration": 14,
    "start_time": "2023-03-31T20:46:32.395Z"
   },
   {
    "duration": 9,
    "start_time": "2023-03-31T20:52:15.733Z"
   },
   {
    "duration": 8,
    "start_time": "2023-03-31T21:01:17.508Z"
   },
   {
    "duration": 7,
    "start_time": "2023-03-31T21:01:35.828Z"
   },
   {
    "duration": 7,
    "start_time": "2023-03-31T21:02:09.996Z"
   },
   {
    "duration": 12,
    "start_time": "2023-03-31T21:02:13.518Z"
   },
   {
    "duration": 5,
    "start_time": "2023-03-31T21:02:43.229Z"
   },
   {
    "duration": 297,
    "start_time": "2023-03-31T21:17:17.107Z"
   },
   {
    "duration": 154,
    "start_time": "2023-03-31T21:18:02.699Z"
   },
   {
    "duration": 79,
    "start_time": "2023-03-31T21:18:27.531Z"
   },
   {
    "duration": 41,
    "start_time": "2023-03-31T21:18:46.007Z"
   },
   {
    "duration": 18,
    "start_time": "2023-03-31T21:19:37.392Z"
   },
   {
    "duration": 11,
    "start_time": "2023-03-31T21:19:44.003Z"
   },
   {
    "duration": 11,
    "start_time": "2023-03-31T21:19:50.194Z"
   },
   {
    "duration": 12,
    "start_time": "2023-03-31T21:19:55.339Z"
   },
   {
    "duration": 8,
    "start_time": "2023-03-31T21:22:30.606Z"
   },
   {
    "duration": 41,
    "start_time": "2023-03-31T21:22:31.401Z"
   },
   {
    "duration": 29,
    "start_time": "2023-03-31T21:40:11.092Z"
   },
   {
    "duration": 14,
    "start_time": "2023-03-31T21:40:17.417Z"
   },
   {
    "duration": 8,
    "start_time": "2023-03-31T21:40:59.797Z"
   },
   {
    "duration": 8,
    "start_time": "2023-03-31T21:41:05.039Z"
   },
   {
    "duration": 45,
    "start_time": "2023-04-01T10:48:24.918Z"
   },
   {
    "duration": 765,
    "start_time": "2023-04-01T10:48:29.942Z"
   },
   {
    "duration": 715,
    "start_time": "2023-04-01T10:48:30.709Z"
   },
   {
    "duration": 10,
    "start_time": "2023-04-01T10:48:31.426Z"
   },
   {
    "duration": 43,
    "start_time": "2023-04-01T10:48:31.438Z"
   },
   {
    "duration": 126,
    "start_time": "2023-04-01T10:48:31.486Z"
   },
   {
    "duration": 15,
    "start_time": "2023-04-01T10:48:31.614Z"
   },
   {
    "duration": 30,
    "start_time": "2023-04-01T10:48:31.631Z"
   },
   {
    "duration": 70,
    "start_time": "2023-04-01T10:48:31.663Z"
   },
   {
    "duration": 57,
    "start_time": "2023-04-01T10:48:31.734Z"
   },
   {
    "duration": 29,
    "start_time": "2023-04-01T10:48:31.802Z"
   },
   {
    "duration": 68,
    "start_time": "2023-04-01T10:48:31.832Z"
   },
   {
    "duration": 8,
    "start_time": "2023-04-01T10:48:31.910Z"
   },
   {
    "duration": 19,
    "start_time": "2023-04-01T10:48:31.920Z"
   },
   {
    "duration": 8,
    "start_time": "2023-04-01T10:48:31.941Z"
   },
   {
    "duration": 8,
    "start_time": "2023-04-01T10:48:31.951Z"
   },
   {
    "duration": 45,
    "start_time": "2023-04-01T10:48:37.006Z"
   },
   {
    "duration": 7,
    "start_time": "2023-04-01T10:48:41.006Z"
   },
   {
    "duration": 9,
    "start_time": "2023-04-01T10:48:57.847Z"
   },
   {
    "duration": 4,
    "start_time": "2023-04-01T10:49:58.362Z"
   },
   {
    "duration": 5,
    "start_time": "2023-04-01T10:50:11.660Z"
   },
   {
    "duration": 10,
    "start_time": "2023-04-01T10:50:16.858Z"
   },
   {
    "duration": 11,
    "start_time": "2023-04-01T10:50:34.462Z"
   },
   {
    "duration": 9,
    "start_time": "2023-04-01T10:50:51.930Z"
   },
   {
    "duration": 20,
    "start_time": "2023-04-01T10:51:34.419Z"
   },
   {
    "duration": 7,
    "start_time": "2023-04-01T10:55:02.525Z"
   },
   {
    "duration": 4,
    "start_time": "2023-04-01T10:55:12.938Z"
   },
   {
    "duration": 9,
    "start_time": "2023-04-01T10:55:15.937Z"
   },
   {
    "duration": 14,
    "start_time": "2023-04-01T10:55:36.603Z"
   },
   {
    "duration": 11,
    "start_time": "2023-04-01T10:55:44.802Z"
   },
   {
    "duration": 6,
    "start_time": "2023-04-01T10:55:48.134Z"
   },
   {
    "duration": 15,
    "start_time": "2023-04-01T10:55:50.596Z"
   },
   {
    "duration": 7,
    "start_time": "2023-04-01T10:55:57.540Z"
   },
   {
    "duration": 17,
    "start_time": "2023-04-01T10:55:58.163Z"
   },
   {
    "duration": 37,
    "start_time": "2023-04-01T10:55:59.161Z"
   },
   {
    "duration": 11,
    "start_time": "2023-04-01T10:56:09.731Z"
   },
   {
    "duration": 18,
    "start_time": "2023-04-01T11:01:24.096Z"
   },
   {
    "duration": 10,
    "start_time": "2023-04-01T11:01:33.226Z"
   },
   {
    "duration": 11,
    "start_time": "2023-04-01T11:01:33.707Z"
   },
   {
    "duration": 15,
    "start_time": "2023-04-01T11:01:39.802Z"
   },
   {
    "duration": 9,
    "start_time": "2023-04-01T11:01:48.001Z"
   },
   {
    "duration": 9,
    "start_time": "2023-04-01T11:01:50.152Z"
   },
   {
    "duration": 10,
    "start_time": "2023-04-01T11:01:52.106Z"
   },
   {
    "duration": 7,
    "start_time": "2023-04-01T11:02:10.013Z"
   },
   {
    "duration": 10,
    "start_time": "2023-04-01T11:02:10.720Z"
   },
   {
    "duration": 6,
    "start_time": "2023-04-01T11:02:36.999Z"
   },
   {
    "duration": 493,
    "start_time": "2023-04-01T11:02:37.012Z"
   },
   {
    "duration": 7,
    "start_time": "2023-04-01T11:02:37.511Z"
   },
   {
    "duration": 10,
    "start_time": "2023-04-01T11:02:37.519Z"
   },
   {
    "duration": 14,
    "start_time": "2023-04-01T11:02:37.530Z"
   },
   {
    "duration": 17,
    "start_time": "2023-04-01T11:02:37.546Z"
   },
   {
    "duration": 37,
    "start_time": "2023-04-01T11:02:37.564Z"
   },
   {
    "duration": 17,
    "start_time": "2023-04-01T11:02:37.610Z"
   },
   {
    "duration": 18,
    "start_time": "2023-04-01T11:02:37.628Z"
   },
   {
    "duration": 7,
    "start_time": "2023-04-01T11:02:37.647Z"
   },
   {
    "duration": 24,
    "start_time": "2023-04-01T11:02:37.655Z"
   },
   {
    "duration": 14,
    "start_time": "2023-04-01T11:02:37.680Z"
   },
   {
    "duration": 31,
    "start_time": "2023-04-01T11:02:37.695Z"
   },
   {
    "duration": 8,
    "start_time": "2023-04-01T11:02:37.728Z"
   },
   {
    "duration": 9,
    "start_time": "2023-04-01T11:02:37.738Z"
   },
   {
    "duration": 45,
    "start_time": "2023-04-01T11:02:37.748Z"
   },
   {
    "duration": 28,
    "start_time": "2023-04-01T11:02:37.796Z"
   },
   {
    "duration": 1608,
    "start_time": "2023-04-01T11:03:07.024Z"
   },
   {
    "duration": 18,
    "start_time": "2023-04-01T11:03:24.667Z"
   },
   {
    "duration": 10,
    "start_time": "2023-04-01T11:03:27.736Z"
   },
   {
    "duration": 929,
    "start_time": "2023-04-01T11:05:25.798Z"
   },
   {
    "duration": 10,
    "start_time": "2023-04-01T11:05:29.901Z"
   },
   {
    "duration": 37,
    "start_time": "2023-04-01T11:05:32.068Z"
   },
   {
    "duration": 2,
    "start_time": "2023-04-01T11:10:02.237Z"
   },
   {
    "duration": 37,
    "start_time": "2023-04-01T11:10:27.810Z"
   },
   {
    "duration": 40,
    "start_time": "2023-04-01T11:10:55.820Z"
   },
   {
    "duration": 48,
    "start_time": "2023-04-01T11:13:05.302Z"
   },
   {
    "duration": 8,
    "start_time": "2023-04-01T11:14:06.930Z"
   },
   {
    "duration": 11,
    "start_time": "2023-04-01T11:14:22.953Z"
   },
   {
    "duration": 46,
    "start_time": "2023-04-01T11:15:02.670Z"
   },
   {
    "duration": 25,
    "start_time": "2023-04-01T11:15:07.564Z"
   },
   {
    "duration": 45,
    "start_time": "2023-04-01T11:16:53.697Z"
   },
   {
    "duration": 16,
    "start_time": "2023-04-01T11:17:13.330Z"
   },
   {
    "duration": 10,
    "start_time": "2023-04-01T11:26:04.859Z"
   },
   {
    "duration": 5,
    "start_time": "2023-04-01T11:26:09.194Z"
   },
   {
    "duration": 15,
    "start_time": "2023-04-01T11:28:00.012Z"
   },
   {
    "duration": 9,
    "start_time": "2023-04-01T11:28:28.049Z"
   },
   {
    "duration": 7,
    "start_time": "2023-04-01T11:29:41.461Z"
   },
   {
    "duration": 28,
    "start_time": "2023-04-01T11:29:46.402Z"
   },
   {
    "duration": 25,
    "start_time": "2023-04-01T11:29:54.718Z"
   },
   {
    "duration": 29,
    "start_time": "2023-04-01T11:29:59.358Z"
   },
   {
    "duration": 22,
    "start_time": "2023-04-01T11:30:12.635Z"
   },
   {
    "duration": 54,
    "start_time": "2023-04-01T11:34:56.555Z"
   },
   {
    "duration": 52,
    "start_time": "2023-04-01T11:36:15.906Z"
   },
   {
    "duration": 42,
    "start_time": "2023-04-01T11:36:20.546Z"
   },
   {
    "duration": 34,
    "start_time": "2023-04-01T11:37:16.026Z"
   },
   {
    "duration": 48,
    "start_time": "2023-04-01T11:38:54.998Z"
   },
   {
    "duration": 57,
    "start_time": "2023-04-01T11:39:03.461Z"
   },
   {
    "duration": 66,
    "start_time": "2023-04-01T11:39:09.953Z"
   },
   {
    "duration": 54,
    "start_time": "2023-04-01T11:39:30.434Z"
   },
   {
    "duration": 38,
    "start_time": "2023-04-01T11:39:53.825Z"
   },
   {
    "duration": 6,
    "start_time": "2023-04-01T11:45:02.333Z"
   },
   {
    "duration": 34,
    "start_time": "2023-04-01T11:45:31.647Z"
   },
   {
    "duration": 1596,
    "start_time": "2023-04-01T12:05:57.152Z"
   },
   {
    "duration": 1353,
    "start_time": "2023-04-01T12:06:12.101Z"
   },
   {
    "duration": 1412,
    "start_time": "2023-04-01T12:07:12.331Z"
   },
   {
    "duration": 1898,
    "start_time": "2023-04-01T12:07:30.315Z"
   },
   {
    "duration": 851,
    "start_time": "2023-04-01T12:08:59.270Z"
   },
   {
    "duration": 890,
    "start_time": "2023-04-01T12:11:16.419Z"
   },
   {
    "duration": 837,
    "start_time": "2023-04-01T12:11:44.721Z"
   },
   {
    "duration": 2,
    "start_time": "2023-04-01T12:12:37.966Z"
   },
   {
    "duration": 931,
    "start_time": "2023-04-01T12:12:42.236Z"
   },
   {
    "duration": 3,
    "start_time": "2023-04-01T12:12:53.133Z"
   },
   {
    "duration": 478,
    "start_time": "2023-04-01T12:12:53.138Z"
   },
   {
    "duration": 10,
    "start_time": "2023-04-01T12:12:53.621Z"
   },
   {
    "duration": 9,
    "start_time": "2023-04-01T12:12:53.632Z"
   },
   {
    "duration": 11,
    "start_time": "2023-04-01T12:12:53.643Z"
   },
   {
    "duration": 38,
    "start_time": "2023-04-01T12:12:53.655Z"
   },
   {
    "duration": 30,
    "start_time": "2023-04-01T12:12:53.706Z"
   },
   {
    "duration": 19,
    "start_time": "2023-04-01T12:12:53.738Z"
   },
   {
    "duration": 30,
    "start_time": "2023-04-01T12:12:53.758Z"
   },
   {
    "duration": 42,
    "start_time": "2023-04-01T12:12:53.789Z"
   },
   {
    "duration": 20,
    "start_time": "2023-04-01T12:12:53.832Z"
   },
   {
    "duration": 6,
    "start_time": "2023-04-01T12:12:53.854Z"
   },
   {
    "duration": 31,
    "start_time": "2023-04-01T12:12:53.861Z"
   },
   {
    "duration": 39,
    "start_time": "2023-04-01T12:12:53.894Z"
   },
   {
    "duration": 6,
    "start_time": "2023-04-01T12:12:53.934Z"
   },
   {
    "duration": 2,
    "start_time": "2023-04-01T12:12:53.942Z"
   },
   {
    "duration": 777,
    "start_time": "2023-04-01T12:12:53.945Z"
   },
   {
    "duration": 846,
    "start_time": "2023-04-01T12:13:13.605Z"
   },
   {
    "duration": 916,
    "start_time": "2023-04-01T12:39:14.530Z"
   },
   {
    "duration": 943,
    "start_time": "2023-04-01T12:39:52.559Z"
   },
   {
    "duration": 9,
    "start_time": "2023-04-01T12:41:04.335Z"
   },
   {
    "duration": 12,
    "start_time": "2023-04-01T12:41:19.916Z"
   },
   {
    "duration": 54,
    "start_time": "2023-04-01T12:41:28.855Z"
   },
   {
    "duration": 39,
    "start_time": "2023-04-01T12:42:42.006Z"
   },
   {
    "duration": 18,
    "start_time": "2023-04-01T13:17:22.302Z"
   },
   {
    "duration": 49,
    "start_time": "2023-04-01T13:17:29.351Z"
   },
   {
    "duration": 2,
    "start_time": "2023-04-01T13:17:40.025Z"
   },
   {
    "duration": 390,
    "start_time": "2023-04-01T13:17:40.029Z"
   },
   {
    "duration": 7,
    "start_time": "2023-04-01T13:17:40.421Z"
   },
   {
    "duration": 8,
    "start_time": "2023-04-01T13:17:40.429Z"
   },
   {
    "duration": 12,
    "start_time": "2023-04-01T13:17:40.439Z"
   },
   {
    "duration": 53,
    "start_time": "2023-04-01T13:17:40.452Z"
   },
   {
    "duration": 19,
    "start_time": "2023-04-01T13:17:40.508Z"
   },
   {
    "duration": 17,
    "start_time": "2023-04-01T13:17:40.528Z"
   },
   {
    "duration": 20,
    "start_time": "2023-04-01T13:17:40.547Z"
   },
   {
    "duration": 28,
    "start_time": "2023-04-01T13:17:40.569Z"
   },
   {
    "duration": 40,
    "start_time": "2023-04-01T13:17:40.598Z"
   },
   {
    "duration": 7,
    "start_time": "2023-04-01T13:17:40.639Z"
   },
   {
    "duration": 9,
    "start_time": "2023-04-01T13:17:40.648Z"
   },
   {
    "duration": 5,
    "start_time": "2023-04-01T13:17:40.659Z"
   },
   {
    "duration": 15,
    "start_time": "2023-04-01T13:17:40.666Z"
   },
   {
    "duration": 40,
    "start_time": "2023-04-01T13:17:40.689Z"
   },
   {
    "duration": 58,
    "start_time": "2023-04-01T13:18:07.962Z"
   },
   {
    "duration": 21,
    "start_time": "2023-04-01T13:18:48.802Z"
   },
   {
    "duration": 44,
    "start_time": "2023-04-01T13:18:51.811Z"
   },
   {
    "duration": 20,
    "start_time": "2023-04-01T13:21:28.546Z"
   },
   {
    "duration": 38,
    "start_time": "2023-04-01T13:22:27.074Z"
   },
   {
    "duration": 21,
    "start_time": "2023-04-01T13:23:05.012Z"
   },
   {
    "duration": 23,
    "start_time": "2023-04-01T13:26:11.907Z"
   },
   {
    "duration": 9,
    "start_time": "2023-04-01T13:30:35.010Z"
   },
   {
    "duration": 10,
    "start_time": "2023-04-01T13:30:55.102Z"
   },
   {
    "duration": 7,
    "start_time": "2023-04-01T13:31:16.986Z"
   },
   {
    "duration": 12,
    "start_time": "2023-04-01T13:31:40.798Z"
   },
   {
    "duration": 9,
    "start_time": "2023-04-01T13:31:53.055Z"
   },
   {
    "duration": 19,
    "start_time": "2023-04-01T13:33:26.707Z"
   },
   {
    "duration": 550,
    "start_time": "2023-04-01T13:33:51.557Z"
   },
   {
    "duration": 533,
    "start_time": "2023-04-01T13:34:06.129Z"
   },
   {
    "duration": 34,
    "start_time": "2023-04-01T13:35:15.355Z"
   },
   {
    "duration": 41,
    "start_time": "2023-04-01T13:35:33.206Z"
   },
   {
    "duration": 437,
    "start_time": "2023-04-01T13:38:06.319Z"
   },
   {
    "duration": 21,
    "start_time": "2023-04-01T13:38:20.911Z"
   },
   {
    "duration": 15,
    "start_time": "2023-04-01T13:38:29.828Z"
   },
   {
    "duration": 56,
    "start_time": "2023-04-01T13:38:42.353Z"
   },
   {
    "duration": 17,
    "start_time": "2023-04-01T13:39:14.753Z"
   },
   {
    "duration": 14,
    "start_time": "2023-04-01T13:39:24.631Z"
   },
   {
    "duration": 28,
    "start_time": "2023-04-01T13:39:29.565Z"
   },
   {
    "duration": 535,
    "start_time": "2023-04-01T13:39:38.438Z"
   },
   {
    "duration": 33,
    "start_time": "2023-04-01T13:39:53.602Z"
   },
   {
    "duration": 19,
    "start_time": "2023-04-01T13:40:01.847Z"
   },
   {
    "duration": 111,
    "start_time": "2023-04-01T13:41:59.568Z"
   },
   {
    "duration": 5,
    "start_time": "2023-04-01T13:42:12.775Z"
   },
   {
    "duration": 671,
    "start_time": "2023-04-01T13:42:12.789Z"
   },
   {
    "duration": 8,
    "start_time": "2023-04-01T13:42:13.462Z"
   },
   {
    "duration": 77,
    "start_time": "2023-04-01T13:42:13.478Z"
   },
   {
    "duration": 28,
    "start_time": "2023-04-01T13:42:13.557Z"
   },
   {
    "duration": 39,
    "start_time": "2023-04-01T13:42:13.586Z"
   },
   {
    "duration": 40,
    "start_time": "2023-04-01T13:42:13.629Z"
   },
   {
    "duration": 94,
    "start_time": "2023-04-01T13:42:13.671Z"
   },
   {
    "duration": 82,
    "start_time": "2023-04-01T13:42:13.767Z"
   },
   {
    "duration": 17,
    "start_time": "2023-04-01T13:42:13.851Z"
   },
   {
    "duration": 86,
    "start_time": "2023-04-01T13:42:13.870Z"
   },
   {
    "duration": 11,
    "start_time": "2023-04-01T13:42:13.958Z"
   },
   {
    "duration": 72,
    "start_time": "2023-04-01T13:42:13.971Z"
   },
   {
    "duration": 8,
    "start_time": "2023-04-01T13:42:14.045Z"
   },
   {
    "duration": 7,
    "start_time": "2023-04-01T13:42:14.054Z"
   },
   {
    "duration": 89,
    "start_time": "2023-04-01T13:42:14.063Z"
   },
   {
    "duration": 79,
    "start_time": "2023-04-01T13:42:16.446Z"
   },
   {
    "duration": 391,
    "start_time": "2023-04-01T13:44:13.566Z"
   },
   {
    "duration": 43,
    "start_time": "2023-04-01T13:44:53.799Z"
   },
   {
    "duration": 49,
    "start_time": "2023-04-01T13:44:59.936Z"
   },
   {
    "duration": 3,
    "start_time": "2023-04-01T13:46:14.541Z"
   },
   {
    "duration": 95,
    "start_time": "2023-04-01T13:46:51.230Z"
   },
   {
    "duration": 73,
    "start_time": "2023-04-01T14:05:40.778Z"
   },
   {
    "duration": 141,
    "start_time": "2023-04-01T14:06:16.223Z"
   },
   {
    "duration": 59,
    "start_time": "2023-04-01T14:06:30.628Z"
   },
   {
    "duration": 50,
    "start_time": "2023-04-01T14:06:49.635Z"
   },
   {
    "duration": 88,
    "start_time": "2023-04-01T14:07:01.050Z"
   },
   {
    "duration": 94,
    "start_time": "2023-04-01T14:11:08.994Z"
   },
   {
    "duration": 87,
    "start_time": "2023-04-01T14:16:18.306Z"
   },
   {
    "duration": 65,
    "start_time": "2023-04-01T14:16:24.032Z"
   },
   {
    "duration": 92,
    "start_time": "2023-04-01T14:17:19.854Z"
   },
   {
    "duration": 127,
    "start_time": "2023-04-01T14:18:49.030Z"
   },
   {
    "duration": 63,
    "start_time": "2023-04-01T14:19:15.712Z"
   },
   {
    "duration": 14,
    "start_time": "2023-04-01T14:20:21.228Z"
   },
   {
    "duration": 34,
    "start_time": "2023-04-01T14:20:26.090Z"
   },
   {
    "duration": 62,
    "start_time": "2023-04-01T14:22:01.758Z"
   },
   {
    "duration": 91,
    "start_time": "2023-04-01T14:24:01.244Z"
   },
   {
    "duration": 157,
    "start_time": "2023-04-01T14:24:14.949Z"
   },
   {
    "duration": 1437,
    "start_time": "2023-04-01T14:35:37.026Z"
   },
   {
    "duration": 1283,
    "start_time": "2023-04-01T14:35:51.045Z"
   },
   {
    "duration": 6,
    "start_time": "2023-04-01T14:35:55.103Z"
   },
   {
    "duration": 457,
    "start_time": "2023-04-01T14:35:55.111Z"
   },
   {
    "duration": 40,
    "start_time": "2023-04-01T14:35:55.569Z"
   },
   {
    "duration": 23,
    "start_time": "2023-04-01T14:35:55.622Z"
   },
   {
    "duration": 37,
    "start_time": "2023-04-01T14:35:55.648Z"
   },
   {
    "duration": 73,
    "start_time": "2023-04-01T14:35:55.686Z"
   },
   {
    "duration": 23,
    "start_time": "2023-04-01T14:35:55.762Z"
   },
   {
    "duration": 57,
    "start_time": "2023-04-01T14:35:55.787Z"
   },
   {
    "duration": 41,
    "start_time": "2023-04-01T14:35:55.846Z"
   },
   {
    "duration": 61,
    "start_time": "2023-04-01T14:35:55.898Z"
   },
   {
    "duration": 74,
    "start_time": "2023-04-01T14:35:55.961Z"
   },
   {
    "duration": 20,
    "start_time": "2023-04-01T14:35:56.037Z"
   },
   {
    "duration": 26,
    "start_time": "2023-04-01T14:35:56.059Z"
   },
   {
    "duration": 63,
    "start_time": "2023-04-01T14:35:56.087Z"
   },
   {
    "duration": 83,
    "start_time": "2023-04-01T14:35:56.152Z"
   },
   {
    "duration": 119,
    "start_time": "2023-04-01T14:35:56.238Z"
   },
   {
    "duration": 96,
    "start_time": "2023-04-01T14:35:56.359Z"
   },
   {
    "duration": 24,
    "start_time": "2023-04-01T14:35:56.457Z"
   },
   {
    "duration": 24,
    "start_time": "2023-04-01T15:05:21.108Z"
   },
   {
    "duration": 32,
    "start_time": "2023-04-01T15:05:23.964Z"
   },
   {
    "duration": 66,
    "start_time": "2023-04-01T15:05:43.752Z"
   },
   {
    "duration": 30,
    "start_time": "2023-04-01T15:06:03.631Z"
   },
   {
    "duration": 46,
    "start_time": "2023-04-01T15:07:06.302Z"
   },
   {
    "duration": 39,
    "start_time": "2023-04-01T15:09:16.496Z"
   },
   {
    "duration": 39,
    "start_time": "2023-04-01T15:09:21.308Z"
   },
   {
    "duration": 89,
    "start_time": "2023-04-01T15:10:42.128Z"
   },
   {
    "duration": 66,
    "start_time": "2023-04-01T15:10:46.342Z"
   },
   {
    "duration": 40,
    "start_time": "2023-04-01T15:10:50.999Z"
   },
   {
    "duration": 65,
    "start_time": "2023-04-01T15:12:38.196Z"
   },
   {
    "duration": 64,
    "start_time": "2023-04-01T15:18:31.691Z"
   },
   {
    "duration": 87,
    "start_time": "2023-04-01T15:18:39.138Z"
   },
   {
    "duration": 102,
    "start_time": "2023-04-01T15:20:18.109Z"
   },
   {
    "duration": 97,
    "start_time": "2023-04-01T15:21:55.703Z"
   },
   {
    "duration": 73,
    "start_time": "2023-04-01T15:24:30.855Z"
   },
   {
    "duration": 126,
    "start_time": "2023-04-01T15:25:06.160Z"
   },
   {
    "duration": 105,
    "start_time": "2023-04-01T15:28:42.862Z"
   },
   {
    "duration": 21,
    "start_time": "2023-04-01T15:35:29.876Z"
   },
   {
    "duration": 472,
    "start_time": "2023-04-01T15:35:58.002Z"
   },
   {
    "duration": 103,
    "start_time": "2023-04-01T15:36:07.558Z"
   },
   {
    "duration": 44,
    "start_time": "2023-04-01T15:36:12.404Z"
   },
   {
    "duration": 4323,
    "start_time": "2023-04-01T15:36:44.024Z"
   },
   {
    "duration": 772,
    "start_time": "2023-04-01T15:37:03.757Z"
   },
   {
    "duration": 11,
    "start_time": "2023-04-01T15:46:36.021Z"
   },
   {
    "duration": 32,
    "start_time": "2023-04-01T15:47:32.168Z"
   },
   {
    "duration": 28,
    "start_time": "2023-04-01T15:48:34.899Z"
   },
   {
    "duration": 117,
    "start_time": "2023-04-01T15:49:16.337Z"
   },
   {
    "duration": 93,
    "start_time": "2023-04-01T15:50:36.233Z"
   },
   {
    "duration": 75,
    "start_time": "2023-04-01T15:51:22.763Z"
   },
   {
    "duration": 18,
    "start_time": "2023-04-01T15:51:35.447Z"
   },
   {
    "duration": 75,
    "start_time": "2023-04-01T15:51:36.839Z"
   },
   {
    "duration": 22,
    "start_time": "2023-04-01T15:52:32.957Z"
   },
   {
    "duration": 74,
    "start_time": "2023-04-01T15:52:33.555Z"
   },
   {
    "duration": 92,
    "start_time": "2023-04-01T15:54:30.637Z"
   },
   {
    "duration": 72,
    "start_time": "2023-04-01T15:54:40.172Z"
   },
   {
    "duration": 19,
    "start_time": "2023-04-01T15:54:56.653Z"
   },
   {
    "duration": 72,
    "start_time": "2023-04-01T15:54:57.514Z"
   },
   {
    "duration": 3,
    "start_time": "2023-04-01T15:56:11.861Z"
   },
   {
    "duration": 342,
    "start_time": "2023-04-01T15:56:11.866Z"
   },
   {
    "duration": 6,
    "start_time": "2023-04-01T15:56:12.210Z"
   },
   {
    "duration": 13,
    "start_time": "2023-04-01T15:56:12.218Z"
   },
   {
    "duration": 11,
    "start_time": "2023-04-01T15:56:12.232Z"
   },
   {
    "duration": 14,
    "start_time": "2023-04-01T15:56:12.244Z"
   },
   {
    "duration": 15,
    "start_time": "2023-04-01T15:56:12.259Z"
   },
   {
    "duration": 31,
    "start_time": "2023-04-01T15:56:12.275Z"
   },
   {
    "duration": 20,
    "start_time": "2023-04-01T15:56:12.309Z"
   },
   {
    "duration": 17,
    "start_time": "2023-04-01T15:56:12.331Z"
   },
   {
    "duration": 26,
    "start_time": "2023-04-01T15:56:12.349Z"
   },
   {
    "duration": 16,
    "start_time": "2023-04-01T15:56:12.378Z"
   },
   {
    "duration": 13,
    "start_time": "2023-04-01T15:56:12.395Z"
   },
   {
    "duration": 17,
    "start_time": "2023-04-01T15:56:12.409Z"
   },
   {
    "duration": 8,
    "start_time": "2023-04-01T15:56:12.428Z"
   },
   {
    "duration": 93,
    "start_time": "2023-04-01T15:56:12.438Z"
   },
   {
    "duration": 22,
    "start_time": "2023-04-01T15:56:42.877Z"
   },
   {
    "duration": 103,
    "start_time": "2023-04-01T15:56:44.340Z"
   },
   {
    "duration": 808,
    "start_time": "2023-04-01T15:56:46.869Z"
   },
   {
    "duration": 19,
    "start_time": "2023-04-01T15:56:49.311Z"
   },
   {
    "duration": 733,
    "start_time": "2023-04-01T16:26:48.284Z"
   },
   {
    "duration": 651,
    "start_time": "2023-04-01T16:27:53.405Z"
   },
   {
    "duration": 782,
    "start_time": "2023-04-01T16:28:17.744Z"
   },
   {
    "duration": 663,
    "start_time": "2023-04-01T16:28:32.611Z"
   },
   {
    "duration": 101,
    "start_time": "2023-04-01T16:29:48.143Z"
   },
   {
    "duration": 733,
    "start_time": "2023-04-01T16:29:56.275Z"
   },
   {
    "duration": 663,
    "start_time": "2023-04-01T16:31:55.067Z"
   },
   {
    "duration": 754,
    "start_time": "2023-04-01T16:32:02.690Z"
   },
   {
    "duration": 703,
    "start_time": "2023-04-01T16:32:23.561Z"
   },
   {
    "duration": 703,
    "start_time": "2023-04-01T16:34:40.705Z"
   },
   {
    "duration": 42,
    "start_time": "2023-04-01T16:37:27.909Z"
   },
   {
    "duration": 40,
    "start_time": "2023-04-01T16:37:41.332Z"
   },
   {
    "duration": 57,
    "start_time": "2023-04-01T16:38:00.458Z"
   },
   {
    "duration": 59,
    "start_time": "2023-04-01T16:39:54.108Z"
   },
   {
    "duration": 60,
    "start_time": "2023-04-01T16:40:54.609Z"
   },
   {
    "duration": 49,
    "start_time": "2023-04-01T16:41:30.429Z"
   },
   {
    "duration": 66,
    "start_time": "2023-04-01T16:43:16.834Z"
   },
   {
    "duration": 49,
    "start_time": "2023-04-01T16:43:26.239Z"
   },
   {
    "duration": 49,
    "start_time": "2023-04-01T16:43:57.151Z"
   },
   {
    "duration": 51,
    "start_time": "2023-04-01T16:46:39.865Z"
   },
   {
    "duration": 56,
    "start_time": "2023-04-01T16:48:44.365Z"
   },
   {
    "duration": 52,
    "start_time": "2023-04-01T16:48:59.354Z"
   },
   {
    "duration": 66,
    "start_time": "2023-04-01T16:52:45.024Z"
   },
   {
    "duration": 93,
    "start_time": "2023-04-01T16:55:25.731Z"
   },
   {
    "duration": 102,
    "start_time": "2023-04-01T16:55:55.364Z"
   },
   {
    "duration": 56,
    "start_time": "2023-04-01T16:57:32.127Z"
   },
   {
    "duration": 468,
    "start_time": "2023-04-01T17:03:00.453Z"
   },
   {
    "duration": 441,
    "start_time": "2023-04-01T17:03:21.094Z"
   },
   {
    "duration": 498,
    "start_time": "2023-04-01T17:03:40.807Z"
   },
   {
    "duration": 493,
    "start_time": "2023-04-01T17:04:50.831Z"
   },
   {
    "duration": 506,
    "start_time": "2023-04-01T17:05:07.598Z"
   },
   {
    "duration": 4323,
    "start_time": "2023-04-01T17:05:31.230Z"
   },
   {
    "duration": 486,
    "start_time": "2023-04-01T17:05:48.058Z"
   },
   {
    "duration": 505,
    "start_time": "2023-04-01T17:06:09.508Z"
   },
   {
    "duration": 501,
    "start_time": "2023-04-01T17:06:50.923Z"
   },
   {
    "duration": 519,
    "start_time": "2023-04-01T17:06:56.110Z"
   },
   {
    "duration": 437,
    "start_time": "2023-04-01T17:07:27.810Z"
   },
   {
    "duration": 454,
    "start_time": "2023-04-01T17:07:33.010Z"
   },
   {
    "duration": 504,
    "start_time": "2023-04-01T17:07:53.416Z"
   },
   {
    "duration": 511,
    "start_time": "2023-04-01T17:08:45.382Z"
   },
   {
    "duration": 561,
    "start_time": "2023-04-01T17:09:16.762Z"
   },
   {
    "duration": 496,
    "start_time": "2023-04-01T17:09:21.751Z"
   },
   {
    "duration": 546,
    "start_time": "2023-04-01T17:09:42.010Z"
   },
   {
    "duration": 492,
    "start_time": "2023-04-01T17:10:25.261Z"
   },
   {
    "duration": 486,
    "start_time": "2023-04-01T17:11:37.870Z"
   },
   {
    "duration": 496,
    "start_time": "2023-04-01T17:11:55.321Z"
   },
   {
    "duration": 496,
    "start_time": "2023-04-01T17:12:07.928Z"
   },
   {
    "duration": 54,
    "start_time": "2023-04-01T17:13:07.100Z"
   },
   {
    "duration": 62,
    "start_time": "2023-04-01T17:13:12.336Z"
   },
   {
    "duration": 4735,
    "start_time": "2023-04-01T17:16:51.509Z"
   },
   {
    "duration": 4,
    "start_time": "2023-04-01T17:17:41.897Z"
   },
   {
    "duration": 4347,
    "start_time": "2023-04-01T17:18:10.767Z"
   },
   {
    "duration": 4598,
    "start_time": "2023-04-01T17:19:51.255Z"
   },
   {
    "duration": 4373,
    "start_time": "2023-04-01T17:21:07.509Z"
   },
   {
    "duration": 4491,
    "start_time": "2023-04-01T17:21:53.423Z"
   },
   {
    "duration": 3992,
    "start_time": "2023-04-01T17:24:47.319Z"
   },
   {
    "duration": 52,
    "start_time": "2023-04-01T17:25:28.353Z"
   },
   {
    "duration": 4092,
    "start_time": "2023-04-01T17:28:08.520Z"
   },
   {
    "duration": 4675,
    "start_time": "2023-04-01T17:29:40.019Z"
   },
   {
    "duration": 108,
    "start_time": "2023-04-01T17:38:25.707Z"
   },
   {
    "duration": 4035,
    "start_time": "2023-04-01T17:42:36.700Z"
   },
   {
    "duration": 4306,
    "start_time": "2023-04-01T17:42:48.292Z"
   },
   {
    "duration": 4418,
    "start_time": "2023-04-01T17:43:46.720Z"
   },
   {
    "duration": 4691,
    "start_time": "2023-04-01T17:44:05.605Z"
   },
   {
    "duration": 4210,
    "start_time": "2023-04-01T17:44:28.396Z"
   },
   {
    "duration": 4419,
    "start_time": "2023-04-01T17:44:43.996Z"
   },
   {
    "duration": 4537,
    "start_time": "2023-04-01T17:45:42.217Z"
   },
   {
    "duration": 4527,
    "start_time": "2023-04-01T17:46:00.604Z"
   },
   {
    "duration": 4125,
    "start_time": "2023-04-01T17:47:25.034Z"
   },
   {
    "duration": 4288,
    "start_time": "2023-04-01T17:48:05.585Z"
   },
   {
    "duration": 4449,
    "start_time": "2023-04-01T17:48:13.823Z"
   },
   {
    "duration": 4676,
    "start_time": "2023-04-01T17:50:46.624Z"
   },
   {
    "duration": 4178,
    "start_time": "2023-04-01T17:50:57.483Z"
   },
   {
    "duration": 4795,
    "start_time": "2023-04-01T17:53:13.336Z"
   },
   {
    "duration": 4534,
    "start_time": "2023-04-01T17:53:25.003Z"
   },
   {
    "duration": 4624,
    "start_time": "2023-04-01T17:55:02.541Z"
   },
   {
    "duration": 4517,
    "start_time": "2023-04-01T18:14:45.787Z"
   },
   {
    "duration": 10,
    "start_time": "2023-04-01T18:15:40.790Z"
   },
   {
    "duration": 8,
    "start_time": "2023-04-01T18:15:48.456Z"
   },
   {
    "duration": 3,
    "start_time": "2023-04-01T18:16:01.554Z"
   },
   {
    "duration": 8,
    "start_time": "2023-04-01T18:16:07.522Z"
   },
   {
    "duration": 4,
    "start_time": "2023-04-01T18:16:16.724Z"
   },
   {
    "duration": 8,
    "start_time": "2023-04-01T18:17:09.662Z"
   },
   {
    "duration": 5,
    "start_time": "2023-04-01T18:17:24.193Z"
   },
   {
    "duration": 7,
    "start_time": "2023-04-01T18:17:27.418Z"
   },
   {
    "duration": 5,
    "start_time": "2023-04-01T18:17:37.660Z"
   },
   {
    "duration": 7,
    "start_time": "2023-04-01T18:17:48.256Z"
   },
   {
    "duration": 6,
    "start_time": "2023-04-01T18:17:50.850Z"
   },
   {
    "duration": 7,
    "start_time": "2023-04-01T18:17:53.159Z"
   },
   {
    "duration": 4192,
    "start_time": "2023-04-01T18:19:18.499Z"
   },
   {
    "duration": 4311,
    "start_time": "2023-04-01T18:19:38.198Z"
   },
   {
    "duration": 128,
    "start_time": "2023-04-01T18:20:45.355Z"
   },
   {
    "duration": 118,
    "start_time": "2023-04-01T18:20:49.902Z"
   },
   {
    "duration": 120,
    "start_time": "2023-04-01T18:21:23.326Z"
   },
   {
    "duration": 196,
    "start_time": "2023-04-01T18:21:28.908Z"
   },
   {
    "duration": 188,
    "start_time": "2023-04-01T18:21:48.061Z"
   },
   {
    "duration": 172,
    "start_time": "2023-04-01T18:23:26.589Z"
   },
   {
    "duration": 287,
    "start_time": "2023-04-01T18:23:41.027Z"
   },
   {
    "duration": 262,
    "start_time": "2023-04-01T18:23:46.003Z"
   },
   {
    "duration": 190,
    "start_time": "2023-04-01T18:24:07.704Z"
   },
   {
    "duration": 197,
    "start_time": "2023-04-01T18:24:27.938Z"
   },
   {
    "duration": 208,
    "start_time": "2023-04-01T18:25:11.692Z"
   },
   {
    "duration": 3,
    "start_time": "2023-04-01T18:25:33.901Z"
   },
   {
    "duration": 303,
    "start_time": "2023-04-01T18:25:42.899Z"
   },
   {
    "duration": 204,
    "start_time": "2023-04-01T18:25:47.699Z"
   },
   {
    "duration": 212,
    "start_time": "2023-04-01T18:26:03.945Z"
   },
   {
    "duration": 203,
    "start_time": "2023-04-01T18:26:13.279Z"
   },
   {
    "duration": 204,
    "start_time": "2023-04-01T18:26:20.807Z"
   },
   {
    "duration": 185,
    "start_time": "2023-04-01T18:26:26.389Z"
   },
   {
    "duration": 3,
    "start_time": "2023-04-01T18:26:33.194Z"
   },
   {
    "duration": 256,
    "start_time": "2023-04-01T18:26:40.106Z"
   },
   {
    "duration": 192,
    "start_time": "2023-04-01T18:27:15.526Z"
   },
   {
    "duration": 165,
    "start_time": "2023-04-01T18:27:30.994Z"
   },
   {
    "duration": 269,
    "start_time": "2023-04-01T18:27:50.524Z"
   },
   {
    "duration": 264,
    "start_time": "2023-04-01T18:27:58.139Z"
   },
   {
    "duration": 231,
    "start_time": "2023-04-01T18:28:02.157Z"
   },
   {
    "duration": 464,
    "start_time": "2023-04-01T18:28:05.849Z"
   },
   {
    "duration": 238,
    "start_time": "2023-04-01T18:28:14.718Z"
   },
   {
    "duration": 218,
    "start_time": "2023-04-01T18:28:22.059Z"
   },
   {
    "duration": 211,
    "start_time": "2023-04-01T18:28:26.891Z"
   },
   {
    "duration": 196,
    "start_time": "2023-04-01T18:28:31.332Z"
   },
   {
    "duration": 297,
    "start_time": "2023-04-01T18:28:38.602Z"
   },
   {
    "duration": 210,
    "start_time": "2023-04-01T18:28:56.236Z"
   },
   {
    "duration": 203,
    "start_time": "2023-04-01T18:29:02.000Z"
   },
   {
    "duration": 197,
    "start_time": "2023-04-01T18:29:24.254Z"
   },
   {
    "duration": 215,
    "start_time": "2023-04-01T18:31:42.426Z"
   },
   {
    "duration": 234,
    "start_time": "2023-04-01T18:35:34.403Z"
   },
   {
    "duration": 319,
    "start_time": "2023-04-01T18:35:49.757Z"
   },
   {
    "duration": 208,
    "start_time": "2023-04-01T18:37:09.609Z"
   },
   {
    "duration": 227,
    "start_time": "2023-04-01T18:37:18.395Z"
   },
   {
    "duration": 5,
    "start_time": "2023-04-01T18:38:30.437Z"
   },
   {
    "duration": 213,
    "start_time": "2023-04-01T18:41:02.091Z"
   },
   {
    "duration": 231,
    "start_time": "2023-04-01T18:41:18.149Z"
   },
   {
    "duration": 280,
    "start_time": "2023-04-01T18:41:23.163Z"
   },
   {
    "duration": 212,
    "start_time": "2023-04-01T18:41:37.889Z"
   },
   {
    "duration": 226,
    "start_time": "2023-04-01T18:41:45.319Z"
   },
   {
    "duration": 207,
    "start_time": "2023-04-01T18:43:31.523Z"
   },
   {
    "duration": 198,
    "start_time": "2023-04-01T18:43:37.317Z"
   },
   {
    "duration": 28,
    "start_time": "2023-04-01T18:49:26.023Z"
   },
   {
    "duration": 23,
    "start_time": "2023-04-01T18:49:42.742Z"
   },
   {
    "duration": 23,
    "start_time": "2023-04-01T18:52:52.099Z"
   },
   {
    "duration": 106,
    "start_time": "2023-04-01T18:53:36.304Z"
   },
   {
    "duration": 63,
    "start_time": "2023-04-01T18:53:46.319Z"
   },
   {
    "duration": 25,
    "start_time": "2023-04-01T18:53:53.420Z"
   },
   {
    "duration": 50,
    "start_time": "2023-04-01T18:55:50.310Z"
   },
   {
    "duration": 33,
    "start_time": "2023-04-01T18:56:41.639Z"
   },
   {
    "duration": 45,
    "start_time": "2023-04-01T18:56:45.204Z"
   },
   {
    "duration": 59,
    "start_time": "2023-04-01T18:57:01.048Z"
   },
   {
    "duration": 55,
    "start_time": "2023-04-01T18:57:34.250Z"
   },
   {
    "duration": 53,
    "start_time": "2023-04-01T18:57:59.997Z"
   },
   {
    "duration": 43,
    "start_time": "2023-04-01T19:00:45.913Z"
   },
   {
    "duration": 124,
    "start_time": "2023-04-01T19:00:50.902Z"
   },
   {
    "duration": 231,
    "start_time": "2023-04-01T19:03:04.007Z"
   },
   {
    "duration": 132,
    "start_time": "2023-04-01T19:03:56.099Z"
   },
   {
    "duration": 43,
    "start_time": "2023-04-01T19:04:20.496Z"
   },
   {
    "duration": 150,
    "start_time": "2023-04-01T19:04:30.001Z"
   },
   {
    "duration": 194,
    "start_time": "2023-04-01T19:04:47.998Z"
   },
   {
    "duration": 158,
    "start_time": "2023-04-01T19:04:53.702Z"
   },
   {
    "duration": 148,
    "start_time": "2023-04-01T19:04:59.596Z"
   },
   {
    "duration": 153,
    "start_time": "2023-04-01T19:05:20.800Z"
   },
   {
    "duration": 162,
    "start_time": "2023-04-01T19:05:28.260Z"
   },
   {
    "duration": 204,
    "start_time": "2023-04-01T19:05:33.200Z"
   },
   {
    "duration": 297,
    "start_time": "2023-04-01T19:05:43.904Z"
   },
   {
    "duration": 149,
    "start_time": "2023-04-01T19:06:39.702Z"
   },
   {
    "duration": 176,
    "start_time": "2023-04-01T19:06:46.839Z"
   },
   {
    "duration": 182,
    "start_time": "2023-04-01T19:07:44.816Z"
   },
   {
    "duration": 154,
    "start_time": "2023-04-01T19:08:40.406Z"
   },
   {
    "duration": 153,
    "start_time": "2023-04-01T19:08:44.303Z"
   },
   {
    "duration": 4,
    "start_time": "2023-04-01T19:08:49.113Z"
   },
   {
    "duration": 338,
    "start_time": "2023-04-01T19:08:49.118Z"
   },
   {
    "duration": 7,
    "start_time": "2023-04-01T19:08:49.458Z"
   },
   {
    "duration": 36,
    "start_time": "2023-04-01T19:08:49.466Z"
   },
   {
    "duration": 17,
    "start_time": "2023-04-01T19:08:49.504Z"
   },
   {
    "duration": 19,
    "start_time": "2023-04-01T19:08:49.523Z"
   },
   {
    "duration": 9,
    "start_time": "2023-04-01T19:08:49.544Z"
   },
   {
    "duration": 47,
    "start_time": "2023-04-01T19:08:49.555Z"
   },
   {
    "duration": 22,
    "start_time": "2023-04-01T19:08:49.604Z"
   },
   {
    "duration": 6,
    "start_time": "2023-04-01T19:08:49.627Z"
   },
   {
    "duration": 21,
    "start_time": "2023-04-01T19:08:49.636Z"
   },
   {
    "duration": 22,
    "start_time": "2023-04-01T19:08:49.659Z"
   },
   {
    "duration": 26,
    "start_time": "2023-04-01T19:08:49.682Z"
   },
   {
    "duration": 7,
    "start_time": "2023-04-01T19:08:49.710Z"
   },
   {
    "duration": 5,
    "start_time": "2023-04-01T19:08:49.719Z"
   },
   {
    "duration": 25,
    "start_time": "2023-04-01T19:08:49.726Z"
   },
   {
    "duration": 150,
    "start_time": "2023-04-01T19:08:49.753Z"
   },
   {
    "duration": 740,
    "start_time": "2023-04-01T19:08:49.906Z"
   },
   {
    "duration": 60,
    "start_time": "2023-04-01T19:08:50.648Z"
   },
   {
    "duration": 889,
    "start_time": "2023-04-01T19:08:50.710Z"
   },
   {
    "duration": 57,
    "start_time": "2023-04-01T19:08:51.602Z"
   },
   {
    "duration": 4669,
    "start_time": "2023-04-01T19:08:51.661Z"
   },
   {
    "duration": 234,
    "start_time": "2023-04-01T19:08:56.332Z"
   },
   {
    "duration": 56,
    "start_time": "2023-04-01T19:08:56.571Z"
   },
   {
    "duration": 178,
    "start_time": "2023-04-01T19:08:56.628Z"
   },
   {
    "duration": 10,
    "start_time": "2023-04-01T19:17:49.915Z"
   },
   {
    "duration": 102,
    "start_time": "2023-04-01T19:18:38.501Z"
   },
   {
    "duration": 111,
    "start_time": "2023-04-01T19:18:51.523Z"
   },
   {
    "duration": 128,
    "start_time": "2023-04-01T19:19:39.295Z"
   },
   {
    "duration": 234,
    "start_time": "2023-04-01T19:19:56.196Z"
   },
   {
    "duration": 207,
    "start_time": "2023-04-01T19:23:42.395Z"
   },
   {
    "duration": 5,
    "start_time": "2023-04-01T19:23:55.448Z"
   },
   {
    "duration": 219,
    "start_time": "2023-04-01T19:24:03.601Z"
   },
   {
    "duration": 216,
    "start_time": "2023-04-01T19:24:21.113Z"
   },
   {
    "duration": 192,
    "start_time": "2023-04-01T19:25:31.706Z"
   },
   {
    "duration": 169,
    "start_time": "2023-04-01T19:32:00.616Z"
   },
   {
    "duration": 195,
    "start_time": "2023-04-01T19:32:19.495Z"
   },
   {
    "duration": 194,
    "start_time": "2023-04-01T19:32:25.020Z"
   },
   {
    "duration": 245,
    "start_time": "2023-04-01T19:32:36.626Z"
   },
   {
    "duration": 198,
    "start_time": "2023-04-01T19:32:47.439Z"
   },
   {
    "duration": 160,
    "start_time": "2023-04-01T19:36:05.539Z"
   },
   {
    "duration": 203,
    "start_time": "2023-04-01T19:36:17.948Z"
   },
   {
    "duration": 9,
    "start_time": "2023-04-01T19:46:31.541Z"
   },
   {
    "duration": 21,
    "start_time": "2023-04-01T19:48:54.997Z"
   },
   {
    "duration": 572,
    "start_time": "2023-04-01T19:54:34.927Z"
   },
   {
    "duration": 14,
    "start_time": "2023-04-01T19:56:35.111Z"
   },
   {
    "duration": 45,
    "start_time": "2023-04-01T19:57:18.767Z"
   },
   {
    "duration": 29,
    "start_time": "2023-04-01T19:57:31.441Z"
   },
   {
    "duration": 18,
    "start_time": "2023-04-01T19:58:37.311Z"
   },
   {
    "duration": 23,
    "start_time": "2023-04-01T19:58:56.703Z"
   },
   {
    "duration": 27,
    "start_time": "2023-04-01T19:59:09.095Z"
   },
   {
    "duration": 24,
    "start_time": "2023-04-01T19:59:15.420Z"
   },
   {
    "duration": 21,
    "start_time": "2023-04-01T20:00:20.636Z"
   },
   {
    "duration": 18,
    "start_time": "2023-04-01T20:02:43.342Z"
   },
   {
    "duration": 26,
    "start_time": "2023-04-01T20:02:47.963Z"
   },
   {
    "duration": 18,
    "start_time": "2023-04-01T20:02:54.729Z"
   },
   {
    "duration": 24,
    "start_time": "2023-04-01T20:11:00.344Z"
   },
   {
    "duration": 19,
    "start_time": "2023-04-01T20:11:10.549Z"
   },
   {
    "duration": 20,
    "start_time": "2023-04-01T20:11:14.432Z"
   },
   {
    "duration": 49,
    "start_time": "2023-04-02T08:04:57.632Z"
   },
   {
    "duration": 1114,
    "start_time": "2023-04-02T08:05:00.529Z"
   },
   {
    "duration": 339,
    "start_time": "2023-04-02T08:05:01.645Z"
   },
   {
    "duration": 9,
    "start_time": "2023-04-02T08:05:01.986Z"
   },
   {
    "duration": 26,
    "start_time": "2023-04-02T08:05:01.997Z"
   },
   {
    "duration": 65,
    "start_time": "2023-04-02T08:05:02.024Z"
   },
   {
    "duration": 30,
    "start_time": "2023-04-02T08:05:02.091Z"
   },
   {
    "duration": 68,
    "start_time": "2023-04-02T08:05:02.123Z"
   },
   {
    "duration": 43,
    "start_time": "2023-04-02T08:05:02.193Z"
   },
   {
    "duration": 51,
    "start_time": "2023-04-02T08:05:02.237Z"
   },
   {
    "duration": 11,
    "start_time": "2023-04-02T08:05:02.291Z"
   },
   {
    "duration": 72,
    "start_time": "2023-04-02T08:05:02.303Z"
   },
   {
    "duration": 32,
    "start_time": "2023-04-02T08:05:02.376Z"
   },
   {
    "duration": 29,
    "start_time": "2023-04-02T08:05:02.409Z"
   },
   {
    "duration": 68,
    "start_time": "2023-04-02T08:05:02.439Z"
   },
   {
    "duration": 37,
    "start_time": "2023-04-02T08:05:02.508Z"
   },
   {
    "duration": 75,
    "start_time": "2023-04-02T08:05:02.546Z"
   },
   {
    "duration": 4,
    "start_time": "2023-04-02T08:05:02.622Z"
   },
   {
    "duration": 96,
    "start_time": "2023-04-02T08:05:02.627Z"
   },
   {
    "duration": 671,
    "start_time": "2023-04-02T08:05:02.725Z"
   },
   {
    "duration": 39,
    "start_time": "2023-04-02T08:05:03.397Z"
   },
   {
    "duration": 728,
    "start_time": "2023-04-02T08:05:03.437Z"
   },
   {
    "duration": 53,
    "start_time": "2023-04-02T08:05:04.166Z"
   },
   {
    "duration": 3844,
    "start_time": "2023-04-02T08:05:04.220Z"
   },
   {
    "duration": 213,
    "start_time": "2023-04-02T08:05:08.065Z"
   },
   {
    "duration": 40,
    "start_time": "2023-04-02T08:05:08.280Z"
   },
   {
    "duration": 238,
    "start_time": "2023-04-02T08:05:08.321Z"
   },
   {
    "duration": 19,
    "start_time": "2023-04-02T08:05:08.560Z"
   },
   {
    "duration": 17,
    "start_time": "2023-04-02T08:05:08.583Z"
   },
   {
    "duration": 39,
    "start_time": "2023-04-02T08:20:53.432Z"
   },
   {
    "duration": 42,
    "start_time": "2023-04-02T08:20:59.577Z"
   },
   {
    "duration": 46,
    "start_time": "2023-04-02T08:22:25.294Z"
   },
   {
    "duration": 33,
    "start_time": "2023-04-02T08:22:32.589Z"
   },
   {
    "duration": 40,
    "start_time": "2023-04-02T08:22:34.584Z"
   },
   {
    "duration": 68,
    "start_time": "2023-04-02T08:22:38.519Z"
   },
   {
    "duration": 97,
    "start_time": "2023-04-02T08:26:04.393Z"
   },
   {
    "duration": 114,
    "start_time": "2023-04-02T08:28:14.730Z"
   },
   {
    "duration": 79,
    "start_time": "2023-04-02T08:29:23.722Z"
   },
   {
    "duration": 74,
    "start_time": "2023-04-02T08:29:40.909Z"
   },
   {
    "duration": 73,
    "start_time": "2023-04-02T08:29:55.333Z"
   },
   {
    "duration": 47,
    "start_time": "2023-04-02T08:31:58.612Z"
   },
   {
    "duration": 50,
    "start_time": "2023-04-02T08:32:47.685Z"
   },
   {
    "duration": 46,
    "start_time": "2023-04-02T08:33:17.879Z"
   },
   {
    "duration": 40,
    "start_time": "2023-04-02T08:33:28.407Z"
   },
   {
    "duration": 53,
    "start_time": "2023-04-02T08:34:01.237Z"
   },
   {
    "duration": 64,
    "start_time": "2023-04-02T08:34:38.880Z"
   },
   {
    "duration": 89,
    "start_time": "2023-04-02T08:35:11.403Z"
   },
   {
    "duration": 85,
    "start_time": "2023-04-02T08:35:20.810Z"
   },
   {
    "duration": 38,
    "start_time": "2023-04-02T08:35:31.199Z"
   },
   {
    "duration": 3045,
    "start_time": "2023-04-02T08:36:07.885Z"
   },
   {
    "duration": 8,
    "start_time": "2023-04-02T08:36:23.607Z"
   },
   {
    "duration": 8,
    "start_time": "2023-04-02T08:36:42.118Z"
   },
   {
    "duration": 9,
    "start_time": "2023-04-02T08:36:50.499Z"
   },
   {
    "duration": 490,
    "start_time": "2023-04-02T08:37:29.305Z"
   },
   {
    "duration": 1610,
    "start_time": "2023-04-02T08:39:06.900Z"
   },
   {
    "duration": 6,
    "start_time": "2023-04-02T08:39:22.707Z"
   },
   {
    "duration": 6,
    "start_time": "2023-04-02T08:39:35.698Z"
   },
   {
    "duration": 4,
    "start_time": "2023-04-02T08:39:55.698Z"
   },
   {
    "duration": 159,
    "start_time": "2023-04-02T08:40:24.568Z"
   },
   {
    "duration": 11,
    "start_time": "2023-04-02T08:40:33.488Z"
   },
   {
    "duration": 22,
    "start_time": "2023-04-02T08:40:42.563Z"
   },
   {
    "duration": 4,
    "start_time": "2023-04-02T08:41:48.425Z"
   },
   {
    "duration": 9,
    "start_time": "2023-04-02T08:41:56.894Z"
   },
   {
    "duration": 10,
    "start_time": "2023-04-02T08:42:50.607Z"
   },
   {
    "duration": 5,
    "start_time": "2023-04-02T08:43:24.029Z"
   },
   {
    "duration": 5,
    "start_time": "2023-04-02T08:44:12.625Z"
   },
   {
    "duration": 5,
    "start_time": "2023-04-02T08:44:16.508Z"
   },
   {
    "duration": 6,
    "start_time": "2023-04-02T08:46:00.118Z"
   },
   {
    "duration": 12,
    "start_time": "2023-04-02T08:46:36.771Z"
   },
   {
    "duration": 5,
    "start_time": "2023-04-02T08:46:44.204Z"
   },
   {
    "duration": 7,
    "start_time": "2023-04-02T08:51:08.190Z"
   },
   {
    "duration": 19,
    "start_time": "2023-04-02T08:51:46.944Z"
   },
   {
    "duration": 4,
    "start_time": "2023-04-02T09:04:33.883Z"
   },
   {
    "duration": 7,
    "start_time": "2023-04-02T09:05:01.147Z"
   },
   {
    "duration": 8,
    "start_time": "2023-04-02T09:05:08.208Z"
   },
   {
    "duration": 4,
    "start_time": "2023-04-02T09:05:29.114Z"
   },
   {
    "duration": 3,
    "start_time": "2023-04-02T09:05:36.444Z"
   },
   {
    "duration": 3,
    "start_time": "2023-04-02T09:05:42.311Z"
   },
   {
    "duration": 3,
    "start_time": "2023-04-02T09:05:48.182Z"
   },
   {
    "duration": 369,
    "start_time": "2023-04-02T09:05:48.186Z"
   },
   {
    "duration": 5,
    "start_time": "2023-04-02T09:05:48.557Z"
   },
   {
    "duration": 22,
    "start_time": "2023-04-02T09:05:48.564Z"
   },
   {
    "duration": 28,
    "start_time": "2023-04-02T09:05:48.587Z"
   },
   {
    "duration": 36,
    "start_time": "2023-04-02T09:05:48.616Z"
   },
   {
    "duration": 19,
    "start_time": "2023-04-02T09:05:48.654Z"
   },
   {
    "duration": 23,
    "start_time": "2023-04-02T09:05:48.674Z"
   },
   {
    "duration": 24,
    "start_time": "2023-04-02T09:05:48.698Z"
   },
   {
    "duration": 20,
    "start_time": "2023-04-02T09:05:48.724Z"
   },
   {
    "duration": 39,
    "start_time": "2023-04-02T09:05:48.745Z"
   },
   {
    "duration": 8,
    "start_time": "2023-04-02T09:05:48.785Z"
   },
   {
    "duration": 14,
    "start_time": "2023-04-02T09:05:48.793Z"
   },
   {
    "duration": 4,
    "start_time": "2023-04-02T09:05:48.808Z"
   },
   {
    "duration": 10,
    "start_time": "2023-04-02T09:05:48.813Z"
   },
   {
    "duration": 28,
    "start_time": "2023-04-02T09:05:48.824Z"
   },
   {
    "duration": 3,
    "start_time": "2023-04-02T09:05:48.854Z"
   },
   {
    "duration": 39,
    "start_time": "2023-04-02T09:05:48.858Z"
   },
   {
    "duration": 7,
    "start_time": "2023-04-02T09:05:48.898Z"
   },
   {
    "duration": 3,
    "start_time": "2023-04-02T09:06:11.997Z"
   },
   {
    "duration": 8,
    "start_time": "2023-04-02T09:06:19.219Z"
   },
   {
    "duration": 3,
    "start_time": "2023-04-02T09:06:23.039Z"
   },
   {
    "duration": 4,
    "start_time": "2023-04-02T09:06:28.111Z"
   },
   {
    "duration": 7,
    "start_time": "2023-04-02T09:08:26.413Z"
   },
   {
    "duration": 5,
    "start_time": "2023-04-02T09:08:34.524Z"
   },
   {
    "duration": 2,
    "start_time": "2023-04-02T09:08:49.000Z"
   },
   {
    "duration": 5,
    "start_time": "2023-04-02T09:09:22.101Z"
   },
   {
    "duration": 3,
    "start_time": "2023-04-02T09:09:52.405Z"
   },
   {
    "duration": 4,
    "start_time": "2023-04-02T09:10:05.821Z"
   },
   {
    "duration": 12,
    "start_time": "2023-04-02T09:13:59.116Z"
   },
   {
    "duration": 10,
    "start_time": "2023-04-02T09:14:15.185Z"
   },
   {
    "duration": 11,
    "start_time": "2023-04-02T09:14:31.271Z"
   },
   {
    "duration": 3,
    "start_time": "2023-04-02T09:15:15.090Z"
   },
   {
    "duration": 4,
    "start_time": "2023-04-02T09:15:19.076Z"
   },
   {
    "duration": 12,
    "start_time": "2023-04-02T09:15:30.198Z"
   },
   {
    "duration": 9,
    "start_time": "2023-04-02T09:16:51.091Z"
   },
   {
    "duration": 7,
    "start_time": "2023-04-02T09:16:54.901Z"
   },
   {
    "duration": 5,
    "start_time": "2023-04-02T09:17:06.968Z"
   },
   {
    "duration": 6,
    "start_time": "2023-04-02T09:17:21.045Z"
   },
   {
    "duration": 9,
    "start_time": "2023-04-02T09:17:26.718Z"
   },
   {
    "duration": 9,
    "start_time": "2023-04-02T09:17:57.147Z"
   },
   {
    "duration": 8,
    "start_time": "2023-04-02T09:18:07.822Z"
   },
   {
    "duration": 4,
    "start_time": "2023-04-02T09:18:12.704Z"
   },
   {
    "duration": 5,
    "start_time": "2023-04-02T09:18:50.691Z"
   },
   {
    "duration": 9,
    "start_time": "2023-04-02T09:18:51.991Z"
   },
   {
    "duration": 6,
    "start_time": "2023-04-02T09:19:06.429Z"
   },
   {
    "duration": 7,
    "start_time": "2023-04-02T09:19:20.789Z"
   },
   {
    "duration": 11,
    "start_time": "2023-04-02T09:19:29.700Z"
   },
   {
    "duration": 11,
    "start_time": "2023-04-02T09:19:46.047Z"
   },
   {
    "duration": 9,
    "start_time": "2023-04-02T09:20:22.918Z"
   },
   {
    "duration": 9,
    "start_time": "2023-04-02T09:20:27.617Z"
   },
   {
    "duration": 5,
    "start_time": "2023-04-02T09:21:48.142Z"
   },
   {
    "duration": 6,
    "start_time": "2023-04-02T09:21:57.996Z"
   },
   {
    "duration": 6,
    "start_time": "2023-04-02T09:22:00.603Z"
   },
   {
    "duration": 6,
    "start_time": "2023-04-02T09:22:27.784Z"
   },
   {
    "duration": 9,
    "start_time": "2023-04-02T09:25:38.587Z"
   },
   {
    "duration": 6,
    "start_time": "2023-04-02T09:25:46.110Z"
   },
   {
    "duration": 7,
    "start_time": "2023-04-02T09:26:04.913Z"
   },
   {
    "duration": 6,
    "start_time": "2023-04-02T09:26:43.091Z"
   },
   {
    "duration": 7,
    "start_time": "2023-04-02T09:29:17.975Z"
   },
   {
    "duration": 11,
    "start_time": "2023-04-02T09:29:30.128Z"
   },
   {
    "duration": 8,
    "start_time": "2023-04-02T09:29:57.183Z"
   },
   {
    "duration": 8,
    "start_time": "2023-04-02T09:30:11.930Z"
   },
   {
    "duration": 8,
    "start_time": "2023-04-02T09:32:10.428Z"
   },
   {
    "duration": 9,
    "start_time": "2023-04-02T09:34:31.605Z"
   },
   {
    "duration": 11,
    "start_time": "2023-04-02T09:41:46.718Z"
   },
   {
    "duration": 13,
    "start_time": "2023-04-02T09:43:30.410Z"
   },
   {
    "duration": 9,
    "start_time": "2023-04-02T09:44:50.318Z"
   },
   {
    "duration": 62,
    "start_time": "2023-04-02T09:45:58.472Z"
   },
   {
    "duration": 14,
    "start_time": "2023-04-02T09:46:04.122Z"
   },
   {
    "duration": 9,
    "start_time": "2023-04-02T09:46:17.267Z"
   },
   {
    "duration": 9,
    "start_time": "2023-04-02T09:46:46.734Z"
   },
   {
    "duration": 9,
    "start_time": "2023-04-02T09:47:29.171Z"
   },
   {
    "duration": 408,
    "start_time": "2023-04-02T09:49:33.486Z"
   },
   {
    "duration": 444,
    "start_time": "2023-04-02T09:49:54.203Z"
   },
   {
    "duration": 30,
    "start_time": "2023-04-02T09:50:10.517Z"
   },
   {
    "duration": 41,
    "start_time": "2023-04-02T09:50:13.823Z"
   },
   {
    "duration": 8,
    "start_time": "2023-04-02T09:50:59.596Z"
   },
   {
    "duration": 44,
    "start_time": "2023-04-02T09:51:04.481Z"
   },
   {
    "duration": 8,
    "start_time": "2023-04-02T09:51:11.494Z"
   },
   {
    "duration": 30,
    "start_time": "2023-04-02T09:51:18.771Z"
   },
   {
    "duration": 3,
    "start_time": "2023-04-02T09:51:23.399Z"
   },
   {
    "duration": 362,
    "start_time": "2023-04-02T09:51:23.406Z"
   },
   {
    "duration": 9,
    "start_time": "2023-04-02T09:51:23.770Z"
   },
   {
    "duration": 26,
    "start_time": "2023-04-02T09:51:23.781Z"
   },
   {
    "duration": 34,
    "start_time": "2023-04-02T09:51:23.808Z"
   },
   {
    "duration": 47,
    "start_time": "2023-04-02T09:51:23.844Z"
   },
   {
    "duration": 26,
    "start_time": "2023-04-02T09:51:23.893Z"
   },
   {
    "duration": 44,
    "start_time": "2023-04-02T09:51:23.921Z"
   },
   {
    "duration": 37,
    "start_time": "2023-04-02T09:51:23.966Z"
   },
   {
    "duration": 9,
    "start_time": "2023-04-02T09:51:24.006Z"
   },
   {
    "duration": 54,
    "start_time": "2023-04-02T09:51:24.016Z"
   },
   {
    "duration": 9,
    "start_time": "2023-04-02T09:51:24.071Z"
   },
   {
    "duration": 10,
    "start_time": "2023-04-02T09:51:24.081Z"
   },
   {
    "duration": 17,
    "start_time": "2023-04-02T09:51:24.093Z"
   },
   {
    "duration": 25,
    "start_time": "2023-04-02T09:51:24.112Z"
   },
   {
    "duration": 55,
    "start_time": "2023-04-02T09:51:24.139Z"
   },
   {
    "duration": 5,
    "start_time": "2023-04-02T09:51:24.195Z"
   },
   {
    "duration": 71,
    "start_time": "2023-04-02T09:51:24.202Z"
   },
   {
    "duration": 9,
    "start_time": "2023-04-02T09:51:24.274Z"
   },
   {
    "duration": 38,
    "start_time": "2023-04-02T09:51:24.285Z"
   },
   {
    "duration": 57,
    "start_time": "2023-04-02T09:52:32.375Z"
   },
   {
    "duration": 20,
    "start_time": "2023-04-02T09:52:37.683Z"
   },
   {
    "duration": 52,
    "start_time": "2023-04-02T09:53:53.024Z"
   },
   {
    "duration": 53,
    "start_time": "2023-04-02T09:53:56.368Z"
   },
   {
    "duration": 66,
    "start_time": "2023-04-02T09:53:59.230Z"
   },
   {
    "duration": 35,
    "start_time": "2023-04-02T09:54:54.689Z"
   },
   {
    "duration": 31,
    "start_time": "2023-04-02T09:55:03.517Z"
   },
   {
    "duration": 45,
    "start_time": "2023-04-02T09:55:09.118Z"
   },
   {
    "duration": 8,
    "start_time": "2023-04-02T09:56:13.298Z"
   },
   {
    "duration": 39,
    "start_time": "2023-04-02T09:56:19.272Z"
   },
   {
    "duration": 29,
    "start_time": "2023-04-02T09:56:21.968Z"
   },
   {
    "duration": 49,
    "start_time": "2023-04-02T09:56:36.666Z"
   },
   {
    "duration": 71,
    "start_time": "2023-04-02T09:56:41.002Z"
   },
   {
    "duration": 31,
    "start_time": "2023-04-02T09:56:49.309Z"
   },
   {
    "duration": 14,
    "start_time": "2023-04-02T09:57:49.375Z"
   },
   {
    "duration": 35,
    "start_time": "2023-04-02T09:58:04.638Z"
   },
   {
    "duration": 69,
    "start_time": "2023-04-02T09:59:56.129Z"
   },
   {
    "duration": 122,
    "start_time": "2023-04-02T10:00:03.167Z"
   },
   {
    "duration": 459,
    "start_time": "2023-04-02T10:00:44.571Z"
   },
   {
    "duration": 415,
    "start_time": "2023-04-02T10:01:11.426Z"
   },
   {
    "duration": 4,
    "start_time": "2023-04-02T10:03:15.039Z"
   },
   {
    "duration": 3,
    "start_time": "2023-04-02T10:03:28.626Z"
   },
   {
    "duration": 899,
    "start_time": "2023-04-02T10:03:49.194Z"
   },
   {
    "duration": 881,
    "start_time": "2023-04-02T10:03:54.088Z"
   },
   {
    "duration": 92,
    "start_time": "2023-04-02T10:04:05.319Z"
   },
   {
    "duration": 174,
    "start_time": "2023-04-02T10:04:10.692Z"
   },
   {
    "duration": 107,
    "start_time": "2023-04-02T10:04:21.277Z"
   },
   {
    "duration": 41,
    "start_time": "2023-04-02T10:04:28.076Z"
   },
   {
    "duration": 58,
    "start_time": "2023-04-02T10:05:23.075Z"
   },
   {
    "duration": 395,
    "start_time": "2023-04-02T10:05:48.190Z"
   },
   {
    "duration": 42,
    "start_time": "2023-04-02T10:07:17.234Z"
   },
   {
    "duration": 45,
    "start_time": "2023-04-02T10:07:21.475Z"
   },
   {
    "duration": 67,
    "start_time": "2023-04-02T10:07:39.374Z"
   },
   {
    "duration": 84,
    "start_time": "2023-04-02T10:07:42.047Z"
   },
   {
    "duration": 42,
    "start_time": "2023-04-02T10:08:41.137Z"
   },
   {
    "duration": 70,
    "start_time": "2023-04-02T10:09:04.275Z"
   },
   {
    "duration": 84,
    "start_time": "2023-04-02T10:09:06.934Z"
   },
   {
    "duration": 3,
    "start_time": "2023-04-02T10:09:15.767Z"
   },
   {
    "duration": 292,
    "start_time": "2023-04-02T10:09:15.771Z"
   },
   {
    "duration": 6,
    "start_time": "2023-04-02T10:09:16.065Z"
   },
   {
    "duration": 7,
    "start_time": "2023-04-02T10:09:16.072Z"
   },
   {
    "duration": 11,
    "start_time": "2023-04-02T10:09:16.081Z"
   },
   {
    "duration": 14,
    "start_time": "2023-04-02T10:09:16.093Z"
   },
   {
    "duration": 7,
    "start_time": "2023-04-02T10:09:16.109Z"
   },
   {
    "duration": 17,
    "start_time": "2023-04-02T10:09:16.117Z"
   },
   {
    "duration": 36,
    "start_time": "2023-04-02T10:09:16.135Z"
   },
   {
    "duration": 5,
    "start_time": "2023-04-02T10:09:16.172Z"
   },
   {
    "duration": 18,
    "start_time": "2023-04-02T10:09:16.178Z"
   },
   {
    "duration": 7,
    "start_time": "2023-04-02T10:09:16.197Z"
   },
   {
    "duration": 6,
    "start_time": "2023-04-02T10:09:16.205Z"
   },
   {
    "duration": 5,
    "start_time": "2023-04-02T10:09:16.213Z"
   },
   {
    "duration": 41,
    "start_time": "2023-04-02T10:09:16.219Z"
   },
   {
    "duration": 25,
    "start_time": "2023-04-02T10:09:16.261Z"
   },
   {
    "duration": 4,
    "start_time": "2023-04-02T10:09:16.287Z"
   },
   {
    "duration": 69,
    "start_time": "2023-04-02T10:09:16.293Z"
   },
   {
    "duration": 7,
    "start_time": "2023-04-02T10:09:16.364Z"
   },
   {
    "duration": 867,
    "start_time": "2023-04-02T10:09:16.373Z"
   },
   {
    "duration": 1266,
    "start_time": "2023-04-02T10:09:46.906Z"
   },
   {
    "duration": 1101,
    "start_time": "2023-04-02T10:09:53.992Z"
   },
   {
    "duration": 109,
    "start_time": "2023-04-02T10:10:23.117Z"
   },
   {
    "duration": 114,
    "start_time": "2023-04-02T10:10:25.774Z"
   },
   {
    "duration": 210,
    "start_time": "2023-04-02T10:10:48.066Z"
   },
   {
    "duration": 4,
    "start_time": "2023-04-02T10:10:55.700Z"
   },
   {
    "duration": 292,
    "start_time": "2023-04-02T10:10:55.705Z"
   },
   {
    "duration": 7,
    "start_time": "2023-04-02T10:10:55.999Z"
   },
   {
    "duration": 8,
    "start_time": "2023-04-02T10:10:56.008Z"
   },
   {
    "duration": 10,
    "start_time": "2023-04-02T10:10:56.019Z"
   },
   {
    "duration": 24,
    "start_time": "2023-04-02T10:10:56.048Z"
   },
   {
    "duration": 8,
    "start_time": "2023-04-02T10:10:56.074Z"
   },
   {
    "duration": 17,
    "start_time": "2023-04-02T10:10:56.084Z"
   },
   {
    "duration": 19,
    "start_time": "2023-04-02T10:10:56.102Z"
   },
   {
    "duration": 39,
    "start_time": "2023-04-02T10:10:56.122Z"
   },
   {
    "duration": 21,
    "start_time": "2023-04-02T10:10:56.163Z"
   },
   {
    "duration": 8,
    "start_time": "2023-04-02T10:10:56.185Z"
   },
   {
    "duration": 8,
    "start_time": "2023-04-02T10:10:56.194Z"
   },
   {
    "duration": 5,
    "start_time": "2023-04-02T10:10:56.204Z"
   },
   {
    "duration": 44,
    "start_time": "2023-04-02T10:10:56.211Z"
   },
   {
    "duration": 33,
    "start_time": "2023-04-02T10:10:56.256Z"
   },
   {
    "duration": 5,
    "start_time": "2023-04-02T10:10:56.290Z"
   },
   {
    "duration": 50,
    "start_time": "2023-04-02T10:10:56.296Z"
   },
   {
    "duration": 14,
    "start_time": "2023-04-02T10:10:56.347Z"
   },
   {
    "duration": 254,
    "start_time": "2023-04-02T10:10:56.363Z"
   },
   {
    "duration": 205,
    "start_time": "2023-04-02T10:11:00.071Z"
   },
   {
    "duration": 220,
    "start_time": "2023-04-02T10:11:09.014Z"
   },
   {
    "duration": 122,
    "start_time": "2023-04-02T10:11:19.682Z"
   },
   {
    "duration": 40,
    "start_time": "2023-04-02T10:15:48.093Z"
   },
   {
    "duration": 84,
    "start_time": "2023-04-02T10:16:24.875Z"
   },
   {
    "duration": 76,
    "start_time": "2023-04-02T10:16:39.607Z"
   },
   {
    "duration": 85,
    "start_time": "2023-04-02T10:16:48.079Z"
   },
   {
    "duration": 46,
    "start_time": "2023-04-02T10:17:32.499Z"
   },
   {
    "duration": 65,
    "start_time": "2023-04-02T10:17:34.603Z"
   },
   {
    "duration": 3,
    "start_time": "2023-04-02T10:17:37.526Z"
   },
   {
    "duration": 333,
    "start_time": "2023-04-02T10:17:37.530Z"
   },
   {
    "duration": 7,
    "start_time": "2023-04-02T10:17:37.864Z"
   },
   {
    "duration": 9,
    "start_time": "2023-04-02T10:17:37.872Z"
   },
   {
    "duration": 9,
    "start_time": "2023-04-02T10:17:37.882Z"
   },
   {
    "duration": 13,
    "start_time": "2023-04-02T10:17:37.892Z"
   },
   {
    "duration": 17,
    "start_time": "2023-04-02T10:17:37.906Z"
   },
   {
    "duration": 35,
    "start_time": "2023-04-02T10:17:37.924Z"
   },
   {
    "duration": 18,
    "start_time": "2023-04-02T10:17:37.964Z"
   },
   {
    "duration": 6,
    "start_time": "2023-04-02T10:17:37.983Z"
   },
   {
    "duration": 17,
    "start_time": "2023-04-02T10:17:37.990Z"
   },
   {
    "duration": 6,
    "start_time": "2023-04-02T10:17:38.008Z"
   },
   {
    "duration": 6,
    "start_time": "2023-04-02T10:17:38.015Z"
   },
   {
    "duration": 31,
    "start_time": "2023-04-02T10:17:38.023Z"
   },
   {
    "duration": 20,
    "start_time": "2023-04-02T10:17:38.055Z"
   },
   {
    "duration": 19,
    "start_time": "2023-04-02T10:17:38.076Z"
   },
   {
    "duration": 4,
    "start_time": "2023-04-02T10:17:38.096Z"
   },
   {
    "duration": 38,
    "start_time": "2023-04-02T10:17:38.101Z"
   },
   {
    "duration": 9,
    "start_time": "2023-04-02T10:17:38.141Z"
   },
   {
    "duration": 0,
    "start_time": "2023-04-02T10:17:41.026Z"
   },
   {
    "duration": 4,
    "start_time": "2023-04-02T10:18:19.078Z"
   },
   {
    "duration": 81,
    "start_time": "2023-04-02T10:19:45.194Z"
   },
   {
    "duration": 120,
    "start_time": "2023-04-02T10:20:07.191Z"
   },
   {
    "duration": 116,
    "start_time": "2023-04-02T10:20:16.553Z"
   },
   {
    "duration": 3,
    "start_time": "2023-04-02T10:20:58.802Z"
   },
   {
    "duration": 2,
    "start_time": "2023-04-02T10:23:40.387Z"
   },
   {
    "duration": 22,
    "start_time": "2023-04-02T10:29:13.875Z"
   },
   {
    "duration": 13,
    "start_time": "2023-04-02T10:29:50.913Z"
   },
   {
    "duration": 19,
    "start_time": "2023-04-02T10:30:42.225Z"
   },
   {
    "duration": 10,
    "start_time": "2023-04-02T10:31:41.023Z"
   },
   {
    "duration": 2,
    "start_time": "2023-04-02T10:31:49.499Z"
   },
   {
    "duration": 54,
    "start_time": "2023-04-02T10:36:21.812Z"
   },
   {
    "duration": 108,
    "start_time": "2023-04-02T10:37:08.640Z"
   },
   {
    "duration": 203,
    "start_time": "2023-04-02T10:37:48.591Z"
   },
   {
    "duration": 434,
    "start_time": "2023-04-02T10:38:06.772Z"
   },
   {
    "duration": 393,
    "start_time": "2023-04-02T10:38:17.113Z"
   },
   {
    "duration": 750,
    "start_time": "2023-04-02T10:58:55.619Z"
   },
   {
    "duration": 12,
    "start_time": "2023-04-02T10:59:41.876Z"
   },
   {
    "duration": 4,
    "start_time": "2023-04-02T11:09:22.905Z"
   },
   {
    "duration": 18,
    "start_time": "2023-04-02T11:11:53.255Z"
   },
   {
    "duration": 13,
    "start_time": "2023-04-02T11:12:46.981Z"
   },
   {
    "duration": 17,
    "start_time": "2023-04-02T11:13:46.981Z"
   },
   {
    "duration": 23,
    "start_time": "2023-04-02T11:15:29.543Z"
   },
   {
    "duration": 3659,
    "start_time": "2023-04-02T11:18:42.524Z"
   },
   {
    "duration": 3687,
    "start_time": "2023-04-02T11:18:49.581Z"
   },
   {
    "duration": 186,
    "start_time": "2023-04-02T11:19:09.065Z"
   },
   {
    "duration": 224,
    "start_time": "2023-04-02T11:19:23.125Z"
   },
   {
    "duration": 223,
    "start_time": "2023-04-02T11:19:27.699Z"
   },
   {
    "duration": 242,
    "start_time": "2023-04-02T11:19:29.704Z"
   },
   {
    "duration": 20,
    "start_time": "2023-04-02T11:20:13.708Z"
   },
   {
    "duration": 16,
    "start_time": "2023-04-02T11:21:37.769Z"
   },
   {
    "duration": 29,
    "start_time": "2023-04-02T11:21:45.600Z"
   },
   {
    "duration": 26,
    "start_time": "2023-04-02T11:22:08.863Z"
   },
   {
    "duration": 22,
    "start_time": "2023-04-02T11:24:14.435Z"
   },
   {
    "duration": 20,
    "start_time": "2023-04-02T11:24:25.736Z"
   },
   {
    "duration": 22,
    "start_time": "2023-04-02T11:24:47.332Z"
   },
   {
    "duration": 21,
    "start_time": "2023-04-02T11:24:54.805Z"
   },
   {
    "duration": 25,
    "start_time": "2023-04-02T11:24:59.737Z"
   },
   {
    "duration": 18,
    "start_time": "2023-04-02T11:25:03.565Z"
   },
   {
    "duration": 18,
    "start_time": "2023-04-02T11:25:16.265Z"
   },
   {
    "duration": 32,
    "start_time": "2023-04-02T11:25:23.181Z"
   },
   {
    "duration": 18,
    "start_time": "2023-04-02T11:25:52.136Z"
   },
   {
    "duration": 18,
    "start_time": "2023-04-02T11:27:06.474Z"
   },
   {
    "duration": 44,
    "start_time": "2023-04-02T11:27:59.293Z"
   },
   {
    "duration": 65,
    "start_time": "2023-04-02T11:28:27.455Z"
   },
   {
    "duration": 69,
    "start_time": "2023-04-02T11:28:29.777Z"
   },
   {
    "duration": 86,
    "start_time": "2023-04-02T11:28:39.287Z"
   },
   {
    "duration": 22,
    "start_time": "2023-04-02T11:28:55.031Z"
   },
   {
    "duration": 18,
    "start_time": "2023-04-02T11:29:10.334Z"
   },
   {
    "duration": 20,
    "start_time": "2023-04-02T11:32:35.822Z"
   },
   {
    "duration": 19,
    "start_time": "2023-04-02T11:32:52.858Z"
   },
   {
    "duration": 239,
    "start_time": "2023-04-02T11:36:17.558Z"
   },
   {
    "duration": 74,
    "start_time": "2023-04-02T11:39:02.496Z"
   },
   {
    "duration": 76,
    "start_time": "2023-04-02T11:39:12.366Z"
   },
   {
    "duration": 180,
    "start_time": "2023-04-02T11:39:44.307Z"
   },
   {
    "duration": 71,
    "start_time": "2023-04-02T11:39:48.479Z"
   },
   {
    "duration": 99,
    "start_time": "2023-04-02T11:41:40.302Z"
   },
   {
    "duration": 86,
    "start_time": "2023-04-02T11:41:43.486Z"
   },
   {
    "duration": 97,
    "start_time": "2023-04-02T11:41:50.452Z"
   },
   {
    "duration": 227,
    "start_time": "2023-04-02T11:42:58.169Z"
   },
   {
    "duration": 34,
    "start_time": "2023-04-02T11:49:57.440Z"
   },
   {
    "duration": 266,
    "start_time": "2023-04-02T11:49:58.405Z"
   },
   {
    "duration": 232,
    "start_time": "2023-04-02T11:50:29.781Z"
   },
   {
    "duration": 409,
    "start_time": "2023-04-02T11:50:35.886Z"
   },
   {
    "duration": 324,
    "start_time": "2023-04-02T11:50:50.467Z"
   },
   {
    "duration": 558,
    "start_time": "2023-04-02T11:53:21.613Z"
   },
   {
    "duration": 8,
    "start_time": "2023-04-02T12:01:01.614Z"
   },
   {
    "duration": 81,
    "start_time": "2023-04-02T12:02:35.640Z"
   },
   {
    "duration": 21,
    "start_time": "2023-04-02T12:02:39.722Z"
   },
   {
    "duration": 998,
    "start_time": "2023-04-02T12:02:45.973Z"
   },
   {
    "duration": 50,
    "start_time": "2023-04-02T12:04:29.634Z"
   },
   {
    "duration": 6,
    "start_time": "2023-04-02T12:04:37.885Z"
   },
   {
    "duration": 61,
    "start_time": "2023-04-02T12:04:46.767Z"
   },
   {
    "duration": 2169,
    "start_time": "2023-04-02T12:06:02.128Z"
   },
   {
    "duration": 359,
    "start_time": "2023-04-02T12:06:04.299Z"
   },
   {
    "duration": 11,
    "start_time": "2023-04-02T12:06:04.661Z"
   },
   {
    "duration": 15,
    "start_time": "2023-04-02T12:06:04.675Z"
   },
   {
    "duration": 93,
    "start_time": "2023-04-02T12:06:04.691Z"
   },
   {
    "duration": 15,
    "start_time": "2023-04-02T12:06:04.786Z"
   },
   {
    "duration": 15,
    "start_time": "2023-04-02T12:06:04.803Z"
   },
   {
    "duration": 18,
    "start_time": "2023-04-02T12:06:04.820Z"
   },
   {
    "duration": 19,
    "start_time": "2023-04-02T12:06:04.839Z"
   },
   {
    "duration": 5,
    "start_time": "2023-04-02T12:06:04.860Z"
   },
   {
    "duration": 19,
    "start_time": "2023-04-02T12:06:04.866Z"
   },
   {
    "duration": 8,
    "start_time": "2023-04-02T12:06:04.886Z"
   },
   {
    "duration": 7,
    "start_time": "2023-04-02T12:06:04.895Z"
   },
   {
    "duration": 4,
    "start_time": "2023-04-02T12:06:04.904Z"
   },
   {
    "duration": 41,
    "start_time": "2023-04-02T12:06:04.909Z"
   },
   {
    "duration": 21,
    "start_time": "2023-04-02T12:06:04.952Z"
   },
   {
    "duration": 5,
    "start_time": "2023-04-02T12:06:04.975Z"
   },
   {
    "duration": 73,
    "start_time": "2023-04-02T12:06:04.982Z"
   },
   {
    "duration": 9,
    "start_time": "2023-04-02T12:06:05.057Z"
   },
   {
    "duration": 454,
    "start_time": "2023-04-02T12:06:05.068Z"
   },
   {
    "duration": 94,
    "start_time": "2023-04-02T12:06:05.524Z"
   },
   {
    "duration": 713,
    "start_time": "2023-04-02T12:06:05.619Z"
   },
   {
    "duration": 41,
    "start_time": "2023-04-02T12:06:06.333Z"
   },
   {
    "duration": 691,
    "start_time": "2023-04-02T12:06:06.375Z"
   },
   {
    "duration": 53,
    "start_time": "2023-04-02T12:06:07.067Z"
   },
   {
    "duration": 3877,
    "start_time": "2023-04-02T12:06:07.121Z"
   },
   {
    "duration": 231,
    "start_time": "2023-04-02T12:06:10.999Z"
   },
   {
    "duration": 48,
    "start_time": "2023-04-02T12:06:11.233Z"
   },
   {
    "duration": 234,
    "start_time": "2023-04-02T12:06:11.282Z"
   },
   {
    "duration": 8,
    "start_time": "2023-04-02T12:06:11.517Z"
   },
   {
    "duration": 39,
    "start_time": "2023-04-02T12:06:11.527Z"
   },
   {
    "duration": 26,
    "start_time": "2023-04-02T12:06:11.568Z"
   },
   {
    "duration": 382,
    "start_time": "2023-04-02T12:06:11.595Z"
   },
   {
    "duration": 31,
    "start_time": "2023-04-02T12:06:11.978Z"
   },
   {
    "duration": 72,
    "start_time": "2023-04-02T12:06:12.010Z"
   },
   {
    "duration": 12,
    "start_time": "2023-04-02T12:07:17.849Z"
   },
   {
    "duration": 25,
    "start_time": "2023-04-02T12:07:25.069Z"
   },
   {
    "duration": 10,
    "start_time": "2023-04-02T12:08:58.338Z"
   },
   {
    "duration": 20,
    "start_time": "2023-04-02T12:09:08.550Z"
   },
   {
    "duration": 13,
    "start_time": "2023-04-02T12:09:51.024Z"
   },
   {
    "duration": 23,
    "start_time": "2023-04-02T12:10:00.296Z"
   },
   {
    "duration": 3374,
    "start_time": "2023-04-02T12:11:21.198Z"
   },
   {
    "duration": 18,
    "start_time": "2023-04-02T12:12:02.934Z"
   },
   {
    "duration": 56,
    "start_time": "2023-04-02T12:12:19.217Z"
   },
   {
    "duration": 523,
    "start_time": "2023-04-02T12:12:36.155Z"
   },
   {
    "duration": 519,
    "start_time": "2023-04-02T12:15:45.626Z"
   },
   {
    "duration": 517,
    "start_time": "2023-04-02T12:16:12.463Z"
   },
   {
    "duration": 17,
    "start_time": "2023-04-02T12:17:46.374Z"
   },
   {
    "duration": 41,
    "start_time": "2023-04-02T12:18:43.461Z"
   },
   {
    "duration": 6,
    "start_time": "2023-04-02T12:18:49.866Z"
   },
   {
    "duration": 6,
    "start_time": "2023-04-02T12:19:10.650Z"
   },
   {
    "duration": 1157,
    "start_time": "2023-04-02T12:19:26.687Z"
   },
   {
    "duration": 429,
    "start_time": "2023-04-02T12:19:27.846Z"
   },
   {
    "duration": 10,
    "start_time": "2023-04-02T12:19:28.276Z"
   },
   {
    "duration": 6,
    "start_time": "2023-04-02T12:19:28.288Z"
   },
   {
    "duration": 77,
    "start_time": "2023-04-02T12:19:28.296Z"
   },
   {
    "duration": 15,
    "start_time": "2023-04-02T12:19:28.375Z"
   },
   {
    "duration": 14,
    "start_time": "2023-04-02T12:19:28.391Z"
   },
   {
    "duration": 22,
    "start_time": "2023-04-02T12:19:28.406Z"
   },
   {
    "duration": 20,
    "start_time": "2023-04-02T12:19:28.429Z"
   },
   {
    "duration": 10,
    "start_time": "2023-04-02T12:19:28.451Z"
   },
   {
    "duration": 23,
    "start_time": "2023-04-02T12:19:28.462Z"
   },
   {
    "duration": 8,
    "start_time": "2023-04-02T12:19:28.486Z"
   },
   {
    "duration": 8,
    "start_time": "2023-04-02T12:19:28.496Z"
   },
   {
    "duration": 10,
    "start_time": "2023-04-02T12:19:28.506Z"
   },
   {
    "duration": 34,
    "start_time": "2023-04-02T12:19:28.518Z"
   },
   {
    "duration": 25,
    "start_time": "2023-04-02T12:19:28.554Z"
   },
   {
    "duration": 4,
    "start_time": "2023-04-02T12:19:28.580Z"
   },
   {
    "duration": 54,
    "start_time": "2023-04-02T12:19:28.585Z"
   },
   {
    "duration": 8,
    "start_time": "2023-04-02T12:19:28.648Z"
   },
   {
    "duration": 487,
    "start_time": "2023-04-02T12:19:28.658Z"
   },
   {
    "duration": 102,
    "start_time": "2023-04-02T12:19:29.148Z"
   },
   {
    "duration": 661,
    "start_time": "2023-04-02T12:19:29.252Z"
   },
   {
    "duration": 44,
    "start_time": "2023-04-02T12:19:29.914Z"
   },
   {
    "duration": 652,
    "start_time": "2023-04-02T12:19:29.960Z"
   },
   {
    "duration": 52,
    "start_time": "2023-04-02T12:19:30.614Z"
   },
   {
    "duration": 3677,
    "start_time": "2023-04-02T12:19:30.668Z"
   },
   {
    "duration": 194,
    "start_time": "2023-04-02T12:19:34.347Z"
   },
   {
    "duration": 40,
    "start_time": "2023-04-02T12:19:34.549Z"
   },
   {
    "duration": 265,
    "start_time": "2023-04-02T12:19:34.591Z"
   },
   {
    "duration": 8,
    "start_time": "2023-04-02T12:19:34.857Z"
   },
   {
    "duration": 25,
    "start_time": "2023-04-02T12:19:34.866Z"
   },
   {
    "duration": 19,
    "start_time": "2023-04-02T12:19:34.892Z"
   },
   {
    "duration": 380,
    "start_time": "2023-04-02T12:19:34.912Z"
   },
   {
    "duration": 35,
    "start_time": "2023-04-02T12:19:35.294Z"
   },
   {
    "duration": 21,
    "start_time": "2023-04-02T12:19:35.331Z"
   },
   {
    "duration": 13,
    "start_time": "2023-04-02T12:19:40.252Z"
   },
   {
    "duration": 176,
    "start_time": "2023-04-02T12:30:21.481Z"
   },
   {
    "duration": 5,
    "start_time": "2023-04-02T12:30:25.535Z"
   },
   {
    "duration": 51,
    "start_time": "2023-04-02T12:30:54.215Z"
   },
   {
    "duration": 56,
    "start_time": "2023-04-02T12:31:38.580Z"
   },
   {
    "duration": 47,
    "start_time": "2023-04-02T12:31:49.281Z"
   },
   {
    "duration": 42,
    "start_time": "2023-04-02T12:31:58.513Z"
   },
   {
    "duration": 5,
    "start_time": "2023-04-02T12:33:14.372Z"
   },
   {
    "duration": 47,
    "start_time": "2023-04-02T12:33:32.760Z"
   },
   {
    "duration": 49,
    "start_time": "2023-04-02T12:33:48.110Z"
   },
   {
    "duration": 50,
    "start_time": "2023-04-02T12:33:51.778Z"
   },
   {
    "duration": 41,
    "start_time": "2023-04-02T12:34:01.548Z"
   },
   {
    "duration": 3503,
    "start_time": "2023-04-02T12:37:56.536Z"
   },
   {
    "duration": 700,
    "start_time": "2023-04-02T12:38:00.041Z"
   },
   {
    "duration": 117,
    "start_time": "2023-04-02T12:38:13.071Z"
   },
   {
    "duration": 8,
    "start_time": "2023-04-02T12:38:15.369Z"
   },
   {
    "duration": 17,
    "start_time": "2023-04-02T12:38:17.765Z"
   },
   {
    "duration": 26,
    "start_time": "2023-04-02T12:38:49.004Z"
   },
   {
    "duration": 2939,
    "start_time": "2023-04-02T12:40:25.381Z"
   },
   {
    "duration": 398,
    "start_time": "2023-04-02T12:40:28.322Z"
   },
   {
    "duration": 14,
    "start_time": "2023-04-02T12:40:28.722Z"
   },
   {
    "duration": 6,
    "start_time": "2023-04-02T12:40:28.738Z"
   },
   {
    "duration": 130,
    "start_time": "2023-04-02T12:40:28.745Z"
   },
   {
    "duration": 17,
    "start_time": "2023-04-02T12:40:28.876Z"
   },
   {
    "duration": 11,
    "start_time": "2023-04-02T12:40:28.894Z"
   },
   {
    "duration": 23,
    "start_time": "2023-04-02T12:40:28.907Z"
   },
   {
    "duration": 35,
    "start_time": "2023-04-02T12:40:28.931Z"
   },
   {
    "duration": 35,
    "start_time": "2023-04-02T12:40:28.969Z"
   },
   {
    "duration": 34,
    "start_time": "2023-04-02T12:40:29.005Z"
   },
   {
    "duration": 6,
    "start_time": "2023-04-02T12:40:29.040Z"
   },
   {
    "duration": 54,
    "start_time": "2023-04-02T12:40:29.047Z"
   },
   {
    "duration": 5,
    "start_time": "2023-04-02T12:40:29.102Z"
   },
   {
    "duration": 7,
    "start_time": "2023-04-02T12:40:29.108Z"
   },
   {
    "duration": 24,
    "start_time": "2023-04-02T12:40:29.117Z"
   },
   {
    "duration": 5,
    "start_time": "2023-04-02T12:40:29.142Z"
   },
   {
    "duration": 85,
    "start_time": "2023-04-02T12:40:29.148Z"
   },
   {
    "duration": 8,
    "start_time": "2023-04-02T12:40:29.234Z"
   },
   {
    "duration": 444,
    "start_time": "2023-04-02T12:40:29.244Z"
   },
   {
    "duration": 96,
    "start_time": "2023-04-02T12:40:29.689Z"
   },
   {
    "duration": 652,
    "start_time": "2023-04-02T12:40:29.787Z"
   },
   {
    "duration": 57,
    "start_time": "2023-04-02T12:40:30.441Z"
   },
   {
    "duration": 708,
    "start_time": "2023-04-02T12:40:30.500Z"
   },
   {
    "duration": 65,
    "start_time": "2023-04-02T12:40:31.209Z"
   },
   {
    "duration": 3971,
    "start_time": "2023-04-02T12:40:31.276Z"
   },
   {
    "duration": 223,
    "start_time": "2023-04-02T12:40:35.249Z"
   },
   {
    "duration": 43,
    "start_time": "2023-04-02T12:40:35.475Z"
   },
   {
    "duration": 275,
    "start_time": "2023-04-02T12:40:35.519Z"
   },
   {
    "duration": 9,
    "start_time": "2023-04-02T12:40:35.796Z"
   },
   {
    "duration": 21,
    "start_time": "2023-04-02T12:40:35.806Z"
   },
   {
    "duration": 41,
    "start_time": "2023-04-02T12:40:35.828Z"
   },
   {
    "duration": 388,
    "start_time": "2023-04-02T12:40:35.871Z"
   },
   {
    "duration": 39,
    "start_time": "2023-04-02T12:40:36.261Z"
   },
   {
    "duration": 12,
    "start_time": "2023-04-02T12:40:36.301Z"
   },
   {
    "duration": 17,
    "start_time": "2023-04-02T12:40:36.314Z"
   },
   {
    "duration": 23,
    "start_time": "2023-04-02T12:40:36.332Z"
   },
   {
    "duration": 85,
    "start_time": "2023-04-02T12:40:36.356Z"
   },
   {
    "duration": 72,
    "start_time": "2023-04-02T12:40:36.442Z"
   },
   {
    "duration": 61,
    "start_time": "2023-04-02T12:40:36.516Z"
   },
   {
    "duration": 85,
    "start_time": "2023-04-02T12:50:14.336Z"
   },
   {
    "duration": 3,
    "start_time": "2023-04-02T12:50:17.706Z"
   },
   {
    "duration": 3,
    "start_time": "2023-04-02T12:50:24.601Z"
   },
   {
    "duration": 55,
    "start_time": "2023-04-02T12:50:54.228Z"
   },
   {
    "duration": 18,
    "start_time": "2023-04-02T12:50:59.680Z"
   },
   {
    "duration": 24,
    "start_time": "2023-04-02T12:51:03.276Z"
   },
   {
    "duration": 14,
    "start_time": "2023-04-02T12:51:07.273Z"
   },
   {
    "duration": 11,
    "start_time": "2023-04-02T12:51:07.893Z"
   },
   {
    "duration": 3,
    "start_time": "2023-04-02T12:51:51.542Z"
   },
   {
    "duration": 10,
    "start_time": "2023-04-02T12:51:53.394Z"
   },
   {
    "duration": 5,
    "start_time": "2023-04-02T12:51:57.916Z"
   },
   {
    "duration": 7,
    "start_time": "2023-04-02T12:52:00.333Z"
   },
   {
    "duration": 11,
    "start_time": "2023-04-02T12:52:02.488Z"
   },
   {
    "duration": 21,
    "start_time": "2023-04-02T12:52:23.583Z"
   },
   {
    "duration": 13,
    "start_time": "2023-04-02T12:52:44.676Z"
   },
   {
    "duration": 12,
    "start_time": "2023-04-02T12:53:12.975Z"
   },
   {
    "duration": 3,
    "start_time": "2023-04-02T12:53:31.421Z"
   },
   {
    "duration": 14,
    "start_time": "2023-04-02T12:53:43.579Z"
   },
   {
    "duration": 20,
    "start_time": "2023-04-02T12:54:11.692Z"
   },
   {
    "duration": 3,
    "start_time": "2023-04-02T12:55:03.046Z"
   },
   {
    "duration": 51,
    "start_time": "2023-04-02T12:56:20.417Z"
   },
   {
    "duration": 3,
    "start_time": "2023-04-02T12:56:41.213Z"
   },
   {
    "duration": 118,
    "start_time": "2023-04-02T12:56:43.776Z"
   },
   {
    "duration": 18,
    "start_time": "2023-04-02T12:58:05.687Z"
   },
   {
    "duration": 22,
    "start_time": "2023-04-02T12:58:51.088Z"
   },
   {
    "duration": 25,
    "start_time": "2023-04-02T12:58:59.408Z"
   },
   {
    "duration": 18,
    "start_time": "2023-04-02T12:59:47.103Z"
   },
   {
    "duration": 3,
    "start_time": "2023-04-02T13:00:08.482Z"
   },
   {
    "duration": 30,
    "start_time": "2023-04-02T13:00:09.179Z"
   },
   {
    "duration": 3,
    "start_time": "2023-04-02T13:00:57.477Z"
   },
   {
    "duration": 18,
    "start_time": "2023-04-02T13:03:24.403Z"
   },
   {
    "duration": 16,
    "start_time": "2023-04-02T13:03:39.505Z"
   },
   {
    "duration": 14,
    "start_time": "2023-04-02T13:04:31.987Z"
   },
   {
    "duration": 13,
    "start_time": "2023-04-02T13:04:49.133Z"
   },
   {
    "duration": 15,
    "start_time": "2023-04-02T13:04:54.076Z"
   },
   {
    "duration": 4,
    "start_time": "2023-04-02T13:05:09.946Z"
   },
   {
    "duration": 13,
    "start_time": "2023-04-02T13:05:10.877Z"
   },
   {
    "duration": 28,
    "start_time": "2023-04-02T13:05:32.685Z"
   },
   {
    "duration": 34,
    "start_time": "2023-04-02T13:05:54.852Z"
   },
   {
    "duration": 9,
    "start_time": "2023-04-02T13:07:20.591Z"
   },
   {
    "duration": 26,
    "start_time": "2023-04-02T13:08:30.235Z"
   },
   {
    "duration": 19,
    "start_time": "2023-04-02T13:09:08.973Z"
   },
   {
    "duration": 8,
    "start_time": "2023-04-02T13:11:25.615Z"
   },
   {
    "duration": 4,
    "start_time": "2023-04-02T13:11:39.241Z"
   },
   {
    "duration": 30,
    "start_time": "2023-04-02T13:11:42.504Z"
   },
   {
    "duration": 45,
    "start_time": "2023-04-02T13:11:49.336Z"
   },
   {
    "duration": 3,
    "start_time": "2023-04-02T13:13:13.439Z"
   },
   {
    "duration": 28,
    "start_time": "2023-04-02T13:13:26.339Z"
   },
   {
    "duration": 23,
    "start_time": "2023-04-02T13:13:45.095Z"
   },
   {
    "duration": 26,
    "start_time": "2023-04-02T13:23:10.091Z"
   },
   {
    "duration": 36,
    "start_time": "2023-04-02T13:24:03.143Z"
   },
   {
    "duration": 1027,
    "start_time": "2023-04-02T15:12:53.767Z"
   },
   {
    "duration": 328,
    "start_time": "2023-04-02T15:12:54.796Z"
   },
   {
    "duration": 9,
    "start_time": "2023-04-02T15:12:55.125Z"
   },
   {
    "duration": 7,
    "start_time": "2023-04-02T15:12:55.136Z"
   },
   {
    "duration": 59,
    "start_time": "2023-04-02T15:12:55.144Z"
   },
   {
    "duration": 15,
    "start_time": "2023-04-02T15:12:55.204Z"
   },
   {
    "duration": 13,
    "start_time": "2023-04-02T15:12:55.221Z"
   },
   {
    "duration": 35,
    "start_time": "2023-04-02T15:12:55.235Z"
   },
   {
    "duration": 21,
    "start_time": "2023-04-02T15:12:55.271Z"
   },
   {
    "duration": 26,
    "start_time": "2023-04-02T15:12:55.293Z"
   },
   {
    "duration": 58,
    "start_time": "2023-04-02T15:12:55.320Z"
   },
   {
    "duration": 10,
    "start_time": "2023-04-02T15:12:55.379Z"
   },
   {
    "duration": 35,
    "start_time": "2023-04-02T15:12:55.391Z"
   },
   {
    "duration": 5,
    "start_time": "2023-04-02T15:12:55.428Z"
   },
   {
    "duration": 5,
    "start_time": "2023-04-02T15:12:55.434Z"
   },
   {
    "duration": 21,
    "start_time": "2023-04-02T15:12:55.440Z"
   },
   {
    "duration": 4,
    "start_time": "2023-04-02T15:12:55.462Z"
   },
   {
    "duration": 45,
    "start_time": "2023-04-02T15:12:55.467Z"
   },
   {
    "duration": 8,
    "start_time": "2023-04-02T15:12:55.513Z"
   },
   {
    "duration": 499,
    "start_time": "2023-04-02T15:12:55.522Z"
   },
   {
    "duration": 106,
    "start_time": "2023-04-02T15:12:56.023Z"
   },
   {
    "duration": 774,
    "start_time": "2023-04-02T15:12:56.130Z"
   },
   {
    "duration": 56,
    "start_time": "2023-04-02T15:12:56.905Z"
   },
   {
    "duration": 695,
    "start_time": "2023-04-02T15:12:56.962Z"
   },
   {
    "duration": 49,
    "start_time": "2023-04-02T15:12:57.658Z"
   },
   {
    "duration": 4268,
    "start_time": "2023-04-02T15:12:57.709Z"
   },
   {
    "duration": 205,
    "start_time": "2023-04-02T15:13:01.979Z"
   },
   {
    "duration": 52,
    "start_time": "2023-04-02T15:13:02.186Z"
   },
   {
    "duration": 234,
    "start_time": "2023-04-02T15:13:02.239Z"
   },
   {
    "duration": 8,
    "start_time": "2023-04-02T15:13:02.475Z"
   },
   {
    "duration": 37,
    "start_time": "2023-04-02T15:13:02.484Z"
   },
   {
    "duration": 19,
    "start_time": "2023-04-02T15:13:02.522Z"
   },
   {
    "duration": 360,
    "start_time": "2023-04-02T15:13:02.542Z"
   },
   {
    "duration": 34,
    "start_time": "2023-04-02T15:13:02.903Z"
   },
   {
    "duration": 25,
    "start_time": "2023-04-02T15:13:02.939Z"
   },
   {
    "duration": 6,
    "start_time": "2023-04-02T15:13:02.965Z"
   },
   {
    "duration": 63,
    "start_time": "2023-04-02T15:13:02.972Z"
   },
   {
    "duration": 56,
    "start_time": "2023-04-02T15:13:03.037Z"
   },
   {
    "duration": 37,
    "start_time": "2023-04-02T15:13:03.095Z"
   },
   {
    "duration": 3,
    "start_time": "2023-04-02T15:13:03.134Z"
   },
   {
    "duration": 27,
    "start_time": "2023-04-02T15:13:03.138Z"
   },
   {
    "duration": 14,
    "start_time": "2023-04-02T15:19:24.299Z"
   },
   {
    "duration": 2,
    "start_time": "2023-04-02T15:19:35.774Z"
   },
   {
    "duration": 234,
    "start_time": "2023-04-02T15:19:35.778Z"
   },
   {
    "duration": 6,
    "start_time": "2023-04-02T15:19:36.014Z"
   },
   {
    "duration": 30,
    "start_time": "2023-04-02T15:19:36.021Z"
   },
   {
    "duration": 24,
    "start_time": "2023-04-02T15:19:36.052Z"
   },
   {
    "duration": 28,
    "start_time": "2023-04-02T15:19:36.078Z"
   },
   {
    "duration": 25,
    "start_time": "2023-04-02T15:19:36.107Z"
   },
   {
    "duration": 15,
    "start_time": "2023-04-02T15:19:36.133Z"
   },
   {
    "duration": 16,
    "start_time": "2023-04-02T15:19:36.149Z"
   },
   {
    "duration": 4,
    "start_time": "2023-04-02T15:19:36.166Z"
   },
   {
    "duration": 23,
    "start_time": "2023-04-02T15:19:36.172Z"
   },
   {
    "duration": 5,
    "start_time": "2023-04-02T15:19:36.197Z"
   },
   {
    "duration": 9,
    "start_time": "2023-04-02T15:19:36.203Z"
   },
   {
    "duration": 22,
    "start_time": "2023-04-02T15:19:36.213Z"
   },
   {
    "duration": 12,
    "start_time": "2023-04-02T15:19:36.237Z"
   },
   {
    "duration": 22,
    "start_time": "2023-04-02T15:19:36.250Z"
   },
   {
    "duration": 4,
    "start_time": "2023-04-02T15:19:36.273Z"
   },
   {
    "duration": 27,
    "start_time": "2023-04-02T15:19:36.278Z"
   },
   {
    "duration": 8,
    "start_time": "2023-04-02T15:22:37.015Z"
   },
   {
    "duration": 17,
    "start_time": "2023-04-02T15:22:46.562Z"
   },
   {
    "duration": 26,
    "start_time": "2023-04-02T15:24:52.865Z"
   },
   {
    "duration": 41,
    "start_time": "2023-04-02T15:27:09.700Z"
   },
   {
    "duration": 4,
    "start_time": "2023-04-02T15:28:21.230Z"
   },
   {
    "duration": 10,
    "start_time": "2023-04-02T15:28:41.161Z"
   },
   {
    "duration": 967,
    "start_time": "2023-04-02T15:28:55.361Z"
   },
   {
    "duration": 64,
    "start_time": "2023-04-02T15:28:59.113Z"
   },
   {
    "duration": 1302,
    "start_time": "2023-04-02T15:29:08.180Z"
   },
   {
    "duration": 66,
    "start_time": "2023-04-02T15:29:11.322Z"
   },
   {
    "duration": 16,
    "start_time": "2023-04-02T15:30:12.983Z"
   },
   {
    "duration": 23,
    "start_time": "2023-04-02T15:30:52.561Z"
   },
   {
    "duration": 29,
    "start_time": "2023-04-02T15:31:00.819Z"
   },
   {
    "duration": 1020,
    "start_time": "2023-04-02T15:33:10.073Z"
   },
   {
    "duration": 60,
    "start_time": "2023-04-02T15:33:14.020Z"
   },
   {
    "duration": 1049,
    "start_time": "2023-04-02T15:34:30.225Z"
   },
   {
    "duration": 2,
    "start_time": "2023-04-02T15:34:39.483Z"
   },
   {
    "duration": 308,
    "start_time": "2023-04-02T15:34:39.488Z"
   },
   {
    "duration": 8,
    "start_time": "2023-04-02T15:34:39.798Z"
   },
   {
    "duration": 16,
    "start_time": "2023-04-02T15:34:39.808Z"
   },
   {
    "duration": 36,
    "start_time": "2023-04-02T15:34:39.826Z"
   },
   {
    "duration": 35,
    "start_time": "2023-04-02T15:34:39.864Z"
   },
   {
    "duration": 26,
    "start_time": "2023-04-02T15:34:39.900Z"
   },
   {
    "duration": 53,
    "start_time": "2023-04-02T15:34:39.927Z"
   },
   {
    "duration": 27,
    "start_time": "2023-04-02T15:34:39.981Z"
   },
   {
    "duration": 14,
    "start_time": "2023-04-02T15:34:40.010Z"
   },
   {
    "duration": 41,
    "start_time": "2023-04-02T15:34:40.026Z"
   },
   {
    "duration": 24,
    "start_time": "2023-04-02T15:34:40.069Z"
   },
   {
    "duration": 13,
    "start_time": "2023-04-02T15:34:40.094Z"
   },
   {
    "duration": 27,
    "start_time": "2023-04-02T15:34:40.108Z"
   },
   {
    "duration": 19,
    "start_time": "2023-04-02T15:34:40.136Z"
   },
   {
    "duration": 49,
    "start_time": "2023-04-02T15:34:40.158Z"
   },
   {
    "duration": 12,
    "start_time": "2023-04-02T15:34:40.210Z"
   },
   {
    "duration": 69,
    "start_time": "2023-04-02T15:34:40.224Z"
   },
   {
    "duration": 28,
    "start_time": "2023-04-02T15:34:40.295Z"
   },
   {
    "duration": 309,
    "start_time": "2023-04-02T15:35:49.387Z"
   },
   {
    "duration": 407,
    "start_time": "2023-04-02T15:35:54.607Z"
   },
   {
    "duration": 53,
    "start_time": "2023-04-02T15:37:57.162Z"
   },
   {
    "duration": 423,
    "start_time": "2023-04-02T15:38:10.009Z"
   },
   {
    "duration": 392,
    "start_time": "2023-04-02T15:38:45.834Z"
   },
   {
    "duration": 1163,
    "start_time": "2023-04-02T15:39:37.040Z"
   },
   {
    "duration": 54,
    "start_time": "2023-04-02T15:39:42.856Z"
   },
   {
    "duration": 1135,
    "start_time": "2023-04-02T15:39:47.204Z"
   },
   {
    "duration": 71,
    "start_time": "2023-04-02T15:39:49.751Z"
   },
   {
    "duration": 992,
    "start_time": "2023-04-02T15:39:58.190Z"
   },
   {
    "duration": 65,
    "start_time": "2023-04-02T15:40:04.111Z"
   },
   {
    "duration": 28,
    "start_time": "2023-04-02T15:40:08.485Z"
   },
   {
    "duration": 3,
    "start_time": "2023-04-02T15:40:17.208Z"
   },
   {
    "duration": 269,
    "start_time": "2023-04-02T15:40:17.212Z"
   },
   {
    "duration": 6,
    "start_time": "2023-04-02T15:40:17.482Z"
   },
   {
    "duration": 64,
    "start_time": "2023-04-02T15:40:17.489Z"
   },
   {
    "duration": 21,
    "start_time": "2023-04-02T15:40:17.556Z"
   },
   {
    "duration": 18,
    "start_time": "2023-04-02T15:40:17.579Z"
   },
   {
    "duration": 8,
    "start_time": "2023-04-02T15:40:17.598Z"
   },
   {
    "duration": 15,
    "start_time": "2023-04-02T15:40:17.607Z"
   },
   {
    "duration": 34,
    "start_time": "2023-04-02T15:40:17.623Z"
   },
   {
    "duration": 7,
    "start_time": "2023-04-02T15:40:17.659Z"
   },
   {
    "duration": 27,
    "start_time": "2023-04-02T15:40:17.668Z"
   },
   {
    "duration": 6,
    "start_time": "2023-04-02T15:40:17.696Z"
   },
   {
    "duration": 6,
    "start_time": "2023-04-02T15:40:17.704Z"
   },
   {
    "duration": 5,
    "start_time": "2023-04-02T15:40:17.711Z"
   },
   {
    "duration": 5,
    "start_time": "2023-04-02T15:40:17.717Z"
   },
   {
    "duration": 45,
    "start_time": "2023-04-02T15:40:17.723Z"
   },
   {
    "duration": 4,
    "start_time": "2023-04-02T15:40:17.769Z"
   },
   {
    "duration": 45,
    "start_time": "2023-04-02T15:40:17.775Z"
   },
   {
    "duration": 49,
    "start_time": "2023-04-02T15:40:17.822Z"
   },
   {
    "duration": 379,
    "start_time": "2023-04-02T15:40:17.872Z"
   },
   {
    "duration": 32,
    "start_time": "2023-04-02T15:44:29.835Z"
   },
   {
    "duration": 29,
    "start_time": "2023-04-02T15:44:45.782Z"
   },
   {
    "duration": 33,
    "start_time": "2023-04-02T15:46:56.281Z"
   },
   {
    "duration": 380,
    "start_time": "2023-04-02T15:47:06.124Z"
   },
   {
    "duration": 29,
    "start_time": "2023-04-02T15:47:56.111Z"
   },
   {
    "duration": 29,
    "start_time": "2023-04-02T15:51:02.121Z"
   },
   {
    "duration": 363,
    "start_time": "2023-04-02T15:51:09.279Z"
   },
   {
    "duration": 919,
    "start_time": "2023-04-02T15:54:59.029Z"
   },
   {
    "duration": 46,
    "start_time": "2023-04-02T15:55:02.552Z"
   },
   {
    "duration": 49,
    "start_time": "2023-04-02T15:55:05.498Z"
   },
   {
    "duration": 130,
    "start_time": "2023-04-02T15:55:17.602Z"
   },
   {
    "duration": 52,
    "start_time": "2023-04-02T15:55:22.914Z"
   },
   {
    "duration": 41,
    "start_time": "2023-04-02T15:55:29.184Z"
   },
   {
    "duration": 31,
    "start_time": "2023-04-02T15:56:41.347Z"
   },
   {
    "duration": 1230,
    "start_time": "2023-04-02T15:58:03.379Z"
   },
   {
    "duration": 53,
    "start_time": "2023-04-02T15:58:07.268Z"
   },
   {
    "duration": 3,
    "start_time": "2023-04-02T15:58:17.006Z"
   },
   {
    "duration": 253,
    "start_time": "2023-04-02T15:58:17.010Z"
   },
   {
    "duration": 6,
    "start_time": "2023-04-02T15:58:17.264Z"
   },
   {
    "duration": 10,
    "start_time": "2023-04-02T15:58:17.271Z"
   },
   {
    "duration": 9,
    "start_time": "2023-04-02T15:58:17.282Z"
   },
   {
    "duration": 13,
    "start_time": "2023-04-02T15:58:17.292Z"
   },
   {
    "duration": 7,
    "start_time": "2023-04-02T15:58:17.306Z"
   },
   {
    "duration": 14,
    "start_time": "2023-04-02T15:58:17.314Z"
   },
   {
    "duration": 33,
    "start_time": "2023-04-02T15:58:17.328Z"
   },
   {
    "duration": 5,
    "start_time": "2023-04-02T15:58:17.362Z"
   },
   {
    "duration": 19,
    "start_time": "2023-04-02T15:58:17.368Z"
   },
   {
    "duration": 8,
    "start_time": "2023-04-02T15:58:17.388Z"
   },
   {
    "duration": 7,
    "start_time": "2023-04-02T15:58:17.397Z"
   },
   {
    "duration": 4,
    "start_time": "2023-04-02T15:58:17.406Z"
   },
   {
    "duration": 37,
    "start_time": "2023-04-02T15:58:17.411Z"
   },
   {
    "duration": 16,
    "start_time": "2023-04-02T15:58:17.450Z"
   },
   {
    "duration": 3,
    "start_time": "2023-04-02T15:58:17.467Z"
   },
   {
    "duration": 40,
    "start_time": "2023-04-02T15:58:17.471Z"
   },
   {
    "duration": 46,
    "start_time": "2023-04-02T15:58:17.512Z"
   },
   {
    "duration": 378,
    "start_time": "2023-04-02T15:58:17.560Z"
   },
   {
    "duration": 3186,
    "start_time": "2023-04-02T16:00:04.282Z"
   },
   {
    "duration": 1195,
    "start_time": "2023-04-02T16:00:11.111Z"
   },
   {
    "duration": 1021,
    "start_time": "2023-04-02T16:01:08.780Z"
   },
   {
    "duration": 54,
    "start_time": "2023-04-02T16:01:12.941Z"
   },
   {
    "duration": 962,
    "start_time": "2023-04-02T16:01:17.977Z"
   },
   {
    "duration": 60,
    "start_time": "2023-04-02T16:01:31.688Z"
   },
   {
    "duration": 924,
    "start_time": "2023-04-02T16:01:34.170Z"
   },
   {
    "duration": 2,
    "start_time": "2023-04-02T16:01:52.386Z"
   },
   {
    "duration": 253,
    "start_time": "2023-04-02T16:01:52.394Z"
   },
   {
    "duration": 6,
    "start_time": "2023-04-02T16:01:52.649Z"
   },
   {
    "duration": 11,
    "start_time": "2023-04-02T16:01:52.656Z"
   },
   {
    "duration": 11,
    "start_time": "2023-04-02T16:01:52.668Z"
   },
   {
    "duration": 13,
    "start_time": "2023-04-02T16:01:52.681Z"
   },
   {
    "duration": 9,
    "start_time": "2023-04-02T16:01:52.695Z"
   },
   {
    "duration": 14,
    "start_time": "2023-04-02T16:01:52.705Z"
   },
   {
    "duration": 34,
    "start_time": "2023-04-02T16:01:52.720Z"
   },
   {
    "duration": 4,
    "start_time": "2023-04-02T16:01:52.756Z"
   },
   {
    "duration": 16,
    "start_time": "2023-04-02T16:01:52.762Z"
   },
   {
    "duration": 6,
    "start_time": "2023-04-02T16:01:52.780Z"
   },
   {
    "duration": 6,
    "start_time": "2023-04-02T16:01:52.787Z"
   },
   {
    "duration": 5,
    "start_time": "2023-04-02T16:01:52.794Z"
   },
   {
    "duration": 4,
    "start_time": "2023-04-02T16:01:52.801Z"
   },
   {
    "duration": 48,
    "start_time": "2023-04-02T16:01:52.806Z"
   },
   {
    "duration": 3,
    "start_time": "2023-04-02T16:01:52.856Z"
   },
   {
    "duration": 41,
    "start_time": "2023-04-02T16:01:52.861Z"
   },
   {
    "duration": 47,
    "start_time": "2023-04-02T16:01:52.903Z"
   },
   {
    "duration": 388,
    "start_time": "2023-04-02T16:01:52.952Z"
   },
   {
    "duration": 41,
    "start_time": "2023-04-02T16:01:53.342Z"
   },
   {
    "duration": 679,
    "start_time": "2023-04-02T16:01:53.384Z"
   },
   {
    "duration": 45,
    "start_time": "2023-04-02T16:01:54.064Z"
   },
   {
    "duration": 3850,
    "start_time": "2023-04-02T16:01:54.110Z"
   },
   {
    "duration": 199,
    "start_time": "2023-04-02T16:01:57.961Z"
   },
   {
    "duration": 45,
    "start_time": "2023-04-02T16:01:58.161Z"
   },
   {
    "duration": 172,
    "start_time": "2023-04-02T16:01:58.208Z"
   },
   {
    "duration": 10,
    "start_time": "2023-04-02T16:01:58.381Z"
   },
   {
    "duration": 17,
    "start_time": "2023-04-02T16:01:58.393Z"
   },
   {
    "duration": 17,
    "start_time": "2023-04-02T16:01:58.412Z"
   },
   {
    "duration": 326,
    "start_time": "2023-04-02T16:01:58.448Z"
   },
   {
    "duration": 35,
    "start_time": "2023-04-02T16:01:58.776Z"
   },
   {
    "duration": 14,
    "start_time": "2023-04-02T16:01:58.813Z"
   },
   {
    "duration": 24,
    "start_time": "2023-04-02T16:01:58.828Z"
   },
   {
    "duration": 69,
    "start_time": "2023-04-02T16:01:58.853Z"
   },
   {
    "duration": 55,
    "start_time": "2023-04-02T16:01:58.924Z"
   },
   {
    "duration": 47,
    "start_time": "2023-04-02T16:01:58.981Z"
   },
   {
    "duration": 19,
    "start_time": "2023-04-02T16:01:59.030Z"
   },
   {
    "duration": 32,
    "start_time": "2023-04-02T16:01:59.050Z"
   },
   {
    "duration": 3,
    "start_time": "2023-04-02T16:03:12.859Z"
   },
   {
    "duration": 206,
    "start_time": "2023-04-02T16:03:12.864Z"
   },
   {
    "duration": 7,
    "start_time": "2023-04-02T16:03:13.071Z"
   },
   {
    "duration": 11,
    "start_time": "2023-04-02T16:03:13.080Z"
   },
   {
    "duration": 11,
    "start_time": "2023-04-02T16:03:13.093Z"
   },
   {
    "duration": 15,
    "start_time": "2023-04-02T16:03:13.106Z"
   },
   {
    "duration": 8,
    "start_time": "2023-04-02T16:03:13.122Z"
   },
   {
    "duration": 12,
    "start_time": "2023-04-02T16:03:13.149Z"
   },
   {
    "duration": 17,
    "start_time": "2023-04-02T16:03:13.163Z"
   },
   {
    "duration": 7,
    "start_time": "2023-04-02T16:03:13.181Z"
   },
   {
    "duration": 19,
    "start_time": "2023-04-02T16:03:13.189Z"
   },
   {
    "duration": 6,
    "start_time": "2023-04-02T16:03:13.209Z"
   },
   {
    "duration": 6,
    "start_time": "2023-04-02T16:03:13.249Z"
   },
   {
    "duration": 6,
    "start_time": "2023-04-02T16:03:13.256Z"
   },
   {
    "duration": 11,
    "start_time": "2023-04-02T16:03:13.263Z"
   },
   {
    "duration": 26,
    "start_time": "2023-04-02T16:03:13.276Z"
   },
   {
    "duration": 3,
    "start_time": "2023-04-02T16:03:13.303Z"
   },
   {
    "duration": 49,
    "start_time": "2023-04-02T16:03:13.307Z"
   },
   {
    "duration": 29,
    "start_time": "2023-04-02T16:03:13.358Z"
   },
   {
    "duration": 363,
    "start_time": "2023-04-02T16:03:13.388Z"
   },
   {
    "duration": 37,
    "start_time": "2023-04-02T16:03:13.752Z"
   },
   {
    "duration": 660,
    "start_time": "2023-04-02T16:03:13.790Z"
   },
   {
    "duration": 55,
    "start_time": "2023-04-02T16:03:14.451Z"
   },
   {
    "duration": 4509,
    "start_time": "2023-04-02T16:03:14.509Z"
   },
   {
    "duration": 208,
    "start_time": "2023-04-02T16:03:19.020Z"
   },
   {
    "duration": 49,
    "start_time": "2023-04-02T16:03:19.230Z"
   },
   {
    "duration": 169,
    "start_time": "2023-04-02T16:03:19.280Z"
   },
   {
    "duration": 10,
    "start_time": "2023-04-02T16:03:19.450Z"
   },
   {
    "duration": 20,
    "start_time": "2023-04-02T16:03:19.461Z"
   },
   {
    "duration": 18,
    "start_time": "2023-04-02T16:03:19.482Z"
   },
   {
    "duration": 450,
    "start_time": "2023-04-02T16:03:19.501Z"
   },
   {
    "duration": 41,
    "start_time": "2023-04-02T16:03:19.952Z"
   },
   {
    "duration": 15,
    "start_time": "2023-04-02T16:03:19.994Z"
   },
   {
    "duration": 7,
    "start_time": "2023-04-02T16:03:20.010Z"
   },
   {
    "duration": 93,
    "start_time": "2023-04-02T16:03:20.018Z"
   },
   {
    "duration": 49,
    "start_time": "2023-04-02T16:03:20.112Z"
   },
   {
    "duration": 44,
    "start_time": "2023-04-02T16:03:20.163Z"
   },
   {
    "duration": 3,
    "start_time": "2023-04-02T16:03:20.209Z"
   },
   {
    "duration": 40,
    "start_time": "2023-04-02T16:03:20.213Z"
   },
   {
    "duration": 805,
    "start_time": "2023-04-02T16:03:39.576Z"
   },
   {
    "duration": 17,
    "start_time": "2023-04-02T16:03:44.723Z"
   },
   {
    "duration": 58,
    "start_time": "2023-04-02T16:03:57.035Z"
   },
   {
    "duration": 1290,
    "start_time": "2023-04-02T16:04:00.739Z"
   },
   {
    "duration": 13,
    "start_time": "2023-04-02T16:04:04.166Z"
   },
   {
    "duration": 2,
    "start_time": "2023-04-02T16:04:10.654Z"
   },
   {
    "duration": 213,
    "start_time": "2023-04-02T16:04:10.681Z"
   },
   {
    "duration": 5,
    "start_time": "2023-04-02T16:04:10.896Z"
   },
   {
    "duration": 9,
    "start_time": "2023-04-02T16:04:10.903Z"
   },
   {
    "duration": 18,
    "start_time": "2023-04-02T16:04:10.914Z"
   },
   {
    "duration": 22,
    "start_time": "2023-04-02T16:04:10.934Z"
   },
   {
    "duration": 7,
    "start_time": "2023-04-02T16:04:10.957Z"
   },
   {
    "duration": 16,
    "start_time": "2023-04-02T16:04:10.966Z"
   },
   {
    "duration": 17,
    "start_time": "2023-04-02T16:04:10.983Z"
   },
   {
    "duration": 4,
    "start_time": "2023-04-02T16:04:11.002Z"
   },
   {
    "duration": 18,
    "start_time": "2023-04-02T16:04:11.008Z"
   },
   {
    "duration": 26,
    "start_time": "2023-04-02T16:04:11.027Z"
   },
   {
    "duration": 11,
    "start_time": "2023-04-02T16:04:11.054Z"
   },
   {
    "duration": 6,
    "start_time": "2023-04-02T16:04:11.066Z"
   },
   {
    "duration": 4,
    "start_time": "2023-04-02T16:04:11.075Z"
   },
   {
    "duration": 19,
    "start_time": "2023-04-02T16:04:11.080Z"
   },
   {
    "duration": 4,
    "start_time": "2023-04-02T16:04:11.100Z"
   },
   {
    "duration": 59,
    "start_time": "2023-04-02T16:04:11.105Z"
   },
   {
    "duration": 29,
    "start_time": "2023-04-02T16:04:11.165Z"
   },
   {
    "duration": 369,
    "start_time": "2023-04-02T16:04:11.196Z"
   },
   {
    "duration": 37,
    "start_time": "2023-04-02T16:04:11.566Z"
   },
   {
    "duration": 678,
    "start_time": "2023-04-02T16:04:11.604Z"
   },
   {
    "duration": 44,
    "start_time": "2023-04-02T16:04:12.283Z"
   },
   {
    "duration": 4674,
    "start_time": "2023-04-02T16:04:12.329Z"
   },
   {
    "duration": 211,
    "start_time": "2023-04-02T16:04:17.005Z"
   },
   {
    "duration": 45,
    "start_time": "2023-04-02T16:04:17.217Z"
   },
   {
    "duration": 171,
    "start_time": "2023-04-02T16:04:17.264Z"
   },
   {
    "duration": 16,
    "start_time": "2023-04-02T16:04:17.437Z"
   },
   {
    "duration": 16,
    "start_time": "2023-04-02T16:04:17.455Z"
   },
   {
    "duration": 19,
    "start_time": "2023-04-02T16:04:17.473Z"
   },
   {
    "duration": 329,
    "start_time": "2023-04-02T16:04:17.493Z"
   },
   {
    "duration": 41,
    "start_time": "2023-04-02T16:04:17.824Z"
   },
   {
    "duration": 13,
    "start_time": "2023-04-02T16:04:17.867Z"
   },
   {
    "duration": 6,
    "start_time": "2023-04-02T16:04:17.881Z"
   },
   {
    "duration": 70,
    "start_time": "2023-04-02T16:04:17.888Z"
   },
   {
    "duration": 36,
    "start_time": "2023-04-02T16:04:17.959Z"
   },
   {
    "duration": 52,
    "start_time": "2023-04-02T16:04:17.997Z"
   },
   {
    "duration": 3,
    "start_time": "2023-04-02T16:04:18.051Z"
   },
   {
    "duration": 20,
    "start_time": "2023-04-02T16:04:18.056Z"
   },
   {
    "duration": 812,
    "start_time": "2023-04-02T16:07:48.845Z"
   },
   {
    "duration": 87,
    "start_time": "2023-04-02T16:07:51.692Z"
   },
   {
    "duration": 1144,
    "start_time": "2023-04-02T16:09:22.281Z"
   },
   {
    "duration": 64,
    "start_time": "2023-04-02T16:09:32.645Z"
   },
   {
    "duration": 3,
    "start_time": "2023-04-02T16:09:36.381Z"
   },
   {
    "duration": 387,
    "start_time": "2023-04-02T16:09:36.386Z"
   },
   {
    "duration": 7,
    "start_time": "2023-04-02T16:09:36.774Z"
   },
   {
    "duration": 8,
    "start_time": "2023-04-02T16:09:36.782Z"
   },
   {
    "duration": 9,
    "start_time": "2023-04-02T16:09:36.791Z"
   },
   {
    "duration": 13,
    "start_time": "2023-04-02T16:09:36.801Z"
   },
   {
    "duration": 13,
    "start_time": "2023-04-02T16:09:36.815Z"
   },
   {
    "duration": 28,
    "start_time": "2023-04-02T16:09:36.829Z"
   },
   {
    "duration": 21,
    "start_time": "2023-04-02T16:09:36.858Z"
   },
   {
    "duration": 8,
    "start_time": "2023-04-02T16:09:36.880Z"
   },
   {
    "duration": 17,
    "start_time": "2023-04-02T16:09:36.889Z"
   },
   {
    "duration": 5,
    "start_time": "2023-04-02T16:09:36.908Z"
   },
   {
    "duration": 10,
    "start_time": "2023-04-02T16:09:36.914Z"
   },
   {
    "duration": 24,
    "start_time": "2023-04-02T16:09:36.926Z"
   },
   {
    "duration": 6,
    "start_time": "2023-04-02T16:09:36.952Z"
   },
   {
    "duration": 21,
    "start_time": "2023-04-02T16:09:36.959Z"
   },
   {
    "duration": 4,
    "start_time": "2023-04-02T16:09:36.981Z"
   },
   {
    "duration": 69,
    "start_time": "2023-04-02T16:09:36.986Z"
   },
   {
    "duration": 33,
    "start_time": "2023-04-02T16:16:29.617Z"
   },
   {
    "duration": 5,
    "start_time": "2023-04-02T16:21:58.862Z"
   },
   {
    "duration": 1024,
    "start_time": "2023-04-02T16:22:10.816Z"
   },
   {
    "duration": 3,
    "start_time": "2023-04-02T16:22:17.370Z"
   },
   {
    "duration": 268,
    "start_time": "2023-04-02T16:22:17.374Z"
   },
   {
    "duration": 6,
    "start_time": "2023-04-02T16:22:17.644Z"
   },
   {
    "duration": 7,
    "start_time": "2023-04-02T16:22:17.651Z"
   },
   {
    "duration": 13,
    "start_time": "2023-04-02T16:22:17.660Z"
   },
   {
    "duration": 15,
    "start_time": "2023-04-02T16:22:17.674Z"
   },
   {
    "duration": 8,
    "start_time": "2023-04-02T16:22:17.690Z"
   },
   {
    "duration": 13,
    "start_time": "2023-04-02T16:22:17.699Z"
   },
   {
    "duration": 35,
    "start_time": "2023-04-02T16:22:17.714Z"
   },
   {
    "duration": 4,
    "start_time": "2023-04-02T16:22:17.751Z"
   },
   {
    "duration": 18,
    "start_time": "2023-04-02T16:22:17.757Z"
   },
   {
    "duration": 7,
    "start_time": "2023-04-02T16:22:17.776Z"
   },
   {
    "duration": 8,
    "start_time": "2023-04-02T16:22:17.784Z"
   },
   {
    "duration": 5,
    "start_time": "2023-04-02T16:22:17.793Z"
   },
   {
    "duration": 7,
    "start_time": "2023-04-02T16:22:17.799Z"
   },
   {
    "duration": 51,
    "start_time": "2023-04-02T16:22:17.808Z"
   },
   {
    "duration": 4,
    "start_time": "2023-04-02T16:22:17.861Z"
   },
   {
    "duration": 5,
    "start_time": "2023-04-02T16:22:17.867Z"
   },
   {
    "duration": 55,
    "start_time": "2023-04-02T16:22:17.874Z"
   },
   {
    "duration": 55,
    "start_time": "2023-04-02T16:22:17.930Z"
   },
   {
    "duration": 30,
    "start_time": "2023-04-02T16:22:17.987Z"
   },
   {
    "duration": 401,
    "start_time": "2023-04-02T16:22:18.019Z"
   },
   {
    "duration": 46,
    "start_time": "2023-04-02T16:22:18.421Z"
   },
   {
    "duration": 666,
    "start_time": "2023-04-02T16:22:18.469Z"
   },
   {
    "duration": 48,
    "start_time": "2023-04-02T16:22:19.136Z"
   },
   {
    "duration": 4781,
    "start_time": "2023-04-02T16:22:19.185Z"
   },
   {
    "duration": 255,
    "start_time": "2023-04-02T16:22:23.967Z"
   },
   {
    "duration": 52,
    "start_time": "2023-04-02T16:22:24.224Z"
   },
   {
    "duration": 202,
    "start_time": "2023-04-02T16:22:24.279Z"
   },
   {
    "duration": 13,
    "start_time": "2023-04-02T16:22:24.483Z"
   },
   {
    "duration": 35,
    "start_time": "2023-04-02T16:22:24.497Z"
   },
   {
    "duration": 34,
    "start_time": "2023-04-02T16:22:24.533Z"
   },
   {
    "duration": 524,
    "start_time": "2023-04-02T16:22:24.570Z"
   },
   {
    "duration": 54,
    "start_time": "2023-04-02T16:22:25.096Z"
   },
   {
    "duration": 16,
    "start_time": "2023-04-02T16:22:25.151Z"
   },
   {
    "duration": 6,
    "start_time": "2023-04-02T16:22:25.169Z"
   },
   {
    "duration": 88,
    "start_time": "2023-04-02T16:22:25.177Z"
   },
   {
    "duration": 44,
    "start_time": "2023-04-02T16:22:25.267Z"
   },
   {
    "duration": 59,
    "start_time": "2023-04-02T16:22:25.313Z"
   },
   {
    "duration": 3,
    "start_time": "2023-04-02T16:22:25.374Z"
   },
   {
    "duration": 32,
    "start_time": "2023-04-02T16:22:25.379Z"
   },
   {
    "duration": 912,
    "start_time": "2023-04-02T16:22:42.372Z"
   },
   {
    "duration": 1290,
    "start_time": "2023-04-02T16:23:10.598Z"
   },
   {
    "duration": 4,
    "start_time": "2023-04-02T16:23:20.158Z"
   },
   {
    "duration": 300,
    "start_time": "2023-04-02T16:23:20.165Z"
   },
   {
    "duration": 8,
    "start_time": "2023-04-02T16:23:20.467Z"
   },
   {
    "duration": 28,
    "start_time": "2023-04-02T16:23:20.476Z"
   },
   {
    "duration": 28,
    "start_time": "2023-04-02T16:23:20.506Z"
   },
   {
    "duration": 56,
    "start_time": "2023-04-02T16:23:20.536Z"
   },
   {
    "duration": 27,
    "start_time": "2023-04-02T16:23:20.594Z"
   },
   {
    "duration": 37,
    "start_time": "2023-04-02T16:23:20.623Z"
   },
   {
    "duration": 38,
    "start_time": "2023-04-02T16:23:20.662Z"
   },
   {
    "duration": 11,
    "start_time": "2023-04-02T16:23:20.702Z"
   },
   {
    "duration": 48,
    "start_time": "2023-04-02T16:23:20.715Z"
   },
   {
    "duration": 10,
    "start_time": "2023-04-02T16:23:20.765Z"
   },
   {
    "duration": 27,
    "start_time": "2023-04-02T16:23:20.777Z"
   },
   {
    "duration": 29,
    "start_time": "2023-04-02T16:23:20.806Z"
   },
   {
    "duration": 20,
    "start_time": "2023-04-02T16:23:20.839Z"
   },
   {
    "duration": 41,
    "start_time": "2023-04-02T16:23:20.861Z"
   },
   {
    "duration": 20,
    "start_time": "2023-04-02T16:23:20.904Z"
   },
   {
    "duration": 22,
    "start_time": "2023-04-02T16:23:20.926Z"
   },
   {
    "duration": 104,
    "start_time": "2023-04-02T16:23:20.949Z"
   },
   {
    "duration": 55,
    "start_time": "2023-04-02T16:23:21.055Z"
   },
   {
    "duration": 44,
    "start_time": "2023-04-02T16:23:21.112Z"
   },
   {
    "duration": 423,
    "start_time": "2023-04-02T16:23:21.158Z"
   },
   {
    "duration": 43,
    "start_time": "2023-04-02T16:23:21.582Z"
   },
   {
    "duration": 812,
    "start_time": "2023-04-02T16:23:21.627Z"
   },
   {
    "duration": 54,
    "start_time": "2023-04-02T16:23:22.441Z"
   },
   {
    "duration": 5657,
    "start_time": "2023-04-02T16:23:22.497Z"
   },
   {
    "duration": 236,
    "start_time": "2023-04-02T16:23:28.155Z"
   },
   {
    "duration": 59,
    "start_time": "2023-04-02T16:23:28.393Z"
   },
   {
    "duration": 201,
    "start_time": "2023-04-02T16:23:28.453Z"
   },
   {
    "duration": 13,
    "start_time": "2023-04-02T16:23:28.656Z"
   },
   {
    "duration": 22,
    "start_time": "2023-04-02T16:23:28.670Z"
   },
   {
    "duration": 31,
    "start_time": "2023-04-02T16:23:28.694Z"
   },
   {
    "duration": 402,
    "start_time": "2023-04-02T16:23:28.727Z"
   },
   {
    "duration": 51,
    "start_time": "2023-04-02T16:23:29.130Z"
   },
   {
    "duration": 15,
    "start_time": "2023-04-02T16:23:29.183Z"
   },
   {
    "duration": 15,
    "start_time": "2023-04-02T16:23:29.199Z"
   },
   {
    "duration": 83,
    "start_time": "2023-04-02T16:23:29.215Z"
   },
   {
    "duration": 51,
    "start_time": "2023-04-02T16:23:29.299Z"
   },
   {
    "duration": 47,
    "start_time": "2023-04-02T16:23:29.351Z"
   },
   {
    "duration": 4,
    "start_time": "2023-04-02T16:23:29.399Z"
   },
   {
    "duration": 45,
    "start_time": "2023-04-02T16:23:29.404Z"
   },
   {
    "duration": 6,
    "start_time": "2023-04-02T16:23:57.684Z"
   },
   {
    "duration": 946,
    "start_time": "2023-04-02T16:23:58.933Z"
   },
   {
    "duration": 3,
    "start_time": "2023-04-02T16:24:26.525Z"
   },
   {
    "duration": 1057,
    "start_time": "2023-04-02T16:24:29.184Z"
   },
   {
    "duration": 4,
    "start_time": "2023-04-02T16:25:13.173Z"
   },
   {
    "duration": 1632,
    "start_time": "2023-04-02T16:25:16.014Z"
   },
   {
    "duration": 899,
    "start_time": "2023-04-02T16:26:21.610Z"
   },
   {
    "duration": 2,
    "start_time": "2023-04-02T16:26:25.512Z"
   },
   {
    "duration": 253,
    "start_time": "2023-04-02T16:26:25.517Z"
   },
   {
    "duration": 8,
    "start_time": "2023-04-02T16:26:25.772Z"
   },
   {
    "duration": 11,
    "start_time": "2023-04-02T16:26:25.781Z"
   },
   {
    "duration": 12,
    "start_time": "2023-04-02T16:26:25.793Z"
   },
   {
    "duration": 13,
    "start_time": "2023-04-02T16:26:25.807Z"
   },
   {
    "duration": 7,
    "start_time": "2023-04-02T16:26:25.821Z"
   },
   {
    "duration": 27,
    "start_time": "2023-04-02T16:26:25.829Z"
   },
   {
    "duration": 39,
    "start_time": "2023-04-02T16:26:25.857Z"
   },
   {
    "duration": 5,
    "start_time": "2023-04-02T16:26:25.897Z"
   },
   {
    "duration": 20,
    "start_time": "2023-04-02T16:26:25.904Z"
   },
   {
    "duration": 6,
    "start_time": "2023-04-02T16:26:25.925Z"
   },
   {
    "duration": 7,
    "start_time": "2023-04-02T16:26:25.932Z"
   },
   {
    "duration": 15,
    "start_time": "2023-04-02T16:26:25.940Z"
   },
   {
    "duration": 13,
    "start_time": "2023-04-02T16:26:25.955Z"
   },
   {
    "duration": 23,
    "start_time": "2023-04-02T16:26:25.969Z"
   },
   {
    "duration": 4,
    "start_time": "2023-04-02T16:26:25.993Z"
   },
   {
    "duration": 12,
    "start_time": "2023-04-02T16:26:25.998Z"
   },
   {
    "duration": 57,
    "start_time": "2023-04-02T16:26:26.011Z"
   },
   {
    "duration": 36,
    "start_time": "2023-04-02T16:26:26.069Z"
   },
   {
    "duration": 669,
    "start_time": "2023-04-02T16:26:26.106Z"
   },
   {
    "duration": 46,
    "start_time": "2023-04-02T16:26:26.777Z"
   },
   {
    "duration": 4581,
    "start_time": "2023-04-02T16:26:26.824Z"
   },
   {
    "duration": 201,
    "start_time": "2023-04-02T16:26:31.406Z"
   },
   {
    "duration": 54,
    "start_time": "2023-04-02T16:26:31.609Z"
   },
   {
    "duration": 159,
    "start_time": "2023-04-02T16:26:31.665Z"
   },
   {
    "duration": 8,
    "start_time": "2023-04-02T16:26:31.825Z"
   },
   {
    "duration": 30,
    "start_time": "2023-04-02T16:26:31.834Z"
   },
   {
    "duration": 28,
    "start_time": "2023-04-02T16:26:31.867Z"
   },
   {
    "duration": 311,
    "start_time": "2023-04-02T16:26:31.896Z"
   },
   {
    "duration": 33,
    "start_time": "2023-04-02T16:26:32.208Z"
   },
   {
    "duration": 13,
    "start_time": "2023-04-02T16:26:32.259Z"
   },
   {
    "duration": 4,
    "start_time": "2023-04-02T16:26:32.274Z"
   },
   {
    "duration": 81,
    "start_time": "2023-04-02T16:26:32.279Z"
   },
   {
    "duration": 36,
    "start_time": "2023-04-02T16:26:32.362Z"
   },
   {
    "duration": 39,
    "start_time": "2023-04-02T16:26:32.399Z"
   },
   {
    "duration": 3,
    "start_time": "2023-04-02T16:26:32.439Z"
   },
   {
    "duration": 55,
    "start_time": "2023-04-02T16:26:32.443Z"
   },
   {
    "duration": 3,
    "start_time": "2023-04-02T16:26:36.813Z"
   },
   {
    "duration": 64,
    "start_time": "2023-04-02T16:26:38.210Z"
   },
   {
    "duration": 3,
    "start_time": "2023-04-02T16:26:43.088Z"
   },
   {
    "duration": 60,
    "start_time": "2023-04-02T16:26:44.785Z"
   },
   {
    "duration": 5,
    "start_time": "2023-04-02T16:26:51.461Z"
   },
   {
    "duration": 72,
    "start_time": "2023-04-02T16:26:52.788Z"
   },
   {
    "duration": 8,
    "start_time": "2023-04-02T16:27:28.767Z"
   },
   {
    "duration": 87,
    "start_time": "2023-04-02T16:27:29.876Z"
   },
   {
    "duration": 453,
    "start_time": "2023-04-02T16:27:54.079Z"
   },
   {
    "duration": 48,
    "start_time": "2023-04-02T16:34:20.177Z"
   },
   {
    "duration": 45,
    "start_time": "2023-04-02T16:34:31.049Z"
   },
   {
    "duration": 52,
    "start_time": "2023-04-02T16:34:36.459Z"
   },
   {
    "duration": 28,
    "start_time": "2023-04-02T16:35:08.384Z"
   },
   {
    "duration": 37,
    "start_time": "2023-04-02T16:35:20.013Z"
   },
   {
    "duration": 81,
    "start_time": "2023-04-02T16:35:58.636Z"
   },
   {
    "duration": 2,
    "start_time": "2023-04-02T16:36:04.554Z"
   },
   {
    "duration": 298,
    "start_time": "2023-04-02T16:36:04.559Z"
   },
   {
    "duration": 7,
    "start_time": "2023-04-02T16:36:04.859Z"
   },
   {
    "duration": 16,
    "start_time": "2023-04-02T16:36:04.868Z"
   },
   {
    "duration": 16,
    "start_time": "2023-04-02T16:36:04.885Z"
   },
   {
    "duration": 17,
    "start_time": "2023-04-02T16:36:04.903Z"
   },
   {
    "duration": 11,
    "start_time": "2023-04-02T16:36:04.922Z"
   },
   {
    "duration": 24,
    "start_time": "2023-04-02T16:36:04.935Z"
   },
   {
    "duration": 20,
    "start_time": "2023-04-02T16:36:04.960Z"
   },
   {
    "duration": 10,
    "start_time": "2023-04-02T16:36:04.981Z"
   },
   {
    "duration": 20,
    "start_time": "2023-04-02T16:36:04.992Z"
   },
   {
    "duration": 7,
    "start_time": "2023-04-02T16:36:05.013Z"
   },
   {
    "duration": 31,
    "start_time": "2023-04-02T16:36:05.021Z"
   },
   {
    "duration": 5,
    "start_time": "2023-04-02T16:36:05.053Z"
   },
   {
    "duration": 9,
    "start_time": "2023-04-02T16:36:05.061Z"
   },
   {
    "duration": 27,
    "start_time": "2023-04-02T16:36:05.071Z"
   },
   {
    "duration": 4,
    "start_time": "2023-04-02T16:36:05.100Z"
   },
   {
    "duration": 8,
    "start_time": "2023-04-02T16:36:05.105Z"
   },
   {
    "duration": 81,
    "start_time": "2023-04-02T16:36:05.114Z"
   },
   {
    "duration": 371,
    "start_time": "2023-04-02T16:36:05.196Z"
   },
   {
    "duration": 39,
    "start_time": "2023-04-02T16:36:05.568Z"
   },
   {
    "duration": 662,
    "start_time": "2023-04-02T16:36:05.609Z"
   },
   {
    "duration": 47,
    "start_time": "2023-04-02T16:36:06.272Z"
   },
   {
    "duration": 4391,
    "start_time": "2023-04-02T16:36:06.320Z"
   },
   {
    "duration": 248,
    "start_time": "2023-04-02T16:36:10.712Z"
   },
   {
    "duration": 36,
    "start_time": "2023-04-02T16:36:10.962Z"
   },
   {
    "duration": 178,
    "start_time": "2023-04-02T16:36:11.000Z"
   },
   {
    "duration": 9,
    "start_time": "2023-04-02T16:36:11.179Z"
   },
   {
    "duration": 18,
    "start_time": "2023-04-02T16:36:11.189Z"
   },
   {
    "duration": 21,
    "start_time": "2023-04-02T16:36:11.209Z"
   },
   {
    "duration": 311,
    "start_time": "2023-04-02T16:36:11.248Z"
   },
   {
    "duration": 34,
    "start_time": "2023-04-02T16:36:11.561Z"
   },
   {
    "duration": 14,
    "start_time": "2023-04-02T16:36:11.597Z"
   },
   {
    "duration": 67,
    "start_time": "2023-04-02T16:36:11.612Z"
   },
   {
    "duration": 30,
    "start_time": "2023-04-02T16:36:11.680Z"
   },
   {
    "duration": 55,
    "start_time": "2023-04-02T16:36:11.712Z"
   },
   {
    "duration": 3,
    "start_time": "2023-04-02T16:36:11.769Z"
   },
   {
    "duration": 18,
    "start_time": "2023-04-02T16:36:11.774Z"
   },
   {
    "duration": 8,
    "start_time": "2023-04-02T16:37:38.820Z"
   },
   {
    "duration": 7,
    "start_time": "2023-04-02T16:37:41.768Z"
   },
   {
    "duration": 8,
    "start_time": "2023-04-02T16:37:43.453Z"
   },
   {
    "duration": 48,
    "start_time": "2023-04-02T16:37:48.072Z"
   },
   {
    "duration": 9,
    "start_time": "2023-04-02T16:37:59.285Z"
   },
   {
    "duration": 3,
    "start_time": "2023-04-02T16:38:19.457Z"
   },
   {
    "duration": 3,
    "start_time": "2023-04-02T16:38:27.959Z"
   },
   {
    "duration": 53,
    "start_time": "2023-04-02T16:38:33.276Z"
   },
   {
    "duration": 30,
    "start_time": "2023-04-02T16:38:35.657Z"
   },
   {
    "duration": 37,
    "start_time": "2023-04-02T16:38:36.317Z"
   },
   {
    "duration": 3,
    "start_time": "2023-04-02T16:40:50.987Z"
   },
   {
    "duration": 21,
    "start_time": "2023-04-02T16:40:51.784Z"
   },
   {
    "duration": 4,
    "start_time": "2023-04-02T16:41:29.485Z"
   },
   {
    "duration": 16,
    "start_time": "2023-04-02T16:41:41.193Z"
   },
   {
    "duration": 3,
    "start_time": "2023-04-02T16:42:11.798Z"
   },
   {
    "duration": 3,
    "start_time": "2023-04-02T16:42:33.312Z"
   },
   {
    "duration": 277,
    "start_time": "2023-04-02T16:42:33.317Z"
   },
   {
    "duration": 6,
    "start_time": "2023-04-02T16:42:33.596Z"
   },
   {
    "duration": 8,
    "start_time": "2023-04-02T16:42:33.604Z"
   },
   {
    "duration": 9,
    "start_time": "2023-04-02T16:42:33.614Z"
   },
   {
    "duration": 27,
    "start_time": "2023-04-02T16:42:33.625Z"
   },
   {
    "duration": 7,
    "start_time": "2023-04-02T16:42:33.654Z"
   },
   {
    "duration": 36,
    "start_time": "2023-04-02T16:42:33.663Z"
   },
   {
    "duration": 30,
    "start_time": "2023-04-02T16:42:33.700Z"
   },
   {
    "duration": 7,
    "start_time": "2023-04-02T16:42:33.732Z"
   },
   {
    "duration": 19,
    "start_time": "2023-04-02T16:42:33.742Z"
   },
   {
    "duration": 8,
    "start_time": "2023-04-02T16:42:33.762Z"
   },
   {
    "duration": 8,
    "start_time": "2023-04-02T16:42:33.771Z"
   },
   {
    "duration": 9,
    "start_time": "2023-04-02T16:42:33.780Z"
   },
   {
    "duration": 5,
    "start_time": "2023-04-02T16:42:33.790Z"
   },
   {
    "duration": 20,
    "start_time": "2023-04-02T16:42:33.796Z"
   },
   {
    "duration": 3,
    "start_time": "2023-04-02T16:42:33.817Z"
   },
   {
    "duration": 6,
    "start_time": "2023-04-02T16:42:33.821Z"
   },
   {
    "duration": 60,
    "start_time": "2023-04-02T16:42:33.848Z"
   },
   {
    "duration": 395,
    "start_time": "2023-04-02T16:42:33.909Z"
   },
   {
    "duration": 47,
    "start_time": "2023-04-02T16:42:34.306Z"
   },
   {
    "duration": 692,
    "start_time": "2023-04-02T16:42:34.354Z"
   },
   {
    "duration": 47,
    "start_time": "2023-04-02T16:42:35.048Z"
   },
   {
    "duration": 3708,
    "start_time": "2023-04-02T16:42:35.096Z"
   },
   {
    "duration": 199,
    "start_time": "2023-04-02T16:42:38.806Z"
   },
   {
    "duration": 49,
    "start_time": "2023-04-02T16:42:39.006Z"
   },
   {
    "duration": 168,
    "start_time": "2023-04-02T16:42:39.057Z"
   },
   {
    "duration": 3,
    "start_time": "2023-04-02T16:42:39.226Z"
   },
   {
    "duration": 27,
    "start_time": "2023-04-02T16:42:39.232Z"
   },
   {
    "duration": 21,
    "start_time": "2023-04-02T16:42:39.260Z"
   },
   {
    "duration": 334,
    "start_time": "2023-04-02T16:42:39.282Z"
   },
   {
    "duration": 38,
    "start_time": "2023-04-02T16:42:39.617Z"
   },
   {
    "duration": 13,
    "start_time": "2023-04-02T16:42:39.657Z"
   },
   {
    "duration": 51,
    "start_time": "2023-04-02T16:42:39.671Z"
   },
   {
    "duration": 57,
    "start_time": "2023-04-02T16:42:39.723Z"
   },
   {
    "duration": 44,
    "start_time": "2023-04-02T16:42:39.782Z"
   },
   {
    "duration": 39,
    "start_time": "2023-04-02T16:42:39.828Z"
   },
   {
    "duration": 21,
    "start_time": "2023-04-02T16:46:51.808Z"
   },
   {
    "duration": 2,
    "start_time": "2023-04-02T16:59:06.195Z"
   },
   {
    "duration": 452,
    "start_time": "2023-04-02T16:59:34.217Z"
   },
   {
    "duration": 357,
    "start_time": "2023-04-02T16:59:39.204Z"
   },
   {
    "duration": 404,
    "start_time": "2023-04-02T17:00:20.832Z"
   },
   {
    "duration": 414,
    "start_time": "2023-04-02T17:01:21.510Z"
   },
   {
    "duration": 402,
    "start_time": "2023-04-02T17:02:51.730Z"
   },
   {
    "duration": 372,
    "start_time": "2023-04-02T17:03:15.010Z"
   },
   {
    "duration": 380,
    "start_time": "2023-04-02T17:04:26.280Z"
   },
   {
    "duration": 49,
    "start_time": "2023-04-02T17:04:34.167Z"
   },
   {
    "duration": 402,
    "start_time": "2023-04-02T17:04:34.812Z"
   },
   {
    "duration": 5,
    "start_time": "2023-04-02T17:05:47.088Z"
   },
   {
    "duration": 444,
    "start_time": "2023-04-02T17:05:51.334Z"
   },
   {
    "duration": 433,
    "start_time": "2023-04-02T17:06:22.494Z"
   },
   {
    "duration": 395,
    "start_time": "2023-04-02T17:06:26.395Z"
   },
   {
    "duration": 489,
    "start_time": "2023-04-02T17:06:36.680Z"
   },
   {
    "duration": 5,
    "start_time": "2023-04-02T17:07:09.139Z"
   },
   {
    "duration": 414,
    "start_time": "2023-04-02T17:07:12.377Z"
   },
   {
    "duration": 436,
    "start_time": "2023-04-02T17:07:26.849Z"
   },
   {
    "duration": 383,
    "start_time": "2023-04-02T17:07:32.062Z"
   },
   {
    "duration": 364,
    "start_time": "2023-04-02T17:07:35.482Z"
   },
   {
    "duration": 7,
    "start_time": "2023-04-02T17:55:25.337Z"
   },
   {
    "duration": 721,
    "start_time": "2023-04-02T17:55:32.485Z"
   },
   {
    "duration": 6,
    "start_time": "2023-04-02T17:56:41.927Z"
   },
   {
    "duration": 915,
    "start_time": "2023-04-02T17:56:45.125Z"
   },
   {
    "duration": 8,
    "start_time": "2023-04-02T17:57:22.104Z"
   },
   {
    "duration": 7,
    "start_time": "2023-04-02T17:57:26.436Z"
   },
   {
    "duration": 787,
    "start_time": "2023-04-02T17:57:28.506Z"
   },
   {
    "duration": 5,
    "start_time": "2023-04-02T17:58:43.206Z"
   },
   {
    "duration": 864,
    "start_time": "2023-04-02T17:58:47.255Z"
   },
   {
    "duration": 8,
    "start_time": "2023-04-02T17:59:25.684Z"
   },
   {
    "duration": 796,
    "start_time": "2023-04-02T17:59:29.110Z"
   },
   {
    "duration": 6,
    "start_time": "2023-04-02T17:59:51.936Z"
   },
   {
    "duration": 3,
    "start_time": "2023-04-02T17:59:56.270Z"
   },
   {
    "duration": 280,
    "start_time": "2023-04-02T17:59:56.275Z"
   },
   {
    "duration": 7,
    "start_time": "2023-04-02T17:59:56.557Z"
   },
   {
    "duration": 14,
    "start_time": "2023-04-02T17:59:56.566Z"
   },
   {
    "duration": 12,
    "start_time": "2023-04-02T17:59:56.581Z"
   },
   {
    "duration": 31,
    "start_time": "2023-04-02T17:59:56.594Z"
   },
   {
    "duration": 15,
    "start_time": "2023-04-02T17:59:56.626Z"
   },
   {
    "duration": 19,
    "start_time": "2023-04-02T17:59:56.642Z"
   },
   {
    "duration": 24,
    "start_time": "2023-04-02T17:59:56.663Z"
   },
   {
    "duration": 6,
    "start_time": "2023-04-02T17:59:56.688Z"
   },
   {
    "duration": 42,
    "start_time": "2023-04-02T17:59:56.696Z"
   },
   {
    "duration": 9,
    "start_time": "2023-04-02T17:59:56.740Z"
   },
   {
    "duration": 8,
    "start_time": "2023-04-02T17:59:56.750Z"
   },
   {
    "duration": 5,
    "start_time": "2023-04-02T17:59:56.759Z"
   },
   {
    "duration": 14,
    "start_time": "2023-04-02T17:59:56.765Z"
   },
   {
    "duration": 22,
    "start_time": "2023-04-02T17:59:56.781Z"
   },
   {
    "duration": 3,
    "start_time": "2023-04-02T17:59:56.805Z"
   },
   {
    "duration": 7,
    "start_time": "2023-04-02T17:59:56.810Z"
   },
   {
    "duration": 8,
    "start_time": "2023-04-02T17:59:56.818Z"
   },
   {
    "duration": 820,
    "start_time": "2023-04-02T17:59:56.828Z"
   },
   {
    "duration": 0,
    "start_time": "2023-04-02T17:59:57.649Z"
   },
   {
    "duration": 0,
    "start_time": "2023-04-02T17:59:57.650Z"
   },
   {
    "duration": 0,
    "start_time": "2023-04-02T17:59:57.651Z"
   },
   {
    "duration": 0,
    "start_time": "2023-04-02T17:59:57.652Z"
   },
   {
    "duration": 0,
    "start_time": "2023-04-02T17:59:57.653Z"
   },
   {
    "duration": 0,
    "start_time": "2023-04-02T17:59:57.654Z"
   },
   {
    "duration": 0,
    "start_time": "2023-04-02T17:59:57.655Z"
   },
   {
    "duration": 0,
    "start_time": "2023-04-02T17:59:57.656Z"
   },
   {
    "duration": 0,
    "start_time": "2023-04-02T17:59:57.656Z"
   },
   {
    "duration": 0,
    "start_time": "2023-04-02T17:59:57.658Z"
   },
   {
    "duration": 0,
    "start_time": "2023-04-02T17:59:57.658Z"
   },
   {
    "duration": 0,
    "start_time": "2023-04-02T17:59:57.659Z"
   },
   {
    "duration": 0,
    "start_time": "2023-04-02T17:59:57.660Z"
   },
   {
    "duration": 0,
    "start_time": "2023-04-02T17:59:57.661Z"
   },
   {
    "duration": 0,
    "start_time": "2023-04-02T17:59:57.662Z"
   },
   {
    "duration": 0,
    "start_time": "2023-04-02T17:59:57.663Z"
   },
   {
    "duration": 6,
    "start_time": "2023-04-02T18:04:23.814Z"
   },
   {
    "duration": 446,
    "start_time": "2023-04-02T18:04:26.676Z"
   },
   {
    "duration": 6,
    "start_time": "2023-04-02T18:04:41.646Z"
   },
   {
    "duration": 438,
    "start_time": "2023-04-02T18:04:44.111Z"
   },
   {
    "duration": 6,
    "start_time": "2023-04-02T18:05:01.115Z"
   },
   {
    "duration": 4,
    "start_time": "2023-04-02T18:05:03.993Z"
   },
   {
    "duration": 454,
    "start_time": "2023-04-02T18:05:05.153Z"
   },
   {
    "duration": 4,
    "start_time": "2023-04-02T18:05:11.199Z"
   },
   {
    "duration": 241,
    "start_time": "2023-04-02T18:05:11.221Z"
   },
   {
    "duration": 6,
    "start_time": "2023-04-02T18:05:11.464Z"
   },
   {
    "duration": 12,
    "start_time": "2023-04-02T18:05:11.472Z"
   },
   {
    "duration": 12,
    "start_time": "2023-04-02T18:05:11.488Z"
   },
   {
    "duration": 18,
    "start_time": "2023-04-02T18:05:11.502Z"
   },
   {
    "duration": 8,
    "start_time": "2023-04-02T18:05:11.521Z"
   },
   {
    "duration": 28,
    "start_time": "2023-04-02T18:05:11.530Z"
   },
   {
    "duration": 17,
    "start_time": "2023-04-02T18:05:11.560Z"
   },
   {
    "duration": 5,
    "start_time": "2023-04-02T18:05:11.579Z"
   },
   {
    "duration": 21,
    "start_time": "2023-04-02T18:05:11.585Z"
   },
   {
    "duration": 6,
    "start_time": "2023-04-02T18:05:11.608Z"
   },
   {
    "duration": 36,
    "start_time": "2023-04-02T18:05:11.615Z"
   },
   {
    "duration": 4,
    "start_time": "2023-04-02T18:05:11.653Z"
   },
   {
    "duration": 4,
    "start_time": "2023-04-02T18:05:11.660Z"
   },
   {
    "duration": 27,
    "start_time": "2023-04-02T18:05:11.665Z"
   },
   {
    "duration": 3,
    "start_time": "2023-04-02T18:05:11.694Z"
   },
   {
    "duration": 7,
    "start_time": "2023-04-02T18:05:11.699Z"
   },
   {
    "duration": 6,
    "start_time": "2023-04-02T18:05:11.708Z"
   },
   {
    "duration": 433,
    "start_time": "2023-04-02T18:05:11.715Z"
   },
   {
    "duration": 38,
    "start_time": "2023-04-02T18:05:12.150Z"
   },
   {
    "duration": 708,
    "start_time": "2023-04-02T18:05:12.190Z"
   },
   {
    "duration": 53,
    "start_time": "2023-04-02T18:05:12.899Z"
   },
   {
    "duration": 3876,
    "start_time": "2023-04-02T18:05:12.954Z"
   },
   {
    "duration": 198,
    "start_time": "2023-04-02T18:05:16.832Z"
   },
   {
    "duration": 48,
    "start_time": "2023-04-02T18:05:17.031Z"
   },
   {
    "duration": 168,
    "start_time": "2023-04-02T18:05:17.081Z"
   },
   {
    "duration": 14,
    "start_time": "2023-04-02T18:05:17.250Z"
   },
   {
    "duration": 21,
    "start_time": "2023-04-02T18:05:17.266Z"
   },
   {
    "duration": 396,
    "start_time": "2023-04-02T18:05:17.288Z"
   },
   {
    "duration": 34,
    "start_time": "2023-04-02T18:05:17.685Z"
   },
   {
    "duration": 12,
    "start_time": "2023-04-02T18:05:17.721Z"
   },
   {
    "duration": 402,
    "start_time": "2023-04-02T18:05:17.734Z"
   },
   {
    "duration": 381,
    "start_time": "2023-04-02T18:05:18.138Z"
   },
   {
    "duration": 399,
    "start_time": "2023-04-02T18:05:18.520Z"
   },
   {
    "duration": 18,
    "start_time": "2023-04-02T18:05:18.920Z"
   },
   {
    "duration": 7,
    "start_time": "2023-04-02T18:08:46.794Z"
   },
   {
    "duration": 47,
    "start_time": "2023-04-02T18:08:50.787Z"
   },
   {
    "duration": 7,
    "start_time": "2023-04-02T18:09:26.680Z"
   },
   {
    "duration": 446,
    "start_time": "2023-04-02T18:09:28.697Z"
   },
   {
    "duration": 4,
    "start_time": "2023-04-02T18:13:50.779Z"
   },
   {
    "duration": 7,
    "start_time": "2023-04-02T18:22:07.073Z"
   },
   {
    "duration": 45,
    "start_time": "2023-04-02T18:22:10.477Z"
   },
   {
    "duration": 8,
    "start_time": "2023-04-02T18:23:27.091Z"
   },
   {
    "duration": 531,
    "start_time": "2023-04-02T18:23:30.132Z"
   },
   {
    "duration": 6,
    "start_time": "2023-04-02T18:24:27.177Z"
   },
   {
    "duration": 1641,
    "start_time": "2023-04-02T18:24:30.147Z"
   },
   {
    "duration": 6,
    "start_time": "2023-04-02T18:26:36.673Z"
   },
   {
    "duration": 47,
    "start_time": "2023-04-02T18:26:38.872Z"
   },
   {
    "duration": 10,
    "start_time": "2023-04-02T18:32:18.370Z"
   },
   {
    "duration": 1313,
    "start_time": "2023-04-02T18:32:21.190Z"
   },
   {
    "duration": 19,
    "start_time": "2023-04-02T18:34:08.346Z"
   },
   {
    "duration": 47,
    "start_time": "2023-04-02T18:34:11.269Z"
   },
   {
    "duration": 7,
    "start_time": "2023-04-02T18:38:21.084Z"
   },
   {
    "duration": 7,
    "start_time": "2023-04-02T18:46:03.825Z"
   },
   {
    "duration": 3,
    "start_time": "2023-04-02T18:46:04.673Z"
   },
   {
    "duration": 451,
    "start_time": "2023-04-02T18:46:06.887Z"
   },
   {
    "duration": 6,
    "start_time": "2023-04-02T18:49:11.010Z"
   },
   {
    "duration": 449,
    "start_time": "2023-04-02T18:49:13.964Z"
   },
   {
    "duration": 105,
    "start_time": "2023-04-02T18:49:38.968Z"
   },
   {
    "duration": 3,
    "start_time": "2023-04-02T18:49:40.312Z"
   },
   {
    "duration": 407,
    "start_time": "2023-04-02T18:49:41.200Z"
   },
   {
    "duration": 7,
    "start_time": "2023-04-02T18:49:54.441Z"
   },
   {
    "duration": 529,
    "start_time": "2023-04-02T18:49:56.646Z"
   },
   {
    "duration": 7,
    "start_time": "2023-04-02T19:00:09.485Z"
   },
   {
    "duration": 349,
    "start_time": "2023-04-02T19:00:12.581Z"
   },
   {
    "duration": 23,
    "start_time": "2023-04-02T19:00:44.341Z"
   },
   {
    "duration": 423,
    "start_time": "2023-04-02T19:00:46.713Z"
   },
   {
    "duration": 6,
    "start_time": "2023-04-02T19:27:49.867Z"
   },
   {
    "duration": 108,
    "start_time": "2023-04-02T19:27:52.146Z"
   },
   {
    "duration": 9,
    "start_time": "2023-04-02T19:28:04.592Z"
   },
   {
    "duration": 433,
    "start_time": "2023-04-02T19:28:06.731Z"
   },
   {
    "duration": 57,
    "start_time": "2023-04-03T08:33:55.388Z"
   },
   {
    "duration": 1241,
    "start_time": "2023-04-03T08:33:58.391Z"
   },
   {
    "duration": 195,
    "start_time": "2023-04-03T08:33:59.633Z"
   },
   {
    "duration": 12,
    "start_time": "2023-04-03T08:33:59.829Z"
   },
   {
    "duration": 12,
    "start_time": "2023-04-03T08:33:59.843Z"
   },
   {
    "duration": 49,
    "start_time": "2023-04-03T08:33:59.858Z"
   },
   {
    "duration": 33,
    "start_time": "2023-04-03T08:33:59.909Z"
   },
   {
    "duration": 9,
    "start_time": "2023-04-03T08:33:59.944Z"
   },
   {
    "duration": 16,
    "start_time": "2023-04-03T08:33:59.955Z"
   },
   {
    "duration": 19,
    "start_time": "2023-04-03T08:33:59.973Z"
   },
   {
    "duration": 42,
    "start_time": "2023-04-03T08:33:59.993Z"
   },
   {
    "duration": 25,
    "start_time": "2023-04-03T08:34:00.037Z"
   },
   {
    "duration": 9,
    "start_time": "2023-04-03T08:34:00.063Z"
   },
   {
    "duration": 26,
    "start_time": "2023-04-03T08:34:00.073Z"
   },
   {
    "duration": 29,
    "start_time": "2023-04-03T08:34:00.102Z"
   },
   {
    "duration": 20,
    "start_time": "2023-04-03T08:34:00.134Z"
   },
   {
    "duration": 47,
    "start_time": "2023-04-03T08:34:00.155Z"
   },
   {
    "duration": 5,
    "start_time": "2023-04-03T08:34:00.204Z"
   },
   {
    "duration": 73,
    "start_time": "2023-04-03T08:34:00.211Z"
   },
   {
    "duration": 49,
    "start_time": "2023-04-03T08:34:00.286Z"
   },
   {
    "duration": 615,
    "start_time": "2023-04-03T08:34:00.337Z"
   },
   {
    "duration": 55,
    "start_time": "2023-04-03T08:34:00.955Z"
   },
   {
    "duration": 779,
    "start_time": "2023-04-03T08:34:01.011Z"
   },
   {
    "duration": 65,
    "start_time": "2023-04-03T08:34:01.792Z"
   },
   {
    "duration": 4416,
    "start_time": "2023-04-03T08:34:01.859Z"
   },
   {
    "duration": 247,
    "start_time": "2023-04-03T08:34:06.277Z"
   },
   {
    "duration": 55,
    "start_time": "2023-04-03T08:34:06.526Z"
   },
   {
    "duration": 265,
    "start_time": "2023-04-03T08:34:06.583Z"
   },
   {
    "duration": 19,
    "start_time": "2023-04-03T08:34:06.849Z"
   },
   {
    "duration": 22,
    "start_time": "2023-04-03T08:34:06.869Z"
   },
   {
    "duration": 485,
    "start_time": "2023-04-03T08:34:06.893Z"
   },
   {
    "duration": 99,
    "start_time": "2023-04-03T08:34:07.380Z"
   },
   {
    "duration": 65,
    "start_time": "2023-04-03T08:34:07.481Z"
   },
   {
    "duration": 810,
    "start_time": "2023-04-03T08:34:07.547Z"
   },
   {
    "duration": 717,
    "start_time": "2023-04-03T08:34:08.358Z"
   },
   {
    "duration": 990,
    "start_time": "2023-04-03T08:34:09.077Z"
   },
   {
    "duration": 74,
    "start_time": "2023-04-03T08:34:10.069Z"
   },
   {
    "duration": 15,
    "start_time": "2023-04-03T08:34:10.145Z"
   },
   {
    "duration": 17,
    "start_time": "2023-04-03T08:34:53.151Z"
   },
   {
    "duration": 5,
    "start_time": "2023-04-03T09:05:14.901Z"
   },
   {
    "duration": 262,
    "start_time": "2023-04-03T09:05:14.909Z"
   },
   {
    "duration": 7,
    "start_time": "2023-04-03T09:05:15.173Z"
   },
   {
    "duration": 24,
    "start_time": "2023-04-03T09:05:15.183Z"
   },
   {
    "duration": 13,
    "start_time": "2023-04-03T09:05:15.209Z"
   },
   {
    "duration": 36,
    "start_time": "2023-04-03T09:05:15.224Z"
   },
   {
    "duration": 12,
    "start_time": "2023-04-03T09:05:15.262Z"
   },
   {
    "duration": 35,
    "start_time": "2023-04-03T09:05:15.275Z"
   },
   {
    "duration": 32,
    "start_time": "2023-04-03T09:05:15.312Z"
   },
   {
    "duration": 13,
    "start_time": "2023-04-03T09:05:15.351Z"
   },
   {
    "duration": 29,
    "start_time": "2023-04-03T09:05:15.366Z"
   },
   {
    "duration": 9,
    "start_time": "2023-04-03T09:05:15.397Z"
   },
   {
    "duration": 38,
    "start_time": "2023-04-03T09:05:15.408Z"
   },
   {
    "duration": 9,
    "start_time": "2023-04-03T09:05:15.454Z"
   },
   {
    "duration": 15,
    "start_time": "2023-04-03T09:05:15.465Z"
   },
   {
    "duration": 26,
    "start_time": "2023-04-03T09:05:15.482Z"
   },
   {
    "duration": 4,
    "start_time": "2023-04-03T09:05:15.510Z"
   },
   {
    "duration": 17,
    "start_time": "2023-04-03T09:05:15.516Z"
   },
   {
    "duration": 24,
    "start_time": "2023-04-03T09:05:15.534Z"
   },
   {
    "duration": 553,
    "start_time": "2023-04-03T09:05:15.560Z"
   },
   {
    "duration": 55,
    "start_time": "2023-04-03T09:05:16.115Z"
   },
   {
    "duration": 899,
    "start_time": "2023-04-03T09:05:16.172Z"
   },
   {
    "duration": 71,
    "start_time": "2023-04-03T09:05:17.073Z"
   },
   {
    "duration": 4918,
    "start_time": "2023-04-03T09:05:17.146Z"
   },
   {
    "duration": 268,
    "start_time": "2023-04-03T09:05:22.065Z"
   },
   {
    "duration": 55,
    "start_time": "2023-04-03T09:05:22.336Z"
   },
   {
    "duration": 211,
    "start_time": "2023-04-03T09:05:22.393Z"
   },
   {
    "duration": 38,
    "start_time": "2023-04-03T09:05:22.608Z"
   },
   {
    "duration": 36,
    "start_time": "2023-04-03T09:05:22.655Z"
   },
   {
    "duration": 491,
    "start_time": "2023-04-03T09:05:22.693Z"
   },
   {
    "duration": 49,
    "start_time": "2023-04-03T09:05:23.186Z"
   },
   {
    "duration": 20,
    "start_time": "2023-04-03T09:05:23.239Z"
   },
   {
    "duration": 501,
    "start_time": "2023-04-03T09:05:23.260Z"
   },
   {
    "duration": 459,
    "start_time": "2023-04-03T09:05:23.763Z"
   },
   {
    "duration": 469,
    "start_time": "2023-04-03T09:05:24.224Z"
   },
   {
    "duration": 49,
    "start_time": "2023-04-03T09:05:24.695Z"
   },
   {
    "duration": 20,
    "start_time": "2023-04-03T09:05:24.749Z"
   },
   {
    "duration": 27,
    "start_time": "2023-04-03T09:05:24.771Z"
   },
   {
    "duration": 16,
    "start_time": "2023-04-03T09:05:59.289Z"
   },
   {
    "duration": 24,
    "start_time": "2023-04-03T09:06:10.418Z"
   },
   {
    "duration": 15,
    "start_time": "2023-04-03T09:07:12.398Z"
   },
   {
    "duration": 30,
    "start_time": "2023-04-03T09:07:25.244Z"
   },
   {
    "duration": 17,
    "start_time": "2023-04-03T09:08:32.511Z"
   },
   {
    "duration": 18,
    "start_time": "2023-04-03T09:09:41.281Z"
   },
   {
    "duration": 16,
    "start_time": "2023-04-03T09:10:36.453Z"
   },
   {
    "duration": 20,
    "start_time": "2023-04-03T09:33:54.241Z"
   },
   {
    "duration": 21,
    "start_time": "2023-04-03T09:34:19.216Z"
   },
   {
    "duration": 28,
    "start_time": "2023-04-03T09:34:24.730Z"
   },
   {
    "duration": 21,
    "start_time": "2023-04-03T09:38:47.770Z"
   },
   {
    "duration": 3,
    "start_time": "2023-04-03T09:39:11.223Z"
   },
   {
    "duration": 29,
    "start_time": "2023-04-03T09:39:49.972Z"
   },
   {
    "duration": 76,
    "start_time": "2023-04-03T09:40:05.010Z"
   },
   {
    "duration": 28,
    "start_time": "2023-04-03T09:40:20.995Z"
   },
   {
    "duration": 80,
    "start_time": "2023-04-03T09:41:15.774Z"
   },
   {
    "duration": 3,
    "start_time": "2023-04-03T09:41:22.119Z"
   },
   {
    "duration": 54,
    "start_time": "2023-04-03T09:41:23.237Z"
   },
   {
    "duration": 22,
    "start_time": "2023-04-03T09:41:27.541Z"
   },
   {
    "duration": 3,
    "start_time": "2023-04-03T09:41:56.360Z"
   },
   {
    "duration": 22,
    "start_time": "2023-04-03T09:41:56.838Z"
   },
   {
    "duration": 3,
    "start_time": "2023-04-03T09:43:41.435Z"
   },
   {
    "duration": 24,
    "start_time": "2023-04-03T09:43:42.519Z"
   },
   {
    "duration": 4,
    "start_time": "2023-04-03T09:44:02.373Z"
   },
   {
    "duration": 25,
    "start_time": "2023-04-03T09:44:03.291Z"
   },
   {
    "duration": 13,
    "start_time": "2023-04-03T09:44:27.517Z"
   },
   {
    "duration": 21,
    "start_time": "2023-04-03T09:44:33.119Z"
   },
   {
    "duration": 20,
    "start_time": "2023-04-03T09:44:44.750Z"
   },
   {
    "duration": 36,
    "start_time": "2023-04-03T09:45:49.810Z"
   },
   {
    "duration": 21,
    "start_time": "2023-04-03T09:46:00.841Z"
   },
   {
    "duration": 22,
    "start_time": "2023-04-03T09:46:06.074Z"
   },
   {
    "duration": 12,
    "start_time": "2023-04-03T09:46:46.707Z"
   },
   {
    "duration": 12,
    "start_time": "2023-04-03T09:46:50.834Z"
   },
   {
    "duration": 3,
    "start_time": "2023-04-03T09:46:53.284Z"
   },
   {
    "duration": 13,
    "start_time": "2023-04-03T09:46:53.748Z"
   },
   {
    "duration": 13,
    "start_time": "2023-04-03T09:47:35.693Z"
   },
   {
    "duration": 15,
    "start_time": "2023-04-03T09:47:42.637Z"
   },
   {
    "duration": 3,
    "start_time": "2023-04-03T09:48:05.715Z"
   },
   {
    "duration": 13,
    "start_time": "2023-04-03T09:48:06.326Z"
   },
   {
    "duration": 13,
    "start_time": "2023-04-03T09:48:12.421Z"
   },
   {
    "duration": 3,
    "start_time": "2023-04-03T09:48:15.222Z"
   },
   {
    "duration": 15,
    "start_time": "2023-04-03T09:48:15.769Z"
   },
   {
    "duration": 4,
    "start_time": "2023-04-03T09:48:18.874Z"
   },
   {
    "duration": 894,
    "start_time": "2023-04-03T09:48:18.879Z"
   },
   {
    "duration": 8,
    "start_time": "2023-04-03T09:48:19.775Z"
   },
   {
    "duration": 16,
    "start_time": "2023-04-03T09:48:19.784Z"
   },
   {
    "duration": 17,
    "start_time": "2023-04-03T09:48:19.802Z"
   },
   {
    "duration": 21,
    "start_time": "2023-04-03T09:48:19.821Z"
   },
   {
    "duration": 19,
    "start_time": "2023-04-03T09:48:19.844Z"
   },
   {
    "duration": 20,
    "start_time": "2023-04-03T09:48:19.864Z"
   },
   {
    "duration": 20,
    "start_time": "2023-04-03T09:48:19.885Z"
   },
   {
    "duration": 15,
    "start_time": "2023-04-03T09:48:19.906Z"
   },
   {
    "duration": 25,
    "start_time": "2023-04-03T09:48:19.923Z"
   },
   {
    "duration": 8,
    "start_time": "2023-04-03T09:48:19.950Z"
   },
   {
    "duration": 7,
    "start_time": "2023-04-03T09:48:19.960Z"
   },
   {
    "duration": 11,
    "start_time": "2023-04-03T09:48:19.969Z"
   },
   {
    "duration": 16,
    "start_time": "2023-04-03T09:48:19.981Z"
   },
   {
    "duration": 40,
    "start_time": "2023-04-03T09:48:19.999Z"
   },
   {
    "duration": 4,
    "start_time": "2023-04-03T09:48:20.041Z"
   },
   {
    "duration": 20,
    "start_time": "2023-04-03T09:48:20.048Z"
   },
   {
    "duration": 9,
    "start_time": "2023-04-03T09:48:20.070Z"
   },
   {
    "duration": 492,
    "start_time": "2023-04-03T09:48:20.080Z"
   },
   {
    "duration": 46,
    "start_time": "2023-04-03T09:48:20.574Z"
   },
   {
    "duration": 850,
    "start_time": "2023-04-03T09:48:20.622Z"
   },
   {
    "duration": 65,
    "start_time": "2023-04-03T09:48:21.474Z"
   },
   {
    "duration": 4485,
    "start_time": "2023-04-03T09:48:21.541Z"
   },
   {
    "duration": 224,
    "start_time": "2023-04-03T09:48:26.027Z"
   },
   {
    "duration": 44,
    "start_time": "2023-04-03T09:48:26.253Z"
   },
   {
    "duration": 206,
    "start_time": "2023-04-03T09:48:26.299Z"
   },
   {
    "duration": 29,
    "start_time": "2023-04-03T09:48:26.506Z"
   },
   {
    "duration": 22,
    "start_time": "2023-04-03T09:48:26.539Z"
   },
   {
    "duration": 455,
    "start_time": "2023-04-03T09:48:26.563Z"
   },
   {
    "duration": 47,
    "start_time": "2023-04-03T09:48:27.019Z"
   },
   {
    "duration": 14,
    "start_time": "2023-04-03T09:48:27.068Z"
   },
   {
    "duration": 461,
    "start_time": "2023-04-03T09:48:27.083Z"
   },
   {
    "duration": 407,
    "start_time": "2023-04-03T09:48:27.546Z"
   },
   {
    "duration": 451,
    "start_time": "2023-04-03T09:48:27.954Z"
   },
   {
    "duration": 31,
    "start_time": "2023-04-03T09:48:28.407Z"
   },
   {
    "duration": 22,
    "start_time": "2023-04-03T09:48:28.440Z"
   },
   {
    "duration": 4,
    "start_time": "2023-04-03T09:48:28.463Z"
   },
   {
    "duration": 23,
    "start_time": "2023-04-03T09:48:28.469Z"
   },
   {
    "duration": 42,
    "start_time": "2023-04-03T09:48:28.494Z"
   },
   {
    "duration": 3,
    "start_time": "2023-04-03T09:48:45.029Z"
   },
   {
    "duration": 12,
    "start_time": "2023-04-03T09:48:45.529Z"
   },
   {
    "duration": 3,
    "start_time": "2023-04-03T09:49:59.969Z"
   },
   {
    "duration": 24,
    "start_time": "2023-04-03T09:50:00.555Z"
   },
   {
    "duration": 922,
    "start_time": "2023-04-03T09:52:24.273Z"
   },
   {
    "duration": 4,
    "start_time": "2023-04-03T09:52:59.380Z"
   },
   {
    "duration": 11,
    "start_time": "2023-04-03T09:53:04.435Z"
   },
   {
    "duration": 15,
    "start_time": "2023-04-03T09:53:12.893Z"
   },
   {
    "duration": 13,
    "start_time": "2023-04-03T09:53:23.068Z"
   },
   {
    "duration": 14,
    "start_time": "2023-04-03T09:56:18.780Z"
   },
   {
    "duration": 4,
    "start_time": "2023-04-03T09:57:03.357Z"
   },
   {
    "duration": 10,
    "start_time": "2023-04-03T09:57:07.830Z"
   },
   {
    "duration": 7,
    "start_time": "2023-04-03T09:57:10.446Z"
   },
   {
    "duration": 7,
    "start_time": "2023-04-03T09:57:26.038Z"
   },
   {
    "duration": 10,
    "start_time": "2023-04-03T09:58:22.577Z"
   },
   {
    "duration": 9,
    "start_time": "2023-04-03T09:58:33.882Z"
   },
   {
    "duration": 12,
    "start_time": "2023-04-03T10:00:12.559Z"
   },
   {
    "duration": 16,
    "start_time": "2023-04-03T10:00:34.520Z"
   },
   {
    "duration": 13,
    "start_time": "2023-04-03T10:02:18.851Z"
   },
   {
    "duration": 24,
    "start_time": "2023-04-03T10:02:36.957Z"
   },
   {
    "duration": 3,
    "start_time": "2023-04-03T10:05:25.947Z"
   },
   {
    "duration": 3,
    "start_time": "2023-04-03T10:06:36.991Z"
   },
   {
    "duration": 41,
    "start_time": "2023-04-03T10:07:43.976Z"
   },
   {
    "duration": 40,
    "start_time": "2023-04-03T10:08:14.202Z"
   },
   {
    "duration": 3,
    "start_time": "2023-04-03T10:08:21.368Z"
   },
   {
    "duration": 39,
    "start_time": "2023-04-03T10:09:05.710Z"
   },
   {
    "duration": 39,
    "start_time": "2023-04-03T10:09:11.726Z"
   },
   {
    "duration": 11,
    "start_time": "2023-04-03T10:20:03.890Z"
   },
   {
    "duration": 4,
    "start_time": "2023-04-03T10:21:00.244Z"
   },
   {
    "duration": 7,
    "start_time": "2023-04-03T10:21:07.103Z"
   },
   {
    "duration": 6,
    "start_time": "2023-04-03T10:32:23.882Z"
   },
   {
    "duration": 7,
    "start_time": "2023-04-03T10:32:32.570Z"
   },
   {
    "duration": 16,
    "start_time": "2023-04-03T11:04:20.515Z"
   },
   {
    "duration": 19,
    "start_time": "2023-04-03T11:05:35.205Z"
   },
   {
    "duration": 17,
    "start_time": "2023-04-03T11:06:23.872Z"
   },
   {
    "duration": 23,
    "start_time": "2023-04-03T11:10:53.362Z"
   },
   {
    "duration": 41,
    "start_time": "2023-04-03T11:11:04.620Z"
   },
   {
    "duration": 23,
    "start_time": "2023-04-03T11:11:53.695Z"
   },
   {
    "duration": 10,
    "start_time": "2023-04-03T11:12:11.310Z"
   },
   {
    "duration": 10,
    "start_time": "2023-04-03T11:18:47.383Z"
   },
   {
    "duration": 10,
    "start_time": "2023-04-03T11:19:26.617Z"
   },
   {
    "duration": 9,
    "start_time": "2023-04-03T11:19:37.025Z"
   },
   {
    "duration": 3,
    "start_time": "2023-04-03T11:24:51.615Z"
   },
   {
    "duration": 14,
    "start_time": "2023-04-03T11:26:42.732Z"
   },
   {
    "duration": 20,
    "start_time": "2023-04-03T11:26:56.916Z"
   },
   {
    "duration": 29,
    "start_time": "2023-04-03T11:28:58.476Z"
   },
   {
    "duration": 27800,
    "start_time": "2023-04-03T11:29:08.500Z"
   },
   {
    "duration": 1141,
    "start_time": "2023-04-03T11:31:42.058Z"
   },
   {
    "duration": 531,
    "start_time": "2023-04-03T11:31:43.201Z"
   },
   {
    "duration": 12,
    "start_time": "2023-04-03T11:31:43.733Z"
   },
   {
    "duration": 11,
    "start_time": "2023-04-03T11:31:43.747Z"
   },
   {
    "duration": 51,
    "start_time": "2023-04-03T11:31:43.761Z"
   },
   {
    "duration": 35,
    "start_time": "2023-04-03T11:31:43.813Z"
   },
   {
    "duration": 10,
    "start_time": "2023-04-03T11:31:43.849Z"
   },
   {
    "duration": 19,
    "start_time": "2023-04-03T11:31:43.860Z"
   },
   {
    "duration": 29,
    "start_time": "2023-04-03T11:31:43.881Z"
   },
   {
    "duration": 19,
    "start_time": "2023-04-03T11:31:43.911Z"
   },
   {
    "duration": 34,
    "start_time": "2023-04-03T11:31:43.934Z"
   },
   {
    "duration": 8,
    "start_time": "2023-04-03T11:31:43.970Z"
   },
   {
    "duration": 35,
    "start_time": "2023-04-03T11:31:43.980Z"
   },
   {
    "duration": 20,
    "start_time": "2023-04-03T11:31:44.018Z"
   },
   {
    "duration": 27,
    "start_time": "2023-04-03T11:31:44.040Z"
   },
   {
    "duration": 33,
    "start_time": "2023-04-03T11:31:44.069Z"
   },
   {
    "duration": 5,
    "start_time": "2023-04-03T11:31:44.104Z"
   },
   {
    "duration": 23,
    "start_time": "2023-04-03T11:31:44.111Z"
   },
   {
    "duration": 24,
    "start_time": "2023-04-03T11:31:44.136Z"
   },
   {
    "duration": 544,
    "start_time": "2023-04-03T11:31:44.162Z"
   },
   {
    "duration": 64,
    "start_time": "2023-04-03T11:31:44.708Z"
   },
   {
    "duration": 907,
    "start_time": "2023-04-03T11:31:44.773Z"
   },
   {
    "duration": 72,
    "start_time": "2023-04-03T11:31:45.682Z"
   },
   {
    "duration": 4409,
    "start_time": "2023-04-03T11:31:45.755Z"
   },
   {
    "duration": 224,
    "start_time": "2023-04-03T11:31:50.165Z"
   },
   {
    "duration": 55,
    "start_time": "2023-04-03T11:31:50.391Z"
   },
   {
    "duration": 234,
    "start_time": "2023-04-03T11:31:50.447Z"
   },
   {
    "duration": 17,
    "start_time": "2023-04-03T11:31:50.682Z"
   },
   {
    "duration": 36,
    "start_time": "2023-04-03T11:31:50.701Z"
   },
   {
    "duration": 398,
    "start_time": "2023-04-03T11:31:50.739Z"
   },
   {
    "duration": 45,
    "start_time": "2023-04-03T11:31:51.138Z"
   },
   {
    "duration": 14,
    "start_time": "2023-04-03T11:31:51.185Z"
   },
   {
    "duration": 463,
    "start_time": "2023-04-03T11:31:51.200Z"
   },
   {
    "duration": 429,
    "start_time": "2023-04-03T11:31:51.665Z"
   },
   {
    "duration": 530,
    "start_time": "2023-04-03T11:31:52.096Z"
   },
   {
    "duration": 24,
    "start_time": "2023-04-03T11:31:52.628Z"
   },
   {
    "duration": 3,
    "start_time": "2023-04-03T11:31:52.654Z"
   },
   {
    "duration": 14,
    "start_time": "2023-04-03T11:31:52.658Z"
   },
   {
    "duration": 38,
    "start_time": "2023-04-03T11:31:52.674Z"
   },
   {
    "duration": 7,
    "start_time": "2023-04-03T11:31:52.714Z"
   },
   {
    "duration": 15,
    "start_time": "2023-04-03T11:31:52.736Z"
   },
   {
    "duration": 21,
    "start_time": "2023-04-03T11:33:13.579Z"
   },
   {
    "duration": 8,
    "start_time": "2023-04-03T11:33:13.602Z"
   },
   {
    "duration": 0,
    "start_time": "2023-04-03T11:33:13.611Z"
   },
   {
    "duration": 0,
    "start_time": "2023-04-03T11:33:13.613Z"
   },
   {
    "duration": 59,
    "start_time": "2023-04-03T11:33:57.864Z"
   },
   {
    "duration": 108,
    "start_time": "2023-04-03T11:35:01.184Z"
   },
   {
    "duration": 21,
    "start_time": "2023-04-03T11:43:25.413Z"
   },
   {
    "duration": 11,
    "start_time": "2023-04-03T11:43:25.436Z"
   },
   {
    "duration": 99,
    "start_time": "2023-04-03T11:44:11.874Z"
   },
   {
    "duration": 5,
    "start_time": "2023-04-03T11:44:42.578Z"
   },
   {
    "duration": 6,
    "start_time": "2023-04-03T11:48:16.049Z"
   },
   {
    "duration": 64,
    "start_time": "2023-04-03T11:49:12.196Z"
   },
   {
    "duration": 57,
    "start_time": "2023-04-03T11:49:41.303Z"
   },
   {
    "duration": 10,
    "start_time": "2023-04-03T11:51:10.569Z"
   },
   {
    "duration": 53,
    "start_time": "2023-04-03T11:51:59.490Z"
   },
   {
    "duration": 57,
    "start_time": "2023-04-03T11:53:33.335Z"
   },
   {
    "duration": 75,
    "start_time": "2023-04-03T11:54:05.216Z"
   },
   {
    "duration": 59,
    "start_time": "2023-04-03T11:54:40.602Z"
   },
   {
    "duration": 10,
    "start_time": "2023-04-03T11:55:28.668Z"
   },
   {
    "duration": 3,
    "start_time": "2023-04-03T12:10:10.029Z"
   },
   {
    "duration": 16,
    "start_time": "2023-04-03T12:10:33.155Z"
   },
   {
    "duration": 3,
    "start_time": "2023-04-03T12:10:53.915Z"
   },
   {
    "duration": 10,
    "start_time": "2023-04-03T12:10:55.866Z"
   },
   {
    "duration": 10,
    "start_time": "2023-04-03T12:11:39.406Z"
   },
   {
    "duration": 15,
    "start_time": "2023-04-03T12:12:54.754Z"
   },
   {
    "duration": 15,
    "start_time": "2023-04-03T12:14:47.302Z"
   },
   {
    "duration": 3,
    "start_time": "2023-04-03T12:17:34.300Z"
   },
   {
    "duration": 24,
    "start_time": "2023-04-03T12:19:18.680Z"
   },
   {
    "duration": 3,
    "start_time": "2023-04-03T12:20:38.100Z"
   },
   {
    "duration": 22,
    "start_time": "2023-04-03T12:20:39.188Z"
   },
   {
    "duration": 4,
    "start_time": "2023-04-03T12:21:14.138Z"
   },
   {
    "duration": 29,
    "start_time": "2023-04-03T12:21:15.313Z"
   },
   {
    "duration": 3,
    "start_time": "2023-04-03T12:21:22.086Z"
   },
   {
    "duration": 22,
    "start_time": "2023-04-03T12:21:23.206Z"
   },
   {
    "duration": 3,
    "start_time": "2023-04-03T12:21:41.609Z"
   },
   {
    "duration": 24,
    "start_time": "2023-04-03T12:21:42.753Z"
   },
   {
    "duration": 5,
    "start_time": "2023-04-03T12:24:17.151Z"
   },
   {
    "duration": 6,
    "start_time": "2023-04-03T12:25:05.632Z"
   },
   {
    "duration": 6,
    "start_time": "2023-04-03T12:26:55.534Z"
   },
   {
    "duration": 5,
    "start_time": "2023-04-03T12:27:47.535Z"
   },
   {
    "duration": 4,
    "start_time": "2023-04-03T12:27:48.363Z"
   },
   {
    "duration": 4,
    "start_time": "2023-04-03T12:28:55.946Z"
   },
   {
    "duration": 4,
    "start_time": "2023-04-03T12:38:13.960Z"
   },
   {
    "duration": 5,
    "start_time": "2023-04-03T12:38:19.851Z"
   },
   {
    "duration": 5,
    "start_time": "2023-04-03T12:38:20.512Z"
   },
   {
    "duration": 4,
    "start_time": "2023-04-03T12:38:21.121Z"
   },
   {
    "duration": 5,
    "start_time": "2023-04-03T12:38:21.696Z"
   },
   {
    "duration": 8,
    "start_time": "2023-04-03T12:59:17.976Z"
   },
   {
    "duration": 502,
    "start_time": "2023-04-03T12:59:20.728Z"
   },
   {
    "duration": 57,
    "start_time": "2023-04-03T22:34:46.966Z"
   },
   {
    "duration": 7,
    "start_time": "2023-04-03T22:37:58.405Z"
   },
   {
    "duration": 1390,
    "start_time": "2023-04-03T22:38:02.946Z"
   },
   {
    "duration": 432,
    "start_time": "2023-04-03T22:38:04.338Z"
   },
   {
    "duration": 23,
    "start_time": "2023-04-03T22:38:04.772Z"
   },
   {
    "duration": 21,
    "start_time": "2023-04-03T22:38:04.802Z"
   },
   {
    "duration": 55,
    "start_time": "2023-04-03T22:38:04.825Z"
   },
   {
    "duration": 31,
    "start_time": "2023-04-03T22:38:04.882Z"
   },
   {
    "duration": 12,
    "start_time": "2023-04-03T22:38:04.915Z"
   },
   {
    "duration": 35,
    "start_time": "2023-04-03T22:38:04.930Z"
   },
   {
    "duration": 31,
    "start_time": "2023-04-03T22:38:04.967Z"
   },
   {
    "duration": 27,
    "start_time": "2023-04-03T22:38:05.004Z"
   },
   {
    "duration": 26,
    "start_time": "2023-04-03T22:38:05.033Z"
   },
   {
    "duration": 9,
    "start_time": "2023-04-03T22:38:05.061Z"
   },
   {
    "duration": 21,
    "start_time": "2023-04-03T22:38:05.072Z"
   },
   {
    "duration": 14,
    "start_time": "2023-04-03T22:38:05.094Z"
   },
   {
    "duration": 22,
    "start_time": "2023-04-03T22:38:05.110Z"
   },
   {
    "duration": 37,
    "start_time": "2023-04-03T22:38:20.478Z"
   },
   {
    "duration": 24,
    "start_time": "2023-04-03T22:38:42.439Z"
   },
   {
    "duration": 17,
    "start_time": "2023-04-03T22:39:00.768Z"
   },
   {
    "duration": 4,
    "start_time": "2023-04-03T22:41:02.227Z"
   },
   {
    "duration": 372,
    "start_time": "2023-04-03T22:41:02.234Z"
   },
   {
    "duration": 9,
    "start_time": "2023-04-03T22:41:02.608Z"
   },
   {
    "duration": 14,
    "start_time": "2023-04-03T22:41:02.619Z"
   },
   {
    "duration": 14,
    "start_time": "2023-04-03T22:41:02.635Z"
   },
   {
    "duration": 22,
    "start_time": "2023-04-03T22:41:02.651Z"
   },
   {
    "duration": 14,
    "start_time": "2023-04-03T22:41:02.691Z"
   },
   {
    "duration": 29,
    "start_time": "2023-04-03T22:41:02.707Z"
   },
   {
    "duration": 31,
    "start_time": "2023-04-03T22:41:02.739Z"
   },
   {
    "duration": 21,
    "start_time": "2023-04-03T22:41:02.773Z"
   },
   {
    "duration": 70,
    "start_time": "2023-04-03T22:41:02.796Z"
   },
   {
    "duration": 28,
    "start_time": "2023-04-03T22:41:02.868Z"
   },
   {
    "duration": 17,
    "start_time": "2023-04-03T22:41:02.898Z"
   },
   {
    "duration": 12,
    "start_time": "2023-04-03T22:41:02.917Z"
   },
   {
    "duration": 29,
    "start_time": "2023-04-03T22:41:02.931Z"
   },
   {
    "duration": 58,
    "start_time": "2023-04-03T22:41:02.962Z"
   },
   {
    "duration": 50,
    "start_time": "2023-04-03T22:41:03.022Z"
   },
   {
    "duration": 5,
    "start_time": "2023-04-03T22:41:21.303Z"
   },
   {
    "duration": 10,
    "start_time": "2023-04-04T08:27:54.746Z"
   },
   {
    "duration": 54,
    "start_time": "2023-04-04T08:27:57.249Z"
   },
   {
    "duration": 1565,
    "start_time": "2023-04-04T08:28:04.177Z"
   },
   {
    "duration": 263,
    "start_time": "2023-04-04T08:28:05.752Z"
   },
   {
    "duration": 32,
    "start_time": "2023-04-04T08:28:06.017Z"
   },
   {
    "duration": 21,
    "start_time": "2023-04-04T08:28:06.052Z"
   },
   {
    "duration": 77,
    "start_time": "2023-04-04T08:28:06.075Z"
   },
   {
    "duration": 30,
    "start_time": "2023-04-04T08:28:06.154Z"
   },
   {
    "duration": 31,
    "start_time": "2023-04-04T08:28:06.185Z"
   },
   {
    "duration": 48,
    "start_time": "2023-04-04T08:28:06.223Z"
   },
   {
    "duration": 34,
    "start_time": "2023-04-04T08:28:06.273Z"
   },
   {
    "duration": 42,
    "start_time": "2023-04-04T08:28:06.310Z"
   },
   {
    "duration": 26,
    "start_time": "2023-04-04T08:28:06.353Z"
   },
   {
    "duration": 9,
    "start_time": "2023-04-04T08:28:06.381Z"
   },
   {
    "duration": 52,
    "start_time": "2023-04-04T08:28:06.392Z"
   },
   {
    "duration": 20,
    "start_time": "2023-04-04T08:28:06.447Z"
   },
   {
    "duration": 43,
    "start_time": "2023-04-04T08:28:06.468Z"
   },
   {
    "duration": 30,
    "start_time": "2023-04-04T08:28:06.512Z"
   },
   {
    "duration": 36,
    "start_time": "2023-04-04T08:28:06.548Z"
   },
   {
    "duration": 5,
    "start_time": "2023-04-04T08:28:06.585Z"
   },
   {
    "duration": 11,
    "start_time": "2023-04-04T08:28:06.592Z"
   },
   {
    "duration": 51,
    "start_time": "2023-04-04T08:28:06.605Z"
   },
   {
    "duration": 704,
    "start_time": "2023-04-04T08:28:06.658Z"
   },
   {
    "duration": 74,
    "start_time": "2023-04-04T08:28:07.363Z"
   },
   {
    "duration": 982,
    "start_time": "2023-04-04T08:28:07.440Z"
   },
   {
    "duration": 80,
    "start_time": "2023-04-04T08:28:08.423Z"
   },
   {
    "duration": 5878,
    "start_time": "2023-04-04T08:28:08.505Z"
   },
   {
    "duration": 306,
    "start_time": "2023-04-04T08:28:14.384Z"
   },
   {
    "duration": 79,
    "start_time": "2023-04-04T08:28:14.692Z"
   },
   {
    "duration": 334,
    "start_time": "2023-04-04T08:28:14.775Z"
   },
   {
    "duration": 38,
    "start_time": "2023-04-04T08:28:15.117Z"
   },
   {
    "duration": 39,
    "start_time": "2023-04-04T08:28:15.157Z"
   },
   {
    "duration": 497,
    "start_time": "2023-04-04T08:28:15.198Z"
   },
   {
    "duration": 71,
    "start_time": "2023-04-04T08:28:15.697Z"
   },
   {
    "duration": 30,
    "start_time": "2023-04-04T08:28:15.770Z"
   },
   {
    "duration": 597,
    "start_time": "2023-04-04T08:28:15.802Z"
   },
   {
    "duration": 637,
    "start_time": "2023-04-04T08:28:16.401Z"
   },
   {
    "duration": 563,
    "start_time": "2023-04-04T08:28:17.040Z"
   },
   {
    "duration": 47,
    "start_time": "2023-04-04T08:28:17.605Z"
   },
   {
    "duration": 13,
    "start_time": "2023-04-04T08:28:17.654Z"
   },
   {
    "duration": 42,
    "start_time": "2023-04-04T08:28:17.669Z"
   },
   {
    "duration": 81,
    "start_time": "2023-04-04T08:28:17.712Z"
   },
   {
    "duration": 8,
    "start_time": "2023-04-04T08:28:17.795Z"
   },
   {
    "duration": 46,
    "start_time": "2023-04-04T08:28:17.805Z"
   },
   {
    "duration": 11,
    "start_time": "2023-04-04T08:28:17.853Z"
   },
   {
    "duration": 47,
    "start_time": "2023-04-04T08:28:17.866Z"
   },
   {
    "duration": 54,
    "start_time": "2023-04-04T08:28:17.915Z"
   },
   {
    "duration": 32,
    "start_time": "2023-04-04T08:28:17.971Z"
   },
   {
    "duration": 49,
    "start_time": "2023-04-04T08:28:18.005Z"
   },
   {
    "duration": 34,
    "start_time": "2023-04-04T08:28:18.055Z"
   },
   {
    "duration": 6,
    "start_time": "2023-04-04T08:31:57.465Z"
   },
   {
    "duration": 5,
    "start_time": "2023-04-04T08:31:59.576Z"
   },
   {
    "duration": 5,
    "start_time": "2023-04-04T08:32:00.440Z"
   },
   {
    "duration": 6,
    "start_time": "2023-04-04T08:32:01.404Z"
   },
   {
    "duration": 277,
    "start_time": "2023-04-04T09:05:21.063Z"
   },
   {
    "duration": 5,
    "start_time": "2023-04-04T09:29:56.695Z"
   },
   {
    "duration": 327,
    "start_time": "2023-04-04T09:29:56.703Z"
   },
   {
    "duration": 8,
    "start_time": "2023-04-04T09:29:57.033Z"
   },
   {
    "duration": 37,
    "start_time": "2023-04-04T09:29:57.043Z"
   },
   {
    "duration": 28,
    "start_time": "2023-04-04T09:29:57.081Z"
   },
   {
    "duration": 35,
    "start_time": "2023-04-04T09:29:57.111Z"
   },
   {
    "duration": 38,
    "start_time": "2023-04-04T09:29:57.148Z"
   },
   {
    "duration": 69,
    "start_time": "2023-04-04T09:29:57.188Z"
   },
   {
    "duration": 26,
    "start_time": "2023-04-04T09:29:57.258Z"
   },
   {
    "duration": 21,
    "start_time": "2023-04-04T09:29:57.287Z"
   },
   {
    "duration": 40,
    "start_time": "2023-04-04T09:29:57.310Z"
   },
   {
    "duration": 7,
    "start_time": "2023-04-04T09:29:57.351Z"
   },
   {
    "duration": 25,
    "start_time": "2023-04-04T09:29:57.360Z"
   },
   {
    "duration": 27,
    "start_time": "2023-04-04T09:29:57.386Z"
   },
   {
    "duration": 54,
    "start_time": "2023-04-04T09:29:57.415Z"
   },
   {
    "duration": 5,
    "start_time": "2023-04-04T09:29:57.470Z"
   },
   {
    "duration": 35,
    "start_time": "2023-04-04T09:29:57.477Z"
   },
   {
    "duration": 14,
    "start_time": "2023-04-04T09:29:57.514Z"
   },
   {
    "duration": 11,
    "start_time": "2023-04-04T09:29:57.539Z"
   },
   {
    "duration": 30,
    "start_time": "2023-04-04T09:29:57.552Z"
   },
   {
    "duration": 617,
    "start_time": "2023-04-04T09:29:57.584Z"
   },
   {
    "duration": 64,
    "start_time": "2023-04-04T09:29:58.203Z"
   },
   {
    "duration": 1101,
    "start_time": "2023-04-04T09:29:58.269Z"
   },
   {
    "duration": 76,
    "start_time": "2023-04-04T09:29:59.371Z"
   },
   {
    "duration": 6941,
    "start_time": "2023-04-04T09:29:59.448Z"
   },
   {
    "duration": 294,
    "start_time": "2023-04-04T09:30:06.391Z"
   },
   {
    "duration": 67,
    "start_time": "2023-04-04T09:30:06.687Z"
   },
   {
    "duration": 240,
    "start_time": "2023-04-04T09:30:06.758Z"
   },
   {
    "duration": 38,
    "start_time": "2023-04-04T09:30:07.000Z"
   },
   {
    "duration": 28,
    "start_time": "2023-04-04T09:30:07.040Z"
   },
   {
    "duration": 725,
    "start_time": "2023-04-04T09:30:07.070Z"
   },
   {
    "duration": 68,
    "start_time": "2023-04-04T09:30:07.797Z"
   },
   {
    "duration": 19,
    "start_time": "2023-04-04T09:30:07.867Z"
   },
   {
    "duration": 555,
    "start_time": "2023-04-04T09:30:07.887Z"
   },
   {
    "duration": 530,
    "start_time": "2023-04-04T09:30:08.444Z"
   },
   {
    "duration": 637,
    "start_time": "2023-04-04T09:30:08.976Z"
   },
   {
    "duration": 32,
    "start_time": "2023-04-04T09:30:09.614Z"
   },
   {
    "duration": 3,
    "start_time": "2023-04-04T09:30:09.648Z"
   },
   {
    "duration": 20,
    "start_time": "2023-04-04T09:30:09.653Z"
   },
   {
    "duration": 65,
    "start_time": "2023-04-04T09:30:09.674Z"
   },
   {
    "duration": 8,
    "start_time": "2023-04-04T09:30:09.740Z"
   },
   {
    "duration": 26,
    "start_time": "2023-04-04T09:30:09.749Z"
   },
   {
    "duration": 10,
    "start_time": "2023-04-04T09:30:09.777Z"
   },
   {
    "duration": 53,
    "start_time": "2023-04-04T09:30:09.788Z"
   },
   {
    "duration": 15,
    "start_time": "2023-04-04T09:30:09.844Z"
   },
   {
    "duration": 28,
    "start_time": "2023-04-04T09:30:09.862Z"
   },
   {
    "duration": 23,
    "start_time": "2023-04-04T09:30:09.892Z"
   },
   {
    "duration": 24,
    "start_time": "2023-04-04T09:30:09.917Z"
   },
   {
    "duration": 1089,
    "start_time": "2023-04-04T19:17:04.540Z"
   },
   {
    "duration": 223,
    "start_time": "2023-04-04T19:17:05.631Z"
   },
   {
    "duration": 10,
    "start_time": "2023-04-04T19:17:05.856Z"
   },
   {
    "duration": 16,
    "start_time": "2023-04-04T19:17:05.869Z"
   },
   {
    "duration": 51,
    "start_time": "2023-04-04T19:17:05.887Z"
   },
   {
    "duration": 15,
    "start_time": "2023-04-04T19:17:05.940Z"
   },
   {
    "duration": 13,
    "start_time": "2023-04-04T19:17:05.957Z"
   },
   {
    "duration": 27,
    "start_time": "2023-04-04T19:17:05.972Z"
   },
   {
    "duration": 17,
    "start_time": "2023-04-04T19:17:06.001Z"
   },
   {
    "duration": 12,
    "start_time": "2023-04-04T19:17:06.020Z"
   },
   {
    "duration": 23,
    "start_time": "2023-04-04T19:17:06.033Z"
   },
   {
    "duration": 13,
    "start_time": "2023-04-04T19:17:06.057Z"
   },
   {
    "duration": 7,
    "start_time": "2023-04-04T19:17:06.072Z"
   },
   {
    "duration": 10,
    "start_time": "2023-04-04T19:17:06.080Z"
   },
   {
    "duration": 16,
    "start_time": "2023-04-04T19:17:06.092Z"
   },
   {
    "duration": 4,
    "start_time": "2023-04-04T19:17:06.110Z"
   },
   {
    "duration": 44,
    "start_time": "2023-04-04T19:17:06.116Z"
   },
   {
    "duration": 4,
    "start_time": "2023-04-04T19:17:06.161Z"
   },
   {
    "duration": 9,
    "start_time": "2023-04-04T19:17:06.167Z"
   },
   {
    "duration": 20,
    "start_time": "2023-04-04T19:17:06.178Z"
   },
   {
    "duration": 456,
    "start_time": "2023-04-04T19:17:06.200Z"
   },
   {
    "duration": 50,
    "start_time": "2023-04-04T19:17:06.658Z"
   },
   {
    "duration": 708,
    "start_time": "2023-04-04T19:17:06.709Z"
   },
   {
    "duration": 56,
    "start_time": "2023-04-04T19:17:07.418Z"
   },
   {
    "duration": 4222,
    "start_time": "2023-04-04T19:17:07.475Z"
   },
   {
    "duration": 226,
    "start_time": "2023-04-04T19:17:11.699Z"
   },
   {
    "duration": 55,
    "start_time": "2023-04-04T19:17:11.926Z"
   },
   {
    "duration": 235,
    "start_time": "2023-04-04T19:17:11.984Z"
   },
   {
    "duration": 15,
    "start_time": "2023-04-04T19:17:12.220Z"
   },
   {
    "duration": 34,
    "start_time": "2023-04-04T19:17:12.236Z"
   },
   {
    "duration": 425,
    "start_time": "2023-04-04T19:17:12.272Z"
   },
   {
    "duration": 45,
    "start_time": "2023-04-04T19:17:12.699Z"
   },
   {
    "duration": 23,
    "start_time": "2023-04-04T19:17:12.746Z"
   },
   {
    "duration": 431,
    "start_time": "2023-04-04T19:17:12.770Z"
   },
   {
    "duration": 397,
    "start_time": "2023-04-04T19:17:13.203Z"
   },
   {
    "duration": 498,
    "start_time": "2023-04-04T19:17:13.602Z"
   },
   {
    "duration": 18,
    "start_time": "2023-04-04T19:17:14.101Z"
   },
   {
    "duration": 15,
    "start_time": "2023-04-04T19:17:14.121Z"
   },
   {
    "duration": 19,
    "start_time": "2023-04-04T19:17:14.137Z"
   },
   {
    "duration": 55,
    "start_time": "2023-04-04T19:17:14.157Z"
   },
   {
    "duration": 7,
    "start_time": "2023-04-04T19:17:14.213Z"
   },
   {
    "duration": 25,
    "start_time": "2023-04-04T19:17:14.221Z"
   },
   {
    "duration": 20,
    "start_time": "2023-04-04T19:17:14.247Z"
   },
   {
    "duration": 42,
    "start_time": "2023-04-04T19:17:14.268Z"
   },
   {
    "duration": 5,
    "start_time": "2023-04-04T19:17:14.312Z"
   },
   {
    "duration": 13,
    "start_time": "2023-04-04T19:17:14.319Z"
   },
   {
    "duration": 21,
    "start_time": "2023-04-04T19:17:14.334Z"
   },
   {
    "duration": 21,
    "start_time": "2023-04-04T19:17:14.357Z"
   },
   {
    "duration": 1392,
    "start_time": "2023-04-05T07:03:02.853Z"
   },
   {
    "duration": 269,
    "start_time": "2023-04-05T07:03:04.247Z"
   },
   {
    "duration": 12,
    "start_time": "2023-04-05T07:03:04.518Z"
   },
   {
    "duration": 10,
    "start_time": "2023-04-05T07:03:04.532Z"
   },
   {
    "duration": 75,
    "start_time": "2023-04-05T07:03:04.544Z"
   },
   {
    "duration": 19,
    "start_time": "2023-04-05T07:03:04.621Z"
   },
   {
    "duration": 11,
    "start_time": "2023-04-05T07:03:04.641Z"
   },
   {
    "duration": 45,
    "start_time": "2023-04-05T07:03:04.653Z"
   },
   {
    "duration": 30,
    "start_time": "2023-04-05T07:03:04.700Z"
   },
   {
    "duration": 17,
    "start_time": "2023-04-05T07:03:04.732Z"
   },
   {
    "duration": 44,
    "start_time": "2023-04-05T07:03:04.751Z"
   },
   {
    "duration": 17,
    "start_time": "2023-04-05T07:03:04.799Z"
   },
   {
    "duration": 30,
    "start_time": "2023-04-05T07:03:04.820Z"
   },
   {
    "duration": 19,
    "start_time": "2023-04-05T07:03:04.852Z"
   },
   {
    "duration": 74,
    "start_time": "2023-04-05T07:03:04.873Z"
   },
   {
    "duration": 32,
    "start_time": "2023-04-05T07:03:04.949Z"
   },
   {
    "duration": 80,
    "start_time": "2023-04-05T07:03:04.983Z"
   },
   {
    "duration": 12,
    "start_time": "2023-04-05T07:03:05.065Z"
   },
   {
    "duration": 45,
    "start_time": "2023-04-05T07:03:05.079Z"
   },
   {
    "duration": 20,
    "start_time": "2023-04-05T07:03:05.127Z"
   },
   {
    "duration": 1241,
    "start_time": "2023-04-05T07:03:05.149Z"
   },
   {
    "duration": 125,
    "start_time": "2023-04-05T07:03:06.393Z"
   },
   {
    "duration": 1305,
    "start_time": "2023-04-05T07:03:06.520Z"
   },
   {
    "duration": 75,
    "start_time": "2023-04-05T07:03:07.827Z"
   },
   {
    "duration": 5270,
    "start_time": "2023-04-05T07:03:07.904Z"
   },
   {
    "duration": 288,
    "start_time": "2023-04-05T07:03:13.176Z"
   },
   {
    "duration": 74,
    "start_time": "2023-04-05T07:03:13.466Z"
   },
   {
    "duration": 303,
    "start_time": "2023-04-05T07:03:13.543Z"
   },
   {
    "duration": 21,
    "start_time": "2023-04-05T07:03:13.848Z"
   },
   {
    "duration": 41,
    "start_time": "2023-04-05T07:03:13.884Z"
   },
   {
    "duration": 409,
    "start_time": "2023-04-05T07:03:13.927Z"
   },
   {
    "duration": 59,
    "start_time": "2023-04-05T07:03:14.338Z"
   },
   {
    "duration": 17,
    "start_time": "2023-04-05T07:03:14.399Z"
   },
   {
    "duration": 601,
    "start_time": "2023-04-05T07:03:14.418Z"
   },
   {
    "duration": 525,
    "start_time": "2023-04-05T07:03:15.022Z"
   },
   {
    "duration": 534,
    "start_time": "2023-04-05T07:03:15.549Z"
   },
   {
    "duration": 28,
    "start_time": "2023-04-05T07:03:16.085Z"
   },
   {
    "duration": 4,
    "start_time": "2023-04-05T07:03:16.116Z"
   },
   {
    "duration": 18,
    "start_time": "2023-04-05T07:03:16.122Z"
   },
   {
    "duration": 64,
    "start_time": "2023-04-05T07:03:16.143Z"
   },
   {
    "duration": 8,
    "start_time": "2023-04-05T07:03:16.209Z"
   },
   {
    "duration": 23,
    "start_time": "2023-04-05T07:03:16.219Z"
   },
   {
    "duration": 13,
    "start_time": "2023-04-05T07:03:16.244Z"
   },
   {
    "duration": 48,
    "start_time": "2023-04-05T07:03:16.258Z"
   },
   {
    "duration": 14,
    "start_time": "2023-04-05T07:03:16.308Z"
   },
   {
    "duration": 10,
    "start_time": "2023-04-05T07:03:16.324Z"
   },
   {
    "duration": 16,
    "start_time": "2023-04-05T07:03:16.336Z"
   },
   {
    "duration": 21,
    "start_time": "2023-04-05T07:03:16.353Z"
   },
   {
    "duration": 353,
    "start_time": "2023-04-05T07:03:25.385Z"
   },
   {
    "duration": 301,
    "start_time": "2023-04-05T07:05:23.853Z"
   },
   {
    "duration": 253,
    "start_time": "2023-04-05T07:05:31.037Z"
   },
   {
    "duration": 281,
    "start_time": "2023-04-05T07:05:40.319Z"
   },
   {
    "duration": 313,
    "start_time": "2023-04-05T07:05:52.345Z"
   },
   {
    "duration": 258,
    "start_time": "2023-04-05T07:05:59.300Z"
   },
   {
    "duration": 4071,
    "start_time": "2023-04-05T07:07:07.849Z"
   },
   {
    "duration": 666,
    "start_time": "2023-04-05T07:07:11.925Z"
   },
   {
    "duration": 86,
    "start_time": "2023-04-05T07:07:30.586Z"
   },
   {
    "duration": 7,
    "start_time": "2023-04-05T07:07:31.148Z"
   },
   {
    "duration": 7,
    "start_time": "2023-04-05T07:08:07.539Z"
   },
   {
    "duration": 1252,
    "start_time": "2023-04-05T07:08:11.039Z"
   },
   {
    "duration": 342,
    "start_time": "2023-04-05T07:08:12.293Z"
   },
   {
    "duration": 11,
    "start_time": "2023-04-05T07:08:12.637Z"
   },
   {
    "duration": 8,
    "start_time": "2023-04-05T07:08:12.650Z"
   },
   {
    "duration": 85,
    "start_time": "2023-04-05T07:08:12.660Z"
   },
   {
    "duration": 23,
    "start_time": "2023-04-05T07:08:12.747Z"
   },
   {
    "duration": 15,
    "start_time": "2023-04-05T07:08:12.784Z"
   },
   {
    "duration": 18,
    "start_time": "2023-04-05T07:08:12.801Z"
   },
   {
    "duration": 30,
    "start_time": "2023-04-05T07:08:12.822Z"
   },
   {
    "duration": 31,
    "start_time": "2023-04-05T07:08:12.856Z"
   },
   {
    "duration": 30,
    "start_time": "2023-04-05T07:08:12.889Z"
   },
   {
    "duration": 11,
    "start_time": "2023-04-05T07:08:12.921Z"
   },
   {
    "duration": 12,
    "start_time": "2023-04-05T07:08:12.934Z"
   },
   {
    "duration": 9,
    "start_time": "2023-04-05T07:08:12.948Z"
   },
   {
    "duration": 28,
    "start_time": "2023-04-05T07:08:12.983Z"
   },
   {
    "duration": 6,
    "start_time": "2023-04-05T07:08:13.013Z"
   },
   {
    "duration": 45,
    "start_time": "2023-04-05T07:08:13.023Z"
   },
   {
    "duration": 4,
    "start_time": "2023-04-05T07:08:13.070Z"
   },
   {
    "duration": 11,
    "start_time": "2023-04-05T07:08:13.088Z"
   },
   {
    "duration": 32,
    "start_time": "2023-04-05T07:08:13.101Z"
   },
   {
    "duration": 649,
    "start_time": "2023-04-05T07:08:13.135Z"
   },
   {
    "duration": 61,
    "start_time": "2023-04-05T07:08:13.786Z"
   },
   {
    "duration": 853,
    "start_time": "2023-04-05T07:08:13.848Z"
   },
   {
    "duration": 82,
    "start_time": "2023-04-05T07:08:14.703Z"
   },
   {
    "duration": 5006,
    "start_time": "2023-04-05T07:08:14.787Z"
   },
   {
    "duration": 323,
    "start_time": "2023-04-05T07:08:19.795Z"
   },
   {
    "duration": 71,
    "start_time": "2023-04-05T07:08:20.120Z"
   },
   {
    "duration": 322,
    "start_time": "2023-04-05T07:08:20.195Z"
   },
   {
    "duration": 20,
    "start_time": "2023-04-05T07:08:20.520Z"
   },
   {
    "duration": 63,
    "start_time": "2023-04-05T07:08:20.541Z"
   },
   {
    "duration": 293,
    "start_time": "2023-04-05T07:08:20.606Z"
   },
   {
    "duration": 278,
    "start_time": "2023-04-05T07:08:52.049Z"
   },
   {
    "duration": 182,
    "start_time": "2023-04-05T07:09:11.972Z"
   },
   {
    "duration": 243,
    "start_time": "2023-04-05T07:09:20.396Z"
   },
   {
    "duration": 59,
    "start_time": "2023-04-05T07:10:36.007Z"
   },
   {
    "duration": 3838,
    "start_time": "2023-04-05T07:10:42.673Z"
   },
   {
    "duration": 670,
    "start_time": "2023-04-05T07:10:46.514Z"
   },
   {
    "duration": 1387,
    "start_time": "2023-07-16T13:02:13.503Z"
   },
   {
    "duration": 304,
    "start_time": "2023-07-16T13:02:14.892Z"
   },
   {
    "duration": 11,
    "start_time": "2023-07-16T13:02:15.198Z"
   },
   {
    "duration": 24,
    "start_time": "2023-07-16T13:02:15.211Z"
   },
   {
    "duration": 56,
    "start_time": "2023-07-16T13:02:15.237Z"
   },
   {
    "duration": 24,
    "start_time": "2023-07-16T13:02:15.294Z"
   },
   {
    "duration": 17,
    "start_time": "2023-07-16T13:02:15.320Z"
   },
   {
    "duration": 25,
    "start_time": "2023-07-16T13:02:15.352Z"
   },
   {
    "duration": 28,
    "start_time": "2023-07-16T13:02:15.379Z"
   },
   {
    "duration": 9,
    "start_time": "2023-07-16T13:02:15.409Z"
   },
   {
    "duration": 44,
    "start_time": "2023-07-16T13:02:15.419Z"
   },
   {
    "duration": 10,
    "start_time": "2023-07-16T13:02:15.464Z"
   },
   {
    "duration": 7,
    "start_time": "2023-07-16T13:02:15.476Z"
   },
   {
    "duration": 5,
    "start_time": "2023-07-16T13:02:15.487Z"
   },
   {
    "duration": 23,
    "start_time": "2023-07-16T13:02:15.493Z"
   },
   {
    "duration": 37,
    "start_time": "2023-07-16T13:02:15.517Z"
   },
   {
    "duration": 30,
    "start_time": "2023-07-16T13:02:15.556Z"
   },
   {
    "duration": 5,
    "start_time": "2023-07-16T13:02:15.588Z"
   },
   {
    "duration": 9,
    "start_time": "2023-07-16T13:02:15.595Z"
   },
   {
    "duration": 8,
    "start_time": "2023-07-16T13:02:15.605Z"
   },
   {
    "duration": 624,
    "start_time": "2023-07-16T13:02:15.615Z"
   },
   {
    "duration": 58,
    "start_time": "2023-07-16T13:02:16.241Z"
   },
   {
    "duration": 781,
    "start_time": "2023-07-16T13:02:16.300Z"
   },
   {
    "duration": 72,
    "start_time": "2023-07-16T13:02:17.083Z"
   },
   {
    "duration": 6073,
    "start_time": "2023-07-16T13:02:17.157Z"
   },
   {
    "duration": 281,
    "start_time": "2023-07-16T13:02:23.232Z"
   },
   {
    "duration": 61,
    "start_time": "2023-07-16T13:02:23.515Z"
   },
   {
    "duration": 291,
    "start_time": "2023-07-16T13:02:23.579Z"
   },
   {
    "duration": 20,
    "start_time": "2023-07-16T13:02:23.872Z"
   },
   {
    "duration": 27,
    "start_time": "2023-07-16T13:02:23.894Z"
   },
   {
    "duration": 287,
    "start_time": "2023-07-16T13:02:23.923Z"
   },
   {
    "duration": 65,
    "start_time": "2023-07-16T13:02:24.211Z"
   },
   {
    "duration": 15,
    "start_time": "2023-07-16T13:02:24.278Z"
   },
   {
    "duration": 504,
    "start_time": "2023-07-16T13:02:24.295Z"
   },
   {
    "duration": 482,
    "start_time": "2023-07-16T13:02:24.801Z"
   },
   {
    "duration": 512,
    "start_time": "2023-07-16T13:02:25.285Z"
   },
   {
    "duration": 21,
    "start_time": "2023-07-16T13:02:25.799Z"
   },
   {
    "duration": 35,
    "start_time": "2023-07-16T13:02:25.822Z"
   },
   {
    "duration": 122,
    "start_time": "2023-07-16T13:02:25.859Z"
   },
   {
    "duration": 50,
    "start_time": "2023-07-16T13:02:25.983Z"
   },
   {
    "duration": 24,
    "start_time": "2023-07-16T13:02:26.037Z"
   },
   {
    "duration": 38,
    "start_time": "2023-07-16T13:02:26.063Z"
   },
   {
    "duration": 12,
    "start_time": "2023-07-16T13:02:26.103Z"
   },
   {
    "duration": 37,
    "start_time": "2023-07-16T13:02:26.117Z"
   },
   {
    "duration": 108,
    "start_time": "2023-07-16T13:02:26.156Z"
   },
   {
    "duration": 32,
    "start_time": "2023-07-16T13:02:26.267Z"
   },
   {
    "duration": 23,
    "start_time": "2023-07-16T13:02:26.301Z"
   },
   {
    "duration": 19,
    "start_time": "2023-07-16T13:02:26.326Z"
   },
   {
    "duration": 1623,
    "start_time": "2023-07-17T11:32:56.277Z"
   },
   {
    "duration": 254,
    "start_time": "2023-07-17T11:32:57.902Z"
   },
   {
    "duration": 17,
    "start_time": "2023-07-17T11:32:58.158Z"
   },
   {
    "duration": 14,
    "start_time": "2023-07-17T11:32:58.177Z"
   },
   {
    "duration": 67,
    "start_time": "2023-07-17T11:32:58.193Z"
   },
   {
    "duration": 23,
    "start_time": "2023-07-17T11:32:58.262Z"
   },
   {
    "duration": 54,
    "start_time": "2023-07-17T11:32:58.287Z"
   },
   {
    "duration": 53,
    "start_time": "2023-07-17T11:32:58.343Z"
   },
   {
    "duration": 67,
    "start_time": "2023-07-17T11:32:58.398Z"
   },
   {
    "duration": 64,
    "start_time": "2023-07-17T11:32:58.467Z"
   },
   {
    "duration": 30,
    "start_time": "2023-07-17T11:32:58.533Z"
   },
   {
    "duration": 8,
    "start_time": "2023-07-17T11:32:58.564Z"
   },
   {
    "duration": 19,
    "start_time": "2023-07-17T11:32:58.573Z"
   },
   {
    "duration": 12,
    "start_time": "2023-07-17T11:32:58.595Z"
   },
   {
    "duration": 19,
    "start_time": "2023-07-17T11:32:58.609Z"
   },
   {
    "duration": 5,
    "start_time": "2023-07-17T11:32:58.630Z"
   },
   {
    "duration": 35,
    "start_time": "2023-07-17T11:32:58.636Z"
   },
   {
    "duration": 18,
    "start_time": "2023-07-17T11:32:58.673Z"
   },
   {
    "duration": 25,
    "start_time": "2023-07-17T11:32:58.693Z"
   },
   {
    "duration": 25,
    "start_time": "2023-07-17T11:32:58.720Z"
   },
   {
    "duration": 620,
    "start_time": "2023-07-17T11:32:58.746Z"
   },
   {
    "duration": 53,
    "start_time": "2023-07-17T11:32:59.368Z"
   },
   {
    "duration": 808,
    "start_time": "2023-07-17T11:32:59.422Z"
   },
   {
    "duration": 72,
    "start_time": "2023-07-17T11:33:00.232Z"
   },
   {
    "duration": 4512,
    "start_time": "2023-07-17T11:33:00.306Z"
   },
   {
    "duration": 261,
    "start_time": "2023-07-17T11:33:04.820Z"
   },
   {
    "duration": 55,
    "start_time": "2023-07-17T11:33:05.083Z"
   },
   {
    "duration": 274,
    "start_time": "2023-07-17T11:33:05.140Z"
   },
   {
    "duration": 99,
    "start_time": "2023-07-17T11:33:27.106Z"
   },
   {
    "duration": 10,
    "start_time": "2023-07-17T11:34:44.200Z"
   },
   {
    "duration": 9,
    "start_time": "2023-07-17T11:35:28.656Z"
   },
   {
    "duration": 9,
    "start_time": "2023-07-17T11:35:32.186Z"
   },
   {
    "duration": 13,
    "start_time": "2023-07-17T11:36:56.872Z"
   },
   {
    "duration": 4,
    "start_time": "2023-07-17T11:37:01.782Z"
   },
   {
    "duration": 322,
    "start_time": "2023-07-17T11:37:01.789Z"
   },
   {
    "duration": 7,
    "start_time": "2023-07-17T11:37:02.113Z"
   },
   {
    "duration": 32,
    "start_time": "2023-07-17T11:37:02.122Z"
   },
   {
    "duration": 35,
    "start_time": "2023-07-17T11:37:02.157Z"
   },
   {
    "duration": 38,
    "start_time": "2023-07-17T11:37:02.194Z"
   },
   {
    "duration": 46,
    "start_time": "2023-07-17T11:37:02.233Z"
   },
   {
    "duration": 50,
    "start_time": "2023-07-17T11:37:02.280Z"
   },
   {
    "duration": 61,
    "start_time": "2023-07-17T11:37:02.331Z"
   },
   {
    "duration": 17,
    "start_time": "2023-07-17T11:37:02.394Z"
   },
   {
    "duration": 39,
    "start_time": "2023-07-17T11:37:02.414Z"
   },
   {
    "duration": 11,
    "start_time": "2023-07-17T11:37:02.455Z"
   },
   {
    "duration": 35,
    "start_time": "2023-07-17T11:37:02.467Z"
   },
   {
    "duration": 10,
    "start_time": "2023-07-17T11:37:02.504Z"
   },
   {
    "duration": 37,
    "start_time": "2023-07-17T11:37:02.516Z"
   },
   {
    "duration": 15,
    "start_time": "2023-07-17T11:37:02.554Z"
   },
   {
    "duration": 31,
    "start_time": "2023-07-17T11:37:02.571Z"
   },
   {
    "duration": 5,
    "start_time": "2023-07-17T11:37:02.604Z"
   },
   {
    "duration": 11,
    "start_time": "2023-07-17T11:37:02.610Z"
   },
   {
    "duration": 24,
    "start_time": "2023-07-17T11:37:02.623Z"
   },
   {
    "duration": 534,
    "start_time": "2023-07-17T11:37:02.649Z"
   },
   {
    "duration": 49,
    "start_time": "2023-07-17T11:37:03.185Z"
   },
   {
    "duration": 906,
    "start_time": "2023-07-17T11:37:03.236Z"
   },
   {
    "duration": 75,
    "start_time": "2023-07-17T11:37:04.144Z"
   },
   {
    "duration": 4697,
    "start_time": "2023-07-17T11:37:04.221Z"
   },
   {
    "duration": 258,
    "start_time": "2023-07-17T11:37:08.920Z"
   },
   {
    "duration": 54,
    "start_time": "2023-07-17T11:37:09.180Z"
   },
   {
    "duration": 213,
    "start_time": "2023-07-17T11:37:09.236Z"
   },
   {
    "duration": 30,
    "start_time": "2023-07-17T11:37:09.452Z"
   },
   {
    "duration": 23,
    "start_time": "2023-07-17T11:37:09.484Z"
   },
   {
    "duration": 310,
    "start_time": "2023-07-17T11:37:09.508Z"
   },
   {
    "duration": 254,
    "start_time": "2023-07-17T11:37:17.372Z"
   },
   {
    "duration": 8,
    "start_time": "2023-07-17T11:40:37.548Z"
   },
   {
    "duration": 56,
    "start_time": "2023-07-17T11:40:45.248Z"
   },
   {
    "duration": 7,
    "start_time": "2023-07-17T11:41:01.349Z"
   },
   {
    "duration": 60,
    "start_time": "2023-07-17T11:41:05.276Z"
   },
   {
    "duration": 7,
    "start_time": "2023-07-17T11:44:17.759Z"
   },
   {
    "duration": 55,
    "start_time": "2023-07-17T11:44:24.224Z"
   },
   {
    "duration": 10,
    "start_time": "2023-07-17T11:44:36.462Z"
   },
   {
    "duration": 59,
    "start_time": "2023-07-17T11:44:41.301Z"
   },
   {
    "duration": 7,
    "start_time": "2023-07-17T11:45:49.771Z"
   },
   {
    "duration": 637,
    "start_time": "2023-07-17T11:45:53.479Z"
   },
   {
    "duration": 7,
    "start_time": "2023-07-17T11:46:26.605Z"
   },
   {
    "duration": 553,
    "start_time": "2023-07-17T11:46:29.946Z"
   }
  ],
  "kernelspec": {
   "display_name": "Python 3 (ipykernel)",
   "language": "python",
   "name": "python3"
  },
  "language_info": {
   "codemirror_mode": {
    "name": "ipython",
    "version": 3
   },
   "file_extension": ".py",
   "mimetype": "text/x-python",
   "name": "python",
   "nbconvert_exporter": "python",
   "pygments_lexer": "ipython3",
   "version": "3.9.5"
  },
  "toc": {
   "base_numbering": 1,
   "nav_menu": {},
   "number_sections": true,
   "sideBar": true,
   "skip_h1_title": true,
   "title_cell": "Table of Contents",
   "title_sidebar": "Contents",
   "toc_cell": false,
   "toc_position": {
    "height": "calc(100% - 180px)",
    "left": "10px",
    "top": "150px",
    "width": "165px"
   },
   "toc_section_display": true,
   "toc_window_display": true
  }
 },
 "nbformat": 4,
 "nbformat_minor": 2
}
