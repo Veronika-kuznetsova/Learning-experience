{
 "cells": [
  {
   "cell_type": "markdown",
   "id": "dea70577",
   "metadata": {},
   "source": [
    "# Оценка проведения A/B-теста\n",
    "\n",
    "Внутри компании-заказчика был проведен A/B-тест, нацеленный на выявление изменений, свзанных с внедреним улучшенной рекомендательной системы. \n",
    "\n",
    "**Цель данного исследования:** оценить корректность проведения теста."
   ]
  },
  {
   "cell_type": "markdown",
   "id": "aeecc761",
   "metadata": {},
   "source": [
    "Содержание:\n",
    "\n",
    "[1 Выгрузка данных](#выгрузка)\\\n",
    "[2 Предобработка данных](#предобработка)\\\n",
    "    - [2.1 Обработка типов](#типы)\\\n",
    "    - [2.2 Обработка пропусков](#пропуски)\\\n",
    "    - [2.3 Обработка дубликатов](#дубликаты)\\\n",
    "    - [2.3 Вывод](#вывод_2)\\\n",
    "[3 Оценка корректности проведения теста](#корректность)\\\n",
    "    - [3.1 Соответствие данных требованиям технического задания](#задание)\\\n",
    "    - [3.2  Время проведения теста](#время)\\\n",
    "    - [3.3 Аудитория теста](#аудитория)\\\n",
    "    - [3.4 Вывод](#вывод_3)\\\n",
    "[4 Исследовательский анализ данных](#иа)\\\n",
    "    - [4.1 Распределение количества событий на пользователя в выборках](#по_пользователям)\\\n",
    "    - [4.2 Распределение количества событий по дням](#по_дням)\\\n",
    "    - [4.3 Изменение конверсии в воронке в выборках на разных этапах](#конверсия)\\\n",
    "    - [4.4 Особенности данных перед A/B-тестированием](#особенности)\\\n",
    "    - [4.5 Вывод](#вывод_4)\\\n",
    "[5 Оценка результатов A/B-тестирования](#тест)\\\n",
    "    - [5.1 Результаты A/B-тестирования](#результаты_теста)\\\n",
    "    - [5.2 Проверка статистической разницы долей z-критерием](#з-критерий)\\\n",
    "    - [5.3 Вывод](#вывод_5)\\\n",
    "[6 Вывод](#вывод_6)\n",
    "\n",
    "\n",
    "\n",
    "\n",
    "\n",
    "\n",
    "\n",
    "\n",
    "\n",
    "\n",
    "\n",
    "\n"
   ]
  },
  {
   "cell_type": "markdown",
   "id": "90ea8754",
   "metadata": {},
   "source": [
    "## Описание данных \n",
    "В нашем распоряжении датасеты: \n",
    "- Календарь маркетинговых событий на 2020 год;\n",
    "- Пользователи, зарегистрировавшиеся с 7 по 21 декабря 2020 года;\n",
    "- Действия новых пользователей в период с 7 декабря 2020 по 4 января 2021 года;\n",
    "- Таблица участников тестов."
   ]
  },
  {
   "cell_type": "markdown",
   "id": "59f45d10",
   "metadata": {},
   "source": [
    "<a id='выгрузка'></a>\n",
    "## 1 Выгрузка данных"
   ]
  },
  {
   "cell_type": "code",
   "execution_count": 182,
   "id": "6fe59754",
   "metadata": {},
   "outputs": [],
   "source": [
    "# импорт библиотек\n",
    "from scipy import stats as st\n",
    "import numpy as np\n",
    "import math as mth\n",
    "import pandas as pd\n",
    "import datetime as dt\n",
    "from datetime import timedelta\n",
    "import datetime\n",
    "import matplotlib.pyplot as plt\n",
    "import seaborn as sns\n",
    "import warnings\n",
    "import plotly.express as px\n",
    "\n",
    "warnings.filterwarnings(\"ignore\")"
   ]
  },
  {
   "cell_type": "code",
   "execution_count": 183,
   "id": "2ad5c6ff",
   "metadata": {},
   "outputs": [],
   "source": [
    "events = pd.read_csv('final_ab_events.csv')\n",
    "marketing = pd.read_csv('ab_project_marketing_events.csv')\n",
    "new_users = pd.read_csv('final_ab_new_users.csv')\n",
    "participants = pd.read_csv('final_ab_participants.csv')"
   ]
  },
  {
   "cell_type": "markdown",
   "id": "9fad245f",
   "metadata": {},
   "source": [
    "<a id='типы'></a>\n",
    "### 2.1 Преобразование типов\n",
    "Проверим датасеты на корректность типов столбцов."
   ]
  },
  {
   "cell_type": "code",
   "execution_count": 184,
   "id": "4133b40e",
   "metadata": {},
   "outputs": [
    {
     "name": "stdout",
     "output_type": "stream",
     "text": [
      "<class 'pandas.core.frame.DataFrame'>\n",
      "RangeIndex: 440317 entries, 0 to 440316\n",
      "Data columns (total 4 columns):\n",
      " #   Column      Non-Null Count   Dtype  \n",
      "---  ------      --------------   -----  \n",
      " 0   user_id     440317 non-null  object \n",
      " 1   event_dt    440317 non-null  object \n",
      " 2   event_name  440317 non-null  object \n",
      " 3   details     62740 non-null   float64\n",
      "dtypes: float64(1), object(3)\n",
      "memory usage: 13.4+ MB\n",
      " \n",
      " \n",
      "<class 'pandas.core.frame.DataFrame'>\n",
      "RangeIndex: 14 entries, 0 to 13\n",
      "Data columns (total 4 columns):\n",
      " #   Column     Non-Null Count  Dtype \n",
      "---  ------     --------------  ----- \n",
      " 0   name       14 non-null     object\n",
      " 1   regions    14 non-null     object\n",
      " 2   start_dt   14 non-null     object\n",
      " 3   finish_dt  14 non-null     object\n",
      "dtypes: object(4)\n",
      "memory usage: 576.0+ bytes\n",
      " \n",
      " \n",
      "<class 'pandas.core.frame.DataFrame'>\n",
      "RangeIndex: 61733 entries, 0 to 61732\n",
      "Data columns (total 4 columns):\n",
      " #   Column      Non-Null Count  Dtype \n",
      "---  ------      --------------  ----- \n",
      " 0   user_id     61733 non-null  object\n",
      " 1   first_date  61733 non-null  object\n",
      " 2   region      61733 non-null  object\n",
      " 3   device      61733 non-null  object\n",
      "dtypes: object(4)\n",
      "memory usage: 1.9+ MB\n",
      " \n",
      " \n",
      "<class 'pandas.core.frame.DataFrame'>\n",
      "RangeIndex: 18268 entries, 0 to 18267\n",
      "Data columns (total 3 columns):\n",
      " #   Column   Non-Null Count  Dtype \n",
      "---  ------   --------------  ----- \n",
      " 0   user_id  18268 non-null  object\n",
      " 1   group    18268 non-null  object\n",
      " 2   ab_test  18268 non-null  object\n",
      "dtypes: object(3)\n",
      "memory usage: 428.3+ KB\n",
      " \n",
      " \n"
     ]
    }
   ],
   "source": [
    "for df in [events, marketing, new_users, participants]:\n",
    "    df.info()\n",
    "    print(' ')\n",
    "    print(' ')\n"
   ]
  },
  {
   "cell_type": "markdown",
   "id": "61892f09",
   "metadata": {},
   "source": [
    "Столбцы, содержащие в себе информацию о времени, следует привести к типу дата-время."
   ]
  },
  {
   "cell_type": "code",
   "execution_count": 185,
   "id": "09ed54a4",
   "metadata": {},
   "outputs": [],
   "source": [
    "events['event_dt'] = pd.to_datetime(events['event_dt'])\n",
    "marketing['start_dt'] = pd.to_datetime(marketing['start_dt'])\n",
    "marketing['finish_dt'] = pd.to_datetime(marketing['finish_dt'])\n",
    "new_users['first_date'] = new_users['first_date'].astype('datetime64[D]')"
   ]
  },
  {
   "cell_type": "markdown",
   "id": "c9860c63",
   "metadata": {},
   "source": [
    "<a id='пропуски'></a>\n",
    "### 2.2 Пропущенные значения \n",
    "Проверим, есть ли в данных пропущенные значения и попробуем описать природу их возникновения."
   ]
  },
  {
   "cell_type": "code",
   "execution_count": 186,
   "id": "1104eb0a",
   "metadata": {},
   "outputs": [
    {
     "data": {
      "text/plain": [
       "user_id            0\n",
       "event_dt           0\n",
       "event_name         0\n",
       "details       377577\n",
       "dtype: int64"
      ]
     },
     "metadata": {},
     "output_type": "display_data"
    },
    {
     "data": {
      "text/plain": [
       "name         0\n",
       "regions      0\n",
       "start_dt     0\n",
       "finish_dt    0\n",
       "dtype: int64"
      ]
     },
     "metadata": {},
     "output_type": "display_data"
    },
    {
     "data": {
      "text/plain": [
       "user_id       0\n",
       "first_date    0\n",
       "region        0\n",
       "device        0\n",
       "dtype: int64"
      ]
     },
     "metadata": {},
     "output_type": "display_data"
    },
    {
     "data": {
      "text/plain": [
       "user_id    0\n",
       "group      0\n",
       "ab_test    0\n",
       "dtype: int64"
      ]
     },
     "metadata": {},
     "output_type": "display_data"
    }
   ],
   "source": [
    "for df in [events, marketing, new_users, participants]:\n",
    "    display(df.isna().sum())"
   ]
  },
  {
   "cell_type": "markdown",
   "id": "4aaade3a",
   "metadata": {},
   "source": [
    "Пропущенные значения обнаружены только в датасете events в столбеце `details`. "
   ]
  },
  {
   "cell_type": "code",
   "execution_count": 187,
   "id": "3cce81b5",
   "metadata": {},
   "outputs": [
    {
     "name": "stdout",
     "output_type": "stream",
     "text": [
      "Всего строк в датасете: 440317\n",
      "Число пропусков в столбце `details`: 377577\n",
      "Пропущено 85.75% значений\n"
     ]
    }
   ],
   "source": [
    "print(\"Всего строк в датасете:\", events['user_id'].count())\n",
    "print(\"Число пропусков в столбце `details`:\", events['details'].isna().sum())\n",
    "print(f\"Пропущено {(events['details'].isna().sum() * 100 / events['user_id'].count()).round(2)}% значений\")"
   ]
  },
  {
   "cell_type": "markdown",
   "id": "6702f6c7",
   "metadata": {},
   "source": [
    "Пропущено 85.75% значений. Природа этих пропусков может быть связана с тем, что столбец `details` хранит в себе дополнительные данные о событии. Например, для покупок, purchase, в этом поле хранится стоимость покупки в долларах. Для других событий, например для регистрации, такой информации не требуется. "
   ]
  },
  {
   "cell_type": "markdown",
   "id": "6f2c3a95",
   "metadata": {},
   "source": [
    "<a id='дубликаты'></a>\n",
    "### 2.3 Дубликаты\n",
    "Проверим есть ли в данных дубликаты."
   ]
  },
  {
   "cell_type": "code",
   "execution_count": 188,
   "id": "308206fe",
   "metadata": {},
   "outputs": [],
   "source": [
    "def dup_sum(df):\n",
    "    if df.duplicated().sum()>0:\n",
    "        print(f'В датасете обнаружено полных дубликатов: {df.duplicated().sum()}')\n",
    "    else:\n",
    "        print('Полных дубликатов в данных не обнаружено')"
   ]
  },
  {
   "cell_type": "code",
   "execution_count": 189,
   "id": "997668a2",
   "metadata": {},
   "outputs": [
    {
     "name": "stdout",
     "output_type": "stream",
     "text": [
      "Полных дубликатов в данных не обнаружено\n",
      "Полных дубликатов в данных не обнаружено\n",
      "Полных дубликатов в данных не обнаружено\n",
      "Полных дубликатов в данных не обнаружено\n"
     ]
    }
   ],
   "source": [
    "for df in [events, marketing, new_users, participants]:\n",
    "    dup_sum(df)"
   ]
  },
  {
   "cell_type": "markdown",
   "id": "6bb02447",
   "metadata": {},
   "source": [
    "Проверка показала, что ни один из четырех датасетов не имеет полных дубликатов."
   ]
  },
  {
   "cell_type": "markdown",
   "id": "b0567d19",
   "metadata": {},
   "source": [
    "<a id='вывод_2'></a>\n",
    "### 2.4 Вывод"
   ]
  },
  {
   "cell_type": "markdown",
   "id": "5eaaf11e",
   "metadata": {},
   "source": [
    "На данном этапе была проделана предобработка данных:\n",
    "- Преобразованы типы данных, содержащих в себе дату-время;\n",
    "- Проверены и описаны пропуски. Пропущенные значения обнаружены только в датасете events в столбеце `details`. Их появление связано с назначением этого столбца (не каждому событию сопутствуют какие-то детали типа стоимости покупок).\n",
    "- Проверены дубликаты. Дубликатов в данных не оказалось."
   ]
  },
  {
   "cell_type": "markdown",
   "id": "d6f10820",
   "metadata": {},
   "source": [
    "<a id='корректность'></a>\n",
    "## 3 Оценка корректности проведения теста\n",
    "\n",
    "Оценим корректность проведения теста по следующим параметрам:\n",
    "- 1 Соответствие данных требованиям технического задания. Проверим корректность всех пунктов технического задания; \n",
    "- 2 Время проведения теста. Убедимся, что оно не совпадает с маркетинговыми и другими активностями.\n",
    "- 3 Аудиторию теста. Удостоверимся, что нет пересечений с конкурирующим тестом и нет пользователей, участвующих в двух группах теста одновременно. Проверим равномерность распределения по тестовым группам и правильность их формирования."
   ]
  },
  {
   "cell_type": "markdown",
   "id": "43e89011",
   "metadata": {},
   "source": [
    "**Техническая часть**"
   ]
  },
  {
   "cell_type": "code",
   "execution_count": 190,
   "id": "c9f4abf8",
   "metadata": {},
   "outputs": [],
   "source": [
    "# функция для оформления графиков\n",
    "def plt_design(title='title',\n",
    "               title_size=18, \n",
    "               xlabel='xlabel', \n",
    "               ylabel='ylabel',\n",
    "               fontsize=14, # размер шрифта подписей к осям\n",
    "               ticks_size=12, # размер шрифта делений на осях\n",
    "               xrot=0, # наклон подписей делений\n",
    "               yrot=0,\n",
    "               ):\n",
    "    \n",
    "    plt.title(title, fontsize = title_size)\n",
    "    plt.xlabel(xlabel, fontsize=fontsize) \n",
    "    plt.ylabel(ylabel, fontsize=fontsize)\n",
    "    plt.xticks(fontsize = ticks_size, rotation=xrot)\n",
    "    plt.yticks(fontsize = ticks_size, rotation=yrot)\n",
    "    \n",
    "    \n",
    "    return\n",
    "plt.show();"
   ]
  },
  {
   "cell_type": "markdown",
   "id": "6d95c8ef",
   "metadata": {},
   "source": [
    "<a id='задание'></a>\n",
    "### 3.1 Соответствие данных требованиям технического задания\n",
    "\n",
    "Выполним следующие шаги:\n",
    "- Описание теста\n",
    "- Проверка дат:\n",
    "    - дата запуска: 2020-12-07;\n",
    "     - дата остановки набора новых пользователей: 2020-12-21;\n",
    "     - дата остановки: 2021-01-04; \n",
    "\n",
    "- Проверка состава аудитории:\n",
    "     - 15% новых пользователей из региона EU;\n",
    "     \n",
    " - Фильтрация событий:\n",
    "     - Лайфтайм событий пользователя не должен превышать 14 дней;\n",
    "     \n",
    " - Проверка количества участников теста: 6000.\n"
   ]
  },
  {
   "cell_type": "markdown",
   "id": "61cf6b98",
   "metadata": {},
   "source": [
    "#### Описание теста\n",
    "    \n",
    "- Название теста: `recommender_system_test`;\n",
    "- Группы: А — контрольная, B — новая платёжная воронка;\n",
    "- Назначение теста: тестирование изменений, связанных с внедрением улучшенной рекомендательной системы;\n",
    "- Ожидаемый эффект: за 14 дней с момента регистрации пользователи покажут улучшение каждой метрики не менее, чем на 10%:\n",
    "    - конверсии в просмотр карточек товаров — событие `product_page`,\n",
    "    - просмотры корзины — `product_cart`,\n",
    "    - покупки — `purchase`."
   ]
  },
  {
   "cell_type": "markdown",
   "id": "d7d12cb3",
   "metadata": {},
   "source": [
    "#### Проверка дат\n",
    "Необходимо убедиться в том, что данные соответсвуют следующим датам:\n",
    "- Дата запуска: 2020-12-07\n",
    "- Дата остановки набора новых пользователей: 2020-12-21\n",
    "- Дата остановки: 2021-01-04\n",
    "\n",
    "На данном шаге отфильтруем новых пользователей, зарегестрировавшихся до 21-12-2020. Для этого выясним минмальные и максимальные даты регистрации пользователей."
   ]
  },
  {
   "cell_type": "code",
   "execution_count": 191,
   "id": "a58aa0b6",
   "metadata": {
    "scrolled": true
   },
   "outputs": [
    {
     "data": {
      "text/plain": [
       "datetime.date(2020, 12, 7)"
      ]
     },
     "metadata": {},
     "output_type": "display_data"
    },
    {
     "data": {
      "text/plain": [
       "datetime.date(2020, 12, 23)"
      ]
     },
     "metadata": {},
     "output_type": "display_data"
    }
   ],
   "source": [
    "display(new_users['first_date'].dt.date.min())\n",
    "display(new_users['first_date'].dt.date.max())"
   ]
  },
  {
   "cell_type": "markdown",
   "id": "388af091",
   "metadata": {},
   "source": [
    "Посмотрим дату остановки набора нашего теста. Для этого объединим таблицы participants с нужным тестом и new_users и посмотрим на окончание теста: "
   ]
  },
  {
   "cell_type": "code",
   "execution_count": 192,
   "id": "8d0b3c78",
   "metadata": {},
   "outputs": [
    {
     "data": {
      "text/plain": [
       "datetime.date(2020, 12, 21)"
      ]
     },
     "metadata": {},
     "output_type": "display_data"
    }
   ],
   "source": [
    "display(new_users.merge(participants.query('ab_test == \"recommender_system_test\"'), on='user_id')['first_date'].dt.date.max())"
   ]
  },
  {
   "cell_type": "markdown",
   "id": "803cdb1d",
   "metadata": {},
   "source": [
    "\n",
    "Получившаяся дата соответствует заданию: все участники теста зарегестрированы до 21-12-2020. Сохраним подходящие по датам регистрации пользователей в список 'filtered_user_id'."
   ]
  },
  {
   "cell_type": "code",
   "execution_count": 193,
   "id": "22b6eeea",
   "metadata": {},
   "outputs": [],
   "source": [
    "# создадим список user_id, которые подходят по датам регистрации, чтобы потом сравнивать с другими фреймами\n",
    "filtered_user_id = new_users.merge(participants.query('ab_test == \"recommender_system_test\"'), on='user_id')['user_id']"
   ]
  },
  {
   "cell_type": "markdown",
   "id": "8b9ee9b3",
   "metadata": {},
   "source": [
    "#### Аудитория: 15% новых пользователей из региона EU\n",
    "Чтобы проверить данный пункт, возьмем всех пользователей из Европы, зарегестрировавшихся в даты проведения теста, и посчитаем, какая доля попала в наш тест."
   ]
  },
  {
   "cell_type": "code",
   "execution_count": 194,
   "id": "33b7d44e",
   "metadata": {},
   "outputs": [
    {
     "name": "stdout",
     "output_type": "stream",
     "text": [
      "Процент новых пользователей из Европы: 15.0%\n"
     ]
    }
   ],
   "source": [
    "# берем всех пользователей из EU, которые регестрировались до 21 числа включительно:\n",
    "all_eu_users = new_users.query(\"region == 'EU' and first_date<='2020-12-21'\")['user_id'].nunique() \n",
    "\n",
    "# список user_id, попавших в наш тест:\n",
    "participants_list = participants.query(\"ab_test == 'recommender_system_test'\")['user_id']\n",
    "\n",
    "# число пользователей из европы, попавшие в тест и зарегестрированные до 21 числа:\n",
    "test_eu_users = new_users.query(\"region == 'EU' and user_id in @participants_list and first_date <= '2020-12-21'\")['user_id'].nunique() \n",
    "\n",
    "share_eu = round((test_eu_users / all_eu_users * 100) ,2 )\n",
    "print(f\"Процент новых пользователей из Европы: {share_eu}%\")"
   ]
  },
  {
   "cell_type": "markdown",
   "id": "75e0a8c2",
   "metadata": {},
   "source": [
    "Получившееся значение соотносится с предъявляемыми требованиями."
   ]
  },
  {
   "cell_type": "markdown",
   "id": "c64a0503",
   "metadata": {},
   "source": [
    "#### Фильтрация событий"
   ]
  },
  {
   "cell_type": "markdown",
   "id": "0e3c6143",
   "metadata": {},
   "source": [
    "Мы анализируем изменение метрик за 14 дней с момента регистрации. Все пользователи должны быть зарегестрированным, не позднее 21-12-2020 (Эти пользователи в списке filtered_user_id). Все события пользователя, должны быть совершены в 14-дневный лайфтайм. То есть события, которые старше 14 дней, надо удалить. Для этого отфильтруем события, не успевшие войти в двухнедельный лайфтайм."
   ]
  },
  {
   "cell_type": "code",
   "execution_count": 195,
   "id": "b9ec386f",
   "metadata": {},
   "outputs": [
    {
     "data": {
      "text/html": [
       "<div>\n",
       "<style scoped>\n",
       "    .dataframe tbody tr th:only-of-type {\n",
       "        vertical-align: middle;\n",
       "    }\n",
       "\n",
       "    .dataframe tbody tr th {\n",
       "        vertical-align: top;\n",
       "    }\n",
       "\n",
       "    .dataframe thead th {\n",
       "        text-align: right;\n",
       "    }\n",
       "</style>\n",
       "<table border=\"1\" class=\"dataframe\">\n",
       "  <thead>\n",
       "    <tr style=\"text-align: right;\">\n",
       "      <th></th>\n",
       "      <th>user_id</th>\n",
       "      <th>event_dt</th>\n",
       "      <th>event_name</th>\n",
       "      <th>details</th>\n",
       "      <th>first_event</th>\n",
       "    </tr>\n",
       "  </thead>\n",
       "  <tbody>\n",
       "    <tr>\n",
       "      <th>0</th>\n",
       "      <td>E1BDDCE0DAFA2679</td>\n",
       "      <td>2020-12-07 20:22:03</td>\n",
       "      <td>purchase</td>\n",
       "      <td>99.99</td>\n",
       "      <td>2020-12-07 20:22:03</td>\n",
       "    </tr>\n",
       "    <tr>\n",
       "      <th>1</th>\n",
       "      <td>E1BDDCE0DAFA2679</td>\n",
       "      <td>2020-12-09 06:21:35</td>\n",
       "      <td>purchase</td>\n",
       "      <td>9.99</td>\n",
       "      <td>2020-12-07 20:22:03</td>\n",
       "    </tr>\n",
       "    <tr>\n",
       "      <th>3</th>\n",
       "      <td>E1BDDCE0DAFA2679</td>\n",
       "      <td>2020-12-07 20:22:03</td>\n",
       "      <td>login</td>\n",
       "      <td>NaN</td>\n",
       "      <td>2020-12-07 20:22:03</td>\n",
       "    </tr>\n",
       "    <tr>\n",
       "      <th>4</th>\n",
       "      <td>E1BDDCE0DAFA2679</td>\n",
       "      <td>2020-12-09 06:21:35</td>\n",
       "      <td>login</td>\n",
       "      <td>NaN</td>\n",
       "      <td>2020-12-07 20:22:03</td>\n",
       "    </tr>\n",
       "    <tr>\n",
       "      <th>6</th>\n",
       "      <td>7B6452F081F49504</td>\n",
       "      <td>2020-12-07 09:22:53</td>\n",
       "      <td>purchase</td>\n",
       "      <td>9.99</td>\n",
       "      <td>2020-12-07 09:22:53</td>\n",
       "    </tr>\n",
       "  </tbody>\n",
       "</table>\n",
       "</div>"
      ],
      "text/plain": [
       "            user_id            event_dt event_name  details  \\\n",
       "0  E1BDDCE0DAFA2679 2020-12-07 20:22:03   purchase    99.99   \n",
       "1  E1BDDCE0DAFA2679 2020-12-09 06:21:35   purchase     9.99   \n",
       "3  E1BDDCE0DAFA2679 2020-12-07 20:22:03      login      NaN   \n",
       "4  E1BDDCE0DAFA2679 2020-12-09 06:21:35      login      NaN   \n",
       "6  7B6452F081F49504 2020-12-07 09:22:53   purchase     9.99   \n",
       "\n",
       "          first_event  \n",
       "0 2020-12-07 20:22:03  \n",
       "1 2020-12-07 20:22:03  \n",
       "3 2020-12-07 20:22:03  \n",
       "4 2020-12-07 20:22:03  \n",
       "6 2020-12-07 09:22:53  "
      ]
     },
     "execution_count": 195,
     "metadata": {},
     "output_type": "execute_result"
    }
   ],
   "source": [
    "# у каждого пользователя есть дата первого события:\n",
    "start_event = events.groupby('user_id')['event_dt'].min().reset_index()\n",
    "start_event.columns=['user_id', 'first_event']\n",
    "\n",
    "# добавляем эту дату в таблицу events:\n",
    "events = events.merge(start_event, on='user_id')\n",
    "\n",
    "# отсекаем невошедшие в 14-дневный лайфтайм СОЫТИЯ:\n",
    "events = events.loc[(events['event_dt'] - events['first_event']) <= timedelta(days=14)]\n",
    "events.head()"
   ]
  },
  {
   "cell_type": "markdown",
   "id": "c0aadb7a",
   "metadata": {},
   "source": [
    "#### Проверка количества участников теста\n",
    "    \n",
    "Ожидаемое количество участников теста: не менее 6000. Нам нужны только те пользователи, которых мы выделили выше. На данном этапе, проверим сколько пользователей из new_users попало в наш тест. \n",
    "</div>"
   ]
  },
  {
   "cell_type": "code",
   "execution_count": 196,
   "id": "9e19144f",
   "metadata": {},
   "outputs": [
    {
     "data": {
      "text/plain": [
       "array(['recommender_system_test', 'interface_eu_test'], dtype=object)"
      ]
     },
     "execution_count": 196,
     "metadata": {},
     "output_type": "execute_result"
    }
   ],
   "source": [
    "unfiltered_participants = participants\n",
    "unfiltered_participants['ab_test'].unique()"
   ]
  },
  {
   "cell_type": "code",
   "execution_count": 197,
   "id": "251d923c",
   "metadata": {},
   "outputs": [
    {
     "data": {
      "text/plain": [
       "6701"
      ]
     },
     "execution_count": 197,
     "metadata": {},
     "output_type": "execute_result"
    }
   ],
   "source": [
    "# считаем, сколько из них участвуют в тесте:\n",
    "participants = participants.query(\"user_id in @filtered_user_id\" and \"ab_test == 'recommender_system_test' \")\n",
    "participants['user_id'].nunique()"
   ]
  },
  {
   "cell_type": "markdown",
   "id": "373ba3e8",
   "metadata": {},
   "source": [
    "**Промежтучный вывод:**\n",
    "    \n",
    "- На этапе проверки дат пользователей, участвоваших в тесте и зарегестрировавшихся позже 21-12-2020 – не обнаружено . Сохранили список отфильтрованных пользователей в переменную filtered_user_id;\n",
    "- Проверка состава аудитории подтвердила, что 15% новых пользователей из региона EU;\n",
    "- На этапе проверки конверсий мы отсекли те события, которые пользователи не успели сделать в 14-дневный лайфтайм;\n",
    "- На этапе проверки количества участников теста мы выделили только тех пользователей, которые: а)зарегестрировались не позднее 21-12-2020; б) учатсвовали в тесте \"recommender_system_test\". Также проверка подтвердила, что участников теста 'recommender_system_test' больше 6000, а именно 6701. \n",
    "\n"
   ]
  },
  {
   "cell_type": "markdown",
   "id": "cafb8c5b",
   "metadata": {},
   "source": [
    "<a id='время'></a>\n",
    "### 3.2 Время проведения теста\n",
    "Убедимся, что время проведения теста не совпадает с маркетинговыми и другими активностями.\n",
    "Есть четыре варианта пересечения маркетинговой кампании с датами проведения теста:\n",
    "1) Начались до периода, закончились после\n",
    "2) Начались во время периода, закончились во время периода\n",
    "3) Начались во время периода, закончились после\n",
    "4) Начались до периода, закончились во время\n",
    "\n",
    "Даты проведения теста 7 декабря - 4 января. Сравним с ними даты проведения маркетинговых кампаний: "
   ]
  },
  {
   "cell_type": "code",
   "execution_count": 198,
   "id": "89989c58",
   "metadata": {},
   "outputs": [
    {
     "name": "stdout",
     "output_type": "stream",
     "text": [
      "Начались до периода, закончились после: 0\n",
      "Начались во время периода, закончились во время периода: 1\n",
      "Начались во время периода, закончились после: 1\n",
      "Начались до периода, закончились во время: 0\n"
     ]
    }
   ],
   "source": [
    "A = datetime.date(2020, 12, 7) # начало теста\n",
    "B =datetime.date(2021, 1, 4) # конец теста\n",
    "\n",
    "# Начались до периода, закончились после\n",
    "print('Начались до периода, закончились после:', \n",
    "        marketing.query('start_dt < @A and finish_dt > @B')['name'].nunique())\n",
    "\n",
    "# Начались во время периода, закончились во время периода\n",
    "print('Начались во время периода, закончились во время периода:',\n",
    "      marketing.query('start_dt >= @A and start_dt < finish_dt and finish_dt <= @B')\n",
    "      ['name'].nunique())\n",
    "\n",
    "# Начались во время периода, закончились после\n",
    "print('Начались во время периода, закончились после:',\n",
    "    marketing.query('start_dt >= @A  and start_dt <= @B and finish_dt > @B')['name'].nunique())\n",
    "\n",
    "# Начались до периода, закончились во время\n",
    "print('Начались до периода, закончились во время:',\n",
    "    marketing.query('start_dt < @A and finish_dt >= @B and finish_dt <= @B')['name'].nunique())\n",
    "\n"
   ]
  },
  {
   "cell_type": "code",
   "execution_count": 199,
   "id": "300ab85b",
   "metadata": {},
   "outputs": [
    {
     "name": "stdout",
     "output_type": "stream",
     "text": [
      "Начались во время периода, закончились во время периода\n"
     ]
    },
    {
     "data": {
      "text/plain": [
       "None"
      ]
     },
     "metadata": {},
     "output_type": "display_data"
    },
    {
     "data": {
      "text/html": [
       "<div>\n",
       "<style scoped>\n",
       "    .dataframe tbody tr th:only-of-type {\n",
       "        vertical-align: middle;\n",
       "    }\n",
       "\n",
       "    .dataframe tbody tr th {\n",
       "        vertical-align: top;\n",
       "    }\n",
       "\n",
       "    .dataframe thead th {\n",
       "        text-align: right;\n",
       "    }\n",
       "</style>\n",
       "<table border=\"1\" class=\"dataframe\">\n",
       "  <thead>\n",
       "    <tr style=\"text-align: right;\">\n",
       "      <th></th>\n",
       "      <th>name</th>\n",
       "      <th>regions</th>\n",
       "      <th>start_dt</th>\n",
       "      <th>finish_dt</th>\n",
       "    </tr>\n",
       "  </thead>\n",
       "  <tbody>\n",
       "    <tr>\n",
       "      <th>0</th>\n",
       "      <td>Christmas&amp;New Year Promo</td>\n",
       "      <td>EU, N.America</td>\n",
       "      <td>2020-12-25</td>\n",
       "      <td>2021-01-03</td>\n",
       "    </tr>\n",
       "  </tbody>\n",
       "</table>\n",
       "</div>"
      ],
      "text/plain": [
       "                       name        regions   start_dt  finish_dt\n",
       "0  Christmas&New Year Promo  EU, N.America 2020-12-25 2021-01-03"
      ]
     },
     "metadata": {},
     "output_type": "display_data"
    },
    {
     "name": "stdout",
     "output_type": "stream",
     "text": [
      " \n",
      " \n",
      "Начались во время периода, закончились после\n"
     ]
    },
    {
     "data": {
      "text/plain": [
       "None"
      ]
     },
     "metadata": {},
     "output_type": "display_data"
    },
    {
     "data": {
      "text/html": [
       "<div>\n",
       "<style scoped>\n",
       "    .dataframe tbody tr th:only-of-type {\n",
       "        vertical-align: middle;\n",
       "    }\n",
       "\n",
       "    .dataframe tbody tr th {\n",
       "        vertical-align: top;\n",
       "    }\n",
       "\n",
       "    .dataframe thead th {\n",
       "        text-align: right;\n",
       "    }\n",
       "</style>\n",
       "<table border=\"1\" class=\"dataframe\">\n",
       "  <thead>\n",
       "    <tr style=\"text-align: right;\">\n",
       "      <th></th>\n",
       "      <th>name</th>\n",
       "      <th>regions</th>\n",
       "      <th>start_dt</th>\n",
       "      <th>finish_dt</th>\n",
       "    </tr>\n",
       "  </thead>\n",
       "  <tbody>\n",
       "    <tr>\n",
       "      <th>10</th>\n",
       "      <td>CIS New Year Gift Lottery</td>\n",
       "      <td>CIS</td>\n",
       "      <td>2020-12-30</td>\n",
       "      <td>2021-01-07</td>\n",
       "    </tr>\n",
       "  </tbody>\n",
       "</table>\n",
       "</div>"
      ],
      "text/plain": [
       "                         name regions   start_dt  finish_dt\n",
       "10  CIS New Year Gift Lottery     CIS 2020-12-30 2021-01-07"
      ]
     },
     "metadata": {},
     "output_type": "display_data"
    }
   ],
   "source": [
    "display( print('Начались во время периода, закончились во время периода'), \n",
    "        marketing.query('start_dt >= @A and start_dt < finish_dt and finish_dt <= @B')  )\n",
    "print(' ')\n",
    "print(' ')\n",
    "display( print('Начались во время периода, закончились после'),\n",
    "        marketing.query('start_dt >= @A  and start_dt <= @B and finish_dt > @B')  )"
   ]
  },
  {
   "cell_type": "markdown",
   "id": "c617ec29",
   "metadata": {},
   "source": [
    "Обнаружены маркетинговые кампании, пересекающиеся с датами проведения теста:\n",
    "- Christmas&New Year Promo началась 25 декабря и закончилась 3 января;\n",
    "- CIS New Year Gift Lottery началась 30 декабря и закончилась 7 янвваря.\n",
    "\n",
    "Посмотрим динамику количества событий по группам А и Б и если в этот момент нет какого-то диспропорционального поведения графиков - следует признать маркетинговые события не влияющими на наш тест."
   ]
  },
  {
   "cell_type": "code",
   "execution_count": 200,
   "id": "ba4a4896",
   "metadata": {},
   "outputs": [
    {
     "data": {
      "text/html": [
       "<div>\n",
       "<style scoped>\n",
       "    .dataframe tbody tr th:only-of-type {\n",
       "        vertical-align: middle;\n",
       "    }\n",
       "\n",
       "    .dataframe tbody tr th {\n",
       "        vertical-align: top;\n",
       "    }\n",
       "\n",
       "    .dataframe thead th {\n",
       "        text-align: right;\n",
       "    }\n",
       "</style>\n",
       "<table border=\"1\" class=\"dataframe\">\n",
       "  <thead>\n",
       "    <tr style=\"text-align: right;\">\n",
       "      <th></th>\n",
       "      <th>user_id</th>\n",
       "      <th>event_dt</th>\n",
       "      <th>event_name</th>\n",
       "      <th>details</th>\n",
       "      <th>first_event</th>\n",
       "    </tr>\n",
       "  </thead>\n",
       "  <tbody>\n",
       "    <tr>\n",
       "      <th>0</th>\n",
       "      <td>E1BDDCE0DAFA2679</td>\n",
       "      <td>2020-12-07 20:22:03</td>\n",
       "      <td>purchase</td>\n",
       "      <td>99.99</td>\n",
       "      <td>2020-12-07 20:22:03</td>\n",
       "    </tr>\n",
       "    <tr>\n",
       "      <th>1</th>\n",
       "      <td>E1BDDCE0DAFA2679</td>\n",
       "      <td>2020-12-09 06:21:35</td>\n",
       "      <td>purchase</td>\n",
       "      <td>9.99</td>\n",
       "      <td>2020-12-07 20:22:03</td>\n",
       "    </tr>\n",
       "    <tr>\n",
       "      <th>3</th>\n",
       "      <td>E1BDDCE0DAFA2679</td>\n",
       "      <td>2020-12-07 20:22:03</td>\n",
       "      <td>login</td>\n",
       "      <td>NaN</td>\n",
       "      <td>2020-12-07 20:22:03</td>\n",
       "    </tr>\n",
       "    <tr>\n",
       "      <th>4</th>\n",
       "      <td>E1BDDCE0DAFA2679</td>\n",
       "      <td>2020-12-09 06:21:35</td>\n",
       "      <td>login</td>\n",
       "      <td>NaN</td>\n",
       "      <td>2020-12-07 20:22:03</td>\n",
       "    </tr>\n",
       "    <tr>\n",
       "      <th>6</th>\n",
       "      <td>7B6452F081F49504</td>\n",
       "      <td>2020-12-07 09:22:53</td>\n",
       "      <td>purchase</td>\n",
       "      <td>9.99</td>\n",
       "      <td>2020-12-07 09:22:53</td>\n",
       "    </tr>\n",
       "  </tbody>\n",
       "</table>\n",
       "</div>"
      ],
      "text/plain": [
       "            user_id            event_dt event_name  details  \\\n",
       "0  E1BDDCE0DAFA2679 2020-12-07 20:22:03   purchase    99.99   \n",
       "1  E1BDDCE0DAFA2679 2020-12-09 06:21:35   purchase     9.99   \n",
       "3  E1BDDCE0DAFA2679 2020-12-07 20:22:03      login      NaN   \n",
       "4  E1BDDCE0DAFA2679 2020-12-09 06:21:35      login      NaN   \n",
       "6  7B6452F081F49504 2020-12-07 09:22:53   purchase     9.99   \n",
       "\n",
       "          first_event  \n",
       "0 2020-12-07 20:22:03  \n",
       "1 2020-12-07 20:22:03  \n",
       "3 2020-12-07 20:22:03  \n",
       "4 2020-12-07 20:22:03  \n",
       "6 2020-12-07 09:22:53  "
      ]
     },
     "execution_count": 200,
     "metadata": {},
     "output_type": "execute_result"
    }
   ],
   "source": [
    "events.head()"
   ]
  },
  {
   "cell_type": "code",
   "execution_count": 201,
   "id": "6d2fc6d0",
   "metadata": {},
   "outputs": [
    {
     "data": {
      "text/html": [
       "<div>\n",
       "<style scoped>\n",
       "    .dataframe tbody tr th:only-of-type {\n",
       "        vertical-align: middle;\n",
       "    }\n",
       "\n",
       "    .dataframe tbody tr th {\n",
       "        vertical-align: top;\n",
       "    }\n",
       "\n",
       "    .dataframe thead th {\n",
       "        text-align: right;\n",
       "    }\n",
       "</style>\n",
       "<table border=\"1\" class=\"dataframe\">\n",
       "  <thead>\n",
       "    <tr style=\"text-align: right;\">\n",
       "      <th></th>\n",
       "      <th>dt</th>\n",
       "      <th>event_cnt</th>\n",
       "    </tr>\n",
       "  </thead>\n",
       "  <tbody>\n",
       "    <tr>\n",
       "      <th>0</th>\n",
       "      <td>2020-12-07</td>\n",
       "      <td>11385</td>\n",
       "    </tr>\n",
       "    <tr>\n",
       "      <th>1</th>\n",
       "      <td>2020-12-08</td>\n",
       "      <td>12547</td>\n",
       "    </tr>\n",
       "    <tr>\n",
       "      <th>2</th>\n",
       "      <td>2020-12-09</td>\n",
       "      <td>12122</td>\n",
       "    </tr>\n",
       "    <tr>\n",
       "      <th>3</th>\n",
       "      <td>2020-12-10</td>\n",
       "      <td>14077</td>\n",
       "    </tr>\n",
       "    <tr>\n",
       "      <th>4</th>\n",
       "      <td>2020-12-11</td>\n",
       "      <td>13864</td>\n",
       "    </tr>\n",
       "  </tbody>\n",
       "</table>\n",
       "</div>"
      ],
      "text/plain": [
       "           dt  event_cnt\n",
       "0  2020-12-07      11385\n",
       "1  2020-12-08      12547\n",
       "2  2020-12-09      12122\n",
       "3  2020-12-10      14077\n",
       "4  2020-12-11      13864"
      ]
     },
     "execution_count": 201,
     "metadata": {},
     "output_type": "execute_result"
    }
   ],
   "source": [
    "# создадим дополнительный столбец с датой:\n",
    "events['dt'] = pd.to_datetime(events['event_dt']).dt.date\n",
    "\n",
    "# сгруппируем данные по дате и посчитаем количество событий в тот или иной день:\n",
    "event_frequency = events.groupby('dt', as_index=False)['event_name'].count()\n",
    "event_frequency.columns=['dt', 'event_cnt']\n",
    "event_frequency.head()\n"
   ]
  },
  {
   "cell_type": "code",
   "execution_count": 202,
   "id": "e4d18cf7",
   "metadata": {},
   "outputs": [
    {
     "data": {
      "image/png": "[encoded data removed]",
      "text/plain": [
       "<Figure size 1400x700 with 1 Axes>"
      ]
     },
     "metadata": {},
     "output_type": "display_data"
    }
   ],
   "source": [
    "# разделим пользователей по группам:\n",
    "users_a = participants[participants['group']=='A']['user_id'].unique()\n",
    "users_b = participants[participants['group']=='B']['user_id'].unique()\n",
    "\n",
    "# Посмотрим число событий \n",
    "events_groups = events.merge(participants[['user_id', 'group']], on='user_id')\n",
    "events_groups = events_groups[['user_id', 'event_dt', 'event_name', 'group']]\n",
    "events_groups\n",
    "\n",
    "# создадим дополнительный столбец с датой:\n",
    "events_groups['dt'] = pd.to_datetime(events_groups['event_dt']).dt.date\n",
    "\n",
    "# сгруппируем данные по дате и посчитаем количество событий в тот или иной день:\n",
    "event_frequency = events_groups.groupby(['dt','group'], as_index=False)['event_name'].count()\n",
    "event_frequency.columns=['dt', 'group', 'event_cnt']\n",
    "event_frequency.head()\n",
    "\n",
    "x=event_frequency.query('group==\"A\"')['dt']\n",
    "ya=event_frequency.query('group==\"A\"')['event_cnt']\n",
    "yb=event_frequency.query('group==\"B\"')['event_cnt']\n",
    "\n",
    "plt.figure(figsize=(14,7))\n",
    "\n",
    "plt.plot(x, ya)\n",
    "plt.plot(x, yb)\n",
    "\n",
    "plt_design(title='Динамика числа событий во времени в разных группах',\n",
    "               xlabel='Дата', \n",
    "               ylabel='Число событий',\n",
    "               xrot=30, # наклон подписей делений\n",
    "               )"
   ]
  },
  {
   "cell_type": "markdown",
   "id": "7b9b5726",
   "metadata": {},
   "source": [
    "Число событий у группы B не сильно изменяется: значения в диапазоне 100–350. Число событий группы А резко возрастает 13-12-2020 и продолжает свой рост, но уже спокойнее до 21-12-2020. После этой даты график резко уменьшается до исходных значений. Ранее мы получили, что была рождественская маркетинговая кампания во время периода, она началась 25 декабря и закончились 3 января. Даты пиков не совпадают с датами праздников. Таким образом, изменения поведения пользоватлеей с маркетинговой кампанией не связаны. CIS New Year Gift Lottery началась 30 декабря и закончилась 7 янвваря.Все события происходят до 29 декабря, то есть влияние на группы не оказывает."
   ]
  },
  {
   "cell_type": "markdown",
   "id": "174bd957",
   "metadata": {},
   "source": [
    "**Промежуточный вывод**\n",
    "- Найдены пересечения маркетинговых дат с датами проведения теста. Во время периода началась и закончилась кампания \"Christmas&New Year Promo\"; начались во время периода и закончились после: \"CIS New Year Gift Lottery\".\n",
    "- Число событий группы сильно изменяется, но не из-за проведения маркетинговых кампаний."
   ]
  },
  {
   "cell_type": "markdown",
   "id": "bdec89d5",
   "metadata": {},
   "source": [
    "<a id='аудитория'></a>\n",
    "### 3.3 Аудитория теста \n",
    " Удостоверимся, что нет пересечений с конкурирующим тестом и нет пользователей, участвующих в двух группах теста одновременно. Проверим равномерность распределения по тестовым группам и правильность их формирования."
   ]
  },
  {
   "cell_type": "markdown",
   "id": "c36efc19",
   "metadata": {},
   "source": [
    "Проверим нет ли пересечений пользоватлеей между группами:"
   ]
  },
  {
   "cell_type": "code",
   "execution_count": 203,
   "id": "f2f1d3f8",
   "metadata": {},
   "outputs": [
    {
     "name": "stdout",
     "output_type": "stream",
     "text": [
      "Пересечений пользователей в группах А и B нет\n"
     ]
    }
   ],
   "source": [
    "# пересечения в группах:\n",
    "cross_id = (participants.groupby('user_id')['group']\n",
    "          .nunique()\n",
    "          .reset_index()\n",
    "          .query('group > 1')\n",
    "          .user_id\n",
    "          .unique()\n",
    "         )\n",
    "\n",
    "if participants.query('user_id in @cross_id')['user_id'].count() >=1:\n",
    "    print(participants.query('user_id in @cross_id')) \n",
    "else: \n",
    "    print('Пересечений пользователей в группах А и B нет');"
   ]
  },
  {
   "cell_type": "markdown",
   "id": "9f278a88",
   "metadata": {},
   "source": [
    "Вычислим число участников в каждой из групп:"
   ]
  },
  {
   "cell_type": "code",
   "execution_count": 204,
   "id": "013a9ea5",
   "metadata": {
    "scrolled": true
   },
   "outputs": [
    {
     "data": {
      "text/plain": [
       "group\n",
       "A    3824\n",
       "B    2877\n",
       "Name: user_id, dtype: int64"
      ]
     },
     "metadata": {},
     "output_type": "display_data"
    }
   ],
   "source": [
    "display(participants.groupby('group')['user_id'].nunique());"
   ]
  },
  {
   "cell_type": "markdown",
   "id": "6dbd4325",
   "metadata": {},
   "source": [
    "Группы отличаются всего на 947 участников, что составляет 14% от всего числа участников. \n",
    "\n",
    "Теперь выясним, не пересекаются ли участники разных тестов:"
   ]
  },
  {
   "cell_type": "code",
   "execution_count": 205,
   "id": "2d6da370",
   "metadata": {},
   "outputs": [
    {
     "data": {
      "text/plain": [
       "array(['recommender_system_test', 'interface_eu_test'], dtype=object)"
      ]
     },
     "execution_count": 205,
     "metadata": {},
     "output_type": "execute_result"
    }
   ],
   "source": [
    "unfiltered_participants['ab_test'].unique()"
   ]
  },
  {
   "cell_type": "code",
   "execution_count": 206,
   "id": "76e8e009",
   "metadata": {},
   "outputs": [
    {
     "name": "stdout",
     "output_type": "stream",
     "text": [
      "1602\n"
     ]
    }
   ],
   "source": [
    "corr_a = unfiltered_participants.query('ab_test == \"recommender_system_test\"')\n",
    "corr_b = unfiltered_participants.query('ab_test == \"interface_eu_test\"')\n",
    "#Подсчёт кол-ва пересеченных пользователей\n",
    "print(len(corr_a['user_id'].unique()) + len(corr_b['user_id'].unique()) - len(unfiltered_participants['user_id'].unique()))"
   ]
  },
  {
   "cell_type": "markdown",
   "id": "9acc4841",
   "metadata": {},
   "source": [
    "**Промежуточный вывод**\n",
    "- Пересечений между учатсниками разных групп не обнаружено;\n",
    "- Вес групп: А – 3824 участника, B – 2877. Разница между группами незначительна, а также группы достаточно велики;\n",
    "- Обнаружены пересечения между участниками разных тестов."
   ]
  },
  {
   "cell_type": "markdown",
   "id": "02f85483",
   "metadata": {},
   "source": [
    "<a id='вывод_3'></a>\n",
    "### 3.4 Вывод\n",
    "\n",
    "На данном этапе была проведена оценка корректности проведения теста по следующим параметрам:\n",
    "- 1 Соответствие данных требованиям технического задания; \n",
    "- 2 Время проведения теста;\n",
    "- 3 Аудитория теста;\n",
    "\n",
    "В каждом пункте сформулированы следующие выводы:\n",
    "\n",
    "**1 Соответствие данных требованиям технического задания:**\n",
    "- На этапе проверки дат мы убедились, что пользователей-участников нашего теста, зарегестрировавшихся позже 21-12-2020 - нет;\n",
    "- Проверка состава аудитории подтвердила, что 15% новых пользователей из региона EU;\n",
    "- На этапе проверки конверсий мы отсекли те события, которые пользователи не успели сделать в 14-дневный лайфтайм;\n",
    "- На этапе проверки количества участников теста мы выделили только тех пользователей, которые: а)зарегестрировались не позднее 21-12-2020; б) учатсвовали в тесте \"recommender_system_test\". Также проверка подтвердила, что участников теста 'recommender_system_test' больше 6000, а именно 6701. \n",
    "\n",
    "**2 Время проведения теста:**\n",
    "- Найдены пересечения маркетинговых дат с датами проведения теста. Во время периода началась и закончилась кампания \"Christmas&New Year Promo\"; начались во время периода и закончились после: \"CIS New Year Gift Lottery\".\n",
    "- Число событий группы сильно изменяется, но не из-за проведения маркетинговых кампаний.\n",
    "\n",
    "**3 Аудитория теста:**\n",
    "- Пересечений между учатсниками разных групп не обнаружено;\n",
    "- Вес групп: А – 3824 участника, B – 2877. Разница между группами незначительна;\n",
    "- Обнаружены пересечения участников разных тестов. "
   ]
  },
  {
   "cell_type": "markdown",
   "id": "65e14d9e",
   "metadata": {},
   "source": [
    "<a id='иа'></a>\n",
    "## 4 Исследовательский анализ данных"
   ]
  },
  {
   "cell_type": "markdown",
   "id": "e022fb11",
   "metadata": {},
   "source": [
    "<a id='по_пользователям'></a>\n",
    "### 4.1 Распределение количества событий на пользователя в выборках \n",
    "\n",
    "Проверим одинаково ли количество событий на пользователя в разрезе групп A и B. Для этого посчитаем для каждого пользователя количество событий и проанализируем результаты в разбивке по группам."
   ]
  },
  {
   "cell_type": "code",
   "execution_count": 207,
   "id": "a4a5db5d",
   "metadata": {},
   "outputs": [
    {
     "data": {
      "text/html": [
       "<div>\n",
       "<style scoped>\n",
       "    .dataframe tbody tr th:only-of-type {\n",
       "        vertical-align: middle;\n",
       "    }\n",
       "\n",
       "    .dataframe tbody tr th {\n",
       "        vertical-align: top;\n",
       "    }\n",
       "\n",
       "    .dataframe thead th {\n",
       "        text-align: right;\n",
       "    }\n",
       "</style>\n",
       "<table border=\"1\" class=\"dataframe\">\n",
       "  <thead>\n",
       "    <tr style=\"text-align: right;\">\n",
       "      <th></th>\n",
       "      <th>user_id</th>\n",
       "      <th>group</th>\n",
       "      <th>event_cnt</th>\n",
       "    </tr>\n",
       "  </thead>\n",
       "  <tbody>\n",
       "    <tr>\n",
       "      <th>0</th>\n",
       "      <td>001064FEAAB631A1</td>\n",
       "      <td>B</td>\n",
       "      <td>6</td>\n",
       "    </tr>\n",
       "    <tr>\n",
       "      <th>1</th>\n",
       "      <td>0010A1C096941592</td>\n",
       "      <td>A</td>\n",
       "      <td>12</td>\n",
       "    </tr>\n",
       "    <tr>\n",
       "      <th>2</th>\n",
       "      <td>00341D8401F0F665</td>\n",
       "      <td>A</td>\n",
       "      <td>2</td>\n",
       "    </tr>\n",
       "    <tr>\n",
       "      <th>3</th>\n",
       "      <td>003DF44D7589BBD4</td>\n",
       "      <td>A</td>\n",
       "      <td>15</td>\n",
       "    </tr>\n",
       "    <tr>\n",
       "      <th>4</th>\n",
       "      <td>00505E15A9D81546</td>\n",
       "      <td>A</td>\n",
       "      <td>5</td>\n",
       "    </tr>\n",
       "  </tbody>\n",
       "</table>\n",
       "</div>"
      ],
      "text/plain": [
       "            user_id group  event_cnt\n",
       "0  001064FEAAB631A1     B          6\n",
       "1  0010A1C096941592     A         12\n",
       "2  00341D8401F0F665     A          2\n",
       "3  003DF44D7589BBD4     A         15\n",
       "4  00505E15A9D81546     A          5"
      ]
     },
     "metadata": {},
     "output_type": "display_data"
    }
   ],
   "source": [
    "# распределение числа событий по пользователям разных групп:\n",
    "dist = events_groups.groupby(['user_id', 'group'], as_index=False)['event_dt'].count()\n",
    "dist = dist.rename(columns={'event_dt':'event_cnt'})\n",
    "\n",
    "display(dist.head())"
   ]
  },
  {
   "cell_type": "code",
   "execution_count": 208,
   "id": "b6cfa5af",
   "metadata": {},
   "outputs": [
    {
     "data": {
      "image/png": "[encoded data removed]",
      "text/plain": [
       "<Figure size 640x480 with 1 Axes>"
      ]
     },
     "metadata": {},
     "output_type": "display_data"
    }
   ],
   "source": [
    "sns.histplot(dist, x=\"event_cnt\", hue=\"group\", bins=25)\n",
    "\n",
    "plt_design(title='Распределение количества событий на пользователя в выборках',\n",
    "               xlabel='Число событий', \n",
    "               ylabel='Частота',\n",
    "               )"
   ]
  },
  {
   "cell_type": "markdown",
   "id": "68472ed2",
   "metadata": {},
   "source": [
    "- Числа событий пользователя что в группе А, что в группе В, находится в диапазоне от 1 до 25. И основная масса значений в обеих группах сконцентрирована на отметке 6;\n",
    "- Пользователи группы А чаще проделывают по 4 или по 6 событий. Также выделяют значенияя: 8-9 и 12 событий. \n",
    "- Пользователи группы B в целом совершают действий меньше, однако пиковые значения соответсвуют тем же показателям\n",
    "\n",
    "Таким образом, число событий на пользователя в группах распределено одинаково."
   ]
  },
  {
   "cell_type": "markdown",
   "id": "cbb80399",
   "metadata": {},
   "source": [
    "<a id='по_дням'></a>\n",
    "### 4.2 Распределение количества событий по дням "
   ]
  },
  {
   "cell_type": "markdown",
   "id": "ffe30751",
   "metadata": {},
   "source": [
    "Выясним, как число событий в выборках распределено по дням."
   ]
  },
  {
   "cell_type": "code",
   "execution_count": 209,
   "id": "28e187f8",
   "metadata": {
    "scrolled": true
   },
   "outputs": [
    {
     "data": {
      "text/html": [
       "<div>\n",
       "<style scoped>\n",
       "    .dataframe tbody tr th:only-of-type {\n",
       "        vertical-align: middle;\n",
       "    }\n",
       "\n",
       "    .dataframe tbody tr th {\n",
       "        vertical-align: top;\n",
       "    }\n",
       "\n",
       "    .dataframe thead th {\n",
       "        text-align: right;\n",
       "    }\n",
       "</style>\n",
       "<table border=\"1\" class=\"dataframe\">\n",
       "  <thead>\n",
       "    <tr style=\"text-align: right;\">\n",
       "      <th></th>\n",
       "      <th>user_id</th>\n",
       "      <th>event_dt</th>\n",
       "      <th>event_name</th>\n",
       "      <th>group</th>\n",
       "      <th>dt</th>\n",
       "    </tr>\n",
       "  </thead>\n",
       "  <tbody>\n",
       "    <tr>\n",
       "      <th>0</th>\n",
       "      <td>831887FE7F2D6CBA</td>\n",
       "      <td>2020-12-07 06:50:29</td>\n",
       "      <td>purchase</td>\n",
       "      <td>A</td>\n",
       "      <td>2020-12-07</td>\n",
       "    </tr>\n",
       "    <tr>\n",
       "      <th>1</th>\n",
       "      <td>831887FE7F2D6CBA</td>\n",
       "      <td>2020-12-09 02:19:17</td>\n",
       "      <td>purchase</td>\n",
       "      <td>A</td>\n",
       "      <td>2020-12-09</td>\n",
       "    </tr>\n",
       "    <tr>\n",
       "      <th>2</th>\n",
       "      <td>831887FE7F2D6CBA</td>\n",
       "      <td>2020-12-07 06:50:30</td>\n",
       "      <td>product_cart</td>\n",
       "      <td>A</td>\n",
       "      <td>2020-12-07</td>\n",
       "    </tr>\n",
       "    <tr>\n",
       "      <th>3</th>\n",
       "      <td>831887FE7F2D6CBA</td>\n",
       "      <td>2020-12-08 10:52:27</td>\n",
       "      <td>product_cart</td>\n",
       "      <td>A</td>\n",
       "      <td>2020-12-08</td>\n",
       "    </tr>\n",
       "    <tr>\n",
       "      <th>4</th>\n",
       "      <td>831887FE7F2D6CBA</td>\n",
       "      <td>2020-12-09 02:19:17</td>\n",
       "      <td>product_cart</td>\n",
       "      <td>A</td>\n",
       "      <td>2020-12-09</td>\n",
       "    </tr>\n",
       "  </tbody>\n",
       "</table>\n",
       "</div>"
      ],
      "text/plain": [
       "            user_id            event_dt    event_name group          dt\n",
       "0  831887FE7F2D6CBA 2020-12-07 06:50:29      purchase     A  2020-12-07\n",
       "1  831887FE7F2D6CBA 2020-12-09 02:19:17      purchase     A  2020-12-09\n",
       "2  831887FE7F2D6CBA 2020-12-07 06:50:30  product_cart     A  2020-12-07\n",
       "3  831887FE7F2D6CBA 2020-12-08 10:52:27  product_cart     A  2020-12-08\n",
       "4  831887FE7F2D6CBA 2020-12-09 02:19:17  product_cart     A  2020-12-09"
      ]
     },
     "execution_count": 209,
     "metadata": {},
     "output_type": "execute_result"
    }
   ],
   "source": [
    "events_groups.head()"
   ]
  },
  {
   "cell_type": "code",
   "execution_count": 210,
   "id": "569303f0",
   "metadata": {},
   "outputs": [
    {
     "data": {
      "text/html": [
       "<div>\n",
       "<style scoped>\n",
       "    .dataframe tbody tr th:only-of-type {\n",
       "        vertical-align: middle;\n",
       "    }\n",
       "\n",
       "    .dataframe tbody tr th {\n",
       "        vertical-align: top;\n",
       "    }\n",
       "\n",
       "    .dataframe thead th {\n",
       "        text-align: right;\n",
       "    }\n",
       "</style>\n",
       "<table border=\"1\" class=\"dataframe\">\n",
       "  <thead>\n",
       "    <tr style=\"text-align: right;\">\n",
       "      <th></th>\n",
       "      <th>dt</th>\n",
       "      <th>group</th>\n",
       "      <th>event_cnt</th>\n",
       "    </tr>\n",
       "  </thead>\n",
       "  <tbody>\n",
       "    <tr>\n",
       "      <th>0</th>\n",
       "      <td>2020-12-07</td>\n",
       "      <td>A</td>\n",
       "      <td>331</td>\n",
       "    </tr>\n",
       "    <tr>\n",
       "      <th>1</th>\n",
       "      <td>2020-12-07</td>\n",
       "      <td>B</td>\n",
       "      <td>378</td>\n",
       "    </tr>\n",
       "    <tr>\n",
       "      <th>2</th>\n",
       "      <td>2020-12-08</td>\n",
       "      <td>A</td>\n",
       "      <td>341</td>\n",
       "    </tr>\n",
       "    <tr>\n",
       "      <th>3</th>\n",
       "      <td>2020-12-08</td>\n",
       "      <td>B</td>\n",
       "      <td>252</td>\n",
       "    </tr>\n",
       "    <tr>\n",
       "      <th>4</th>\n",
       "      <td>2020-12-09</td>\n",
       "      <td>A</td>\n",
       "      <td>385</td>\n",
       "    </tr>\n",
       "  </tbody>\n",
       "</table>\n",
       "</div>"
      ],
      "text/plain": [
       "           dt group  event_cnt\n",
       "0  2020-12-07     A        331\n",
       "1  2020-12-07     B        378\n",
       "2  2020-12-08     A        341\n",
       "3  2020-12-08     B        252\n",
       "4  2020-12-09     A        385"
      ]
     },
     "metadata": {},
     "output_type": "display_data"
    }
   ],
   "source": [
    "# распределение числа событий по дням в разных группах:\n",
    "dist_by_dt = events_groups.groupby(['dt', 'group'], as_index=False)['event_dt'].count()\n",
    "dist_by_dt = dist_by_dt.rename(columns={'event_dt':'event_cnt'})\n",
    "\n",
    "display(dist_by_dt.head())"
   ]
  },
  {
   "cell_type": "code",
   "execution_count": 211,
   "id": "4b4318da",
   "metadata": {},
   "outputs": [
    {
     "data": {
      "image/png": "[encoded data removed]",
      "text/plain": [
       "<Figure size 640x480 with 1 Axes>"
      ]
     },
     "metadata": {},
     "output_type": "display_data"
    }
   ],
   "source": [
    "sns.barplot(data=dist_by_dt, x=\"dt\", y=\"event_cnt\", hue=\"group\")\n",
    "\n",
    "plt_design(title='Распределение числа событий по дням в разных группах',\n",
    "               xlabel='Дата', \n",
    "               ylabel='Количество событий',\n",
    "               xrot=45\n",
    "               )"
   ]
  },
  {
   "cell_type": "markdown",
   "id": "ef48f39b",
   "metadata": {},
   "source": [
    "- Число событий пользователей группы А по показателям выше показателей группы B, кроме первого дня (7 дек 2020);\n",
    "- Особенно сильно выделяются даты 13-12-2020 – 21-12-2020. Здесь активность группы А сильно возрастает, достигает максимума 21 янаваря и резко идет на понижение;\n",
    "- Число событий в группе В распределено по дням более равномерно относительно группы А. Значения колеблятся в диапазоне 200–300 событий, и 21-12-2020 так же, как и в группе А, идут на понижение."
   ]
  },
  {
   "cell_type": "markdown",
   "id": "80008153",
   "metadata": {},
   "source": [
    "<a id='конверсия'></a>\n",
    "### 4.3 Изменение конверсии в воронке в выборках на разных этапах"
   ]
  },
  {
   "cell_type": "markdown",
   "id": "b7e66647",
   "metadata": {},
   "source": [
    "#### Получение воронки событий\n",
    "Посмотрим, как часто встречается то или иное событие. А также посчитаем, сколько пользователей совершали каждое из этих событий. Отсортируйте события по числу пользователей. "
   ]
  },
  {
   "cell_type": "code",
   "execution_count": 212,
   "id": "36db8dab",
   "metadata": {},
   "outputs": [
    {
     "data": {
      "text/html": [
       "<div>\n",
       "<style scoped>\n",
       "    .dataframe tbody tr th:only-of-type {\n",
       "        vertical-align: middle;\n",
       "    }\n",
       "\n",
       "    .dataframe tbody tr th {\n",
       "        vertical-align: top;\n",
       "    }\n",
       "\n",
       "    .dataframe thead th {\n",
       "        text-align: right;\n",
       "    }\n",
       "</style>\n",
       "<table border=\"1\" class=\"dataframe\">\n",
       "  <thead>\n",
       "    <tr style=\"text-align: right;\">\n",
       "      <th></th>\n",
       "      <th>user_id</th>\n",
       "      <th>event_dt</th>\n",
       "      <th>event_name</th>\n",
       "      <th>group</th>\n",
       "      <th>dt</th>\n",
       "    </tr>\n",
       "  </thead>\n",
       "  <tbody>\n",
       "    <tr>\n",
       "      <th>0</th>\n",
       "      <td>831887FE7F2D6CBA</td>\n",
       "      <td>2020-12-07 06:50:29</td>\n",
       "      <td>purchase</td>\n",
       "      <td>A</td>\n",
       "      <td>2020-12-07</td>\n",
       "    </tr>\n",
       "    <tr>\n",
       "      <th>1</th>\n",
       "      <td>831887FE7F2D6CBA</td>\n",
       "      <td>2020-12-09 02:19:17</td>\n",
       "      <td>purchase</td>\n",
       "      <td>A</td>\n",
       "      <td>2020-12-09</td>\n",
       "    </tr>\n",
       "    <tr>\n",
       "      <th>2</th>\n",
       "      <td>831887FE7F2D6CBA</td>\n",
       "      <td>2020-12-07 06:50:30</td>\n",
       "      <td>product_cart</td>\n",
       "      <td>A</td>\n",
       "      <td>2020-12-07</td>\n",
       "    </tr>\n",
       "    <tr>\n",
       "      <th>3</th>\n",
       "      <td>831887FE7F2D6CBA</td>\n",
       "      <td>2020-12-08 10:52:27</td>\n",
       "      <td>product_cart</td>\n",
       "      <td>A</td>\n",
       "      <td>2020-12-08</td>\n",
       "    </tr>\n",
       "    <tr>\n",
       "      <th>4</th>\n",
       "      <td>831887FE7F2D6CBA</td>\n",
       "      <td>2020-12-09 02:19:17</td>\n",
       "      <td>product_cart</td>\n",
       "      <td>A</td>\n",
       "      <td>2020-12-09</td>\n",
       "    </tr>\n",
       "  </tbody>\n",
       "</table>\n",
       "</div>"
      ],
      "text/plain": [
       "            user_id            event_dt    event_name group          dt\n",
       "0  831887FE7F2D6CBA 2020-12-07 06:50:29      purchase     A  2020-12-07\n",
       "1  831887FE7F2D6CBA 2020-12-09 02:19:17      purchase     A  2020-12-09\n",
       "2  831887FE7F2D6CBA 2020-12-07 06:50:30  product_cart     A  2020-12-07\n",
       "3  831887FE7F2D6CBA 2020-12-08 10:52:27  product_cart     A  2020-12-08\n",
       "4  831887FE7F2D6CBA 2020-12-09 02:19:17  product_cart     A  2020-12-09"
      ]
     },
     "execution_count": 212,
     "metadata": {},
     "output_type": "execute_result"
    }
   ],
   "source": [
    "events_groups.head()"
   ]
  },
  {
   "cell_type": "code",
   "execution_count": 213,
   "id": "14f03683",
   "metadata": {},
   "outputs": [
    {
     "data": {
      "text/html": [
       "<div>\n",
       "<style scoped>\n",
       "    .dataframe tbody tr th:only-of-type {\n",
       "        vertical-align: middle;\n",
       "    }\n",
       "\n",
       "    .dataframe tbody tr th {\n",
       "        vertical-align: top;\n",
       "    }\n",
       "\n",
       "    .dataframe thead th {\n",
       "        text-align: right;\n",
       "    }\n",
       "</style>\n",
       "<table border=\"1\" class=\"dataframe\">\n",
       "  <thead>\n",
       "    <tr style=\"text-align: right;\">\n",
       "      <th></th>\n",
       "      <th>event_name</th>\n",
       "      <th>group</th>\n",
       "      <th>event_cnt</th>\n",
       "      <th>user_cnt</th>\n",
       "    </tr>\n",
       "  </thead>\n",
       "  <tbody>\n",
       "    <tr>\n",
       "      <th>0</th>\n",
       "      <td>login</td>\n",
       "      <td>A</td>\n",
       "      <td>8371</td>\n",
       "      <td>2747</td>\n",
       "    </tr>\n",
       "    <tr>\n",
       "      <th>4</th>\n",
       "      <td>product_page</td>\n",
       "      <td>A</td>\n",
       "      <td>5396</td>\n",
       "      <td>1780</td>\n",
       "    </tr>\n",
       "    <tr>\n",
       "      <th>1</th>\n",
       "      <td>login</td>\n",
       "      <td>B</td>\n",
       "      <td>2475</td>\n",
       "      <td>927</td>\n",
       "    </tr>\n",
       "    <tr>\n",
       "      <th>6</th>\n",
       "      <td>purchase</td>\n",
       "      <td>A</td>\n",
       "      <td>2605</td>\n",
       "      <td>872</td>\n",
       "    </tr>\n",
       "    <tr>\n",
       "      <th>2</th>\n",
       "      <td>product_cart</td>\n",
       "      <td>A</td>\n",
       "      <td>2508</td>\n",
       "      <td>824</td>\n",
       "    </tr>\n",
       "    <tr>\n",
       "      <th>5</th>\n",
       "      <td>product_page</td>\n",
       "      <td>B</td>\n",
       "      <td>1323</td>\n",
       "      <td>523</td>\n",
       "    </tr>\n",
       "    <tr>\n",
       "      <th>7</th>\n",
       "      <td>purchase</td>\n",
       "      <td>B</td>\n",
       "      <td>638</td>\n",
       "      <td>256</td>\n",
       "    </tr>\n",
       "    <tr>\n",
       "      <th>3</th>\n",
       "      <td>product_cart</td>\n",
       "      <td>B</td>\n",
       "      <td>656</td>\n",
       "      <td>255</td>\n",
       "    </tr>\n",
       "  </tbody>\n",
       "</table>\n",
       "</div>"
      ],
      "text/plain": [
       "     event_name group  event_cnt  user_cnt\n",
       "0         login     A       8371      2747\n",
       "4  product_page     A       5396      1780\n",
       "1         login     B       2475       927\n",
       "6      purchase     A       2605       872\n",
       "2  product_cart     A       2508       824\n",
       "5  product_page     B       1323       523\n",
       "7      purchase     B        638       256\n",
       "3  product_cart     B        656       255"
      ]
     },
     "execution_count": 213,
     "metadata": {},
     "output_type": "execute_result"
    }
   ],
   "source": [
    "# распределение числа событий и пользователей по типам события в разных группах:\n",
    "funnel = (events_groups.groupby(['event_name', 'group'], as_index=False)\n",
    "       .agg({'event_dt':'count', 'user_id':'nunique'})\n",
    "          .rename(columns={\"event_dt\": \"event_cnt\", 'user_id':'user_cnt'})\n",
    "          .sort_values('user_cnt', ascending=False)\n",
    "      )\n",
    "funnel "
   ]
  },
  {
   "cell_type": "code",
   "execution_count": 214,
   "id": "7335fd44",
   "metadata": {},
   "outputs": [
    {
     "data": {
      "image/png": "[encoded data removed]",
      "text/plain": [
       "<Figure size 640x480 with 1 Axes>"
      ]
     },
     "metadata": {},
     "output_type": "display_data"
    }
   ],
   "source": [
    "sns.barplot(data=funnel, x=\"event_name\", y=\"event_cnt\", hue=\"group\")\n",
    "\n",
    "plt_design(title='Распределение числа событий по типам события в разных группах',\n",
    "               xlabel='Событие', \n",
    "               ylabel='Количество событий',\n",
    "               xrot=45\n",
    "               )"
   ]
  },
  {
   "cell_type": "code",
   "execution_count": 215,
   "id": "cdf703a5",
   "metadata": {},
   "outputs": [
    {
     "data": {
      "image/png": "[encoded data removed]",
      "text/plain": [
       "<Figure size 640x480 with 1 Axes>"
      ]
     },
     "metadata": {},
     "output_type": "display_data"
    }
   ],
   "source": [
    "sns.barplot(data=funnel, x=\"event_name\", y=\"user_cnt\", hue=\"group\")\n",
    "\n",
    "plt_design(title='Распределение числа пользователей по типам события в разных группах',\n",
    "               xlabel='Событие', \n",
    "               ylabel='Количество пользователей',\n",
    "               xrot=45\n",
    "               )"
   ]
  },
  {
   "cell_type": "markdown",
   "id": "67639a0b",
   "metadata": {},
   "source": [
    "Самое большое по числу событие – событие login – главная страница. Также отметим, на обоих графиках события расположиены в одном порядке:\n",
    "\n",
    "1) login – главная страница;\n",
    "2) product page – открытие страницы товара;\n",
    "3) purchase – покупка;\n",
    "4) product cart – просмотр корзины.\n",
    "\n",
    "Пользователи могут пропускать необязательные действия, например, просмотр корзины, поэтому количество этих событий меньше количества событий \"покупка\". Воронка должна заканчиваться на целевом действии, то есть на \"покупке\". Учитывая это выстроим воронку: \"login\" -> \"product page\" -> \" product cart \" -> \"purchase\"."
   ]
  },
  {
   "cell_type": "code",
   "execution_count": 216,
   "id": "09ca90dc",
   "metadata": {},
   "outputs": [
    {
     "data": {
      "text/html": [
       "<div>\n",
       "<style scoped>\n",
       "    .dataframe tbody tr th:only-of-type {\n",
       "        vertical-align: middle;\n",
       "    }\n",
       "\n",
       "    .dataframe tbody tr th {\n",
       "        vertical-align: top;\n",
       "    }\n",
       "\n",
       "    .dataframe thead th {\n",
       "        text-align: right;\n",
       "    }\n",
       "</style>\n",
       "<table border=\"1\" class=\"dataframe\">\n",
       "  <thead>\n",
       "    <tr style=\"text-align: right;\">\n",
       "      <th></th>\n",
       "      <th>event_name</th>\n",
       "      <th>group</th>\n",
       "      <th>event_cnt</th>\n",
       "      <th>user_cnt</th>\n",
       "    </tr>\n",
       "  </thead>\n",
       "  <tbody>\n",
       "    <tr>\n",
       "      <th>0</th>\n",
       "      <td>login</td>\n",
       "      <td>A</td>\n",
       "      <td>8371</td>\n",
       "      <td>2747</td>\n",
       "    </tr>\n",
       "    <tr>\n",
       "      <th>4</th>\n",
       "      <td>product_page</td>\n",
       "      <td>A</td>\n",
       "      <td>5396</td>\n",
       "      <td>1780</td>\n",
       "    </tr>\n",
       "    <tr>\n",
       "      <th>2</th>\n",
       "      <td>product_cart</td>\n",
       "      <td>A</td>\n",
       "      <td>2508</td>\n",
       "      <td>824</td>\n",
       "    </tr>\n",
       "    <tr>\n",
       "      <th>6</th>\n",
       "      <td>purchase</td>\n",
       "      <td>A</td>\n",
       "      <td>2605</td>\n",
       "      <td>872</td>\n",
       "    </tr>\n",
       "  </tbody>\n",
       "</table>\n",
       "</div>"
      ],
      "text/plain": [
       "     event_name group  event_cnt  user_cnt\n",
       "0         login     A       8371      2747\n",
       "4  product_page     A       5396      1780\n",
       "2  product_cart     A       2508       824\n",
       "6      purchase     A       2605       872"
      ]
     },
     "metadata": {},
     "output_type": "display_data"
    },
    {
     "data": {
      "text/html": [
       "<div>\n",
       "<style scoped>\n",
       "    .dataframe tbody tr th:only-of-type {\n",
       "        vertical-align: middle;\n",
       "    }\n",
       "\n",
       "    .dataframe tbody tr th {\n",
       "        vertical-align: top;\n",
       "    }\n",
       "\n",
       "    .dataframe thead th {\n",
       "        text-align: right;\n",
       "    }\n",
       "</style>\n",
       "<table border=\"1\" class=\"dataframe\">\n",
       "  <thead>\n",
       "    <tr style=\"text-align: right;\">\n",
       "      <th></th>\n",
       "      <th>event_name</th>\n",
       "      <th>group</th>\n",
       "      <th>event_cnt</th>\n",
       "      <th>user_cnt</th>\n",
       "    </tr>\n",
       "  </thead>\n",
       "  <tbody>\n",
       "    <tr>\n",
       "      <th>1</th>\n",
       "      <td>login</td>\n",
       "      <td>B</td>\n",
       "      <td>2475</td>\n",
       "      <td>927</td>\n",
       "    </tr>\n",
       "    <tr>\n",
       "      <th>5</th>\n",
       "      <td>product_page</td>\n",
       "      <td>B</td>\n",
       "      <td>1323</td>\n",
       "      <td>523</td>\n",
       "    </tr>\n",
       "    <tr>\n",
       "      <th>3</th>\n",
       "      <td>product_cart</td>\n",
       "      <td>B</td>\n",
       "      <td>656</td>\n",
       "      <td>255</td>\n",
       "    </tr>\n",
       "    <tr>\n",
       "      <th>7</th>\n",
       "      <td>purchase</td>\n",
       "      <td>B</td>\n",
       "      <td>638</td>\n",
       "      <td>256</td>\n",
       "    </tr>\n",
       "  </tbody>\n",
       "</table>\n",
       "</div>"
      ],
      "text/plain": [
       "     event_name group  event_cnt  user_cnt\n",
       "1         login     B       2475       927\n",
       "5  product_page     B       1323       523\n",
       "3  product_cart     B        656       255\n",
       "7      purchase     B        638       256"
      ]
     },
     "metadata": {},
     "output_type": "display_data"
    }
   ],
   "source": [
    "funnel_a = funnel.query('group == \"A\"')\n",
    "funnel_b = funnel.query('group == \"B\"')\n",
    "\n",
    "\n",
    "funnel_a = funnel_a.iloc[[0,1,3,2],:]\n",
    "funnel_b = funnel_b.iloc[[0,1,3,2],:]\n",
    "\n",
    "display(funnel_a, funnel_b)"
   ]
  },
  {
   "cell_type": "markdown",
   "id": "7bd2dae9",
   "metadata": {},
   "source": [
    "Получили две воронки, заканчивающиеся целевым действием – покупкой – для групп A и B.\n"
   ]
  },
  {
   "cell_type": "markdown",
   "id": "a1f9e79e",
   "metadata": {},
   "source": [
    "#### Подсчет конверсии на разных этапах\n",
    "Теперь с помощью воронки событий выясним, как меняется доля пользователей на каждом шаге относительно первого шага (возьмем его за 100%) в разных группах."
   ]
  },
  {
   "cell_type": "code",
   "execution_count": 217,
   "id": "6ea7cc51",
   "metadata": {},
   "outputs": [
    {
     "data": {
      "text/html": [
       "<div>\n",
       "<style scoped>\n",
       "    .dataframe tbody tr th:only-of-type {\n",
       "        vertical-align: middle;\n",
       "    }\n",
       "\n",
       "    .dataframe tbody tr th {\n",
       "        vertical-align: top;\n",
       "    }\n",
       "\n",
       "    .dataframe thead th {\n",
       "        text-align: right;\n",
       "    }\n",
       "</style>\n",
       "<table border=\"1\" class=\"dataframe\">\n",
       "  <thead>\n",
       "    <tr style=\"text-align: right;\">\n",
       "      <th></th>\n",
       "      <th>event_name</th>\n",
       "      <th>group</th>\n",
       "      <th>event_cnt</th>\n",
       "      <th>user_cnt</th>\n",
       "      <th>conversion%</th>\n",
       "    </tr>\n",
       "  </thead>\n",
       "  <tbody>\n",
       "    <tr>\n",
       "      <th>0</th>\n",
       "      <td>login</td>\n",
       "      <td>A</td>\n",
       "      <td>8371</td>\n",
       "      <td>2747</td>\n",
       "      <td>100.0</td>\n",
       "    </tr>\n",
       "    <tr>\n",
       "      <th>4</th>\n",
       "      <td>product_page</td>\n",
       "      <td>A</td>\n",
       "      <td>5396</td>\n",
       "      <td>1780</td>\n",
       "      <td>64.8</td>\n",
       "    </tr>\n",
       "    <tr>\n",
       "      <th>2</th>\n",
       "      <td>product_cart</td>\n",
       "      <td>A</td>\n",
       "      <td>2508</td>\n",
       "      <td>824</td>\n",
       "      <td>30.0</td>\n",
       "    </tr>\n",
       "    <tr>\n",
       "      <th>6</th>\n",
       "      <td>purchase</td>\n",
       "      <td>A</td>\n",
       "      <td>2605</td>\n",
       "      <td>872</td>\n",
       "      <td>31.7</td>\n",
       "    </tr>\n",
       "  </tbody>\n",
       "</table>\n",
       "</div>"
      ],
      "text/plain": [
       "     event_name group  event_cnt  user_cnt  conversion%\n",
       "0         login     A       8371      2747        100.0\n",
       "4  product_page     A       5396      1780         64.8\n",
       "2  product_cart     A       2508       824         30.0\n",
       "6      purchase     A       2605       872         31.7"
      ]
     },
     "metadata": {},
     "output_type": "display_data"
    },
    {
     "data": {
      "text/html": [
       "<div>\n",
       "<style scoped>\n",
       "    .dataframe tbody tr th:only-of-type {\n",
       "        vertical-align: middle;\n",
       "    }\n",
       "\n",
       "    .dataframe tbody tr th {\n",
       "        vertical-align: top;\n",
       "    }\n",
       "\n",
       "    .dataframe thead th {\n",
       "        text-align: right;\n",
       "    }\n",
       "</style>\n",
       "<table border=\"1\" class=\"dataframe\">\n",
       "  <thead>\n",
       "    <tr style=\"text-align: right;\">\n",
       "      <th></th>\n",
       "      <th>event_name</th>\n",
       "      <th>group</th>\n",
       "      <th>event_cnt</th>\n",
       "      <th>user_cnt</th>\n",
       "      <th>conversion%</th>\n",
       "    </tr>\n",
       "  </thead>\n",
       "  <tbody>\n",
       "    <tr>\n",
       "      <th>1</th>\n",
       "      <td>login</td>\n",
       "      <td>B</td>\n",
       "      <td>2475</td>\n",
       "      <td>927</td>\n",
       "      <td>100.0</td>\n",
       "    </tr>\n",
       "    <tr>\n",
       "      <th>5</th>\n",
       "      <td>product_page</td>\n",
       "      <td>B</td>\n",
       "      <td>1323</td>\n",
       "      <td>523</td>\n",
       "      <td>56.4</td>\n",
       "    </tr>\n",
       "    <tr>\n",
       "      <th>3</th>\n",
       "      <td>product_cart</td>\n",
       "      <td>B</td>\n",
       "      <td>656</td>\n",
       "      <td>255</td>\n",
       "      <td>27.5</td>\n",
       "    </tr>\n",
       "    <tr>\n",
       "      <th>7</th>\n",
       "      <td>purchase</td>\n",
       "      <td>B</td>\n",
       "      <td>638</td>\n",
       "      <td>256</td>\n",
       "      <td>27.6</td>\n",
       "    </tr>\n",
       "  </tbody>\n",
       "</table>\n",
       "</div>"
      ],
      "text/plain": [
       "     event_name group  event_cnt  user_cnt  conversion%\n",
       "1         login     B       2475       927        100.0\n",
       "5  product_page     B       1323       523         56.4\n",
       "3  product_cart     B        656       255         27.5\n",
       "7      purchase     B        638       256         27.6"
      ]
     },
     "metadata": {},
     "output_type": "display_data"
    },
    {
     "data": {
      "application/vnd.plotly.v1+json": {
       "config": {
        "plotlyServerURL": "https://plot.ly"
       },
       "data": [
        {
         "hovertemplate": "conversion%=%{x}<br>event_name=%{y}<extra></extra>",
         "legendgroup": "",
         "marker": {
          "color": "#636efa"
         },
         "name": "",
         "orientation": "h",
         "showlegend": false,
         "type": "funnel",
         "x": [
          100,
          64.8,
          30,
          31.7
         ],
         "xaxis": "x",
         "y": [
          "login",
          "product_page",
          "product_cart",
          "purchase"
         ],
         "yaxis": "y"
        }
       ],
       "layout": {
        "legend": {
         "tracegroupgap": 0
        },
        "template": {
         "data": {
          "bar": [
           {
            "error_x": {
             "color": "#2a3f5f"
            },
            "error_y": {
             "color": "#2a3f5f"
            },
            "marker": {
             "line": {
              "color": "#E5ECF6",
              "width": 0.5
             },
             "pattern": {
              "fillmode": "overlay",
              "size": 10,
              "solidity": 0.2
             }
            },
            "type": "bar"
           }
          ],
          "barpolar": [
           {
            "marker": {
             "line": {
              "color": "#E5ECF6",
              "width": 0.5
             },
             "pattern": {
              "fillmode": "overlay",
              "size": 10,
              "solidity": 0.2
             }
            },
            "type": "barpolar"
           }
          ],
          "carpet": [
           {
            "aaxis": {
             "endlinecolor": "#2a3f5f",
             "gridcolor": "white",
             "linecolor": "white",
             "minorgridcolor": "white",
             "startlinecolor": "#2a3f5f"
            },
            "baxis": {
             "endlinecolor": "#2a3f5f",
             "gridcolor": "white",
             "linecolor": "white",
             "minorgridcolor": "white",
             "startlinecolor": "#2a3f5f"
            },
            "type": "carpet"
           }
          ],
          "choropleth": [
           {
            "colorbar": {
             "outlinewidth": 0,
             "ticks": ""
            },
            "type": "choropleth"
           }
          ],
          "contour": [
           {
            "colorbar": {
             "outlinewidth": 0,
             "ticks": ""
            },
            "colorscale": [
             [
              0,
              "#0d0887"
             ],
             [
              0.1111111111111111,
              "#46039f"
             ],
             [
              0.2222222222222222,
              "#7201a8"
             ],
             [
              0.3333333333333333,
              "#9c179e"
             ],
             [
              0.4444444444444444,
              "#bd3786"
             ],
             [
              0.5555555555555556,
              "#d8576b"
             ],
             [
              0.6666666666666666,
              "#ed7953"
             ],
             [
              0.7777777777777778,
              "#fb9f3a"
             ],
             [
              0.8888888888888888,
              "#fdca26"
             ],
             [
              1,
              "#f0f921"
             ]
            ],
            "type": "contour"
           }
          ],
          "contourcarpet": [
           {
            "colorbar": {
             "outlinewidth": 0,
             "ticks": ""
            },
            "type": "contourcarpet"
           }
          ],
          "heatmap": [
           {
            "colorbar": {
             "outlinewidth": 0,
             "ticks": ""
            },
            "colorscale": [
             [
              0,
              "#0d0887"
             ],
             [
              0.1111111111111111,
              "#46039f"
             ],
             [
              0.2222222222222222,
              "#7201a8"
             ],
             [
              0.3333333333333333,
              "#9c179e"
             ],
             [
              0.4444444444444444,
              "#bd3786"
             ],
             [
              0.5555555555555556,
              "#d8576b"
             ],
             [
              0.6666666666666666,
              "#ed7953"
             ],
             [
              0.7777777777777778,
              "#fb9f3a"
             ],
             [
              0.8888888888888888,
              "#fdca26"
             ],
             [
              1,
              "#f0f921"
             ]
            ],
            "type": "heatmap"
           }
          ],
          "heatmapgl": [
           {
            "colorbar": {
             "outlinewidth": 0,
             "ticks": ""
            },
            "colorscale": [
             [
              0,
              "#0d0887"
             ],
             [
              0.1111111111111111,
              "#46039f"
             ],
             [
              0.2222222222222222,
              "#7201a8"
             ],
             [
              0.3333333333333333,
              "#9c179e"
             ],
             [
              0.4444444444444444,
              "#bd3786"
             ],
             [
              0.5555555555555556,
              "#d8576b"
             ],
             [
              0.6666666666666666,
              "#ed7953"
             ],
             [
              0.7777777777777778,
              "#fb9f3a"
             ],
             [
              0.8888888888888888,
              "#fdca26"
             ],
             [
              1,
              "#f0f921"
             ]
            ],
            "type": "heatmapgl"
           }
          ],
          "histogram": [
           {
            "marker": {
             "pattern": {
              "fillmode": "overlay",
              "size": 10,
              "solidity": 0.2
             }
            },
            "type": "histogram"
           }
          ],
          "histogram2d": [
           {
            "colorbar": {
             "outlinewidth": 0,
             "ticks": ""
            },
            "colorscale": [
             [
              0,
              "#0d0887"
             ],
             [
              0.1111111111111111,
              "#46039f"
             ],
             [
              0.2222222222222222,
              "#7201a8"
             ],
             [
              0.3333333333333333,
              "#9c179e"
             ],
             [
              0.4444444444444444,
              "#bd3786"
             ],
             [
              0.5555555555555556,
              "#d8576b"
             ],
             [
              0.6666666666666666,
              "#ed7953"
             ],
             [
              0.7777777777777778,
              "#fb9f3a"
             ],
             [
              0.8888888888888888,
              "#fdca26"
             ],
             [
              1,
              "#f0f921"
             ]
            ],
            "type": "histogram2d"
           }
          ],
          "histogram2dcontour": [
           {
            "colorbar": {
             "outlinewidth": 0,
             "ticks": ""
            },
            "colorscale": [
             [
              0,
              "#0d0887"
             ],
             [
              0.1111111111111111,
              "#46039f"
             ],
             [
              0.2222222222222222,
              "#7201a8"
             ],
             [
              0.3333333333333333,
              "#9c179e"
             ],
             [
              0.4444444444444444,
              "#bd3786"
             ],
             [
              0.5555555555555556,
              "#d8576b"
             ],
             [
              0.6666666666666666,
              "#ed7953"
             ],
             [
              0.7777777777777778,
              "#fb9f3a"
             ],
             [
              0.8888888888888888,
              "#fdca26"
             ],
             [
              1,
              "#f0f921"
             ]
            ],
            "type": "histogram2dcontour"
           }
          ],
          "mesh3d": [
           {
            "colorbar": {
             "outlinewidth": 0,
             "ticks": ""
            },
            "type": "mesh3d"
           }
          ],
          "parcoords": [
           {
            "line": {
             "colorbar": {
              "outlinewidth": 0,
              "ticks": ""
             }
            },
            "type": "parcoords"
           }
          ],
          "pie": [
           {
            "automargin": true,
            "type": "pie"
           }
          ],
          "scatter": [
           {
            "fillpattern": {
             "fillmode": "overlay",
             "size": 10,
             "solidity": 0.2
            },
            "type": "scatter"
           }
          ],
          "scatter3d": [
           {
            "line": {
             "colorbar": {
              "outlinewidth": 0,
              "ticks": ""
             }
            },
            "marker": {
             "colorbar": {
              "outlinewidth": 0,
              "ticks": ""
             }
            },
            "type": "scatter3d"
           }
          ],
          "scattercarpet": [
           {
            "marker": {
             "colorbar": {
              "outlinewidth": 0,
              "ticks": ""
             }
            },
            "type": "scattercarpet"
           }
          ],
          "scattergeo": [
           {
            "marker": {
             "colorbar": {
              "outlinewidth": 0,
              "ticks": ""
             }
            },
            "type": "scattergeo"
           }
          ],
          "scattergl": [
           {
            "marker": {
             "colorbar": {
              "outlinewidth": 0,
              "ticks": ""
             }
            },
            "type": "scattergl"
           }
          ],
          "scattermapbox": [
           {
            "marker": {
             "colorbar": {
              "outlinewidth": 0,
              "ticks": ""
             }
            },
            "type": "scattermapbox"
           }
          ],
          "scatterpolar": [
           {
            "marker": {
             "colorbar": {
              "outlinewidth": 0,
              "ticks": ""
             }
            },
            "type": "scatterpolar"
           }
          ],
          "scatterpolargl": [
           {
            "marker": {
             "colorbar": {
              "outlinewidth": 0,
              "ticks": ""
             }
            },
            "type": "scatterpolargl"
           }
          ],
          "scatterternary": [
           {
            "marker": {
             "colorbar": {
              "outlinewidth": 0,
              "ticks": ""
             }
            },
            "type": "scatterternary"
           }
          ],
          "surface": [
           {
            "colorbar": {
             "outlinewidth": 0,
             "ticks": ""
            },
            "colorscale": [
             [
              0,
              "#0d0887"
             ],
             [
              0.1111111111111111,
              "#46039f"
             ],
             [
              0.2222222222222222,
              "#7201a8"
             ],
             [
              0.3333333333333333,
              "#9c179e"
             ],
             [
              0.4444444444444444,
              "#bd3786"
             ],
             [
              0.5555555555555556,
              "#d8576b"
             ],
             [
              0.6666666666666666,
              "#ed7953"
             ],
             [
              0.7777777777777778,
              "#fb9f3a"
             ],
             [
              0.8888888888888888,
              "#fdca26"
             ],
             [
              1,
              "#f0f921"
             ]
            ],
            "type": "surface"
           }
          ],
          "table": [
           {
            "cells": {
             "fill": {
              "color": "#EBF0F8"
             },
             "line": {
              "color": "white"
             }
            },
            "header": {
             "fill": {
              "color": "#C8D4E3"
             },
             "line": {
              "color": "white"
             }
            },
            "type": "table"
           }
          ]
         },
         "layout": {
          "annotationdefaults": {
           "arrowcolor": "#2a3f5f",
           "arrowhead": 0,
           "arrowwidth": 1
          },
          "autotypenumbers": "strict",
          "coloraxis": {
           "colorbar": {
            "outlinewidth": 0,
            "ticks": ""
           }
          },
          "colorscale": {
           "diverging": [
            [
             0,
             "#8e0152"
            ],
            [
             0.1,
             "#c51b7d"
            ],
            [
             0.2,
             "#de77ae"
            ],
            [
             0.3,
             "#f1b6da"
            ],
            [
             0.4,
             "#fde0ef"
            ],
            [
             0.5,
             "#f7f7f7"
            ],
            [
             0.6,
             "#e6f5d0"
            ],
            [
             0.7,
             "#b8e186"
            ],
            [
             0.8,
             "#7fbc41"
            ],
            [
             0.9,
             "#4d9221"
            ],
            [
             1,
             "#276419"
            ]
           ],
           "sequential": [
            [
             0,
             "#0d0887"
            ],
            [
             0.1111111111111111,
             "#46039f"
            ],
            [
             0.2222222222222222,
             "#7201a8"
            ],
            [
             0.3333333333333333,
             "#9c179e"
            ],
            [
             0.4444444444444444,
             "#bd3786"
            ],
            [
             0.5555555555555556,
             "#d8576b"
            ],
            [
             0.6666666666666666,
             "#ed7953"
            ],
            [
             0.7777777777777778,
             "#fb9f3a"
            ],
            [
             0.8888888888888888,
             "#fdca26"
            ],
            [
             1,
             "#f0f921"
            ]
           ],
           "sequentialminus": [
            [
             0,
             "#0d0887"
            ],
            [
             0.1111111111111111,
             "#46039f"
            ],
            [
             0.2222222222222222,
             "#7201a8"
            ],
            [
             0.3333333333333333,
             "#9c179e"
            ],
            [
             0.4444444444444444,
             "#bd3786"
            ],
            [
             0.5555555555555556,
             "#d8576b"
            ],
            [
             0.6666666666666666,
             "#ed7953"
            ],
            [
             0.7777777777777778,
             "#fb9f3a"
            ],
            [
             0.8888888888888888,
             "#fdca26"
            ],
            [
             1,
             "#f0f921"
            ]
           ]
          },
          "colorway": [
           "#636efa",
           "#EF553B",
           "#00cc96",
           "#ab63fa",
           "#FFA15A",
           "#19d3f3",
           "#FF6692",
           "#B6E880",
           "#FF97FF",
           "#FECB52"
          ],
          "font": {
           "color": "#2a3f5f"
          },
          "geo": {
           "bgcolor": "white",
           "lakecolor": "white",
           "landcolor": "#E5ECF6",
           "showlakes": true,
           "showland": true,
           "subunitcolor": "white"
          },
          "hoverlabel": {
           "align": "left"
          },
          "hovermode": "closest",
          "mapbox": {
           "style": "light"
          },
          "paper_bgcolor": "white",
          "plot_bgcolor": "#E5ECF6",
          "polar": {
           "angularaxis": {
            "gridcolor": "white",
            "linecolor": "white",
            "ticks": ""
           },
           "bgcolor": "#E5ECF6",
           "radialaxis": {
            "gridcolor": "white",
            "linecolor": "white",
            "ticks": ""
           }
          },
          "scene": {
           "xaxis": {
            "backgroundcolor": "#E5ECF6",
            "gridcolor": "white",
            "gridwidth": 2,
            "linecolor": "white",
            "showbackground": true,
            "ticks": "",
            "zerolinecolor": "white"
           },
           "yaxis": {
            "backgroundcolor": "#E5ECF6",
            "gridcolor": "white",
            "gridwidth": 2,
            "linecolor": "white",
            "showbackground": true,
            "ticks": "",
            "zerolinecolor": "white"
           },
           "zaxis": {
            "backgroundcolor": "#E5ECF6",
            "gridcolor": "white",
            "gridwidth": 2,
            "linecolor": "white",
            "showbackground": true,
            "ticks": "",
            "zerolinecolor": "white"
           }
          },
          "shapedefaults": {
           "line": {
            "color": "#2a3f5f"
           }
          },
          "ternary": {
           "aaxis": {
            "gridcolor": "white",
            "linecolor": "white",
            "ticks": ""
           },
           "baxis": {
            "gridcolor": "white",
            "linecolor": "white",
            "ticks": ""
           },
           "bgcolor": "#E5ECF6",
           "caxis": {
            "gridcolor": "white",
            "linecolor": "white",
            "ticks": ""
           }
          },
          "title": {
           "x": 0.05
          },
          "xaxis": {
           "automargin": true,
           "gridcolor": "white",
           "linecolor": "white",
           "ticks": "",
           "title": {
            "standoff": 15
           },
           "zerolinecolor": "white",
           "zerolinewidth": 2
          },
          "yaxis": {
           "automargin": true,
           "gridcolor": "white",
           "linecolor": "white",
           "ticks": "",
           "title": {
            "standoff": 15
           },
           "zerolinecolor": "white",
           "zerolinewidth": 2
          }
         }
        },
        "title": {
         "text": "Воронка событий для группы A"
        },
        "xaxis": {
         "anchor": "y",
         "domain": [
          0,
          1
         ],
         "title": {
          "text": "conversion%"
         }
        },
        "yaxis": {
         "anchor": "x",
         "domain": [
          0,
          1
         ],
         "title": {
          "text": "event_name"
         }
        }
       }
      },
      "text/html": [
       "<div>                            <div id=\"67b99057-56d7-4726-ac0f-0a2d219710ff\" class=\"plotly-graph-div\" style=\"height:525px; width:100%;\"></div>            <script type=\"text/javascript\">                require([\"plotly\"], function(Plotly) {                    window.PLOTLYENV=window.PLOTLYENV || {};                                    if (document.getElementById(\"67b99057-56d7-4726-ac0f-0a2d219710ff\")) {                    Plotly.newPlot(                        \"67b99057-56d7-4726-ac0f-0a2d219710ff\",                        [{\"hovertemplate\":\"conversion%=%{x}<br>event_name=%{y}<extra></extra>\",\"legendgroup\":\"\",\"marker\":{\"color\":\"#636efa\"},\"name\":\"\",\"orientation\":\"h\",\"showlegend\":false,\"x\":[100.0,64.8,30.0,31.7],\"xaxis\":\"x\",\"y\":[\"login\",\"product_page\",\"product_cart\",\"purchase\"],\"yaxis\":\"y\",\"type\":\"funnel\"}],                        {\"template\":{\"data\":{\"histogram2dcontour\":[{\"type\":\"histogram2dcontour\",\"colorbar\":{\"outlinewidth\":0,\"ticks\":\"\"},\"colorscale\":[[0.0,\"#0d0887\"],[0.1111111111111111,\"#46039f\"],[0.2222222222222222,\"#7201a8\"],[0.3333333333333333,\"#9c179e\"],[0.4444444444444444,\"#bd3786\"],[0.5555555555555556,\"#d8576b\"],[0.6666666666666666,\"#ed7953\"],[0.7777777777777778,\"#fb9f3a\"],[0.8888888888888888,\"#fdca26\"],[1.0,\"#f0f921\"]]}],\"choropleth\":[{\"type\":\"choropleth\",\"colorbar\":{\"outlinewidth\":0,\"ticks\":\"\"}}],\"histogram2d\":[{\"type\":\"histogram2d\",\"colorbar\":{\"outlinewidth\":0,\"ticks\":\"\"},\"colorscale\":[[0.0,\"#0d0887\"],[0.1111111111111111,\"#46039f\"],[0.2222222222222222,\"#7201a8\"],[0.3333333333333333,\"#9c179e\"],[0.4444444444444444,\"#bd3786\"],[0.5555555555555556,\"#d8576b\"],[0.6666666666666666,\"#ed7953\"],[0.7777777777777778,\"#fb9f3a\"],[0.8888888888888888,\"#fdca26\"],[1.0,\"#f0f921\"]]}],\"heatmap\":[{\"type\":\"heatmap\",\"colorbar\":{\"outlinewidth\":0,\"ticks\":\"\"},\"colorscale\":[[0.0,\"#0d0887\"],[0.1111111111111111,\"#46039f\"],[0.2222222222222222,\"#7201a8\"],[0.3333333333333333,\"#9c179e\"],[0.4444444444444444,\"#bd3786\"],[0.5555555555555556,\"#d8576b\"],[0.6666666666666666,\"#ed7953\"],[0.7777777777777778,\"#fb9f3a\"],[0.8888888888888888,\"#fdca26\"],[1.0,\"#f0f921\"]]}],\"heatmapgl\":[{\"type\":\"heatmapgl\",\"colorbar\":{\"outlinewidth\":0,\"ticks\":\"\"},\"colorscale\":[[0.0,\"#0d0887\"],[0.1111111111111111,\"#46039f\"],[0.2222222222222222,\"#7201a8\"],[0.3333333333333333,\"#9c179e\"],[0.4444444444444444,\"#bd3786\"],[0.5555555555555556,\"#d8576b\"],[0.6666666666666666,\"#ed7953\"],[0.7777777777777778,\"#fb9f3a\"],[0.8888888888888888,\"#fdca26\"],[1.0,\"#f0f921\"]]}],\"contourcarpet\":[{\"type\":\"contourcarpet\",\"colorbar\":{\"outlinewidth\":0,\"ticks\":\"\"}}],\"contour\":[{\"type\":\"contour\",\"colorbar\":{\"outlinewidth\":0,\"ticks\":\"\"},\"colorscale\":[[0.0,\"#0d0887\"],[0.1111111111111111,\"#46039f\"],[0.2222222222222222,\"#7201a8\"],[0.3333333333333333,\"#9c179e\"],[0.4444444444444444,\"#bd3786\"],[0.5555555555555556,\"#d8576b\"],[0.6666666666666666,\"#ed7953\"],[0.7777777777777778,\"#fb9f3a\"],[0.8888888888888888,\"#fdca26\"],[1.0,\"#f0f921\"]]}],\"surface\":[{\"type\":\"surface\",\"colorbar\":{\"outlinewidth\":0,\"ticks\":\"\"},\"colorscale\":[[0.0,\"#0d0887\"],[0.1111111111111111,\"#46039f\"],[0.2222222222222222,\"#7201a8\"],[0.3333333333333333,\"#9c179e\"],[0.4444444444444444,\"#bd3786\"],[0.5555555555555556,\"#d8576b\"],[0.6666666666666666,\"#ed7953\"],[0.7777777777777778,\"#fb9f3a\"],[0.8888888888888888,\"#fdca26\"],[1.0,\"#f0f921\"]]}],\"mesh3d\":[{\"type\":\"mesh3d\",\"colorbar\":{\"outlinewidth\":0,\"ticks\":\"\"}}],\"scatter\":[{\"fillpattern\":{\"fillmode\":\"overlay\",\"size\":10,\"solidity\":0.2},\"type\":\"scatter\"}],\"parcoords\":[{\"type\":\"parcoords\",\"line\":{\"colorbar\":{\"outlinewidth\":0,\"ticks\":\"\"}}}],\"scatterpolargl\":[{\"type\":\"scatterpolargl\",\"marker\":{\"colorbar\":{\"outlinewidth\":0,\"ticks\":\"\"}}}],\"bar\":[{\"error_x\":{\"color\":\"#2a3f5f\"},\"error_y\":{\"color\":\"#2a3f5f\"},\"marker\":{\"line\":{\"color\":\"#E5ECF6\",\"width\":0.5},\"pattern\":{\"fillmode\":\"overlay\",\"size\":10,\"solidity\":0.2}},\"type\":\"bar\"}],\"scattergeo\":[{\"type\":\"scattergeo\",\"marker\":{\"colorbar\":{\"outlinewidth\":0,\"ticks\":\"\"}}}],\"scatterpolar\":[{\"type\":\"scatterpolar\",\"marker\":{\"colorbar\":{\"outlinewidth\":0,\"ticks\":\"\"}}}],\"histogram\":[{\"marker\":{\"pattern\":{\"fillmode\":\"overlay\",\"size\":10,\"solidity\":0.2}},\"type\":\"histogram\"}],\"scattergl\":[{\"type\":\"scattergl\",\"marker\":{\"colorbar\":{\"outlinewidth\":0,\"ticks\":\"\"}}}],\"scatter3d\":[{\"type\":\"scatter3d\",\"line\":{\"colorbar\":{\"outlinewidth\":0,\"ticks\":\"\"}},\"marker\":{\"colorbar\":{\"outlinewidth\":0,\"ticks\":\"\"}}}],\"scattermapbox\":[{\"type\":\"scattermapbox\",\"marker\":{\"colorbar\":{\"outlinewidth\":0,\"ticks\":\"\"}}}],\"scatterternary\":[{\"type\":\"scatterternary\",\"marker\":{\"colorbar\":{\"outlinewidth\":0,\"ticks\":\"\"}}}],\"scattercarpet\":[{\"type\":\"scattercarpet\",\"marker\":{\"colorbar\":{\"outlinewidth\":0,\"ticks\":\"\"}}}],\"carpet\":[{\"aaxis\":{\"endlinecolor\":\"#2a3f5f\",\"gridcolor\":\"white\",\"linecolor\":\"white\",\"minorgridcolor\":\"white\",\"startlinecolor\":\"#2a3f5f\"},\"baxis\":{\"endlinecolor\":\"#2a3f5f\",\"gridcolor\":\"white\",\"linecolor\":\"white\",\"minorgridcolor\":\"white\",\"startlinecolor\":\"#2a3f5f\"},\"type\":\"carpet\"}],\"table\":[{\"cells\":{\"fill\":{\"color\":\"#EBF0F8\"},\"line\":{\"color\":\"white\"}},\"header\":{\"fill\":{\"color\":\"#C8D4E3\"},\"line\":{\"color\":\"white\"}},\"type\":\"table\"}],\"barpolar\":[{\"marker\":{\"line\":{\"color\":\"#E5ECF6\",\"width\":0.5},\"pattern\":{\"fillmode\":\"overlay\",\"size\":10,\"solidity\":0.2}},\"type\":\"barpolar\"}],\"pie\":[{\"automargin\":true,\"type\":\"pie\"}]},\"layout\":{\"autotypenumbers\":\"strict\",\"colorway\":[\"#636efa\",\"#EF553B\",\"#00cc96\",\"#ab63fa\",\"#FFA15A\",\"#19d3f3\",\"#FF6692\",\"#B6E880\",\"#FF97FF\",\"#FECB52\"],\"font\":{\"color\":\"#2a3f5f\"},\"hovermode\":\"closest\",\"hoverlabel\":{\"align\":\"left\"},\"paper_bgcolor\":\"white\",\"plot_bgcolor\":\"#E5ECF6\",\"polar\":{\"bgcolor\":\"#E5ECF6\",\"angularaxis\":{\"gridcolor\":\"white\",\"linecolor\":\"white\",\"ticks\":\"\"},\"radialaxis\":{\"gridcolor\":\"white\",\"linecolor\":\"white\",\"ticks\":\"\"}},\"ternary\":{\"bgcolor\":\"#E5ECF6\",\"aaxis\":{\"gridcolor\":\"white\",\"linecolor\":\"white\",\"ticks\":\"\"},\"baxis\":{\"gridcolor\":\"white\",\"linecolor\":\"white\",\"ticks\":\"\"},\"caxis\":{\"gridcolor\":\"white\",\"linecolor\":\"white\",\"ticks\":\"\"}},\"coloraxis\":{\"colorbar\":{\"outlinewidth\":0,\"ticks\":\"\"}},\"colorscale\":{\"sequential\":[[0.0,\"#0d0887\"],[0.1111111111111111,\"#46039f\"],[0.2222222222222222,\"#7201a8\"],[0.3333333333333333,\"#9c179e\"],[0.4444444444444444,\"#bd3786\"],[0.5555555555555556,\"#d8576b\"],[0.6666666666666666,\"#ed7953\"],[0.7777777777777778,\"#fb9f3a\"],[0.8888888888888888,\"#fdca26\"],[1.0,\"#f0f921\"]],\"sequentialminus\":[[0.0,\"#0d0887\"],[0.1111111111111111,\"#46039f\"],[0.2222222222222222,\"#7201a8\"],[0.3333333333333333,\"#9c179e\"],[0.4444444444444444,\"#bd3786\"],[0.5555555555555556,\"#d8576b\"],[0.6666666666666666,\"#ed7953\"],[0.7777777777777778,\"#fb9f3a\"],[0.8888888888888888,\"#fdca26\"],[1.0,\"#f0f921\"]],\"diverging\":[[0,\"#8e0152\"],[0.1,\"#c51b7d\"],[0.2,\"#de77ae\"],[0.3,\"#f1b6da\"],[0.4,\"#fde0ef\"],[0.5,\"#f7f7f7\"],[0.6,\"#e6f5d0\"],[0.7,\"#b8e186\"],[0.8,\"#7fbc41\"],[0.9,\"#4d9221\"],[1,\"#276419\"]]},\"xaxis\":{\"gridcolor\":\"white\",\"linecolor\":\"white\",\"ticks\":\"\",\"title\":{\"standoff\":15},\"zerolinecolor\":\"white\",\"automargin\":true,\"zerolinewidth\":2},\"yaxis\":{\"gridcolor\":\"white\",\"linecolor\":\"white\",\"ticks\":\"\",\"title\":{\"standoff\":15},\"zerolinecolor\":\"white\",\"automargin\":true,\"zerolinewidth\":2},\"scene\":{\"xaxis\":{\"backgroundcolor\":\"#E5ECF6\",\"gridcolor\":\"white\",\"linecolor\":\"white\",\"showbackground\":true,\"ticks\":\"\",\"zerolinecolor\":\"white\",\"gridwidth\":2},\"yaxis\":{\"backgroundcolor\":\"#E5ECF6\",\"gridcolor\":\"white\",\"linecolor\":\"white\",\"showbackground\":true,\"ticks\":\"\",\"zerolinecolor\":\"white\",\"gridwidth\":2},\"zaxis\":{\"backgroundcolor\":\"#E5ECF6\",\"gridcolor\":\"white\",\"linecolor\":\"white\",\"showbackground\":true,\"ticks\":\"\",\"zerolinecolor\":\"white\",\"gridwidth\":2}},\"shapedefaults\":{\"line\":{\"color\":\"#2a3f5f\"}},\"annotationdefaults\":{\"arrowcolor\":\"#2a3f5f\",\"arrowhead\":0,\"arrowwidth\":1},\"geo\":{\"bgcolor\":\"white\",\"landcolor\":\"#E5ECF6\",\"subunitcolor\":\"white\",\"showland\":true,\"showlakes\":true,\"lakecolor\":\"white\"},\"title\":{\"x\":0.05},\"mapbox\":{\"style\":\"light\"}}},\"xaxis\":{\"anchor\":\"y\",\"domain\":[0.0,1.0],\"title\":{\"text\":\"conversion%\"}},\"yaxis\":{\"anchor\":\"x\",\"domain\":[0.0,1.0],\"title\":{\"text\":\"event_name\"}},\"legend\":{\"tracegroupgap\":0},\"title\":{\"text\":\"\\u0412\\u043e\\u0440\\u043e\\u043d\\u043a\\u0430 \\u0441\\u043e\\u0431\\u044b\\u0442\\u0438\\u0439 \\u0434\\u043b\\u044f \\u0433\\u0440\\u0443\\u043f\\u043f\\u044b A\"}},                        {\"responsive\": true}                    ).then(function(){\n",
       "                            \n",
       "var gd = document.getElementById('67b99057-56d7-4726-ac0f-0a2d219710ff');\n",
       "var x = new MutationObserver(function (mutations, observer) {{\n",
       "        var display = window.getComputedStyle(gd).display;\n",
       "        if (!display || display === 'none') {{\n",
       "            console.log([gd, 'removed!']);\n",
       "            Plotly.purge(gd);\n",
       "            observer.disconnect();\n",
       "        }}\n",
       "}});\n",
       "\n",
       "// Listen for the removal of the full notebook cells\n",
       "var notebookContainer = gd.closest('#notebook-container');\n",
       "if (notebookContainer) {{\n",
       "    x.observe(notebookContainer, {childList: true});\n",
       "}}\n",
       "\n",
       "// Listen for the clearing of the current output cell\n",
       "var outputEl = gd.closest('.output');\n",
       "if (outputEl) {{\n",
       "    x.observe(outputEl, {childList: true});\n",
       "}}\n",
       "\n",
       "                        })                };                });            </script>        </div>"
      ]
     },
     "metadata": {},
     "output_type": "display_data"
    },
    {
     "data": {
      "application/vnd.plotly.v1+json": {
       "config": {
        "plotlyServerURL": "https://plot.ly"
       },
       "data": [
        {
         "hovertemplate": "conversion%=%{x}<br>event_name=%{y}<extra></extra>",
         "legendgroup": "",
         "marker": {
          "color": "#636efa"
         },
         "name": "",
         "orientation": "h",
         "showlegend": false,
         "type": "funnel",
         "x": [
          100,
          56.39999999999999,
          27.500000000000004,
          27.6
         ],
         "xaxis": "x",
         "y": [
          "login",
          "product_page",
          "product_cart",
          "purchase"
         ],
         "yaxis": "y"
        }
       ],
       "layout": {
        "legend": {
         "tracegroupgap": 0
        },
        "template": {
         "data": {
          "bar": [
           {
            "error_x": {
             "color": "#2a3f5f"
            },
            "error_y": {
             "color": "#2a3f5f"
            },
            "marker": {
             "line": {
              "color": "#E5ECF6",
              "width": 0.5
             },
             "pattern": {
              "fillmode": "overlay",
              "size": 10,
              "solidity": 0.2
             }
            },
            "type": "bar"
           }
          ],
          "barpolar": [
           {
            "marker": {
             "line": {
              "color": "#E5ECF6",
              "width": 0.5
             },
             "pattern": {
              "fillmode": "overlay",
              "size": 10,
              "solidity": 0.2
             }
            },
            "type": "barpolar"
           }
          ],
          "carpet": [
           {
            "aaxis": {
             "endlinecolor": "#2a3f5f",
             "gridcolor": "white",
             "linecolor": "white",
             "minorgridcolor": "white",
             "startlinecolor": "#2a3f5f"
            },
            "baxis": {
             "endlinecolor": "#2a3f5f",
             "gridcolor": "white",
             "linecolor": "white",
             "minorgridcolor": "white",
             "startlinecolor": "#2a3f5f"
            },
            "type": "carpet"
           }
          ],
          "choropleth": [
           {
            "colorbar": {
             "outlinewidth": 0,
             "ticks": ""
            },
            "type": "choropleth"
           }
          ],
          "contour": [
           {
            "colorbar": {
             "outlinewidth": 0,
             "ticks": ""
            },
            "colorscale": [
             [
              0,
              "#0d0887"
             ],
             [
              0.1111111111111111,
              "#46039f"
             ],
             [
              0.2222222222222222,
              "#7201a8"
             ],
             [
              0.3333333333333333,
              "#9c179e"
             ],
             [
              0.4444444444444444,
              "#bd3786"
             ],
             [
              0.5555555555555556,
              "#d8576b"
             ],
             [
              0.6666666666666666,
              "#ed7953"
             ],
             [
              0.7777777777777778,
              "#fb9f3a"
             ],
             [
              0.8888888888888888,
              "#fdca26"
             ],
             [
              1,
              "#f0f921"
             ]
            ],
            "type": "contour"
           }
          ],
          "contourcarpet": [
           {
            "colorbar": {
             "outlinewidth": 0,
             "ticks": ""
            },
            "type": "contourcarpet"
           }
          ],
          "heatmap": [
           {
            "colorbar": {
             "outlinewidth": 0,
             "ticks": ""
            },
            "colorscale": [
             [
              0,
              "#0d0887"
             ],
             [
              0.1111111111111111,
              "#46039f"
             ],
             [
              0.2222222222222222,
              "#7201a8"
             ],
             [
              0.3333333333333333,
              "#9c179e"
             ],
             [
              0.4444444444444444,
              "#bd3786"
             ],
             [
              0.5555555555555556,
              "#d8576b"
             ],
             [
              0.6666666666666666,
              "#ed7953"
             ],
             [
              0.7777777777777778,
              "#fb9f3a"
             ],
             [
              0.8888888888888888,
              "#fdca26"
             ],
             [
              1,
              "#f0f921"
             ]
            ],
            "type": "heatmap"
           }
          ],
          "heatmapgl": [
           {
            "colorbar": {
             "outlinewidth": 0,
             "ticks": ""
            },
            "colorscale": [
             [
              0,
              "#0d0887"
             ],
             [
              0.1111111111111111,
              "#46039f"
             ],
             [
              0.2222222222222222,
              "#7201a8"
             ],
             [
              0.3333333333333333,
              "#9c179e"
             ],
             [
              0.4444444444444444,
              "#bd3786"
             ],
             [
              0.5555555555555556,
              "#d8576b"
             ],
             [
              0.6666666666666666,
              "#ed7953"
             ],
             [
              0.7777777777777778,
              "#fb9f3a"
             ],
             [
              0.8888888888888888,
              "#fdca26"
             ],
             [
              1,
              "#f0f921"
             ]
            ],
            "type": "heatmapgl"
           }
          ],
          "histogram": [
           {
            "marker": {
             "pattern": {
              "fillmode": "overlay",
              "size": 10,
              "solidity": 0.2
             }
            },
            "type": "histogram"
           }
          ],
          "histogram2d": [
           {
            "colorbar": {
             "outlinewidth": 0,
             "ticks": ""
            },
            "colorscale": [
             [
              0,
              "#0d0887"
             ],
             [
              0.1111111111111111,
              "#46039f"
             ],
             [
              0.2222222222222222,
              "#7201a8"
             ],
             [
              0.3333333333333333,
              "#9c179e"
             ],
             [
              0.4444444444444444,
              "#bd3786"
             ],
             [
              0.5555555555555556,
              "#d8576b"
             ],
             [
              0.6666666666666666,
              "#ed7953"
             ],
             [
              0.7777777777777778,
              "#fb9f3a"
             ],
             [
              0.8888888888888888,
              "#fdca26"
             ],
             [
              1,
              "#f0f921"
             ]
            ],
            "type": "histogram2d"
           }
          ],
          "histogram2dcontour": [
           {
            "colorbar": {
             "outlinewidth": 0,
             "ticks": ""
            },
            "colorscale": [
             [
              0,
              "#0d0887"
             ],
             [
              0.1111111111111111,
              "#46039f"
             ],
             [
              0.2222222222222222,
              "#7201a8"
             ],
             [
              0.3333333333333333,
              "#9c179e"
             ],
             [
              0.4444444444444444,
              "#bd3786"
             ],
             [
              0.5555555555555556,
              "#d8576b"
             ],
             [
              0.6666666666666666,
              "#ed7953"
             ],
             [
              0.7777777777777778,
              "#fb9f3a"
             ],
             [
              0.8888888888888888,
              "#fdca26"
             ],
             [
              1,
              "#f0f921"
             ]
            ],
            "type": "histogram2dcontour"
           }
          ],
          "mesh3d": [
           {
            "colorbar": {
             "outlinewidth": 0,
             "ticks": ""
            },
            "type": "mesh3d"
           }
          ],
          "parcoords": [
           {
            "line": {
             "colorbar": {
              "outlinewidth": 0,
              "ticks": ""
             }
            },
            "type": "parcoords"
           }
          ],
          "pie": [
           {
            "automargin": true,
            "type": "pie"
           }
          ],
          "scatter": [
           {
            "fillpattern": {
             "fillmode": "overlay",
             "size": 10,
             "solidity": 0.2
            },
            "type": "scatter"
           }
          ],
          "scatter3d": [
           {
            "line": {
             "colorbar": {
              "outlinewidth": 0,
              "ticks": ""
             }
            },
            "marker": {
             "colorbar": {
              "outlinewidth": 0,
              "ticks": ""
             }
            },
            "type": "scatter3d"
           }
          ],
          "scattercarpet": [
           {
            "marker": {
             "colorbar": {
              "outlinewidth": 0,
              "ticks": ""
             }
            },
            "type": "scattercarpet"
           }
          ],
          "scattergeo": [
           {
            "marker": {
             "colorbar": {
              "outlinewidth": 0,
              "ticks": ""
             }
            },
            "type": "scattergeo"
           }
          ],
          "scattergl": [
           {
            "marker": {
             "colorbar": {
              "outlinewidth": 0,
              "ticks": ""
             }
            },
            "type": "scattergl"
           }
          ],
          "scattermapbox": [
           {
            "marker": {
             "colorbar": {
              "outlinewidth": 0,
              "ticks": ""
             }
            },
            "type": "scattermapbox"
           }
          ],
          "scatterpolar": [
           {
            "marker": {
             "colorbar": {
              "outlinewidth": 0,
              "ticks": ""
             }
            },
            "type": "scatterpolar"
           }
          ],
          "scatterpolargl": [
           {
            "marker": {
             "colorbar": {
              "outlinewidth": 0,
              "ticks": ""
             }
            },
            "type": "scatterpolargl"
           }
          ],
          "scatterternary": [
           {
            "marker": {
             "colorbar": {
              "outlinewidth": 0,
              "ticks": ""
             }
            },
            "type": "scatterternary"
           }
          ],
          "surface": [
           {
            "colorbar": {
             "outlinewidth": 0,
             "ticks": ""
            },
            "colorscale": [
             [
              0,
              "#0d0887"
             ],
             [
              0.1111111111111111,
              "#46039f"
             ],
             [
              0.2222222222222222,
              "#7201a8"
             ],
             [
              0.3333333333333333,
              "#9c179e"
             ],
             [
              0.4444444444444444,
              "#bd3786"
             ],
             [
              0.5555555555555556,
              "#d8576b"
             ],
             [
              0.6666666666666666,
              "#ed7953"
             ],
             [
              0.7777777777777778,
              "#fb9f3a"
             ],
             [
              0.8888888888888888,
              "#fdca26"
             ],
             [
              1,
              "#f0f921"
             ]
            ],
            "type": "surface"
           }
          ],
          "table": [
           {
            "cells": {
             "fill": {
              "color": "#EBF0F8"
             },
             "line": {
              "color": "white"
             }
            },
            "header": {
             "fill": {
              "color": "#C8D4E3"
             },
             "line": {
              "color": "white"
             }
            },
            "type": "table"
           }
          ]
         },
         "layout": {
          "annotationdefaults": {
           "arrowcolor": "#2a3f5f",
           "arrowhead": 0,
           "arrowwidth": 1
          },
          "autotypenumbers": "strict",
          "coloraxis": {
           "colorbar": {
            "outlinewidth": 0,
            "ticks": ""
           }
          },
          "colorscale": {
           "diverging": [
            [
             0,
             "#8e0152"
            ],
            [
             0.1,
             "#c51b7d"
            ],
            [
             0.2,
             "#de77ae"
            ],
            [
             0.3,
             "#f1b6da"
            ],
            [
             0.4,
             "#fde0ef"
            ],
            [
             0.5,
             "#f7f7f7"
            ],
            [
             0.6,
             "#e6f5d0"
            ],
            [
             0.7,
             "#b8e186"
            ],
            [
             0.8,
             "#7fbc41"
            ],
            [
             0.9,
             "#4d9221"
            ],
            [
             1,
             "#276419"
            ]
           ],
           "sequential": [
            [
             0,
             "#0d0887"
            ],
            [
             0.1111111111111111,
             "#46039f"
            ],
            [
             0.2222222222222222,
             "#7201a8"
            ],
            [
             0.3333333333333333,
             "#9c179e"
            ],
            [
             0.4444444444444444,
             "#bd3786"
            ],
            [
             0.5555555555555556,
             "#d8576b"
            ],
            [
             0.6666666666666666,
             "#ed7953"
            ],
            [
             0.7777777777777778,
             "#fb9f3a"
            ],
            [
             0.8888888888888888,
             "#fdca26"
            ],
            [
             1,
             "#f0f921"
            ]
           ],
           "sequentialminus": [
            [
             0,
             "#0d0887"
            ],
            [
             0.1111111111111111,
             "#46039f"
            ],
            [
             0.2222222222222222,
             "#7201a8"
            ],
            [
             0.3333333333333333,
             "#9c179e"
            ],
            [
             0.4444444444444444,
             "#bd3786"
            ],
            [
             0.5555555555555556,
             "#d8576b"
            ],
            [
             0.6666666666666666,
             "#ed7953"
            ],
            [
             0.7777777777777778,
             "#fb9f3a"
            ],
            [
             0.8888888888888888,
             "#fdca26"
            ],
            [
             1,
             "#f0f921"
            ]
           ]
          },
          "colorway": [
           "#636efa",
           "#EF553B",
           "#00cc96",
           "#ab63fa",
           "#FFA15A",
           "#19d3f3",
           "#FF6692",
           "#B6E880",
           "#FF97FF",
           "#FECB52"
          ],
          "font": {
           "color": "#2a3f5f"
          },
          "geo": {
           "bgcolor": "white",
           "lakecolor": "white",
           "landcolor": "#E5ECF6",
           "showlakes": true,
           "showland": true,
           "subunitcolor": "white"
          },
          "hoverlabel": {
           "align": "left"
          },
          "hovermode": "closest",
          "mapbox": {
           "style": "light"
          },
          "paper_bgcolor": "white",
          "plot_bgcolor": "#E5ECF6",
          "polar": {
           "angularaxis": {
            "gridcolor": "white",
            "linecolor": "white",
            "ticks": ""
           },
           "bgcolor": "#E5ECF6",
           "radialaxis": {
            "gridcolor": "white",
            "linecolor": "white",
            "ticks": ""
           }
          },
          "scene": {
           "xaxis": {
            "backgroundcolor": "#E5ECF6",
            "gridcolor": "white",
            "gridwidth": 2,
            "linecolor": "white",
            "showbackground": true,
            "ticks": "",
            "zerolinecolor": "white"
           },
           "yaxis": {
            "backgroundcolor": "#E5ECF6",
            "gridcolor": "white",
            "gridwidth": 2,
            "linecolor": "white",
            "showbackground": true,
            "ticks": "",
            "zerolinecolor": "white"
           },
           "zaxis": {
            "backgroundcolor": "#E5ECF6",
            "gridcolor": "white",
            "gridwidth": 2,
            "linecolor": "white",
            "showbackground": true,
            "ticks": "",
            "zerolinecolor": "white"
           }
          },
          "shapedefaults": {
           "line": {
            "color": "#2a3f5f"
           }
          },
          "ternary": {
           "aaxis": {
            "gridcolor": "white",
            "linecolor": "white",
            "ticks": ""
           },
           "baxis": {
            "gridcolor": "white",
            "linecolor": "white",
            "ticks": ""
           },
           "bgcolor": "#E5ECF6",
           "caxis": {
            "gridcolor": "white",
            "linecolor": "white",
            "ticks": ""
           }
          },
          "title": {
           "x": 0.05
          },
          "xaxis": {
           "automargin": true,
           "gridcolor": "white",
           "linecolor": "white",
           "ticks": "",
           "title": {
            "standoff": 15
           },
           "zerolinecolor": "white",
           "zerolinewidth": 2
          },
          "yaxis": {
           "automargin": true,
           "gridcolor": "white",
           "linecolor": "white",
           "ticks": "",
           "title": {
            "standoff": 15
           },
           "zerolinecolor": "white",
           "zerolinewidth": 2
          }
         }
        },
        "title": {
         "text": "Воронка событий для группы B"
        },
        "xaxis": {
         "anchor": "y",
         "domain": [
          0,
          1
         ],
         "title": {
          "text": "conversion%"
         }
        },
        "yaxis": {
         "anchor": "x",
         "domain": [
          0,
          1
         ],
         "title": {
          "text": "event_name"
         }
        }
       }
      },
      "text/html": [
       "<div>                            <div id=\"8849ce3d-c868-4f41-bb7a-e4fe2c953a59\" class=\"plotly-graph-div\" style=\"height:525px; width:100%;\"></div>            <script type=\"text/javascript\">                require([\"plotly\"], function(Plotly) {                    window.PLOTLYENV=window.PLOTLYENV || {};                                    if (document.getElementById(\"8849ce3d-c868-4f41-bb7a-e4fe2c953a59\")) {                    Plotly.newPlot(                        \"8849ce3d-c868-4f41-bb7a-e4fe2c953a59\",                        [{\"hovertemplate\":\"conversion%=%{x}<br>event_name=%{y}<extra></extra>\",\"legendgroup\":\"\",\"marker\":{\"color\":\"#636efa\"},\"name\":\"\",\"orientation\":\"h\",\"showlegend\":false,\"x\":[100.0,56.39999999999999,27.500000000000004,27.6],\"xaxis\":\"x\",\"y\":[\"login\",\"product_page\",\"product_cart\",\"purchase\"],\"yaxis\":\"y\",\"type\":\"funnel\"}],                        {\"template\":{\"data\":{\"histogram2dcontour\":[{\"type\":\"histogram2dcontour\",\"colorbar\":{\"outlinewidth\":0,\"ticks\":\"\"},\"colorscale\":[[0.0,\"#0d0887\"],[0.1111111111111111,\"#46039f\"],[0.2222222222222222,\"#7201a8\"],[0.3333333333333333,\"#9c179e\"],[0.4444444444444444,\"#bd3786\"],[0.5555555555555556,\"#d8576b\"],[0.6666666666666666,\"#ed7953\"],[0.7777777777777778,\"#fb9f3a\"],[0.8888888888888888,\"#fdca26\"],[1.0,\"#f0f921\"]]}],\"choropleth\":[{\"type\":\"choropleth\",\"colorbar\":{\"outlinewidth\":0,\"ticks\":\"\"}}],\"histogram2d\":[{\"type\":\"histogram2d\",\"colorbar\":{\"outlinewidth\":0,\"ticks\":\"\"},\"colorscale\":[[0.0,\"#0d0887\"],[0.1111111111111111,\"#46039f\"],[0.2222222222222222,\"#7201a8\"],[0.3333333333333333,\"#9c179e\"],[0.4444444444444444,\"#bd3786\"],[0.5555555555555556,\"#d8576b\"],[0.6666666666666666,\"#ed7953\"],[0.7777777777777778,\"#fb9f3a\"],[0.8888888888888888,\"#fdca26\"],[1.0,\"#f0f921\"]]}],\"heatmap\":[{\"type\":\"heatmap\",\"colorbar\":{\"outlinewidth\":0,\"ticks\":\"\"},\"colorscale\":[[0.0,\"#0d0887\"],[0.1111111111111111,\"#46039f\"],[0.2222222222222222,\"#7201a8\"],[0.3333333333333333,\"#9c179e\"],[0.4444444444444444,\"#bd3786\"],[0.5555555555555556,\"#d8576b\"],[0.6666666666666666,\"#ed7953\"],[0.7777777777777778,\"#fb9f3a\"],[0.8888888888888888,\"#fdca26\"],[1.0,\"#f0f921\"]]}],\"heatmapgl\":[{\"type\":\"heatmapgl\",\"colorbar\":{\"outlinewidth\":0,\"ticks\":\"\"},\"colorscale\":[[0.0,\"#0d0887\"],[0.1111111111111111,\"#46039f\"],[0.2222222222222222,\"#7201a8\"],[0.3333333333333333,\"#9c179e\"],[0.4444444444444444,\"#bd3786\"],[0.5555555555555556,\"#d8576b\"],[0.6666666666666666,\"#ed7953\"],[0.7777777777777778,\"#fb9f3a\"],[0.8888888888888888,\"#fdca26\"],[1.0,\"#f0f921\"]]}],\"contourcarpet\":[{\"type\":\"contourcarpet\",\"colorbar\":{\"outlinewidth\":0,\"ticks\":\"\"}}],\"contour\":[{\"type\":\"contour\",\"colorbar\":{\"outlinewidth\":0,\"ticks\":\"\"},\"colorscale\":[[0.0,\"#0d0887\"],[0.1111111111111111,\"#46039f\"],[0.2222222222222222,\"#7201a8\"],[0.3333333333333333,\"#9c179e\"],[0.4444444444444444,\"#bd3786\"],[0.5555555555555556,\"#d8576b\"],[0.6666666666666666,\"#ed7953\"],[0.7777777777777778,\"#fb9f3a\"],[0.8888888888888888,\"#fdca26\"],[1.0,\"#f0f921\"]]}],\"surface\":[{\"type\":\"surface\",\"colorbar\":{\"outlinewidth\":0,\"ticks\":\"\"},\"colorscale\":[[0.0,\"#0d0887\"],[0.1111111111111111,\"#46039f\"],[0.2222222222222222,\"#7201a8\"],[0.3333333333333333,\"#9c179e\"],[0.4444444444444444,\"#bd3786\"],[0.5555555555555556,\"#d8576b\"],[0.6666666666666666,\"#ed7953\"],[0.7777777777777778,\"#fb9f3a\"],[0.8888888888888888,\"#fdca26\"],[1.0,\"#f0f921\"]]}],\"mesh3d\":[{\"type\":\"mesh3d\",\"colorbar\":{\"outlinewidth\":0,\"ticks\":\"\"}}],\"scatter\":[{\"fillpattern\":{\"fillmode\":\"overlay\",\"size\":10,\"solidity\":0.2},\"type\":\"scatter\"}],\"parcoords\":[{\"type\":\"parcoords\",\"line\":{\"colorbar\":{\"outlinewidth\":0,\"ticks\":\"\"}}}],\"scatterpolargl\":[{\"type\":\"scatterpolargl\",\"marker\":{\"colorbar\":{\"outlinewidth\":0,\"ticks\":\"\"}}}],\"bar\":[{\"error_x\":{\"color\":\"#2a3f5f\"},\"error_y\":{\"color\":\"#2a3f5f\"},\"marker\":{\"line\":{\"color\":\"#E5ECF6\",\"width\":0.5},\"pattern\":{\"fillmode\":\"overlay\",\"size\":10,\"solidity\":0.2}},\"type\":\"bar\"}],\"scattergeo\":[{\"type\":\"scattergeo\",\"marker\":{\"colorbar\":{\"outlinewidth\":0,\"ticks\":\"\"}}}],\"scatterpolar\":[{\"type\":\"scatterpolar\",\"marker\":{\"colorbar\":{\"outlinewidth\":0,\"ticks\":\"\"}}}],\"histogram\":[{\"marker\":{\"pattern\":{\"fillmode\":\"overlay\",\"size\":10,\"solidity\":0.2}},\"type\":\"histogram\"}],\"scattergl\":[{\"type\":\"scattergl\",\"marker\":{\"colorbar\":{\"outlinewidth\":0,\"ticks\":\"\"}}}],\"scatter3d\":[{\"type\":\"scatter3d\",\"line\":{\"colorbar\":{\"outlinewidth\":0,\"ticks\":\"\"}},\"marker\":{\"colorbar\":{\"outlinewidth\":0,\"ticks\":\"\"}}}],\"scattermapbox\":[{\"type\":\"scattermapbox\",\"marker\":{\"colorbar\":{\"outlinewidth\":0,\"ticks\":\"\"}}}],\"scatterternary\":[{\"type\":\"scatterternary\",\"marker\":{\"colorbar\":{\"outlinewidth\":0,\"ticks\":\"\"}}}],\"scattercarpet\":[{\"type\":\"scattercarpet\",\"marker\":{\"colorbar\":{\"outlinewidth\":0,\"ticks\":\"\"}}}],\"carpet\":[{\"aaxis\":{\"endlinecolor\":\"#2a3f5f\",\"gridcolor\":\"white\",\"linecolor\":\"white\",\"minorgridcolor\":\"white\",\"startlinecolor\":\"#2a3f5f\"},\"baxis\":{\"endlinecolor\":\"#2a3f5f\",\"gridcolor\":\"white\",\"linecolor\":\"white\",\"minorgridcolor\":\"white\",\"startlinecolor\":\"#2a3f5f\"},\"type\":\"carpet\"}],\"table\":[{\"cells\":{\"fill\":{\"color\":\"#EBF0F8\"},\"line\":{\"color\":\"white\"}},\"header\":{\"fill\":{\"color\":\"#C8D4E3\"},\"line\":{\"color\":\"white\"}},\"type\":\"table\"}],\"barpolar\":[{\"marker\":{\"line\":{\"color\":\"#E5ECF6\",\"width\":0.5},\"pattern\":{\"fillmode\":\"overlay\",\"size\":10,\"solidity\":0.2}},\"type\":\"barpolar\"}],\"pie\":[{\"automargin\":true,\"type\":\"pie\"}]},\"layout\":{\"autotypenumbers\":\"strict\",\"colorway\":[\"#636efa\",\"#EF553B\",\"#00cc96\",\"#ab63fa\",\"#FFA15A\",\"#19d3f3\",\"#FF6692\",\"#B6E880\",\"#FF97FF\",\"#FECB52\"],\"font\":{\"color\":\"#2a3f5f\"},\"hovermode\":\"closest\",\"hoverlabel\":{\"align\":\"left\"},\"paper_bgcolor\":\"white\",\"plot_bgcolor\":\"#E5ECF6\",\"polar\":{\"bgcolor\":\"#E5ECF6\",\"angularaxis\":{\"gridcolor\":\"white\",\"linecolor\":\"white\",\"ticks\":\"\"},\"radialaxis\":{\"gridcolor\":\"white\",\"linecolor\":\"white\",\"ticks\":\"\"}},\"ternary\":{\"bgcolor\":\"#E5ECF6\",\"aaxis\":{\"gridcolor\":\"white\",\"linecolor\":\"white\",\"ticks\":\"\"},\"baxis\":{\"gridcolor\":\"white\",\"linecolor\":\"white\",\"ticks\":\"\"},\"caxis\":{\"gridcolor\":\"white\",\"linecolor\":\"white\",\"ticks\":\"\"}},\"coloraxis\":{\"colorbar\":{\"outlinewidth\":0,\"ticks\":\"\"}},\"colorscale\":{\"sequential\":[[0.0,\"#0d0887\"],[0.1111111111111111,\"#46039f\"],[0.2222222222222222,\"#7201a8\"],[0.3333333333333333,\"#9c179e\"],[0.4444444444444444,\"#bd3786\"],[0.5555555555555556,\"#d8576b\"],[0.6666666666666666,\"#ed7953\"],[0.7777777777777778,\"#fb9f3a\"],[0.8888888888888888,\"#fdca26\"],[1.0,\"#f0f921\"]],\"sequentialminus\":[[0.0,\"#0d0887\"],[0.1111111111111111,\"#46039f\"],[0.2222222222222222,\"#7201a8\"],[0.3333333333333333,\"#9c179e\"],[0.4444444444444444,\"#bd3786\"],[0.5555555555555556,\"#d8576b\"],[0.6666666666666666,\"#ed7953\"],[0.7777777777777778,\"#fb9f3a\"],[0.8888888888888888,\"#fdca26\"],[1.0,\"#f0f921\"]],\"diverging\":[[0,\"#8e0152\"],[0.1,\"#c51b7d\"],[0.2,\"#de77ae\"],[0.3,\"#f1b6da\"],[0.4,\"#fde0ef\"],[0.5,\"#f7f7f7\"],[0.6,\"#e6f5d0\"],[0.7,\"#b8e186\"],[0.8,\"#7fbc41\"],[0.9,\"#4d9221\"],[1,\"#276419\"]]},\"xaxis\":{\"gridcolor\":\"white\",\"linecolor\":\"white\",\"ticks\":\"\",\"title\":{\"standoff\":15},\"zerolinecolor\":\"white\",\"automargin\":true,\"zerolinewidth\":2},\"yaxis\":{\"gridcolor\":\"white\",\"linecolor\":\"white\",\"ticks\":\"\",\"title\":{\"standoff\":15},\"zerolinecolor\":\"white\",\"automargin\":true,\"zerolinewidth\":2},\"scene\":{\"xaxis\":{\"backgroundcolor\":\"#E5ECF6\",\"gridcolor\":\"white\",\"linecolor\":\"white\",\"showbackground\":true,\"ticks\":\"\",\"zerolinecolor\":\"white\",\"gridwidth\":2},\"yaxis\":{\"backgroundcolor\":\"#E5ECF6\",\"gridcolor\":\"white\",\"linecolor\":\"white\",\"showbackground\":true,\"ticks\":\"\",\"zerolinecolor\":\"white\",\"gridwidth\":2},\"zaxis\":{\"backgroundcolor\":\"#E5ECF6\",\"gridcolor\":\"white\",\"linecolor\":\"white\",\"showbackground\":true,\"ticks\":\"\",\"zerolinecolor\":\"white\",\"gridwidth\":2}},\"shapedefaults\":{\"line\":{\"color\":\"#2a3f5f\"}},\"annotationdefaults\":{\"arrowcolor\":\"#2a3f5f\",\"arrowhead\":0,\"arrowwidth\":1},\"geo\":{\"bgcolor\":\"white\",\"landcolor\":\"#E5ECF6\",\"subunitcolor\":\"white\",\"showland\":true,\"showlakes\":true,\"lakecolor\":\"white\"},\"title\":{\"x\":0.05},\"mapbox\":{\"style\":\"light\"}}},\"xaxis\":{\"anchor\":\"y\",\"domain\":[0.0,1.0],\"title\":{\"text\":\"conversion%\"}},\"yaxis\":{\"anchor\":\"x\",\"domain\":[0.0,1.0],\"title\":{\"text\":\"event_name\"}},\"legend\":{\"tracegroupgap\":0},\"title\":{\"text\":\"\\u0412\\u043e\\u0440\\u043e\\u043d\\u043a\\u0430 \\u0441\\u043e\\u0431\\u044b\\u0442\\u0438\\u0439 \\u0434\\u043b\\u044f \\u0433\\u0440\\u0443\\u043f\\u043f\\u044b B\"}},                        {\"responsive\": true}                    ).then(function(){\n",
       "                            \n",
       "var gd = document.getElementById('8849ce3d-c868-4f41-bb7a-e4fe2c953a59');\n",
       "var x = new MutationObserver(function (mutations, observer) {{\n",
       "        var display = window.getComputedStyle(gd).display;\n",
       "        if (!display || display === 'none') {{\n",
       "            console.log([gd, 'removed!']);\n",
       "            Plotly.purge(gd);\n",
       "            observer.disconnect();\n",
       "        }}\n",
       "}});\n",
       "\n",
       "// Listen for the removal of the full notebook cells\n",
       "var notebookContainer = gd.closest('#notebook-container');\n",
       "if (notebookContainer) {{\n",
       "    x.observe(notebookContainer, {childList: true});\n",
       "}}\n",
       "\n",
       "// Listen for the clearing of the current output cell\n",
       "var outputEl = gd.closest('.output');\n",
       "if (outputEl) {{\n",
       "    x.observe(outputEl, {childList: true});\n",
       "}}\n",
       "\n",
       "                        })                };                });            </script>        </div>"
      ]
     },
     "metadata": {},
     "output_type": "display_data"
    }
   ],
   "source": [
    "\n",
    "for df in [funnel_a, funnel_b]:\n",
    "    df['conversion%'] = (df['user_cnt'] / df['user_cnt'].max()).round(3)*100 \n",
    "    display(df)\n",
    "    \n",
    "fig = px.funnel(funnel_a, x='conversion%', y='event_name',  title='Воронка событий для группы A')\n",
    "fig.show()\n",
    "fig = px.funnel(funnel_b, x='conversion%', y='event_name',  title='Воронка событий для группы B')\n",
    "fig.show();\n"
   ]
  },
  {
   "cell_type": "markdown",
   "id": "74d67cd9",
   "metadata": {},
   "source": [
    "**Воронка группы А:**\n",
    "\n",
    "Уже на первом шаге – переход из главного меню к карточке товара – отваливается 35% пользователей. Это самая крупная потеря пользователей во всей воронке. Отметим также, что 32% всех пользователей доходят до целевого действия. \n",
    "\n",
    "**Воронка группы B:**\n",
    "На первом шаге – переход из главного меню к карточке товара – потеря пользователей больше, чем в группе А (44% против 35%). Это так же самая крупная потеря пользователей во всей воронке. 28% всех пользователей оказываются на шаге \"покупка\"."
   ]
  },
  {
   "cell_type": "markdown",
   "id": "a89daf48",
   "metadata": {},
   "source": [
    "**Промежуточный вывод**\n",
    "\n",
    "На данном этапе проекта была построена воронка событий. События происходят в следующем порядке: 1)главная страница - 2) страница товара - 3) корзина - 4) оплата товара. Самое популярное событие – появление главной страницы – первый шаг полученной воронки. Самая большая доля пользователей отпадает при переходе с первого шага на второй – переход с главной страницы на страницу с товаром. В группе А: 32% всех пользователей доходят до целевого действия. В группе B конверсия целевого действия: 28%."
   ]
  },
  {
   "cell_type": "markdown",
   "id": "6fa8377e",
   "metadata": {},
   "source": [
    "<a id='вывод_4'></a>\n",
    "### 4.5 Вывод\n",
    "\n",
    "На данном этапе мы исследовали группы А и В. Исследование показало:\n",
    "\n",
    "- Число событий на пользователя в группах распределено одинаково. Количество событий на пользователя что в группе А, что в группе В, находится в диапазоне от 1 до 25. И основная масса значений в обеих группах сконцентрирована на отметке 6;\n",
    "- Число событий пользователей группы А по показателям выше показателей группы B. Наблюдается сильный рост в даты 13-12-2020 – 21-12-2020. Здесь активность группы А сильно возрастает, достигает максимума 21 янаваря и резко идет на понижение. Число событий в группе В колеблется в диапазоне 200–300 событий, и 21-12-2020 так же, как и в группе А, идут на понижение.\n",
    "- Анализ числа пользователей и событий по типу события показал, что пользователи могут пропускать необязательные действия, например, просмотр корзины, поэтому количество этих событий меньше количества событий \"покупка\". Воронка должна заканчиваться на целевом действии, то есть на \"покупке\". Учитывая мы построили воронку с такими шагами: \"login\" -> \"product page\" -> \" product cart \" -> \"purchase\". "
   ]
  },
  {
   "cell_type": "markdown",
   "id": "9b161f5e",
   "metadata": {},
   "source": [
    "<a id='тест'></a>\n",
    "## 5 Оценка результатов A/B-тестирования"
   ]
  },
  {
   "cell_type": "markdown",
   "id": "4626abb9",
   "metadata": {},
   "source": [
    "<a id='результаты_теста'></a>\n",
    "### 5.1 Результаты A/B-тестирования"
   ]
  },
  {
   "cell_type": "markdown",
   "id": "9ebe3332",
   "metadata": {},
   "source": [
    "- Назначение теста: тестирование изменений, связанных с внедрением улучшенной рекомендательной системы;\n",
    "- Ожидаемый эффект: за 14 дней с момента регистрации пользователи покажут улучшение каждой метрики не менее, чем на 10%:\n",
    "    - конверсии в просмотр карточек товаров — событие `product_page`,\n",
    "    - просмотры корзины — `product_cart`,\n",
    "    - покупки — `purchase`."
   ]
  },
  {
   "cell_type": "markdown",
   "id": "69035070",
   "metadata": {},
   "source": [
    "<a id='з-критерий'></a>\n",
    "###  5.2 Проверка статистической разницы долей z-критерием"
   ]
  },
  {
   "cell_type": "markdown",
   "id": "d554a426",
   "metadata": {},
   "source": [
    "Сформулируем и проверим гипотезы.\n",
    "- **$H_0$:** разницы в конверсиях пользователей, дошедших до события ('product_page', 'product_cart' или 'purchase'), между выборками A и B нет. \n",
    "- **$H_1$:** разница есть. Группы А и B демонстрируют разную конверсию."
   ]
  },
  {
   "cell_type": "code",
   "execution_count": 218,
   "id": "c34ab5b8",
   "metadata": {},
   "outputs": [],
   "source": [
    "def check(event):\n",
    "    successesx = events_groups.query('group == \"A\" & event_name == @event')['user_id'].nunique()\n",
    "    successesy = events_groups.query('group == \"B\" & event_name == @event')['user_id'].nunique()\n",
    "    trialsx = events_groups.query('group == \"A\"')['user_id'].nunique()\n",
    "    trialsy = events_groups.query('group == \"B\"')['user_id'].nunique()\n",
    "                \n",
    "    data = {'group':['A', 'B'],\n",
    "            'successes': [successesx, successesy], \n",
    "            'trials': [trialsx, trialsy ],\n",
    "            'share':[(successesx/trialsx),(successesy/trialsy)]\n",
    "            } \n",
    "    table = pd.DataFrame(data)\n",
    "    \n",
    "    alpha = 0.1 / 3 # критический уровень статистической значимости\n",
    "    \n",
    "    successes = np.array([successesx, successesy])\n",
    "    trials = np.array([trialsx, trialsy])\n",
    "    \n",
    "    p1 = successes[0]/trials[0]\n",
    "    p2 = successes[1]/trials[1]\n",
    "    \n",
    "    print(successes[0], successes[1],trials[0] , trials[1])\n",
    "    p_combined = (successes[0] + successes[1]) / (trials[0] + trials[1])\n",
    "    difference = p1 - p2 \n",
    "        \n",
    "    z_value = difference / mth.sqrt(p_combined * (1 - p_combined) * (1/trials[0] + 1/trials[1]))\n",
    "    distr = st.norm(0, 1)  \n",
    "    p_value = (1 - distr.cdf(abs(z_value))) * 2\n",
    "    \n",
    "    print(f'Для события \"{event}\":')\n",
    "    display(table)\n",
    "    print(f'p-value: {\"{0:.3f}\".format(p_value)}')\n",
    "    if p_value < alpha:\n",
    "        print('Отвергаем нулевую гипотезу: между долями есть значимая разница')\n",
    "    else:\n",
    "        print('Не получилось отвергнуть нулевую гипотезу, нет оснований считать доли разными') \n",
    "        print()     \n",
    "        print()\n",
    "    "
   ]
  },
  {
   "cell_type": "code",
   "execution_count": 219,
   "id": "97c44656",
   "metadata": {},
   "outputs": [
    {
     "name": "stdout",
     "output_type": "stream",
     "text": [
      "1780 523 2747 928\n",
      "Для события \"product_page\":\n"
     ]
    },
    {
     "data": {
      "text/html": [
       "<div>\n",
       "<style scoped>\n",
       "    .dataframe tbody tr th:only-of-type {\n",
       "        vertical-align: middle;\n",
       "    }\n",
       "\n",
       "    .dataframe tbody tr th {\n",
       "        vertical-align: top;\n",
       "    }\n",
       "\n",
       "    .dataframe thead th {\n",
       "        text-align: right;\n",
       "    }\n",
       "</style>\n",
       "<table border=\"1\" class=\"dataframe\">\n",
       "  <thead>\n",
       "    <tr style=\"text-align: right;\">\n",
       "      <th></th>\n",
       "      <th>group</th>\n",
       "      <th>successes</th>\n",
       "      <th>trials</th>\n",
       "      <th>share</th>\n",
       "    </tr>\n",
       "  </thead>\n",
       "  <tbody>\n",
       "    <tr>\n",
       "      <th>0</th>\n",
       "      <td>A</td>\n",
       "      <td>1780</td>\n",
       "      <td>2747</td>\n",
       "      <td>0.647980</td>\n",
       "    </tr>\n",
       "    <tr>\n",
       "      <th>1</th>\n",
       "      <td>B</td>\n",
       "      <td>523</td>\n",
       "      <td>928</td>\n",
       "      <td>0.563578</td>\n",
       "    </tr>\n",
       "  </tbody>\n",
       "</table>\n",
       "</div>"
      ],
      "text/plain": [
       "  group  successes  trials     share\n",
       "0     A       1780    2747  0.647980\n",
       "1     B        523     928  0.563578"
      ]
     },
     "metadata": {},
     "output_type": "display_data"
    },
    {
     "name": "stdout",
     "output_type": "stream",
     "text": [
      "p-value: 0.000\n",
      "Отвергаем нулевую гипотезу: между долями есть значимая разница\n",
      "824 255 2747 928\n",
      "Для события \"product_cart\":\n"
     ]
    },
    {
     "data": {
      "text/html": [
       "<div>\n",
       "<style scoped>\n",
       "    .dataframe tbody tr th:only-of-type {\n",
       "        vertical-align: middle;\n",
       "    }\n",
       "\n",
       "    .dataframe tbody tr th {\n",
       "        vertical-align: top;\n",
       "    }\n",
       "\n",
       "    .dataframe thead th {\n",
       "        text-align: right;\n",
       "    }\n",
       "</style>\n",
       "<table border=\"1\" class=\"dataframe\">\n",
       "  <thead>\n",
       "    <tr style=\"text-align: right;\">\n",
       "      <th></th>\n",
       "      <th>group</th>\n",
       "      <th>successes</th>\n",
       "      <th>trials</th>\n",
       "      <th>share</th>\n",
       "    </tr>\n",
       "  </thead>\n",
       "  <tbody>\n",
       "    <tr>\n",
       "      <th>0</th>\n",
       "      <td>A</td>\n",
       "      <td>824</td>\n",
       "      <td>2747</td>\n",
       "      <td>0.299964</td>\n",
       "    </tr>\n",
       "    <tr>\n",
       "      <th>1</th>\n",
       "      <td>B</td>\n",
       "      <td>255</td>\n",
       "      <td>928</td>\n",
       "      <td>0.274784</td>\n",
       "    </tr>\n",
       "  </tbody>\n",
       "</table>\n",
       "</div>"
      ],
      "text/plain": [
       "  group  successes  trials     share\n",
       "0     A        824    2747  0.299964\n",
       "1     B        255     928  0.274784"
      ]
     },
     "metadata": {},
     "output_type": "display_data"
    },
    {
     "name": "stdout",
     "output_type": "stream",
     "text": [
      "p-value: 0.145\n",
      "Не получилось отвергнуть нулевую гипотезу, нет оснований считать доли разными\n",
      "\n",
      "\n",
      "872 256 2747 928\n",
      "Для события \"purchase\":\n"
     ]
    },
    {
     "data": {
      "text/html": [
       "<div>\n",
       "<style scoped>\n",
       "    .dataframe tbody tr th:only-of-type {\n",
       "        vertical-align: middle;\n",
       "    }\n",
       "\n",
       "    .dataframe tbody tr th {\n",
       "        vertical-align: top;\n",
       "    }\n",
       "\n",
       "    .dataframe thead th {\n",
       "        text-align: right;\n",
       "    }\n",
       "</style>\n",
       "<table border=\"1\" class=\"dataframe\">\n",
       "  <thead>\n",
       "    <tr style=\"text-align: right;\">\n",
       "      <th></th>\n",
       "      <th>group</th>\n",
       "      <th>successes</th>\n",
       "      <th>trials</th>\n",
       "      <th>share</th>\n",
       "    </tr>\n",
       "  </thead>\n",
       "  <tbody>\n",
       "    <tr>\n",
       "      <th>0</th>\n",
       "      <td>A</td>\n",
       "      <td>872</td>\n",
       "      <td>2747</td>\n",
       "      <td>0.317437</td>\n",
       "    </tr>\n",
       "    <tr>\n",
       "      <th>1</th>\n",
       "      <td>B</td>\n",
       "      <td>256</td>\n",
       "      <td>928</td>\n",
       "      <td>0.275862</td>\n",
       "    </tr>\n",
       "  </tbody>\n",
       "</table>\n",
       "</div>"
      ],
      "text/plain": [
       "  group  successes  trials     share\n",
       "0     A        872    2747  0.317437\n",
       "1     B        256     928  0.275862"
      ]
     },
     "metadata": {},
     "output_type": "display_data"
    },
    {
     "name": "stdout",
     "output_type": "stream",
     "text": [
      "p-value: 0.018\n",
      "Отвергаем нулевую гипотезу: между долями есть значимая разница\n"
     ]
    }
   ],
   "source": [
    "for event in ['product_page', 'product_cart', 'purchase']:\n",
    "    check(event)"
   ]
  },
  {
   "cell_type": "markdown",
   "id": "0920ae08",
   "metadata": {},
   "source": [
    "<a id='вывод_5'></a>\n",
    "### 5.3 Вывод"
   ]
  },
  {
   "cell_type": "markdown",
   "id": "ce0ec3a9",
   "metadata": {},
   "source": [
    "На данном этапе были проверены три гипотезы:\n",
    "1) Конверсия группы B на шаге \"просмотр карточек товаров\" не отличается от конверсии группы А;\n",
    "2) Конверсия группы B на шаге \"просмотры корзины \" не отличается от конверсии группы А;\n",
    "3) Конверсия группы B на шаге \"покупки\" не отличается от конверсии группы А.\n",
    "\n",
    "Получены следующие рузультаты проверок:\n",
    "- 2 гипотеза подтвердилась: Конверсия шага \"просмотр корзины\" группы В не отличается относительно группы А.\n",
    "- 1 и 3 гипотезы не подтвердились: Разница между показателями конверсии в группах есть. \n"
   ]
  },
  {
   "cell_type": "markdown",
   "id": "b16088c9",
   "metadata": {},
   "source": [
    "<a id='вывод_6'></a>\n",
    "## 6 Вывод"
   ]
  },
  {
   "cell_type": "markdown",
   "id": "cb99d44a",
   "metadata": {},
   "source": [
    "Данная работа была нацелена на проверку корректности А/В-теста. Для этого были проделаны следующие шаги и получены соответсвующие результаты:\n",
    "\n",
    "- **Предобработка данных**\n",
    "    \n",
    "    Были приведены типы столбцов, содержащие значения даты-времени, к типу дата-время; пропущенные значения обнаружены только в датасете events в столбеце `details`. Их появление связано с назначением этого столбца (не каждому событию сопутствуют какие-то детали типа стоимости покупок) - этот столбец не использовался в данной работе; дубликатов в сете данных не оказалось;\n",
    "---\n",
    "- **Оценка корректности проведения теста**\n",
    "    \n",
    "    **Данный этап показал, что тест был проведен корректно.**\n",
    "    \n",
    "    На данном этапе оценивалась корректность проведения теста по следующим параметрам:\n",
    "    - 1) Соответствие данных требованиям технического задания; \n",
    "    - 2) Время проведения теста;\n",
    "    - 3) Аудитория теста;\n",
    "    \n",
    "    В каждом пункте сформулированы следующие выводы:\n",
    "    \n",
    "     **1) Соответствие данных требованиям технического задания:**\n",
    "     - На этапе проверки дат мы убедились, что пользователей-участников нашего теста, зарегестрировавшихся позже 21-12-2020 - нет;\n",
    "     - Проверка состава аудитории подтвердила, что 15% новых пользователей из региона EU;\n",
    "     - На этапе проверки конверсий мы отсекли те события, которые пользователи не успели сделать в 14-дневный лайфтайм;\n",
    "     - На этапе проверки количества участников теста мы выделили только тех пользователей, которые: а)зарегестрировались не позднее 21-12-2020; б) учатсвовали в тесте \"recommender_system_test\". Также проверка подтвердила, что участников теста 'recommender_system_test' больше 6000, а именно 6701. \n",
    "\n",
    "     **2) Время проведения теста:**\n",
    "     - Найдены пересечения маркетинговых дат с датами проведения теста. Во время периода началась и закончилась кампания \"Christmas&New Year Promo\"; начались во время периода и закончились после: \"CIS New Year Gift Lottery\".\n",
    "     - Число событий группы сильно изменяется, но не из-за проведения маркетинговых кампаний.\n",
    "\n",
    "     **3) Аудитория теста:**\n",
    "     - Пересечений между учатсниками разных групп не обнаружено;\n",
    "     - Вес групп: А – 3824 участника, B – 2877. Разница между группами незначительна;\n",
    "     - Обнаружены пересечения участников разных тестов.\n",
    "        \n",
    "\n",
    "---\n",
    "\n",
    "- **Исследовательский анализ данных**\n",
    "    - Число событий на пользователя в группах распределено одинаково. Количество событий на пользователя что в группе А, что в группе В, находится в диапазоне от 1 до 25. И основная масса значений в обеих группах сконцентрирована на отметке 6;\n",
    "    - Число событий пользователей группы А по показателям выше показателей группы B. Наблюдается сильный рост в даты 13.12.2020 – 21.12.2020. Здесь активность группы А сильно возрастает, достигает максимума 21 янаваря и резко идет на понижение. Число событий в группе В колеблется в диапазоне 200–300 событий, и 21.12.2020 так же, как и в группе А, идут на понижение.\n",
    "    - Анализ числа пользователей и событий по типу события показал, что пользователи могут пропускать необязательные действия, например, просмотр корзины, поэтому количество этих событий меньше количества событий \"покупка\". Воронка должна заканчиваться на целевом действии, то есть на \"покупке\". Учитывая это мы построили воронку с такими шагами: \"login\" -> \"product page\" -> \" product cart \" -> \"purchase\". \n",
    "---\n",
    "\n",
    "- **Оценка результатов A/B-тестирования**\n",
    "\n",
    "    На данном этапе были проверены три гипотезы:\n",
    "\n",
    "    1) Конверсия группы B на шаге \"просмотр карточек товаров\" не отличается от конверсии группы А;\n",
    "    2) Конверсия группы B на шаге \"просмотры корзины \" не отличается от конверсии группы А;\n",
    "    3) Конверсия группы B на шаге \"покупки\" не отличается от конверсии группы А.\n",
    "    \n",
    "    Получены следующие рузультаты проверок:\n",
    "    - 2 гипотеза подтвердилась: Конверсия шага \"просмотр корзины\" группы В не отличается относительно группы А.\n",
    "    - 1 и 3 гипотезы не подтвердились: Разница между показателями конверсии в группах есть. \n",
    "    \n",
    "     "
   ]
  },
  {
   "cell_type": "code",
   "execution_count": null,
   "id": "e0b01d59",
   "metadata": {},
   "outputs": [],
   "source": []
  }
 ],
 "metadata": {
  "ExecuteTimeLog": [
   {
    "duration": 1196,
    "start_time": "2023-04-06T16:49:04.807Z"
   },
   {
    "duration": 152,
    "start_time": "2023-04-06T16:49:06.005Z"
   },
   {
    "duration": 0,
    "start_time": "2023-04-06T16:49:06.159Z"
   },
   {
    "duration": 0,
    "start_time": "2023-04-06T16:49:06.160Z"
   },
   {
    "duration": 0,
    "start_time": "2023-04-06T16:49:06.161Z"
   },
   {
    "duration": 0,
    "start_time": "2023-04-06T16:49:06.162Z"
   },
   {
    "duration": 0,
    "start_time": "2023-04-06T16:49:06.163Z"
   },
   {
    "duration": 0,
    "start_time": "2023-04-06T16:49:06.164Z"
   },
   {
    "duration": 0,
    "start_time": "2023-04-06T16:49:06.165Z"
   },
   {
    "duration": 0,
    "start_time": "2023-04-06T16:49:06.166Z"
   },
   {
    "duration": 0,
    "start_time": "2023-04-06T16:49:06.166Z"
   },
   {
    "duration": 0,
    "start_time": "2023-04-06T16:49:06.167Z"
   },
   {
    "duration": 0,
    "start_time": "2023-04-06T16:49:06.168Z"
   },
   {
    "duration": 0,
    "start_time": "2023-04-06T16:49:06.184Z"
   },
   {
    "duration": 0,
    "start_time": "2023-04-06T16:49:06.185Z"
   },
   {
    "duration": 0,
    "start_time": "2023-04-06T16:49:06.186Z"
   },
   {
    "duration": 0,
    "start_time": "2023-04-06T16:49:06.187Z"
   },
   {
    "duration": 0,
    "start_time": "2023-04-06T16:49:06.187Z"
   },
   {
    "duration": 0,
    "start_time": "2023-04-06T16:49:06.188Z"
   },
   {
    "duration": 0,
    "start_time": "2023-04-06T16:49:06.189Z"
   },
   {
    "duration": 0,
    "start_time": "2023-04-06T16:49:06.190Z"
   },
   {
    "duration": 0,
    "start_time": "2023-04-06T16:49:06.191Z"
   },
   {
    "duration": 0,
    "start_time": "2023-04-06T16:49:06.191Z"
   },
   {
    "duration": 0,
    "start_time": "2023-04-06T16:49:06.192Z"
   },
   {
    "duration": 0,
    "start_time": "2023-04-06T16:49:06.193Z"
   },
   {
    "duration": 0,
    "start_time": "2023-04-06T16:49:06.194Z"
   },
   {
    "duration": 0,
    "start_time": "2023-04-06T16:49:06.196Z"
   },
   {
    "duration": 0,
    "start_time": "2023-04-06T16:49:06.197Z"
   },
   {
    "duration": 0,
    "start_time": "2023-04-06T16:49:06.198Z"
   },
   {
    "duration": 0,
    "start_time": "2023-04-06T16:49:06.200Z"
   },
   {
    "duration": 0,
    "start_time": "2023-04-06T16:49:06.200Z"
   },
   {
    "duration": 0,
    "start_time": "2023-04-06T16:49:06.201Z"
   },
   {
    "duration": 0,
    "start_time": "2023-04-06T16:49:06.203Z"
   },
   {
    "duration": 0,
    "start_time": "2023-04-06T16:49:06.203Z"
   },
   {
    "duration": 0,
    "start_time": "2023-04-06T16:49:06.205Z"
   },
   {
    "duration": 0,
    "start_time": "2023-04-06T16:49:06.206Z"
   },
   {
    "duration": 2002,
    "start_time": "2023-04-06T16:49:36.502Z"
   },
   {
    "duration": 1149,
    "start_time": "2023-04-06T16:49:41.318Z"
   },
   {
    "duration": 591,
    "start_time": "2023-04-06T16:49:42.469Z"
   },
   {
    "duration": 95,
    "start_time": "2023-04-06T16:49:43.062Z"
   },
   {
    "duration": 42,
    "start_time": "2023-04-06T16:49:43.159Z"
   },
   {
    "duration": 122,
    "start_time": "2023-04-06T16:49:43.203Z"
   },
   {
    "duration": 78,
    "start_time": "2023-04-06T16:49:43.329Z"
   },
   {
    "duration": 41,
    "start_time": "2023-04-06T16:49:43.409Z"
   },
   {
    "duration": 7,
    "start_time": "2023-04-06T16:49:43.452Z"
   },
   {
    "duration": 235,
    "start_time": "2023-04-06T16:49:43.460Z"
   },
   {
    "duration": 4,
    "start_time": "2023-04-06T16:49:43.698Z"
   },
   {
    "duration": 66,
    "start_time": "2023-04-06T16:49:43.703Z"
   },
   {
    "duration": 33,
    "start_time": "2023-04-06T16:49:43.771Z"
   },
   {
    "duration": 38,
    "start_time": "2023-04-06T16:49:43.806Z"
   },
   {
    "duration": 370,
    "start_time": "2023-04-06T16:49:43.845Z"
   },
   {
    "duration": 8,
    "start_time": "2023-04-06T16:49:44.216Z"
   },
   {
    "duration": 38,
    "start_time": "2023-04-06T16:49:44.225Z"
   },
   {
    "duration": 53,
    "start_time": "2023-04-06T16:49:44.265Z"
   },
   {
    "duration": 25,
    "start_time": "2023-04-06T16:49:44.319Z"
   },
   {
    "duration": 269,
    "start_time": "2023-04-06T16:49:44.346Z"
   },
   {
    "duration": 356,
    "start_time": "2023-04-06T16:49:44.616Z"
   },
   {
    "duration": 27,
    "start_time": "2023-04-06T16:49:44.973Z"
   },
   {
    "duration": 11,
    "start_time": "2023-04-06T16:49:45.001Z"
   },
   {
    "duration": 39,
    "start_time": "2023-04-06T16:49:45.013Z"
   },
   {
    "duration": 18,
    "start_time": "2023-04-06T16:49:45.054Z"
   },
   {
    "duration": 278,
    "start_time": "2023-04-06T16:49:45.073Z"
   },
   {
    "duration": 11,
    "start_time": "2023-04-06T16:49:45.353Z"
   },
   {
    "duration": 33,
    "start_time": "2023-04-06T16:49:45.365Z"
   },
   {
    "duration": 426,
    "start_time": "2023-04-06T16:49:45.405Z"
   },
   {
    "duration": 9,
    "start_time": "2023-04-06T16:49:45.832Z"
   },
   {
    "duration": 29,
    "start_time": "2023-04-06T16:49:45.843Z"
   },
   {
    "duration": 198,
    "start_time": "2023-04-06T16:49:45.874Z"
   },
   {
    "duration": 265,
    "start_time": "2023-04-06T16:49:46.074Z"
   },
   {
    "duration": 15,
    "start_time": "2023-04-06T16:49:46.341Z"
   },
   {
    "duration": 449,
    "start_time": "2023-04-06T16:49:46.358Z"
   },
   {
    "duration": 6,
    "start_time": "2023-04-06T16:49:46.809Z"
   },
   {
    "duration": 173,
    "start_time": "2023-04-06T16:49:46.816Z"
   },
   {
    "duration": 4,
    "start_time": "2023-04-06T16:51:01.939Z"
   },
   {
    "duration": 4,
    "start_time": "2023-04-06T16:51:04.783Z"
   },
   {
    "duration": 13,
    "start_time": "2023-04-06T16:53:23.595Z"
   },
   {
    "duration": 9,
    "start_time": "2023-04-06T16:55:09.817Z"
   },
   {
    "duration": 84,
    "start_time": "2023-04-06T16:55:11.450Z"
   },
   {
    "duration": 51,
    "start_time": "2023-04-06T18:10:54.827Z"
   },
   {
    "duration": 7,
    "start_time": "2023-04-06T18:12:04.247Z"
   },
   {
    "duration": 8,
    "start_time": "2023-04-06T18:12:06.597Z"
   },
   {
    "duration": 182,
    "start_time": "2023-04-06T21:51:35.332Z"
   },
   {
    "duration": 8,
    "start_time": "2023-04-06T21:51:42.330Z"
   },
   {
    "duration": 115,
    "start_time": "2023-04-06T21:51:57.463Z"
   },
   {
    "duration": 5,
    "start_time": "2023-04-06T21:52:05.442Z"
   },
   {
    "duration": 1331,
    "start_time": "2023-04-06T21:52:09.426Z"
   },
   {
    "duration": 131,
    "start_time": "2023-04-06T21:52:10.759Z"
   },
   {
    "duration": 54,
    "start_time": "2023-04-06T21:52:43.532Z"
   },
   {
    "duration": 4,
    "start_time": "2023-04-06T21:53:05.238Z"
   },
   {
    "duration": 59,
    "start_time": "2023-04-06T21:53:06.901Z"
   },
   {
    "duration": 68,
    "start_time": "2023-04-06T21:53:11.429Z"
   },
   {
    "duration": 1752,
    "start_time": "2023-04-06T21:55:26.428Z"
   },
   {
    "duration": 41,
    "start_time": "2023-04-06T21:55:54.629Z"
   },
   {
    "duration": 79,
    "start_time": "2023-04-06T22:00:48.891Z"
   },
   {
    "duration": 48,
    "start_time": "2023-04-06T22:01:03.087Z"
   },
   {
    "duration": 66,
    "start_time": "2023-04-06T22:01:21.970Z"
   },
   {
    "duration": 1855,
    "start_time": "2023-04-06T22:14:25.583Z"
   },
   {
    "duration": 565,
    "start_time": "2023-04-06T22:14:44.643Z"
   },
   {
    "duration": 3,
    "start_time": "2023-04-06T22:14:52.838Z"
   },
   {
    "duration": 603,
    "start_time": "2023-04-06T22:14:52.844Z"
   },
   {
    "duration": 80,
    "start_time": "2023-04-06T22:14:53.449Z"
   },
   {
    "duration": 46,
    "start_time": "2023-04-06T22:14:53.531Z"
   },
   {
    "duration": 120,
    "start_time": "2023-04-06T22:14:53.579Z"
   },
   {
    "duration": 50,
    "start_time": "2023-04-06T22:14:53.701Z"
   },
   {
    "duration": 52,
    "start_time": "2023-04-06T22:14:53.753Z"
   },
   {
    "duration": 4,
    "start_time": "2023-04-06T22:14:53.807Z"
   },
   {
    "duration": 213,
    "start_time": "2023-04-06T22:14:53.813Z"
   },
   {
    "duration": 5,
    "start_time": "2023-04-06T22:14:54.028Z"
   },
   {
    "duration": 55,
    "start_time": "2023-04-06T22:14:54.036Z"
   },
   {
    "duration": 27,
    "start_time": "2023-04-06T22:14:54.093Z"
   },
   {
    "duration": 28,
    "start_time": "2023-04-06T22:14:54.121Z"
   },
   {
    "duration": 316,
    "start_time": "2023-04-06T22:14:54.151Z"
   },
   {
    "duration": 9,
    "start_time": "2023-04-06T22:14:54.471Z"
   },
   {
    "duration": 21,
    "start_time": "2023-04-06T22:14:54.482Z"
   },
   {
    "duration": 39,
    "start_time": "2023-04-06T22:14:54.505Z"
   },
   {
    "duration": 13,
    "start_time": "2023-04-06T22:14:54.545Z"
   },
   {
    "duration": 230,
    "start_time": "2023-04-06T22:14:54.572Z"
   },
   {
    "duration": 387,
    "start_time": "2023-04-06T22:14:54.804Z"
   },
   {
    "duration": 22,
    "start_time": "2023-04-06T22:14:55.193Z"
   },
   {
    "duration": 19,
    "start_time": "2023-04-06T22:14:55.217Z"
   },
   {
    "duration": 34,
    "start_time": "2023-04-06T22:14:55.237Z"
   },
   {
    "duration": 21,
    "start_time": "2023-04-06T22:14:55.273Z"
   },
   {
    "duration": 251,
    "start_time": "2023-04-06T22:14:55.296Z"
   },
   {
    "duration": 10,
    "start_time": "2023-04-06T22:14:55.548Z"
   },
   {
    "duration": 25,
    "start_time": "2023-04-06T22:14:55.559Z"
   },
   {
    "duration": 415,
    "start_time": "2023-04-06T22:14:55.585Z"
   },
   {
    "duration": 12,
    "start_time": "2023-04-06T22:14:56.004Z"
   },
   {
    "duration": 42,
    "start_time": "2023-04-06T22:14:56.018Z"
   },
   {
    "duration": 223,
    "start_time": "2023-04-06T22:14:56.071Z"
   },
   {
    "duration": 241,
    "start_time": "2023-04-06T22:14:56.296Z"
   },
   {
    "duration": 18,
    "start_time": "2023-04-06T22:14:56.539Z"
   },
   {
    "duration": 226,
    "start_time": "2023-04-06T22:14:56.572Z"
   },
   {
    "duration": 10,
    "start_time": "2023-04-06T22:14:56.800Z"
   },
   {
    "duration": 184,
    "start_time": "2023-04-06T22:14:56.812Z"
   },
   {
    "duration": 46,
    "start_time": "2023-04-06T22:23:51.261Z"
   },
   {
    "duration": 26,
    "start_time": "2023-04-06T22:24:05.629Z"
   },
   {
    "duration": 20,
    "start_time": "2023-04-06T22:24:27.981Z"
   },
   {
    "duration": 31,
    "start_time": "2023-04-06T22:24:40.625Z"
   },
   {
    "duration": 30,
    "start_time": "2023-04-06T22:26:23.421Z"
   },
   {
    "duration": 32,
    "start_time": "2023-04-06T22:26:37.144Z"
   },
   {
    "duration": 39,
    "start_time": "2023-04-06T22:26:50.785Z"
   },
   {
    "duration": 31,
    "start_time": "2023-04-06T22:28:53.552Z"
   },
   {
    "duration": 50,
    "start_time": "2023-04-06T22:31:06.932Z"
   },
   {
    "duration": 40,
    "start_time": "2023-04-06T22:31:25.759Z"
   },
   {
    "duration": 34,
    "start_time": "2023-04-06T22:31:44.636Z"
   },
   {
    "duration": 20,
    "start_time": "2023-04-06T22:37:20.458Z"
   },
   {
    "duration": 77,
    "start_time": "2023-04-06T22:37:50.014Z"
   },
   {
    "duration": 30,
    "start_time": "2023-04-06T22:37:51.077Z"
   },
   {
    "duration": 23,
    "start_time": "2023-04-06T22:38:21.482Z"
   },
   {
    "duration": 271,
    "start_time": "2023-04-06T22:39:35.610Z"
   },
   {
    "duration": 70,
    "start_time": "2023-04-06T22:41:11.512Z"
   },
   {
    "duration": 88,
    "start_time": "2023-04-06T22:43:42.513Z"
   },
   {
    "duration": 185,
    "start_time": "2023-04-06T22:43:55.680Z"
   },
   {
    "duration": 189,
    "start_time": "2023-04-06T22:44:14.516Z"
   },
   {
    "duration": 174,
    "start_time": "2023-04-06T22:44:52.728Z"
   },
   {
    "duration": 106,
    "start_time": "2023-04-06T22:46:33.574Z"
   },
   {
    "duration": 92,
    "start_time": "2023-04-06T22:47:02.692Z"
   },
   {
    "duration": 87,
    "start_time": "2023-04-06T22:47:08.421Z"
   },
   {
    "duration": 130,
    "start_time": "2023-04-06T22:47:14.578Z"
   },
   {
    "duration": 96,
    "start_time": "2023-04-06T22:48:28.578Z"
   },
   {
    "duration": 96,
    "start_time": "2023-04-06T22:48:41.686Z"
   },
   {
    "duration": 15,
    "start_time": "2023-04-06T22:58:39.933Z"
   },
   {
    "duration": 48,
    "start_time": "2023-04-06T22:59:27.932Z"
   },
   {
    "duration": 37,
    "start_time": "2023-04-06T22:59:40.829Z"
   },
   {
    "duration": 29,
    "start_time": "2023-04-06T23:00:17.812Z"
   },
   {
    "duration": 69,
    "start_time": "2023-04-06T23:00:38.946Z"
   },
   {
    "duration": 58,
    "start_time": "2023-04-06T23:01:14.320Z"
   },
   {
    "duration": 31,
    "start_time": "2023-04-06T23:01:39.770Z"
   },
   {
    "duration": 43,
    "start_time": "2023-04-06T23:08:36.516Z"
   },
   {
    "duration": 51,
    "start_time": "2023-04-06T23:08:42.260Z"
   },
   {
    "duration": 28,
    "start_time": "2023-04-06T23:09:18.608Z"
   },
   {
    "duration": 58,
    "start_time": "2023-04-06T23:10:07.961Z"
   },
   {
    "duration": 28,
    "start_time": "2023-04-06T23:10:13.659Z"
   },
   {
    "duration": 26,
    "start_time": "2023-04-06T23:10:21.404Z"
   },
   {
    "duration": 38,
    "start_time": "2023-04-06T23:10:24.931Z"
   },
   {
    "duration": 26,
    "start_time": "2023-04-06T23:12:45.408Z"
   },
   {
    "duration": 49,
    "start_time": "2023-04-06T23:19:25.732Z"
   },
   {
    "duration": 35,
    "start_time": "2023-04-06T23:20:02.808Z"
   },
   {
    "duration": 67,
    "start_time": "2023-04-06T23:21:10.030Z"
   },
   {
    "duration": 40,
    "start_time": "2023-04-06T23:21:22.342Z"
   },
   {
    "duration": 33,
    "start_time": "2023-04-06T23:21:37.322Z"
   },
   {
    "duration": 34,
    "start_time": "2023-04-06T23:22:38.250Z"
   },
   {
    "duration": 35,
    "start_time": "2023-04-06T23:22:41.145Z"
   },
   {
    "duration": 3,
    "start_time": "2023-04-06T23:22:52.604Z"
   },
   {
    "duration": 534,
    "start_time": "2023-04-06T23:22:52.610Z"
   },
   {
    "duration": 78,
    "start_time": "2023-04-06T23:22:53.146Z"
   },
   {
    "duration": 27,
    "start_time": "2023-04-06T23:22:53.227Z"
   },
   {
    "duration": 127,
    "start_time": "2023-04-06T23:22:53.256Z"
   },
   {
    "duration": 52,
    "start_time": "2023-04-06T23:22:53.384Z"
   },
   {
    "duration": 56,
    "start_time": "2023-04-06T23:22:53.437Z"
   },
   {
    "duration": 3,
    "start_time": "2023-04-06T23:22:53.494Z"
   },
   {
    "duration": 187,
    "start_time": "2023-04-06T23:22:53.498Z"
   },
   {
    "duration": 3,
    "start_time": "2023-04-06T23:22:53.687Z"
   },
   {
    "duration": 39,
    "start_time": "2023-04-06T23:22:53.692Z"
   },
   {
    "duration": 55,
    "start_time": "2023-04-06T23:22:53.732Z"
   },
   {
    "duration": 26,
    "start_time": "2023-04-06T23:22:53.788Z"
   },
   {
    "duration": 55,
    "start_time": "2023-04-06T23:22:53.817Z"
   },
   {
    "duration": 44,
    "start_time": "2023-04-06T23:23:45.912Z"
   },
   {
    "duration": 4,
    "start_time": "2023-04-06T23:23:49.345Z"
   },
   {
    "duration": 533,
    "start_time": "2023-04-06T23:23:49.351Z"
   },
   {
    "duration": 74,
    "start_time": "2023-04-06T23:23:49.886Z"
   },
   {
    "duration": 30,
    "start_time": "2023-04-06T23:23:49.962Z"
   },
   {
    "duration": 119,
    "start_time": "2023-04-06T23:23:49.994Z"
   },
   {
    "duration": 63,
    "start_time": "2023-04-06T23:23:50.115Z"
   },
   {
    "duration": 34,
    "start_time": "2023-04-06T23:23:50.180Z"
   },
   {
    "duration": 3,
    "start_time": "2023-04-06T23:23:50.216Z"
   },
   {
    "duration": 194,
    "start_time": "2023-04-06T23:23:50.220Z"
   },
   {
    "duration": 4,
    "start_time": "2023-04-06T23:23:50.416Z"
   },
   {
    "duration": 52,
    "start_time": "2023-04-06T23:23:50.423Z"
   },
   {
    "duration": 31,
    "start_time": "2023-04-06T23:23:50.476Z"
   },
   {
    "duration": 28,
    "start_time": "2023-04-06T23:23:50.508Z"
   },
   {
    "duration": 61,
    "start_time": "2023-04-06T23:23:50.537Z"
   },
   {
    "duration": 8,
    "start_time": "2023-04-06T23:34:00.840Z"
   },
   {
    "duration": 10,
    "start_time": "2023-04-06T23:34:07.807Z"
   },
   {
    "duration": 19,
    "start_time": "2023-04-06T23:34:26.314Z"
   },
   {
    "duration": 18,
    "start_time": "2023-04-06T23:39:17.716Z"
   },
   {
    "duration": 37,
    "start_time": "2023-04-06T23:40:09.540Z"
   },
   {
    "duration": 42,
    "start_time": "2023-04-06T23:41:01.067Z"
   },
   {
    "duration": 30,
    "start_time": "2023-04-06T23:41:03.850Z"
   },
   {
    "duration": 3,
    "start_time": "2023-04-06T23:41:08.438Z"
   },
   {
    "duration": 530,
    "start_time": "2023-04-06T23:41:08.443Z"
   },
   {
    "duration": 76,
    "start_time": "2023-04-06T23:41:08.975Z"
   },
   {
    "duration": 31,
    "start_time": "2023-04-06T23:41:09.052Z"
   },
   {
    "duration": 119,
    "start_time": "2023-04-06T23:41:09.084Z"
   },
   {
    "duration": 48,
    "start_time": "2023-04-06T23:41:09.204Z"
   },
   {
    "duration": 50,
    "start_time": "2023-04-06T23:41:09.254Z"
   },
   {
    "duration": 3,
    "start_time": "2023-04-06T23:41:09.305Z"
   },
   {
    "duration": 196,
    "start_time": "2023-04-06T23:41:09.310Z"
   },
   {
    "duration": 4,
    "start_time": "2023-04-06T23:41:09.507Z"
   },
   {
    "duration": 68,
    "start_time": "2023-04-06T23:41:09.513Z"
   },
   {
    "duration": 34,
    "start_time": "2023-04-06T23:41:09.582Z"
   },
   {
    "duration": 27,
    "start_time": "2023-04-06T23:41:09.618Z"
   },
   {
    "duration": 47,
    "start_time": "2023-04-06T23:41:09.647Z"
   },
   {
    "duration": 287,
    "start_time": "2023-04-06T23:41:09.696Z"
   },
   {
    "duration": 7,
    "start_time": "2023-04-06T23:41:09.985Z"
   },
   {
    "duration": 18,
    "start_time": "2023-04-06T23:41:09.994Z"
   },
   {
    "duration": 22,
    "start_time": "2023-04-06T23:41:10.014Z"
   },
   {
    "duration": 34,
    "start_time": "2023-04-06T23:41:10.038Z"
   },
   {
    "duration": 227,
    "start_time": "2023-04-06T23:41:10.073Z"
   },
   {
    "duration": 272,
    "start_time": "2023-04-06T23:41:10.302Z"
   },
   {
    "duration": 14,
    "start_time": "2023-04-06T23:41:10.576Z"
   },
   {
    "duration": 6,
    "start_time": "2023-04-06T23:41:10.592Z"
   },
   {
    "duration": 21,
    "start_time": "2023-04-06T23:41:10.599Z"
   },
   {
    "duration": 19,
    "start_time": "2023-04-06T23:41:10.622Z"
   },
   {
    "duration": 248,
    "start_time": "2023-04-06T23:41:10.643Z"
   },
   {
    "duration": 9,
    "start_time": "2023-04-06T23:41:10.892Z"
   },
   {
    "duration": 23,
    "start_time": "2023-04-06T23:41:10.902Z"
   },
   {
    "duration": 581,
    "start_time": "2023-04-06T23:41:10.928Z"
   },
   {
    "duration": 62,
    "start_time": "2023-04-06T23:41:11.510Z"
   },
   {
    "duration": 26,
    "start_time": "2023-04-06T23:41:11.574Z"
   },
   {
    "duration": 518,
    "start_time": "2023-04-06T23:41:11.602Z"
   },
   {
    "duration": 322,
    "start_time": "2023-04-06T23:41:12.173Z"
   },
   {
    "duration": 15,
    "start_time": "2023-04-06T23:41:12.496Z"
   },
   {
    "duration": 59,
    "start_time": "2023-04-06T23:41:12.513Z"
   },
   {
    "duration": 145,
    "start_time": "2023-04-06T23:41:12.574Z"
   },
   {
    "duration": 6,
    "start_time": "2023-04-06T23:41:12.721Z"
   },
   {
    "duration": 98,
    "start_time": "2023-04-06T23:41:12.729Z"
   },
   {
    "duration": 32,
    "start_time": "2023-04-06T23:41:52.834Z"
   },
   {
    "duration": 8,
    "start_time": "2023-04-06T23:42:55.465Z"
   },
   {
    "duration": 9,
    "start_time": "2023-04-06T23:43:37.711Z"
   },
   {
    "duration": 16,
    "start_time": "2023-04-06T23:44:57.320Z"
   },
   {
    "duration": 9,
    "start_time": "2023-04-06T23:47:39.461Z"
   },
   {
    "duration": 16,
    "start_time": "2023-04-06T23:47:55.108Z"
   },
   {
    "duration": 9,
    "start_time": "2023-04-06T23:48:03.668Z"
   },
   {
    "duration": 11,
    "start_time": "2023-04-06T23:48:10.484Z"
   },
   {
    "duration": 5,
    "start_time": "2023-04-06T23:48:29.128Z"
   },
   {
    "duration": 5,
    "start_time": "2023-04-06T23:48:37.215Z"
   },
   {
    "duration": 269,
    "start_time": "2023-04-06T23:49:25.112Z"
   },
   {
    "duration": 3,
    "start_time": "2023-04-06T23:49:35.391Z"
   },
   {
    "duration": 531,
    "start_time": "2023-04-06T23:49:35.396Z"
   },
   {
    "duration": 103,
    "start_time": "2023-04-06T23:49:35.929Z"
   },
   {
    "duration": 39,
    "start_time": "2023-04-06T23:49:36.034Z"
   },
   {
    "duration": 124,
    "start_time": "2023-04-06T23:49:36.076Z"
   },
   {
    "duration": 50,
    "start_time": "2023-04-06T23:49:36.202Z"
   },
   {
    "duration": 49,
    "start_time": "2023-04-06T23:49:36.254Z"
   },
   {
    "duration": 2,
    "start_time": "2023-04-06T23:49:36.305Z"
   },
   {
    "duration": 178,
    "start_time": "2023-04-06T23:49:36.309Z"
   },
   {
    "duration": 4,
    "start_time": "2023-04-06T23:49:36.489Z"
   },
   {
    "duration": 42,
    "start_time": "2023-04-06T23:49:36.494Z"
   },
   {
    "duration": 44,
    "start_time": "2023-04-06T23:49:36.537Z"
   },
   {
    "duration": 26,
    "start_time": "2023-04-06T23:49:36.583Z"
   },
   {
    "duration": 29,
    "start_time": "2023-04-06T23:49:36.610Z"
   },
   {
    "duration": 283,
    "start_time": "2023-04-06T23:49:36.641Z"
   },
   {
    "duration": 7,
    "start_time": "2023-04-06T23:49:36.926Z"
   },
   {
    "duration": 15,
    "start_time": "2023-04-06T23:49:36.935Z"
   },
   {
    "duration": 36,
    "start_time": "2023-04-06T23:49:36.952Z"
   },
   {
    "duration": 8,
    "start_time": "2023-04-06T23:49:36.989Z"
   },
   {
    "duration": 247,
    "start_time": "2023-04-06T23:49:36.998Z"
   },
   {
    "duration": 327,
    "start_time": "2023-04-06T23:49:37.246Z"
   },
   {
    "duration": 32,
    "start_time": "2023-04-06T23:49:37.575Z"
   },
   {
    "duration": 10,
    "start_time": "2023-04-06T23:49:37.608Z"
   },
   {
    "duration": 6,
    "start_time": "2023-04-06T23:49:37.619Z"
   },
   {
    "duration": 56,
    "start_time": "2023-04-06T23:49:37.626Z"
   },
   {
    "duration": 27,
    "start_time": "2023-04-06T23:50:36.816Z"
   },
   {
    "duration": 11,
    "start_time": "2023-04-06T23:50:52.820Z"
   },
   {
    "duration": 5,
    "start_time": "2023-04-06T23:51:10.540Z"
   },
   {
    "duration": 18,
    "start_time": "2023-04-06T23:52:42.170Z"
   },
   {
    "duration": 325,
    "start_time": "2023-04-06T23:53:40.623Z"
   },
   {
    "duration": 56,
    "start_time": "2023-04-06T23:54:34.858Z"
   },
   {
    "duration": 426,
    "start_time": "2023-04-06T23:54:50.462Z"
   },
   {
    "duration": 9,
    "start_time": "2023-04-06T23:55:09.554Z"
   },
   {
    "duration": 4,
    "start_time": "2023-04-06T23:55:18.108Z"
   },
   {
    "duration": 514,
    "start_time": "2023-04-06T23:55:18.114Z"
   },
   {
    "duration": 77,
    "start_time": "2023-04-06T23:55:18.630Z"
   },
   {
    "duration": 23,
    "start_time": "2023-04-06T23:55:18.709Z"
   },
   {
    "duration": 120,
    "start_time": "2023-04-06T23:55:18.735Z"
   },
   {
    "duration": 60,
    "start_time": "2023-04-06T23:55:18.856Z"
   },
   {
    "duration": 59,
    "start_time": "2023-04-06T23:55:18.918Z"
   },
   {
    "duration": 3,
    "start_time": "2023-04-06T23:55:18.979Z"
   },
   {
    "duration": 197,
    "start_time": "2023-04-06T23:55:18.984Z"
   },
   {
    "duration": 4,
    "start_time": "2023-04-06T23:55:19.183Z"
   },
   {
    "duration": 46,
    "start_time": "2023-04-06T23:55:19.189Z"
   },
   {
    "duration": 36,
    "start_time": "2023-04-06T23:55:19.237Z"
   },
   {
    "duration": 25,
    "start_time": "2023-04-06T23:55:19.274Z"
   },
   {
    "duration": 80,
    "start_time": "2023-04-06T23:55:19.301Z"
   },
   {
    "duration": 348,
    "start_time": "2023-04-06T23:55:19.383Z"
   },
   {
    "duration": 8,
    "start_time": "2023-04-06T23:55:19.732Z"
   },
   {
    "duration": 30,
    "start_time": "2023-04-06T23:55:19.742Z"
   },
   {
    "duration": 20,
    "start_time": "2023-04-06T23:55:19.773Z"
   },
   {
    "duration": 8,
    "start_time": "2023-04-06T23:55:19.795Z"
   },
   {
    "duration": 223,
    "start_time": "2023-04-06T23:55:19.804Z"
   },
   {
    "duration": 282,
    "start_time": "2023-04-06T23:55:20.028Z"
   },
   {
    "duration": 7,
    "start_time": "2023-04-06T23:55:36.506Z"
   },
   {
    "duration": 23,
    "start_time": "2023-04-06T23:55:50.888Z"
   },
   {
    "duration": 22,
    "start_time": "2023-04-06T23:56:24.865Z"
   },
   {
    "duration": 2,
    "start_time": "2023-04-06T23:58:27.545Z"
   },
   {
    "duration": 2,
    "start_time": "2023-04-06T23:59:10.217Z"
   },
   {
    "duration": 4,
    "start_time": "2023-04-07T00:00:20.441Z"
   },
   {
    "duration": 9,
    "start_time": "2023-04-07T00:00:24.280Z"
   },
   {
    "duration": 4,
    "start_time": "2023-04-07T00:00:32.226Z"
   },
   {
    "duration": 525,
    "start_time": "2023-04-07T00:00:32.232Z"
   },
   {
    "duration": 74,
    "start_time": "2023-04-07T00:00:32.759Z"
   },
   {
    "duration": 20,
    "start_time": "2023-04-07T00:00:32.835Z"
   },
   {
    "duration": 131,
    "start_time": "2023-04-07T00:00:32.857Z"
   },
   {
    "duration": 52,
    "start_time": "2023-04-07T00:00:32.989Z"
   },
   {
    "duration": 56,
    "start_time": "2023-04-07T00:00:33.042Z"
   },
   {
    "duration": 3,
    "start_time": "2023-04-07T00:00:33.100Z"
   },
   {
    "duration": 192,
    "start_time": "2023-04-07T00:00:33.105Z"
   },
   {
    "duration": 4,
    "start_time": "2023-04-07T00:00:33.299Z"
   },
   {
    "duration": 45,
    "start_time": "2023-04-07T00:00:33.306Z"
   },
   {
    "duration": 46,
    "start_time": "2023-04-07T00:00:33.353Z"
   },
   {
    "duration": 27,
    "start_time": "2023-04-07T00:00:33.401Z"
   },
   {
    "duration": 51,
    "start_time": "2023-04-07T00:00:33.430Z"
   },
   {
    "duration": 302,
    "start_time": "2023-04-07T00:00:33.483Z"
   },
   {
    "duration": 9,
    "start_time": "2023-04-07T00:00:33.787Z"
   },
   {
    "duration": 10,
    "start_time": "2023-04-07T00:00:54.942Z"
   },
   {
    "duration": 12,
    "start_time": "2023-04-07T00:00:57.318Z"
   },
   {
    "duration": 12,
    "start_time": "2023-04-07T00:01:08.613Z"
   },
   {
    "duration": 12,
    "start_time": "2023-04-07T00:01:11.017Z"
   },
   {
    "duration": 6,
    "start_time": "2023-04-07T00:01:19.597Z"
   },
   {
    "duration": 5,
    "start_time": "2023-04-07T00:01:25.672Z"
   },
   {
    "duration": 33,
    "start_time": "2023-04-07T00:01:50.020Z"
   },
   {
    "duration": 31,
    "start_time": "2023-04-07T00:02:06.987Z"
   },
   {
    "duration": 31,
    "start_time": "2023-04-07T00:02:18.483Z"
   },
   {
    "duration": 31,
    "start_time": "2023-04-07T00:03:33.832Z"
   },
   {
    "duration": 31,
    "start_time": "2023-04-07T00:03:57.817Z"
   },
   {
    "duration": 4,
    "start_time": "2023-04-07T00:04:01.284Z"
   },
   {
    "duration": 525,
    "start_time": "2023-04-07T00:04:01.290Z"
   },
   {
    "duration": 73,
    "start_time": "2023-04-07T00:04:01.816Z"
   },
   {
    "duration": 54,
    "start_time": "2023-04-07T00:04:01.891Z"
   },
   {
    "duration": 122,
    "start_time": "2023-04-07T00:04:01.948Z"
   },
   {
    "duration": 65,
    "start_time": "2023-04-07T00:04:02.072Z"
   },
   {
    "duration": 49,
    "start_time": "2023-04-07T00:04:02.139Z"
   },
   {
    "duration": 21,
    "start_time": "2023-04-07T00:04:02.189Z"
   },
   {
    "duration": 199,
    "start_time": "2023-04-07T00:04:02.211Z"
   },
   {
    "duration": 5,
    "start_time": "2023-04-07T00:04:02.412Z"
   },
   {
    "duration": 116,
    "start_time": "2023-04-07T00:04:02.419Z"
   },
   {
    "duration": 77,
    "start_time": "2023-04-07T00:04:02.537Z"
   },
   {
    "duration": 26,
    "start_time": "2023-04-07T00:04:02.615Z"
   },
   {
    "duration": 62,
    "start_time": "2023-04-07T00:04:02.643Z"
   },
   {
    "duration": 316,
    "start_time": "2023-04-07T00:04:02.707Z"
   },
   {
    "duration": 5,
    "start_time": "2023-04-07T00:04:03.025Z"
   },
   {
    "duration": 124,
    "start_time": "2023-04-07T00:04:03.031Z"
   },
   {
    "duration": 81,
    "start_time": "2023-04-07T00:04:03.156Z"
   },
   {
    "duration": 122,
    "start_time": "2023-04-07T00:04:03.239Z"
   },
   {
    "duration": 26,
    "start_time": "2023-04-07T00:04:03.363Z"
   },
   {
    "duration": 222,
    "start_time": "2023-04-07T00:04:03.391Z"
   },
   {
    "duration": 279,
    "start_time": "2023-04-07T00:04:03.615Z"
   },
   {
    "duration": 17,
    "start_time": "2023-04-07T00:04:03.895Z"
   },
   {
    "duration": 11,
    "start_time": "2023-04-07T00:04:03.913Z"
   },
   {
    "duration": 8,
    "start_time": "2023-04-07T00:04:03.925Z"
   },
   {
    "duration": 45,
    "start_time": "2023-04-07T00:04:03.934Z"
   },
   {
    "duration": 30,
    "start_time": "2023-04-07T00:04:41.620Z"
   },
   {
    "duration": 29,
    "start_time": "2023-04-07T00:05:42.720Z"
   },
   {
    "duration": 29,
    "start_time": "2023-04-07T00:06:08.537Z"
   },
   {
    "duration": 5,
    "start_time": "2023-04-07T00:06:13.825Z"
   },
   {
    "duration": 541,
    "start_time": "2023-04-07T00:06:13.833Z"
   },
   {
    "duration": 79,
    "start_time": "2023-04-07T00:06:14.376Z"
   },
   {
    "duration": 31,
    "start_time": "2023-04-07T00:06:14.457Z"
   },
   {
    "duration": 128,
    "start_time": "2023-04-07T00:06:14.491Z"
   },
   {
    "duration": 60,
    "start_time": "2023-04-07T00:06:14.620Z"
   },
   {
    "duration": 38,
    "start_time": "2023-04-07T00:06:14.681Z"
   },
   {
    "duration": 3,
    "start_time": "2023-04-07T00:06:14.721Z"
   },
   {
    "duration": 210,
    "start_time": "2023-04-07T00:06:14.728Z"
   },
   {
    "duration": 5,
    "start_time": "2023-04-07T00:06:14.939Z"
   },
   {
    "duration": 45,
    "start_time": "2023-04-07T00:06:14.946Z"
   },
   {
    "duration": 31,
    "start_time": "2023-04-07T00:06:14.992Z"
   },
   {
    "duration": 26,
    "start_time": "2023-04-07T00:06:15.024Z"
   },
   {
    "duration": 46,
    "start_time": "2023-04-07T00:06:15.052Z"
   },
   {
    "duration": 301,
    "start_time": "2023-04-07T00:06:15.100Z"
   },
   {
    "duration": 6,
    "start_time": "2023-04-07T00:06:15.403Z"
   },
   {
    "duration": 9,
    "start_time": "2023-04-07T00:06:15.410Z"
   },
   {
    "duration": 15,
    "start_time": "2023-04-07T00:06:15.421Z"
   },
   {
    "duration": 47,
    "start_time": "2023-04-07T00:06:15.438Z"
   },
   {
    "duration": 9,
    "start_time": "2023-04-07T00:06:15.486Z"
   },
   {
    "duration": 230,
    "start_time": "2023-04-07T00:06:15.496Z"
   },
   {
    "duration": 334,
    "start_time": "2023-04-07T00:06:15.728Z"
   },
   {
    "duration": 20,
    "start_time": "2023-04-07T00:06:16.064Z"
   },
   {
    "duration": 49,
    "start_time": "2023-04-07T00:06:16.087Z"
   },
   {
    "duration": 33,
    "start_time": "2023-04-07T00:06:16.137Z"
   },
   {
    "duration": 55,
    "start_time": "2023-04-07T00:06:16.171Z"
   },
   {
    "duration": 5,
    "start_time": "2023-04-07T00:08:30.786Z"
   },
   {
    "duration": 31,
    "start_time": "2023-04-07T00:10:05.720Z"
   },
   {
    "duration": 3,
    "start_time": "2023-04-07T00:10:09.019Z"
   },
   {
    "duration": 520,
    "start_time": "2023-04-07T00:10:09.024Z"
   },
   {
    "duration": 75,
    "start_time": "2023-04-07T00:10:09.545Z"
   },
   {
    "duration": 20,
    "start_time": "2023-04-07T00:10:09.621Z"
   },
   {
    "duration": 119,
    "start_time": "2023-04-07T00:10:09.643Z"
   },
   {
    "duration": 51,
    "start_time": "2023-04-07T00:10:09.763Z"
   },
   {
    "duration": 57,
    "start_time": "2023-04-07T00:10:09.815Z"
   },
   {
    "duration": 2,
    "start_time": "2023-04-07T00:10:09.874Z"
   },
   {
    "duration": 181,
    "start_time": "2023-04-07T00:10:09.878Z"
   },
   {
    "duration": 4,
    "start_time": "2023-04-07T00:10:10.060Z"
   },
   {
    "duration": 37,
    "start_time": "2023-04-07T00:10:10.071Z"
   },
   {
    "duration": 32,
    "start_time": "2023-04-07T00:10:10.109Z"
   },
   {
    "duration": 44,
    "start_time": "2023-04-07T00:10:10.143Z"
   },
   {
    "duration": 30,
    "start_time": "2023-04-07T00:10:10.190Z"
   },
   {
    "duration": 310,
    "start_time": "2023-04-07T00:10:10.222Z"
   },
   {
    "duration": 6,
    "start_time": "2023-04-07T00:10:10.534Z"
   },
   {
    "duration": 9,
    "start_time": "2023-04-07T00:10:10.542Z"
   },
   {
    "duration": 32,
    "start_time": "2023-04-07T00:10:10.553Z"
   },
   {
    "duration": 23,
    "start_time": "2023-04-07T00:10:10.587Z"
   },
   {
    "duration": 8,
    "start_time": "2023-04-07T00:10:10.611Z"
   },
   {
    "duration": 328,
    "start_time": "2023-04-07T00:10:10.621Z"
   },
   {
    "duration": 275,
    "start_time": "2023-04-07T00:10:10.951Z"
   },
   {
    "duration": 16,
    "start_time": "2023-04-07T00:10:11.228Z"
   },
   {
    "duration": 6,
    "start_time": "2023-04-07T00:10:11.246Z"
   },
   {
    "duration": 21,
    "start_time": "2023-04-07T00:10:11.254Z"
   },
   {
    "duration": 33,
    "start_time": "2023-04-07T00:10:11.277Z"
   },
   {
    "duration": 1084,
    "start_time": "2023-04-07T12:10:47.759Z"
   },
   {
    "duration": 634,
    "start_time": "2023-04-07T12:10:48.845Z"
   },
   {
    "duration": 106,
    "start_time": "2023-04-07T12:10:49.481Z"
   },
   {
    "duration": 28,
    "start_time": "2023-04-07T12:10:49.589Z"
   },
   {
    "duration": 146,
    "start_time": "2023-04-07T12:10:49.619Z"
   },
   {
    "duration": 83,
    "start_time": "2023-04-07T12:10:49.766Z"
   },
   {
    "duration": 49,
    "start_time": "2023-04-07T12:10:49.851Z"
   },
   {
    "duration": 3,
    "start_time": "2023-04-07T12:10:49.902Z"
   },
   {
    "duration": 267,
    "start_time": "2023-04-07T12:10:49.908Z"
   },
   {
    "duration": 4,
    "start_time": "2023-04-07T12:10:50.178Z"
   },
   {
    "duration": 54,
    "start_time": "2023-04-07T12:10:50.184Z"
   },
   {
    "duration": 34,
    "start_time": "2023-04-07T12:10:50.239Z"
   },
   {
    "duration": 26,
    "start_time": "2023-04-07T12:10:50.275Z"
   },
   {
    "duration": 52,
    "start_time": "2023-04-07T12:10:50.303Z"
   },
   {
    "duration": 349,
    "start_time": "2023-04-07T12:10:50.356Z"
   },
   {
    "duration": 5,
    "start_time": "2023-04-07T12:10:50.706Z"
   },
   {
    "duration": 22,
    "start_time": "2023-04-07T12:10:50.713Z"
   },
   {
    "duration": 31,
    "start_time": "2023-04-07T12:10:50.737Z"
   },
   {
    "duration": 49,
    "start_time": "2023-04-07T12:10:50.770Z"
   },
   {
    "duration": 8,
    "start_time": "2023-04-07T12:10:50.821Z"
   },
   {
    "duration": 259,
    "start_time": "2023-04-07T12:10:50.830Z"
   },
   {
    "duration": 361,
    "start_time": "2023-04-07T12:10:51.090Z"
   },
   {
    "duration": 16,
    "start_time": "2023-04-07T12:10:51.452Z"
   },
   {
    "duration": 14,
    "start_time": "2023-04-07T12:10:51.469Z"
   },
   {
    "duration": 32,
    "start_time": "2023-04-07T12:10:51.484Z"
   },
   {
    "duration": 58,
    "start_time": "2023-04-07T12:10:51.518Z"
   },
   {
    "duration": 21,
    "start_time": "2023-04-07T12:10:51.579Z"
   },
   {
    "duration": 252,
    "start_time": "2023-04-07T12:10:51.604Z"
   },
   {
    "duration": 9,
    "start_time": "2023-04-07T12:10:51.858Z"
   },
   {
    "duration": 34,
    "start_time": "2023-04-07T12:10:51.869Z"
   },
   {
    "duration": 404,
    "start_time": "2023-04-07T12:10:51.905Z"
   },
   {
    "duration": 8,
    "start_time": "2023-04-07T12:10:52.311Z"
   },
   {
    "duration": 33,
    "start_time": "2023-04-07T12:10:52.320Z"
   },
   {
    "duration": 174,
    "start_time": "2023-04-07T12:10:52.355Z"
   },
   {
    "duration": 231,
    "start_time": "2023-04-07T12:10:52.534Z"
   },
   {
    "duration": 15,
    "start_time": "2023-04-07T12:10:52.767Z"
   },
   {
    "duration": 92,
    "start_time": "2023-04-07T12:10:52.783Z"
   },
   {
    "duration": 783,
    "start_time": "2023-04-07T12:10:52.876Z"
   },
   {
    "duration": 7,
    "start_time": "2023-04-07T12:10:53.660Z"
   },
   {
    "duration": 128,
    "start_time": "2023-04-07T12:10:53.668Z"
   },
   {
    "duration": 1159,
    "start_time": "2023-04-07T12:11:04.052Z"
   },
   {
    "duration": 626,
    "start_time": "2023-04-07T12:11:05.213Z"
   },
   {
    "duration": 104,
    "start_time": "2023-04-07T12:11:05.844Z"
   },
   {
    "duration": 26,
    "start_time": "2023-04-07T12:11:05.950Z"
   },
   {
    "duration": 129,
    "start_time": "2023-04-07T12:11:05.978Z"
   },
   {
    "duration": 63,
    "start_time": "2023-04-07T12:11:06.108Z"
   },
   {
    "duration": 43,
    "start_time": "2023-04-07T12:11:06.173Z"
   },
   {
    "duration": 3,
    "start_time": "2023-04-07T12:11:06.234Z"
   },
   {
    "duration": 237,
    "start_time": "2023-04-07T12:11:06.238Z"
   },
   {
    "duration": 5,
    "start_time": "2023-04-07T12:11:06.476Z"
   },
   {
    "duration": 55,
    "start_time": "2023-04-07T12:11:06.483Z"
   },
   {
    "duration": 35,
    "start_time": "2023-04-07T12:11:06.540Z"
   },
   {
    "duration": 29,
    "start_time": "2023-04-07T12:11:06.579Z"
   },
   {
    "duration": 53,
    "start_time": "2023-04-07T12:11:06.610Z"
   },
   {
    "duration": 359,
    "start_time": "2023-04-07T12:11:06.665Z"
   },
   {
    "duration": 10,
    "start_time": "2023-04-07T12:11:07.026Z"
   },
   {
    "duration": 7,
    "start_time": "2023-04-07T12:11:07.037Z"
   },
   {
    "duration": 25,
    "start_time": "2023-04-07T12:11:07.045Z"
   },
   {
    "duration": 34,
    "start_time": "2023-04-07T12:11:07.071Z"
   },
   {
    "duration": 11,
    "start_time": "2023-04-07T12:11:07.106Z"
   },
   {
    "duration": 235,
    "start_time": "2023-04-07T12:11:07.118Z"
   },
   {
    "duration": 344,
    "start_time": "2023-04-07T12:11:07.354Z"
   },
   {
    "duration": 15,
    "start_time": "2023-04-07T12:11:07.700Z"
   },
   {
    "duration": 19,
    "start_time": "2023-04-07T12:11:07.716Z"
   },
   {
    "duration": 22,
    "start_time": "2023-04-07T12:11:07.737Z"
   },
   {
    "duration": 36,
    "start_time": "2023-04-07T12:11:07.760Z"
   },
   {
    "duration": 19,
    "start_time": "2023-04-07T12:11:07.797Z"
   },
   {
    "duration": 235,
    "start_time": "2023-04-07T12:11:07.817Z"
   },
   {
    "duration": 8,
    "start_time": "2023-04-07T12:11:08.053Z"
   },
   {
    "duration": 38,
    "start_time": "2023-04-07T12:11:08.063Z"
   },
   {
    "duration": 366,
    "start_time": "2023-04-07T12:11:08.103Z"
   },
   {
    "duration": 9,
    "start_time": "2023-04-07T12:11:08.470Z"
   },
   {
    "duration": 23,
    "start_time": "2023-04-07T12:11:08.480Z"
   },
   {
    "duration": 189,
    "start_time": "2023-04-07T12:11:08.504Z"
   },
   {
    "duration": 259,
    "start_time": "2023-04-07T12:11:08.695Z"
   },
   {
    "duration": 16,
    "start_time": "2023-04-07T12:11:08.956Z"
   },
   {
    "duration": 87,
    "start_time": "2023-04-07T12:11:08.973Z"
   },
   {
    "duration": 879,
    "start_time": "2023-04-07T12:11:09.062Z"
   },
   {
    "duration": 7,
    "start_time": "2023-04-07T12:11:09.942Z"
   },
   {
    "duration": 121,
    "start_time": "2023-04-07T12:11:09.952Z"
   },
   {
    "duration": 10,
    "start_time": "2023-04-07T12:12:48.782Z"
   },
   {
    "duration": 14,
    "start_time": "2023-04-07T12:13:13.452Z"
   }
  ],
  "kernelspec": {
   "display_name": "Python 3 (ipykernel)",
   "language": "python",
   "name": "python3"
  },
  "language_info": {
   "codemirror_mode": {
    "name": "ipython",
    "version": 3
   },
   "file_extension": ".py",
   "mimetype": "text/x-python",
   "name": "python",
   "nbconvert_exporter": "python",
   "pygments_lexer": "ipython3",
   "version": "3.10.9"
  },
  "toc": {
   "base_numbering": 1,
   "nav_menu": {},
   "number_sections": true,
   "sideBar": true,
   "skip_h1_title": true,
   "title_cell": "Table of Contents",
   "title_sidebar": "Contents",
   "toc_cell": false,
   "toc_position": {
    "height": "calc(100% - 180px)",
    "left": "10px",
    "top": "150px",
    "width": "195px"
   },
   "toc_section_display": true,
   "toc_window_display": true
  }
 },
 "nbformat": 4,
 "nbformat_minor": 5
}
